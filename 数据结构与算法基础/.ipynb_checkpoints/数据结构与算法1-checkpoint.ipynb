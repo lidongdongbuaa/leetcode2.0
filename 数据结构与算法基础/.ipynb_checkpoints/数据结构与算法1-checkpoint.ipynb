{
 "cells": [
  {
   "cell_type": "markdown",
   "metadata": {},
   "source": [
    ".0 # 时间复杂度与空间复杂度\n",
    "* 空0.0间复杂度\n",
    "    * 只记录计算过程中调用的临时变量空间，不计入输入输出的空间\n",
    "    * 在递归中，调用了多少次，就有多少空间被使用"
   ]
  },
  {
   "cell_type": "markdown",
   "metadata": {},
   "source": [
    "# Python基础"
   ]
  },
  {
   "cell_type": "markdown",
   "metadata": {},
   "source": [
    "* python中，赋值=赋的是地址，故对于数据结构，比如TreeNode，ListNode,赋值的都是地址\n",
    "* 多种数据同时迭代 zip\n",
    "    * for (x, y), val in **zip**(paires, values)\n",
    "    * [m + n for m, n in zip('ABC', 'XYZ')] -> ['AX', 'BY', 'CZ']\n",
    "* 迭代字符串\n",
    "    * for s in string\n",
    "* 全排列\n",
    "    * [x + y for x in A for y in B]\n",
    "    * [m + n for m in 'ABC' for n in 'XYZ'] -> ['AX', 'AY', 'AZ', 'BX', 'BY', 'BZ', 'CX', 'CY', 'CZ']\n",
    "* 生成器 generator\n",
    "    * 定义：在循环中，不断按照某种算法计算出后面的元素 - 即生成元素的东西\n",
    "    * 创建\n",
    "        * 方法1：把列表生成式的[]改为()\n",
    "        * 方法2：在函数中加入yield\n",
    "    * 输出方法：\n",
    "        * 方法1：next() 挨个元素输出\n",
    "            * **next(generator)** 运行一次，输出一个元素\n",
    "        * 方法2：for循环 输出 - 更常见\n",
    "            * for n in g:\n",
    "        * 既是可迭代对象，也是迭代器\n",
    "* 可迭代对象Iterable 和 迭代器 Iterator\n",
    "    * 可迭代对象Iterable\n",
    "        * 定义：（可以迭代的东西，被for迭代）直接作用于for循环的对象统称为可迭代对象\n",
    "        * 创建 （保持东西的原样）\n",
    "            * 集合数据类型，如list、tuple、dict、set、str等\n",
    "            * generator 生成器\n",
    "    * 迭代器\n",
    "        * 定义：（可以主动产生迭代的东西，用next产生）可以被next()函数调用并不断返回下一个值的对象\n",
    "        * 创建（让可迭代对象产生东西）\n",
    "            * 转换list/dict/str等iterable对象\n",
    "                * iter()函数\n",
    "                * e.g. iter('abc')\n",
    "            * generator 生成器\n",
    "                * e.g. (x for x in range(10))"
   ]
  },
  {
   "cell_type": "markdown",
   "metadata": {},
   "source": [
    "# 常用内建模块\n",
    "## datatime\n",
    "* from datetime import datetime\n",
    "* 当前时间\n",
    "    * datetime.now()\n",
    "* str转化为datetime\n",
    "    * cday = datetime.strptime('2015-6-1 18:19:59', '%Y-%m-%d %H:%M:%S')\n",
    "    * aday = datetime.strptime('18 19', '%H %M')\n",
    "* datatime 转化为 str\n",
    "    * string = datetime.strftime('%a, %b %d %H:%M')\n",
    "* datetime加减\n",
    "    * (datetime1 - datetime2).days 用天表示结果\n",
    "        * 0 <= microseconds < 1000000\n",
    "        * 0 <= seconds < 3600\\*24 (一天的秒数)\n",
    "        * -999999999 <= days <= 999999999\n",
    "    * datetime_new = datetime + timedelta(days=2, hours=12)\n",
    "* timestamp 无关时区的值"
   ]
  },
  {
   "cell_type": "markdown",
   "metadata": {},
   "source": [
    "## collections\n",
    "* defaultdict\n",
    "    * group = defaultdict(dict/list/set)"
   ]
  },
  {
   "cell_type": "markdown",
   "metadata": {},
   "source": [
    "# 数据结构基础"
   ]
  },
  {
   "cell_type": "markdown",
   "metadata": {},
   "source": [
    "## list/set/dict/string 综合技巧\n",
    "* 求每个字母在每个位置上出现的次数（在多个包含此元素的elem中）\n",
    "    * 关键参数：位置，字母\n",
    "    * 思路1： 位置上看字母\n",
    "        * 扫描多个elem的第一个位置，记录元素种类及次数；扫描第二个位置，记录元素种类及次数...\n",
    "    * 思路2：字母上看位置\n",
    "        * 针对每个字母，统计其在各个位置上的分布。e.g. a：[0:1, 1:3, 2:6], a字母在0位置上出现1次...\n",
    "    * 1366. Rank Teams by Votes\n",
    "* 排序\n",
    "    * 按字母序排序时，两种方案\n",
    "        * 简单法: sort 字母\n",
    "        * 按照转换成的26个数字序：sorted(list, key = lambda x: ord(x)) # 正逆序用 ord(x)/-ord(x)来设定\n",
    "    * 复杂排序\n",
    "        * 排序a里的字母，可以通过b里的关于a字母的字典集进行排序 sorted(a, key = lambda x : b[x])\n",
    "* any(iterable)\n",
    "    * 判断给定的可迭代参数 iterable 是否全部为 False，则返回 False，如果有一个为 True，则返回 True\n",
    "    * 元素除了是 0、空、FALSE 外都算 TRUE\n",
    "    * 若iterable = [[0, 0], 0]，返回True，因为[0, 0]视为True\n",
    "* all(iterable) \n",
    "    * 函数用于判断给定的可迭代参数 iterable 中的所有元素是否都为 TRUE，如果是返回 True，否则返回 False\n",
    "    * * 元素除了是 0、空、FALSE 外都算 TRUE"
   ]
  },
  {
   "cell_type": "markdown",
   "metadata": {},
   "source": [
    "## List/Stack"
   ]
  },
  {
   "cell_type": "markdown",
   "metadata": {},
   "source": [
    "### 常用操作及复杂度\n",
    "* 增 \n",
    "    * list.append(obj) O(1)\n",
    "        * append操作是没有返回值的\n",
    "        * 求a添加b后的list：a.append(b), return a\n",
    "    * list.extend(seq) O(len(seq)) 用新列表扩展原来的列表\n",
    "        * = listA + listB  O(len(listB)) 用B扩展A\n",
    "    * list.insert(**index, obj**) O(index)\n",
    "* 删 \n",
    "    * b = list.pop()  O(1)\n",
    "    * b = list.pop(i) O(N), O(N-i): list.pop(0):O(N) \n",
    "        * = del list[i]/del list, O(N) depends on i; O(N) in worst case i都为0开始的正序，但pop有返回值，del没有返回值\n",
    "    * list.remove(obj) O(N) 移除列表中某个值的第一个匹配项\n",
    "    * **list.clear() O(1)** 清空列表\n",
    "* 改 \n",
    "    * list[i] = newValue O(1)\n",
    "* 查\n",
    "    * list[i] O(1)\n",
    "    * list[a:b] O(b-a)\n",
    "        * **a和b可以超过list index的范围**, e.g bottom-up merge sort\n",
    "    * list.index(obj) O(N) 从列表中找出某个值第一个匹配项的索引位置 \n",
    "* 排\n",
    "    * list.sort( key=None, **reverse=False**) O(NlogN)  **无返回值**\n",
    "    * new = sorted(list)  **有返回值**\n",
    "    * list.reverse() O(N) 转置\n",
    "    * a = list[::-1] O(N) 转置"
   ]
  },
  {
   "cell_type": "markdown",
   "metadata": {},
   "source": [
    "* 其他\n",
    "    * 计数 list.count(obj) O(N) 统计某个元素在列表中出现的次数\n",
    "    * 长度 len(list) **O(1)**\n",
    "    * 构造 list(string or ...) O(len(,,,))\n",
    "    * **判断 check ==, != O(N)**\n",
    "    * 包含 x in/not in list O(N)\n",
    "    * 极值 max(list) / min(list) O(N)\n",
    "    * 迭代 for v in l:  O(N) \n",
    "    * 乘 \n",
    "        * k * list  O(k N)\n",
    "        * 5 * list  O(N)\n",
    "        * len(list) * list  O(N**2)\n",
    "        * 乘的是括号里面的数，再外套括号\n",
    "            * a = [1, 3, 4], b = a * 2, b = [1, 3, 4, 1, 3, 4]\n",
    "            * a = a = [[1,3,4], [2,3,4]], b = [a[0]]* 2, b = [[1, 3, 4], [1, 3, 4]]\n",
    "    * **复制**\n",
    "        * 浅复制\n",
    "            * b = list.copy() O(N) \n",
    "            * 最方便 b = list[:]  O(N)\n",
    "            * from copy import copy a = copy(A) O(N)\n",
    "        * 深复制\n",
    "             * a = deepcopy(A) O(N)\n",
    "* 总结：需要对list中每一个元素都需要进行的操作是O(N)\n",
    "\n",
    "* **特别**\n",
    "    * list.sort( key=None, **reverse=False**) \n",
    "        * reverse = False(默认，小到大)/True(大到小)\n",
    "        * key=lambda y: y[1] \n",
    "            * y代表list的元素\n",
    "            * y[1]代表以元素的1st值作为排序标准\n",
    "            * 备注：这里y可以是任意字母，等同key=lambda x: x[1]\n",
    "        * key = lambda x: (x[1], x[0])\n",
    "            * 以x[1], x[0]为排序标准，以x[1]为优先准则，x[1]相等下，按照x[0]排序\n",
    "    * new_list = [elem[0] for elem in list] 生成器\n",
    "         * 用list里的元素elem的elem[0]作为new_list的元素\n",
    "* **矩阵**\n",
    "    * 求矩阵的某i列,只能用列表生成式\n",
    "        * [elem[i] for elem in matrix] "
   ]
  },
  {
   "cell_type": "markdown",
   "metadata": {},
   "source": [
    "### 常用技巧和算法"
   ]
  },
  {
   "cell_type": "markdown",
   "metadata": {},
   "source": [
    "#### Stack类题目\n",
    "* 做题套路\n",
    "    * 先建立stack，循环的把input放入，然后再循环中进一步操作，例如比对和pop\n",
    "    \n",
    "* 易错点\n",
    "    * 随时判断stack是否为空\n",
    "    * test case时，可以移动角标法"
   ]
  },
  {
   "cell_type": "markdown",
   "metadata": {},
   "source": [
    "#### List类题目\n",
    "* 存储 序号和元素属性\n",
    "    * 套嵌列表 [[index, sum],...]\n",
    "        * 可排序\n",
    "    * dic存储\n",
    "        * 可排序 new = dic.sorted(dic.items(), key = lambda item : item[0/1])\n",
    "* **求最大/最小值**\n",
    "    * 最优方法\n",
    "        * 先定义最大/最小值 res =float('inf')/float('-inf'),再比较\n",
    "    * 普通方法\n",
    "        * 先建立list存储\n",
    "        * 再res = max(list)\n",
    "* Prefix method 前缀和"
   ]
  },
  {
   "cell_type": "markdown",
   "metadata": {},
   "source": [
    "## Tuple 元组"
   ]
  },
  {
   "cell_type": "markdown",
   "metadata": {},
   "source": [
    "### 定义\n",
    "* 不能修改的list, immutable\n",
    "* 空 t = ()\n",
    "* 单个元素 t = **(1,)**\n",
    "* t = (1, 2, 3, 4, 5)"
   ]
  },
  {
   "cell_type": "markdown",
   "metadata": {},
   "source": [
    "## Queue 队列 \n",
    "* First-In-First-Out (FIFO) principle \n",
    "* 双端队列deque(double-end-queue) "
   ]
  },
  {
   "cell_type": "code",
   "execution_count": 3,
   "metadata": {},
   "outputs": [
    {
     "name": "stdout",
     "output_type": "stream",
     "text": [
      "deque(['c', 'e'])\n",
      "deque(['e', 'c'])\n"
     ]
    }
   ],
   "source": [
    "# Queue (deque) 队列\n",
    "from collections import deque\n",
    "B = 'desk'  # iterable\n",
    "d = deque(B) # 转化B为队列d\n",
    "d = deque()  # 建立新队列d\n",
    "d.append('c')\n",
    "d.appendleft('e')  # 'edeskc'\n",
    "d.extend('a')\n",
    "d.extendleft('a')  # 扩展最左边\n",
    "x = d.pop() # 注意！没有i参数（list有i参数）\n",
    "d.popleft() #删除最左边的，即先“进”的，无(i)\n",
    "d.reverse() # 转置\n",
    "print(d)\n",
    "d.rotate(1) # 向右循环移动 n 步。 如果 n 是负数，就向左循环。e.g把倒数第1个调换到前面\n",
    "print(d)"
   ]
  },
  {
   "cell_type": "markdown",
   "metadata": {},
   "source": [
    "## Heap queue 堆 \n",
    "* 最小值在堆顶  "
   ]
  },
  {
   "cell_type": "code",
   "execution_count": 1,
   "metadata": {},
   "outputs": [
    {
     "data": {
      "text/plain": [
       "[3, 4]"
      ]
     },
     "execution_count": 1,
     "metadata": {},
     "output_type": "execute_result"
    }
   ],
   "source": [
    "# Heap queue 堆\n",
    "from heapq import heapify, heappop, heappush, heappushpop, heapreplace, nlargest, nsmallest\n",
    "# 创建一个堆，可以使用list来初始化为 []\n",
    "C = []  # 建立新heapq\n",
    "# 创建一个堆或者可以通过一个函数 heapify() ，来把一个list转换成堆\n",
    "C = [2, 3, 4]\n",
    "heapify(C)  # 转化C为堆，**原地**，线性时间内\n",
    "heappush(C, 2)  # 添加2,注意！只能添加值！不能添加list等数据结构，下面的删除也是这样!\n",
    "x = heappop(C)\n",
    "heappushpop(C, 2)  # 先添加，再删除顶端的\n",
    "heapreplace(C, 5)  # 先删除顶端的，再添加\n",
    "nlargest(2, C)  # nlargest(n, iterable, key=None) 返回前n个符合k条件的最大值（e.g. k = lambda x: x[0]）  = sorted(iterable, key=key, reverse=True)[:n]\n",
    "nsmallest(2, C)  # nsmallest(n, iterable, key=None) 返回前n个最小值 = sorted(iterable, key=key, reverse= False)[:n]"
   ]
  },
  {
   "cell_type": "markdown",
   "metadata": {
    "pycharm": {
     "name": "#%% md\n"
    }
   },
   "source": [
    "## Dict 字典"
   ]
  },
  {
   "cell_type": "markdown",
   "metadata": {},
   "source": [
    "### 常用操作及复杂度\n",
    "* 增： d[k] = v O(1)\n",
    "* 删\n",
    "    * 删除某一个 \n",
    "        * **d.pop(k)** O(1) 删除key对应的pair，并返回value \n",
    "        * del d[k]\n",
    "    * 删除最后一个\n",
    "        * **d.popitem()** O(1)\n",
    "        * 删除并返回最后一个pair\n",
    "* Search: O(1) d[k]\n",
    "* 其他\n",
    "    * 判断key存在\n",
    "        * xx in dict\n",
    "        * dict.get(xx)\n",
    "            * if false, turn None\n",
    "    * 求长度\n",
    "        * len(dict)\n",
    "    * 排序"
   ]
  },
  {
   "cell_type": "code",
   "execution_count": 2,
   "metadata": {},
   "outputs": [
    {
     "name": "stdout",
     "output_type": "stream",
     "text": [
      "['e', 'd', 'c', 'b', 'a']\n"
     ]
    }
   ],
   "source": [
    "# dict 排序\n",
    "dic = {'a':4, 'b':3, 'c':2, 'd':1, 'e':0}\n",
    "\n",
    "# 基于key排序\n",
    "## 返回key\n",
    "a = sorted(dic)\n",
    "a = sorted(dic.keys())\n",
    "## 返回value\n",
    "a = sorted(dic)  # 先排key\n",
    "b = [dic[x] for x in a]\n",
    "## 返回整体\n",
    "new = sorted(dic.items(), key = lambda x: x[0])  # [('a', 4), ('b', 3), ('c', 2), ('d', 1), ('e', 0)]\n",
    "\n",
    "# 基于value排序\n",
    "## 返回key\n",
    "a = sorted(dic, key = lambda x:dic[x])\n",
    "print(a)\n",
    "## 返回value\n",
    "a = sorted(dic.values())\n",
    "## 返回整体\n",
    "new = sorted(dic.items(), key = lambda x: x[1])  # [('e', 0), ('d', 1), ('c', 2), ('b', 3), ('a', 4)]\n",
    "\n",
    "\n",
    "## 先根据value值排序，再根据key值排序\n",
    "new = sorted(dic.items(), key = lambda x : (x[1], x[0]))  # [('e', 0), ('d', 1), ('c', 2), ('b', 3), ('a', 4)]\n",
    "## 先根据value值逆排序，再根据key值的顺序排序\n",
    "new = sorted(dic.items(), key = lambda x : (-x[1], x[0]))"
   ]
  },
  {
   "cell_type": "markdown",
   "metadata": {},
   "source": [
    "### 注意要点\n",
    "* dict内部存放的顺序 = key放入的顺序，而set是不同的 (Python 3.6新特征，廖雪峰的论述不对)\n",
    "* dic的key必须是不可变对象，例如int，str等"
   ]
  },
  {
   "cell_type": "markdown",
   "metadata": {},
   "source": [
    "## Set 集合"
   ]
  },
  {
   "cell_type": "markdown",
   "metadata": {},
   "source": [
    "### 常用操作\n",
    "* 创\n",
    "    * a = set()\n",
    "    * a = set([b, c, d, ...])\n",
    "* 增\n",
    "    * a.add(key)\n",
    "* 删\n",
    "    * a.remove(key)\n",
    "* 查\n",
    "    * **a in set  # tO(1)**\n",
    "* 交并集\n",
    "    * set可以看作数学意义上，无序和无重复元素的集合，故可以做数学意义上的交并集\n",
    "    * s1 = set([1, 2, 3])， s2 = set([2, 3, 4])\n",
    "    * s1 & s2 -> {2, 3}\n",
    "    * s1 | s2 -> {1, 2, 3, 4}\n",
    "    * list不支持"
   ]
  },
  {
   "cell_type": "markdown",
   "metadata": {},
   "source": [
    "### 注意要点\n",
    "* 与tuple的区别\n",
    "    * tuple：\n",
    "        * 不可变的list -> 元素可以重复\n",
    "        * 可以不变中带可变，即可以 (1, 2, [1, 2])\n",
    "    * set\n",
    "        * 仅有key的dic -> 元素不能重复\n",
    "        * 必须从里到外全部不可变，即**不可以** {1, 2, [1, 2]}"
   ]
  },
  {
   "cell_type": "markdown",
   "metadata": {},
   "source": [
    "## String 字符串"
   ]
  },
  {
   "cell_type": "markdown",
   "metadata": {},
   "source": [
    "### 定义\n",
    "* subsequence 可以**不连续**且有序的子序列 \n",
    "* substring **连续**但有序的子序列\n",
    "* the length of the longest palindromes that can be built with those letters 可以不连续，可以无序的子序列"
   ]
  },
  {
   "cell_type": "markdown",
   "metadata": {},
   "source": [
    "### 常用操作\n",
    "* 提取性质\n",
    "    * 计数 string.count()\n",
    "* 修改操作\n",
    "    * **转置**\n",
    "        * str = str[::-1]\n",
    "    * 修改某一位\n",
    "        * b = strA.replace(strOld, strNew)\n",
    "        * strA其实没变，是复制一份\n",
    "* 增减操作\n",
    "    * 前部填充0 str.zfill(width) \n",
    "        * 返回指定长度的字符串，原字符串右对齐，前面填充0 \n",
    "        * 用于位运算填充bin()结果前面的0\n",
    "    * 删除\n",
    "        * 删除头尾\n",
    "            * chars str = str.strip([chars]). 默认是空格\n",
    "        * 删除头\n",
    "            * chars str = str.lstrip([chars]). 默认是空格\n",
    "        * 删除尾\n",
    "            * chars str = str.rstrip([chars]). 默认是空格\n",
    "* 合并序列里的元素\n",
    "    * str.join(sequence) 将序列中的元素（元组、列表、字典、字符串）以指定的字符str连接生成一个新的字符串\n",
    "    * '->'.join(['a', 'b', 'c']) -> 'a->b->c'\n",
    "    * **序列中的元素的元素必须也是字符串**\n",
    "* 判断在不在\n",
    "    * a in string\n",
    "* 大小写\n",
    "    * 转换\n",
    "        * 转换为大写 str.upper()\n",
    "        * 转换为小写 str.lower()\n",
    "    * 判断\n",
    "        * 判断为大写 str.isupper()\n",
    "        * 判断为小写 str.islower()"
   ]
  },
  {
   "cell_type": "markdown",
   "metadata": {},
   "source": [
    "### 注意要点\n",
    "* string不支持s[i] = 's'的替换操作\n",
    "* string操作时,如果数据再用,需要及时等于返回值, 因为原始值是不变的\n",
    "    * tmp = tmp.rstrip() "
   ]
  },
  {
   "cell_type": "markdown",
   "metadata": {},
   "source": [
    "## 链表"
   ]
  },
  {
   "cell_type": "code",
   "execution_count": 1,
   "metadata": {},
   "outputs": [],
   "source": [
    "class ListNode:\n",
    "    def __init__(self, value):\n",
    "        self.val = value\n",
    "        self.next = None\n",
    "        \n",
    "class Linklist:\n",
    "    def reverse(self, head):  # reverse the linkedlist,and return new head\n",
    "        if not head:\n",
    "            return head\n",
    "        \n",
    "        curr = None\n",
    "        while head:\n",
    "            nextHead = head.next\n",
    "            head.next = curr\n",
    "            curr = head\n",
    "            head = nextHead\n",
    "        return curr\n",
    "    \n",
    "    # 链表转数字，注意链表和数字位数的对应关系，是不是逆序\n",
    "    def transferInteger(self, head):  # transfer 1->2->3 to 321\n",
    "        if not head:\n",
    "            return 0\n",
    "        \n",
    "        res = 0\n",
    "        times = 1\n",
    "        while head:\n",
    "            res = res + head.val * times\n",
    "            times *= 10\n",
    "        return res\n",
    "    \n",
    "    # 数字转链表，采用str转化数字，注意位数的对应关系；single digit个位，tens digit十位\n",
    "    def transferLinklist(self, numb):  # transfer numb to linkedlist, 321 -> 1 ->2 ->3\n",
    "        dummy = curr = ListNode(-1)\n",
    "        for val in str(numb)[::-1]:\n",
    "            curr.next = ListNode(int(val))\n",
    "            curr = curr.next\n",
    "        return dummy.next\n",
    "    \n",
    "    #两个链表相加\n",
    "    "
   ]
  },
  {
   "cell_type": "markdown",
   "metadata": {},
   "source": [
    "### 书写技巧\n",
    "    * 用while A or B + if 去处理两个链表的关系"
   ]
  },
  {
   "cell_type": "markdown",
   "metadata": {},
   "source": [
    "### 题目总结\n",
    "* 合并与插入\n",
    "    * 模板 - 两个链表相加\n",
    "    * 链表值相加\n",
    "        * 两链表值表现为数字逆序相加 2.Add Two Numbers.py\n",
    "        * 两链表值表现为数字正序相加 - 把上文转置后，再相加，再转置\n",
    "        * 加1到链表值上 369. Plus One Linked List.py\n",
    "    * 合并链表 - 3.21\n",
    "        * 21. Merge Two Sorted Lists.py - while a and b\n",
    "        * !!23. Merge k Sorted Lists.py\n",
    "            * 从前到后顺序合并 tO(Nk),sO(1)\n",
    "            * 转list,合并 tO(NlogN),N是总node数,sO(N)\n",
    "            * mergeSort tO(Nlogk),s(N)\n",
    "            * 自下而上mergeSort tO(Nlogk),s(1)\n",
    "            * 堆？\n",
    "* 复制\n",
    "    * !复杂链表的复制 138. Copy List with Random Pointer.py\n",
    "        * 先遍历旧链，复制next，同时dic存新旧node地址关系；再遍历旧链，若node有random，则根据dic建立新链的random sO(N)\n",
    "        * 插空复制旧链，再建立next和random，最后分离旧新链 sO(N)，但是减少了dic的使用\n",
    "            * 易错点：建立random和分离时，别忘了head = head.next\n",
    "* 删除\n",
    "    * !删除指定-值-节点 203. Remove Linked List Elements.py\n",
    "        * 转list，遇到指定值删除 sO(N)\n",
    "        * 判断next，跳或不跳 sO(1)\n",
    "        * two pointer + before_head sO(1)\n",
    "    * 删除指定节点\n",
    "        * !删除倒数第n个节点 19. Remove Nth Node From End of List.py\n",
    "            * 转list后，del list[-N] sO(N)\n",
    "            * 转置法，head到n，删除n，再转置 sO(1)\n",
    "            * slow-fast法，建立dummy，间隔n个，head到负n+1，再删除n sO(1)\n",
    "        * 直接指向要删除的节点，无返回 237. Delete Node in a Linked List.py\n",
    "            * 下个节点值赋给本节点，next跳到下下个节点 tO(1)\n",
    "    * 删除重复节点\n",
    "        * 保留本值 83. Remove Duplicates from Sorted List.py\n",
    "            * 转list/dic，如已存在，跳过 tO(N^2/N) sO(N)\n",
    "            * two pointer sO(1)\n",
    "        * !不保留本值 82. Remove Duplicates from Sorted List II.py\n",
    "            * 转list，如已存在，记录并跳过，遇新值时，pop记录值再添加 sO(N)\n",
    "            * 转dic，取value为1的构建 sO(N)\n",
    "            * two pointer + before_head sO(1)\n",
    "* 排列与拆分\n",
    "    * 排序\n",
    "        * ！！插入排序 147. Insertion Sort List.py\n",
    "            * 转list tO(N2) sO(N)\n",
    "            * insertion sort tO(N2) sO(N)\n",
    "                1. 建立空的链表Create an empty sorted (or result) list\n",
    "                * 遍历输入链表 Traverse the given list, do following for every node.\n",
    "                    * 把目前的节点用排序的方法插入结果Insert current node in sorted way in sorted or result list.\n",
    "                * 改变原链表头为新建立的链表Change head of given linked list to head of sorted (or result) list.\n",
    "        * ！！O(NlogN)排序 148. Sort List (linked list).py\n",
    "            * 转list，sort tO(NlogN) sO(N)\n",
    "            * merge sort tO(NlogN) sO(N)\n",
    "            * 自下而上merge sort sO(1)\n",
    "                1. 用while head 替换 for\n",
    "                2. 每轮 merge之前，每次更新fake_tail和head\n",
    "                3. 每轮 merge中，先cut，后merge，再链接merged linklist，最后更新fake_tail和head\n",
    "    * 旋转\n",
    "        * 后面k位调到前面,保持原顺序(k会大于length) 61. Rotate List.py\n",
    "            * k处理，转list,切片重构 sO(N)\n",
    "            * k处理，two pointer cut，重构 sO(1)\n",
    "    * 全转置\n",
    "        * 206. Reverse Linked List.py\n",
    "            * 转list，list.reverse() tO(N) sO(N)\n",
    "            * 转置法 sO(1)\n",
    "    * 部分转置\n",
    "        * 两两转置 24. Swap Nodes in Pairs.py\n",
    "            * 转list，for interval =2交换值 sO(N)\n",
    "            * 转置法，转置2次，分模块化 sO(1)\n",
    "        * ！！kk个转置 25. Reverse Nodes in k-Group.py\n",
    "            * 转list, for 切片,reverse() sO(N)\n",
    "            * 转置法，转置k次，分模块化，sO(1)\n",
    "        * 转置m到n一部分 92. Reverse Linked List II.py\n",
    "            * 转list，切片，reverse()，赋回原来 sO(N)\n",
    "            * 转置法，转置n-m+1次，sO(1)\n",
    "        * ！后部转置并交叉入前部中 143. Reorder List.py\n",
    "            * 转list，两个list交叉合并， sO(N)\n",
    "            * 转置法，后部转置，与前半部合并 sO(1)\n",
    "        \n",
    "    * 重构\n",
    "        * 小于x+大于x，保持稳定 86. Partition List.py\n",
    "            * 转list，两个list，再extend sO(N)\n",
    "            * two pointer sO(1)\n",
    "        * ！！奇数位偶数位拆分 328. Odd Even Linked List.py\n",
    "            * 转list，两个list，再extend sO(N)\n",
    "            * two pointer sO(1)\n",
    "    * 拆分\n",
    "        * !k组分割，组差最多为1 725. Split Linked List in Parts.py\n",
    "            * 转list，求node数，求每组数，拆分 sO(N)\n",
    "            * two pointer,求node数，求每组数，拆分 sO(1)\n",
    "* 环\n",
    "    * 判断有环 141. Linked List Cycle.py\n",
    "        * 转set/list，存入node sO(N)\n",
    "        * s-f pointer sO(1)\n",
    "    * 判断+输出环交点 142. Linked List Cycle II.py\n",
    "       * 转set/list,存入node sO(N)\n",
    "       * s-f pointer，找相交，再从起始和相交处开始同时跑 sO(1)\n",
    "    * ! 环链表中插入节点 708. Insert into a Cyclic Sorted List.py\n",
    "        * 转list，记录头位置，append，sort(),再重建 tO(NlogN) sO(N)\n",
    "        * 转list，判断节点位置，四种情况：== head ,< x <, > x <, < x > tO(N),sO(N)\n",
    "        * 转list，记录头位置，二分法插入，再重建 tO(logN) sO(N)\n",
    "        * two pointer, 四种情况 tO(N) sO(1)\n",
    "* 判断结构\n",
    "    * 是否回文 234. Palindrome Linked List.py\n",
    "        * 转list，list[i]与list[-(i+1)]对比 sO(N)\n",
    "        * s-f pointer,two pointer, 转置前面的，再与后面的对比,注意长度奇偶 sO(1)\n",
    "* 判断两链表\n",
    "    * ! list的subsequence是否是链表里的subset, 返回数量 817. Linked List Components.py\n",
    "        * two pointer 遍历链表，node in list tO(N^2)\n",
    "        * two pinter list转set, 遍历链表，node in set tO(N)\n",
    "    * 两链表找出交点 160. Intersection of Two Linked Lists.py\n",
    "        * 转set/list，转一个，遍历另一个进行对比判断 tO(max(len(a,b))) sO(max(len(a,b))) \n",
    "        * 求长度，head到公共长度部分，同时递进，判断nod3 tO(max(len(a,b))) sO(1)"
   ]
  },
  {
   "cell_type": "markdown",
   "metadata": {},
   "source": [
    "### 技巧和算法\n",
    "* 建立头节点\n",
    "    * 目的：head可能成为处理的对象，不影响head的判断，可以直接跳过head\n",
    "* two pointer method\n",
    "    * 优点\n",
    "        * 前后段对比\n",
    "        * 判断相邻前后点\n",
    "            * 相互是否数值重复\n",
    "            * 与其他值的大小关系/重复关系\n",
    "        * 返回两个链表的head\n",
    "    * 缺点：\n",
    "         * 容易搞混\n",
    "    * 模板：328. Odd Even Linked List\n",
    "         * 先建立两个头节点，并尽可能备份(evenH) odd = head, even = evenH = head.next\n",
    "         * 循环，以最远的节点和其next作为判断 while even and even.next\n",
    "         * 连接操作 + 两个头节点挪屁股操作 odd.next = even.next, odd = odd.next, even.next = odd.next, even = even.next\n",
    "         * 连接最终结果，并返回备份的头\n",
    "* slow-fast pointer\n",
    "    * 原因：无法得知长度\n",
    "    * 优点\n",
    "        * 寻找中点\n",
    "        * 寻找负nth点 + dummy, 注意while f.next\n",
    "        * 判断/寻找环\n",
    "     * 缺点/困难点\n",
    "         * 处理奇偶数\n",
    "             * 会跳到奇数中点或偶数下半段起点\n",
    "             * while需要添加f.next的判断，防止跳过了\n",
    "* 转list/set/dic/数字\n",
    "    * 转成list，利用list的性质，对元素进行操作\n",
    "        * 优点：方便，简单\n",
    "        * 缺点：\n",
    "            * 占据空间，空间复杂度为O(N)\n",
    "            * a in list，时间复杂度为O(N)\n",
    "    * 转成set\n",
    "        * 优点：a in set，时间复杂度为O(1)\n",
    "        * 缺点：set.add()，之后set里元素顺序并不是添加顺序\n",
    "    * 转成dic\n",
    "        * 优点：\n",
    "            * a in dic，时间复杂度为O(1)\n",
    "            * 记录node出现次数\n",
    "            * 记录复杂链表的对应关系\n",
    "        * 缺点\n",
    "            * 无切片等操作\n",
    "     * 转成数字\n",
    "         * 优点：算数运算方便\n",
    "         * 缺点：链表和数字相互转换，时间复杂度为O(N)\n",
    "* 转置法\n",
    "    * 优点\n",
    "        * 利于加和\n",
    "        * 利于回文判断\n",
    "        * 利于交叉合并\n",
    "    * 缺点\n",
    "        * head位置容易乱"
   ]
  },
  {
   "cell_type": "markdown",
   "metadata": {},
   "source": [
    "### 易错点\n",
    "* while遍历链表：首要记住！head = head.next不要漏了\n",
    "* 切割链表：记着首先备份上一段的结尾节点，while head: **before_tail = head**, head = head.next\n",
    "* 空间复杂度: 当增加头节点或临时节点时，增加的只是节点，不计后面的尾随节点，故sO(1)\n",
    "* 变量使用之前一定要初始化"
   ]
  }
 ],
 "metadata": {
  "kernelspec": {
   "display_name": "Python 3",
   "language": "python",
   "name": "python3"
  },
  "language_info": {
   "codemirror_mode": {
    "name": "ipython",
    "version": 3
   },
   "file_extension": ".py",
   "mimetype": "text/x-python",
   "name": "python",
   "nbconvert_exporter": "python",
   "pygments_lexer": "ipython3",
   "version": "3.7.5"
  },
  "toc": {
   "base_numbering": 1,
   "nav_menu": {},
   "number_sections": true,
   "sideBar": true,
   "skip_h1_title": false,
   "title_cell": "Table of Contents",
   "title_sidebar": "Contents",
   "toc_cell": false,
   "toc_position": {},
   "toc_section_display": true,
   "toc_window_display": true
  }
 },
 "nbformat": 4,
 "nbformat_minor": 2
}
