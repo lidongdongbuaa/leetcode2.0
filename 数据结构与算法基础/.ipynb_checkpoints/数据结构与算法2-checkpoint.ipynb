{
 "cells": [
  {
   "cell_type": "markdown",
   "metadata": {},
   "source": [
    "# 二叉树"
   ]
  },
  {
   "cell_type": "markdown",
   "metadata": {},
   "source": [
    "## 易错点\n",
    "* 可变与不可变对象\n",
    "    * tree node相当于可变对象，like list，故函数里改变node.val是可以的\n",
    "    * 在函数里对node进行整体的操作，比如node = None时，只是给None贴了新的标签node，不改变原node"
   ]
  },
  {
   "cell_type": "markdown",
   "metadata": {},
   "source": [
    "## 定义\n",
    "* 一个像树一样的数据结构，其中每个节点最多有两个孩子 a tree like data structure where every node has at most two children\n",
    " * 有左右子节点 There is one left and right child node\n",
    " * **每个节点都有parent**\n",
    "* 旨在优化搜索和排序 Designed to optimize searching and sorting\n",
    "* 简并树是母节点只有一个子节点的树，如果完全单侧，则就是链表。A **degenerate tree** is an unbalanced tree, which if entirely one-sided is essentially a linked list."
   ]
  },
  {
   "cell_type": "code",
   "execution_count": 2,
   "metadata": {
    "ExecuteTime": {
     "end_time": "2020-02-11T07:08:57.758388Z",
     "start_time": "2020-02-11T07:08:57.750421Z"
    }
   },
   "outputs": [],
   "source": [
    "# 树节点的定义\n",
    "class TreeNode:\n",
    "    def __init__(self, x):\n",
    "        self.val = x\n",
    "        self.left = None\n",
    "        self.right = None"
   ]
  },
  {
   "cell_type": "markdown",
   "metadata": {},
   "source": [
    "## 常用操作及复杂度\n",
    "* **DFS中前中后序遍历方式** \n",
    "    * time complexity: O(N) 遍历了每个节点\n",
    "    * space complexity: \n",
    "        * O(h) = 树的高度height\n",
    "        * average: O(logN) \n",
    "            * 完全二叉树 perfect binary tree\n",
    "            * h = logN\n",
    "        * worst: O(N) \n",
    "            * 偏二叉树 skewed tree\n",
    "            * h = N\n",
    "* **层次遍历/宽度优先遍历** level order tree traversal/ breath first traversal(BFS)\n",
    "    * **从根到叶的遍历方式**\n",
    "    * time complexity: O(N) 遍历了每个节点\n",
    "    * space complexity: \n",
    "        * O(w) = 树层的最大宽度，即最下层的宽度\n",
    "        * best: O(1) \n",
    "            * 偏二叉树 skewed tree\n",
    "            * 队列保持1个元素弹入弹出\n",
    "        * average: O(N) \n",
    "            * 完全二叉树 perfect binary tree\n",
    "            * 最下层宽度2**(H) = 2**(LogN) = N/2 = N\n",
    "* DFS和BFS的**空间**复杂度综述\n",
    "   * DFS\n",
    "       * average: O(logN) --> balance tree\n",
    "       * worst: O(N) --> skewed tree\n",
    "   * BFS\n",
    "       * best O(1)  --> skewed tree\n",
    "       * average(N)  --> balance tree"
   ]
  },
  {
   "cell_type": "markdown",
   "metadata": {},
   "source": [
    "## 深度优先遍历 DFS \n",
    "### 遍历的种类\n",
    "* 前中后指的是root的位置\n",
    "* 前序遍历 PreOrder (root, left, right)\n",
    "    * 应用：想在节点上直接执行操作（或输出结果）使用先序\n",
    "* 中序遍历 InOrder (left, root, right)\n",
    "    *  应用：\n",
    "        * 在二分搜索树中，中序遍历的顺序符合从小到大（或从大到小）顺序的，要输出其排序好的结果使用中序\n",
    "        * 以root 1为中心对称分布 -> 检测树是否中心对称\n",
    "* 后序遍历 PostOrder (left, right, root) \n",
    "    * 特点：在执行操作时，肯定已经遍历过该节点的左右子节点\n",
    "    * 应用：进行破坏性操作比如删除所有节点，比如判断树中是否存在相同子树"
   ]
  },
  {
   "cell_type": "markdown",
   "metadata": {},
   "source": [
    "### 特点\n",
    "* 特点：离叶近，占用空间少（不记录搜索过程中的状态）\n",
    "* 优势：**搜索全部的解**\n",
    "    * 当求解目标，必须要走到最深（例如树，走到叶子节点）才能得到一个解，这种情况适合用深搜。\n",
    "* 技巧\n",
    "    * 多个分类判别条件情况\n",
    "    * return 新的属性\n",
    "    * dfs()添加新属性，如dic，level等"
   ]
  },
  {
   "cell_type": "markdown",
   "metadata": {},
   "source": [
    "### 模板\n",
    "* 两类模式\n",
    "    * 分治模式\n",
    "        * 分治基本形式\n",
    "            * 函数的返回值是结果值，把函数问题分为左右子树问题，解决子树问题得到子答案，再由子答案合并成主干答案\n",
    "            * **主要**\n",
    "        * 分治复杂形式\n",
    "            * 形式：self.res = XXX\n",
    "            * 函数的返回值**不是**结果值，在函数问题的过程中，顺带完成结果值，例如balanced tree\n",
    "            * **次要**\n",
    "    * 遍历点模式\n",
    "        * 遍历点基本形式\n",
    "            * 遍历每个点，遍历过程放在前/中/后任何一个位置都可以\n",
    "            * 会添加不同的参数，参数作为输出\n",
    "            * **主要**\n",
    "        * 遍历点复杂形式\n",
    "            * 形式：self.res = XXX\n",
    "            * 在主干思路过程中，顺带完成辅助思路，例如探索路径深度；克隆图；\n",
    "            * **主要**\n",
    "* 判定是否需要helper函数\n",
    "    * def function(root): -> return X\n",
    "    * 假设得到基于root.left和root.right的x-left和x-right\n",
    "        * x-left = self.function(root.left)\n",
    "        * x-right = self.function(root.right)\n",
    "    * 若通过x-left，x-right和root，可以得到X，则不需要；若无法得到，则需要"
   ]
  },
  {
   "cell_type": "code",
   "execution_count": 4,
   "metadata": {},
   "outputs": [
    {
     "ename": "SyntaxError",
     "evalue": "invalid character in identifier (<ipython-input-4-f9e2363c726a>, line 8)",
     "output_type": "error",
     "traceback": [
      "\u001b[1;36m  File \u001b[1;32m\"<ipython-input-4-f9e2363c726a>\"\u001b[1;36m, line \u001b[1;32m8\u001b[0m\n\u001b[1;33m    traversal（self, root.right）\u001b[0m\n\u001b[1;37m                 ^\u001b[0m\n\u001b[1;31mSyntaxError\u001b[0m\u001b[1;31m:\u001b[0m invalid character in identifier\n"
     ]
    }
   ],
   "source": [
    "class Tree:\n",
    "    def traversal(self, root):\n",
    "        if root is None:\n",
    "            return\n",
    "         # 前序遍历\n",
    "        traversal(self, root.left)\n",
    "        # 中序遍历\n",
    "        traversal（self, root.right）\n",
    "        # 后序遍历 "
   ]
  },
  {
   "cell_type": "markdown",
   "metadata": {},
   "source": [
    "### **升级要求**\n",
    "* 迭代实现\n",
    "    * **颜色(0/1)标记法** \n",
    "    * **迭代法**\n",
    "* 常量空间内解决树的遍历问题\n",
    "    * Morris遍历：采用线索二叉树 Threaded binary tree\n",
    "    * 结构\n",
    "        * 右空指针指向中序遍历下的后继节点 right null pointer point to in-order successor of the node\n",
    "        * 左空指针指向中序遍历下的前节点 left null pointer point to in-order predecessor of the node\n",
    "    * 作用：不需要为每个节点额外分配指针指向其前驱和后继节点 without recusrsion and extra storage for front and next node\n",
    "    * 优势：sO(1)\n",
    "    * 缺点：会暂时性的改动树的结构 it would change the tree stucture temporarily"
   ]
  },
  {
   "cell_type": "code",
   "execution_count": 4,
   "metadata": {},
   "outputs": [
    {
     "ename": "IndentationError",
     "evalue": "unexpected indent (<ipython-input-4-03e00177fa8c>, line 81)",
     "output_type": "error",
     "traceback": [
      "\u001b[1;36m  File \u001b[1;32m\"<ipython-input-4-03e00177fa8c>\"\u001b[1;36m, line \u001b[1;32m81\u001b[0m\n\u001b[1;33m    def preorderTraversal_stack(self, root):\u001b[0m\n\u001b[1;37m    ^\u001b[0m\n\u001b[1;31mIndentationError\u001b[0m\u001b[1;31m:\u001b[0m unexpected indent\n"
     ]
    }
   ],
   "source": [
    "'''\n",
    "颜色标记法\n",
    "append顺序的倒序是输出的顺序\n",
    "    append right - left - root -> output: root - left - right 前序遍历 \n",
    "    append right - root - left -> output: left - root - right 中序遍历\n",
    "    append root - right - left -> output: left - right - root 后序遍历\n",
    "增加了color，输出量[], 及root append 操作\n",
    "易错点： \n",
    "    stack = [[root, 0]],一定开始是0，因为如果是1的话，下面的while就完成了，无法运行\n",
    "    append一定是添加[root, color],不要漏掉color\n",
    "    pop()的顺序 = 添加root.val的倒序 = res的顺序\n",
    "    用的是stack，不是queue\n",
    "'''\n",
    "class TreeNode:\n",
    "    def __init__(self, x):\n",
    "        self.val = x\n",
    "        self.left = None\n",
    "        self.right = None \n",
    "        \n",
    "class Solution:\n",
    "    def preorderTraversal(self, root: TreeNode):  # 颜色标记法- 前序\n",
    "        if not root:\n",
    "            return []\n",
    "\n",
    "        stack = [[root, 0]]  # 0 represent new node for res, 1 represent visited in res\n",
    "\n",
    "        res = []\n",
    "        while stack:\n",
    "            root, color = stack.pop()\n",
    "            if color == 0:\n",
    "                if root.right:\n",
    "                    stack.append([root.right, 0])\n",
    "                if root.left:\n",
    "                    stack.append([root.left, 0])\n",
    "                stack.append([root, 1])\n",
    "            else:\n",
    "                res.append(root.val)\n",
    "        return res\n",
    "\n",
    "    def preorderTraversal(self, root: TreeNode):  # 颜色标记法- 中序\n",
    "        if not root:\n",
    "            return []\n",
    "\n",
    "        stack = [[root, 0]]  # 0 represent new node for res, 1 represent visited in res\n",
    "\n",
    "        res = []\n",
    "        while stack:\n",
    "            root, color = stack.pop()\n",
    "            if color == 0:\n",
    "                if root.right:\n",
    "                    stack.append([root.right, 0])\n",
    "                stack.append([root, 1])\n",
    "                if root.left:\n",
    "                    stack.append([root.left, 0])\n",
    "            else:\n",
    "                res.append(root.val)\n",
    "        return res\n",
    "\n",
    "    def preorderTraversal(self, root: TreeNode):  # 颜色标记法- 后序\n",
    "        if not root:\n",
    "            return []\n",
    "\n",
    "        stack = [[root, 0]]  # 0 represent new node for res, 1 represent visited in res\n",
    "\n",
    "        res = []\n",
    "        while stack:\n",
    "            root, color = stack.pop()\n",
    "            if color == 0:\n",
    "                if root.right:\n",
    "                    stack.append([root.right, 0])    \n",
    "                if root.left:\n",
    "                    stack.append([root.left, 0])\n",
    "                stack.append([root, 1])\n",
    "            else:\n",
    "                res.append(root.val)\n",
    "        return res\n",
    "'''\n",
    "迭代法\n",
    "'''    \n",
    "    # 迭代法 - 前序 output： root-左-右\n",
    "    def preorderTraversal_stack(self, root):  \n",
    "        if not root:\n",
    "            return []\n",
    "\n",
    "        stack = [root]\n",
    "        res = []\n",
    "\n",
    "        while stack:\n",
    "            root = stack.pop()\n",
    "            if root.right: # 与输出的顺序相反\n",
    "                stack.append(root.right)\n",
    "            if root.left:\n",
    "                stack.append(root.left)\n",
    "            res.append(root.left)\n",
    "        return res\n",
    "    \n",
    "    # 迭代法 -中序遍历\n",
    "    # p_node 指向的节点；cur_node当前访问的节点\n",
    "    # 从root开始，先把所有左节点入栈\n",
    "    # 弹出第一个左节点，入结果res\n",
    "    # 当前节点指向栈顶节点的右节点，开始对右边开始访问 --> 易错点\n",
    "    'go left as far as you can, then one step right. Repeat till the end of nodes in the tree.'\n",
    "    def inorderTraversal_stack(self, root):\n",
    "        if not root:\n",
    "            return []\n",
    "        \n",
    "        stack = []\n",
    "        res = []\n",
    "        \n",
    "        while stack or root:  # or\n",
    "            while root:\n",
    "                stack.append(root)\n",
    "                root = root.left\n",
    "                \n",
    "             # 操作栈顶节点，如果是第一次运行到这步，那么这是整棵树的最左节点\n",
    "            cur_node = stack.pop()\n",
    "            # 因为已经保证没有左节点，可以访问根节点\n",
    "            res.append(cur_node.val)\n",
    "            \n",
    "            if cur_node.right:  # 将指针指向当前节点的右节点\n",
    "                 root = cur_node.right\n",
    "        return res\n",
    "    \n",
    "    # 迭代法-后序遍历 - output: 左-右-root\n",
    "    def postoderTraversal_stack(self, root):  \n",
    "        if not root:\n",
    "            return []\n",
    "\n",
    "        stack = [root]\n",
    "        res = []\n",
    "\n",
    "        while stack:\n",
    "            root = stack.pop()\n",
    "            if root.left:  # 重点\n",
    "                stack.append(root.left)\n",
    "            if root.right: # 重点\n",
    "                stack.append(root.right)\n",
    "            res.append(root.val)\n",
    "        return res[::-1]   # 重点\n",
    "                    "
   ]
  },
  {
   "cell_type": "markdown",
   "metadata": {},
   "source": [
    "## 层次遍历/宽度优先遍历 level order tree traversal/ breath first traversal(BFS)\n",
    "### 类型\n",
    "* 自顶向下层序\n",
    "    * 从上层到下层，每层从左到右\n",
    "        * 从右到左的话，先append right, 再append left\n",
    "    * 思路： 维护一个队列存储上一层的结点，逐层访问\n",
    "    * 使用deque或者普通list实现 先进先出的策略，即左出右进的策略\n",
    "        * deque的popleft()是O(1)\n",
    "        * list的pop(0)是O(N)\n",
    "    * 递归法\n",
    "        * self.helper(root, dic, level)\n",
    "* 自底向上层序\n",
    "    * 自顶向下层序遍历得到的层放入数据结构然后 reverse 过来\n",
    "* 锯齿层序遍历\n",
    "    * 每一层访问顺序有所改变，而且是每次都反转顺序\n",
    "        * 第一层左->右，第二层右->左，第三层左->右...\n",
    "    * 思路：用stack栈实现，并且每层弹出完全以后，再加入下一层node\n",
    "\n",
    "### 特点\n",
    "* 特点：离根近，占用空间多（记录搜索过程中的状态）\n",
    "* 优势：**搜索最短路径(离根最短的路径)**\n",
    "    * BFS搜索过程中遇到的解一定是离根最近的，即最优解，此时搜索算法可以终止。\n",
    "    * e.g.求最少步数，最少交换次数\n",
    "\n",
    "### 技巧\n",
    "* 修改queue.append(XX)\n",
    "    * 两个root [root1, root2]\n",
    "    * 一个root，一个性质 [root, XX]， XX保存了从根到节点的信息，故dfs和bfs一定可以相互转化\n",
    "* 多个分类判别条件情况\n",
    "* **while + for内循环**\n",
    "    * 求层宽度时，for内扫描全部的同层节点\n",
    "        * for _ in range(width): node = queue.popleft(), queue.append()....\n",
    "\n",
    "* 注意\n",
    "    * 用于保存搜索过程的点的数据结构，要是hashset类型的"
   ]
  },
  {
   "cell_type": "markdown",
   "metadata": {},
   "source": [
    "### 模板\n",
    "* 模板思维\n",
    "    * 无论node是啥样的，是否为空，先加入queue，等弹出的时候再进行判断\n",
    "        * 但是在求高度等，需要根据node是否为空来决定答案时，需要先判定node是否为空，再加入queue\n",
    "* 易错点\n",
    "    * queue = deque([(root, root.val)])"
   ]
  },
  {
   "cell_type": "code",
   "execution_count": 4,
   "metadata": {},
   "outputs": [],
   "source": [
    "from collections import deque # deque [dek]\n",
    "class Tree:\n",
    "    def traversal(self, root):\n",
    "        if not root:\n",
    "            return\n",
    "        queue = deque([root])  # or queue = list\n",
    "        # 若[root, XXX], 必须 queue = deque(), queue.append([root, XXX])**\n",
    "        while queue:\n",
    "            node = queue.popleft()  \n",
    "            # or node = queue.pop(0)\n",
    "            # 遍历输出\n",
    "            queue.append(node.left)\n",
    "            queue.append(node.right) "
   ]
  },
  {
   "cell_type": "markdown",
   "metadata": {},
   "source": [
    "## 题目类型\n",
    "### 二叉树的性质\n",
    "#### 方法\n",
    "* 二叉树的每个节点都有两个子节点，每个节点都有一个母节点，除了root\n",
    "* DFS / BFS \n",
    "\n",
    "#### 题目总结\n",
    "* 判断是否为有效的二叉树 1361. Validate Binary Tree Nodes.py\n",
    "    * 每个节点只有一个parent,且无环孤立\n",
    "* 相同二叉树 100. Same Tree.py\n",
    "    * 分治模式基本形式 + bfs\n",
    "* 对称二叉树 101. Symmetric Tree.py\n",
    "    * 分治模式复杂形式 + bfs\n",
    "* 求所有路径的深度\n",
    "    * DFS\n",
    "        * 采用辅助函数引进变量res和height用于保存信息\n",
    "        * edge + depth functionm + return res\n",
    "        * def depth(self, root, height, res): # output: res: List\n",
    "            * break recursion: \n",
    "                * case 1: not root: return\n",
    "                * case2: root is leaf: height + 1, res.append(height) return \n",
    "            * trigger recusion\n",
    "                * other case: self.depth(root.left / root.right, height + 1, res)\n",
    "        * 易错点：要记住root存在的话，要把其height的一层给加上，例如case2中发现root是leaf时，需要加上\n",
    "    * BFS\n",
    "        * queue.append([node, height])\n",
    "        * if node is leaf, save height in res\n",
    "* 最大深度 104. Maximum Depth of Binary Tree.py\n",
    "    * 分治模式基本形式 + bfs\n",
    "* ！最小深度 111. Minimum Depth of Binary Tree.py\n",
    "    * 分治模式基本形式/遍历点模式 + bfs"
   ]
  },
  {
   "cell_type": "markdown",
   "metadata": {},
   "source": [
    "* 二叉树的宽度\n",
    "    * 求每层的节点数\n",
    "        * BFS\n",
    "            * deque stores nodes\n",
    "            * for loop to traveral every level nodes, record length to res\n",
    "            * 易错点：先 for，再popleft\n",
    "        * DFS\n",
    "            * DFS scan every node, accumulate level and level node numb, record them in dic\n",
    "    * 求每层的宽度（即节点有空，None, 4，None, 6, 宽为3）\n",
    "        * 《求每层的节点数》 + [nodes, index * 2 (+1)]\n",
    "        * BFS\n",
    "            * deque stores [nodes, index]\n",
    "            * for traveral and renew every level nodes [nodes, index * 2 (+1)], record level and width (right node's index - left node's index + 1) to res\n",
    "            * 易错点：先 for，再popleft\n",
    "        * DFS\n",
    "            * main: initial level, index, dic\n",
    "            * helper: DFS scan every node, accumulate level and index (index * 2( + 1)), record level: [first node index, other node index] in dic\n",
    "            * 易错点 record level: [first node index, other node index] in dic\n",
    "    * 二叉树的最大宽度 662. Maximum Width of Binary Tree.py\n",
    "        * brute force: 基于《求每层的宽度》， 再max(res)\n",
    "        * BFS + max(res, level width)\n",
    "        * DFS + dic[level]保存每层第一个节点index，res = max（res，index - dic[level] + 1）"
   ]
  },
  {
   "cell_type": "markdown",
   "metadata": {},
   "source": [
    "* 平衡二叉树 110. Balanced Binary Tree.py\n",
    "    * 分治模式复杂形式"
   ]
  },
  {
   "cell_type": "markdown",
   "metadata": {},
   "source": [
    "### 二叉树的遍历\n",
    "#### 题目总结\n",
    "* 前序遍历 pre-order\n",
    "    * 144. Binary Tree Preorder Traversal.py\n",
    "        * pre-order\n",
    "        * iterative - stack to simulate recursion - 不重要\n",
    "        * iterative - 0/1 notation - 重要\n",
    "* 中序遍历 in-order \n",
    "    * 94. Binary Tree Inorder Traversal.py\n",
    "* ！后序遍历 post-order \n",
    "    * 145. Binary Tree Postorder Traversal.py"
   ]
  },
  {
   "cell_type": "markdown",
   "metadata": {},
   "source": [
    "* 层次遍历 level order traversal\n",
    "    * 102. Binary Tree Level Order Traversal.py\n",
    "        * 迭代法 deque\n",
    "        * 递归法 self.helper(root, level, dic)\n",
    "* 从下到上层次遍历 bottom-up order traversal\n",
    "    * 107. Binary Tree Level Order Traversal II.py\n",
    "        * 迭代法 deque + reverse\n",
    "        * 递归法 self.helper(root, level, dic) + reverse\n",
    "* 锯齿形遍历  zigzag order traversal - s型遍历\n",
    "    * 103. Binary Tree Zigzag Level Order Traversal.py\n",
    "        * 迭代法 deque + odd level keep, even level reverse\n",
    "        * 递归法 self.helper(root, level, dic) + odd level keep, even level reverse\n",
    "* node.next的space O(1)法\n",
    "    * !116. Populating Next Right Pointers in Each Node.py - perfect binary tree\n",
    "    * !117. Populating Next Right Pointers in Each Node II.py - binary tree\n",
    "    * 116和117统一分析\n",
    "        * 116是117的不完美情况，故117的方法适用于116\n",
    "        * 117方法\n",
    "            * level order traversal - sO(N)\n",
    "                * turn the pointer by for loop in every loop: \n",
    "                * queue[i].next = queue[i + 1]\n",
    "            * using up level node next pointer\n",
    "                * reserve root\n",
    "                * traversal level by level\n",
    "                    * traversal current level's node - cur by next\n",
    "                        * reserve dummy = tail\n",
    "                        * build lower level next by control cur.left or right .enxt to tail\n",
    "                        * renew tail\n",
    "                   * renew cur = dummuy.next\n",
    "                 * return root\n",
    "        * 116 方法\n",
    "             * using up level node next pointer\n",
    "                 * reserve leftMost = root\n",
    "                 * traversal level by level, until leftMost.left == None\n",
    "                     * traversal current level's node - cur by next\n",
    "                         * build lower level next by control cur.left or right .enxt to tail;head.left.next = head.right,if head.next:  head.right.next = head.next.left\n",
    "                     * renew leftMost = leftMost.left\n",
    "                     \n",
    "                \n",
    "         \n"
   ]
  },
  {
   "cell_type": "markdown",
   "metadata": {},
   "source": [
    "### 路径之和\n",
    "#### 方法\n",
    "* preorder DFS：及时pop\n",
    "* preorder iterative DFS: 先右后左，append([root, XXX])\n",
    "* BFS: 先左后右，append([root, XXX])\n",
    "\n",
    "#### 题目总结\n",
    "* 判断某路径的和是否等于target 112. Path Sum.py\n",
    "    * pre-order DFS  # sO(logN)\n",
    "        * helper(root, pathsum, target) return T/F\n",
    "        * **pathSum -= root.val**\n",
    "    * iterative pre-order DFS  # sO(logN)\n",
    "        * 先right，后left\n",
    "        * stack.append([root, root.val])\n",
    "    * BFS  # sO(N)\n",
    "        * deque([(root, root.val)])\n",
    "        * 易错点：判断root为leaf, 最里层的小括号\n",
    "* 输出路径的和等于target的所有路径 113. Path Sum II.py\n",
    "    * pre-order DFS \n",
    "        * helper(root, tmp, res) return res\n",
    "        * **tmp.pop()**\n",
    "    * iterative pre-order DFS\n",
    "        * root, tmp = stack.pop()\n",
    "        * r = tmp.copy(), r.append(root.right.val)\n",
    "        * 先right，后left\n",
    "        * stack.append([root.right, r)]])\n",
    "    * BFS \n",
    "        * 先left后right\n",
    "* 输出路径构成的整数的和 129. Sum Root to Leaf Numbers.py\n",
    "    * pre-order DFS  # sO(logN)\n",
    "        * transfer path list to sum\n",
    "    * iterateive pre-order DFS  # sO(logN)\n",
    "        * transfer path list to sum\n",
    "        * 先right，后left\n",
    "    * BFS  # sO(N)\n",
    "        * root, tmp = queue.popleft()\n",
    "        * queue.append(root.left, **tmp * 10 + root.left.val**)\n",
    "* 输出所有路径，node之间用 -> 连接 257. Binary Tree Paths.py\n",
    "    * brute force - DFS\n",
    "        1. 全部遍历，输出为list[list]\n",
    "        *  list transferred as string\n",
    "    * iterative DFS\n",
    "        * stack.append([root, str(root.val)])\n",
    "    * BFS\n",
    "        * queue.append([(root, str(root.val))])\n",
    "* ZZ最长路径和 1372. Longest ZigZag Path in a Binary Tree.py\n",
    "    * DFS  # time O(N) space(NlogN)\n",
    "        * self.dfs(root, l, r), save max(res, l, r) in res. l, r是左 or 右parent的路径和"
   ]
  },
  {
   "cell_type": "markdown",
   "metadata": {},
   "source": [
    "### 构建二叉树\n",
    "#### 方法\n",
    "* 思路: 在递归中创建根节点，然后找到将元素劈成左右子树的方法，递归得到左右根节点，接上创建的根然后返回.\n",
    "* 确定一个二叉树的要求\n",
    "    * 方案1：inorder + postorder\n",
    "    * 方案2：inorder + preorder\n",
    "    * 方案3：level order list,更新index\n",
    "    * 前序（后序）遍历的作用呢？提供根节点！然后根据根节点，就可以递归的生成左右子树\n",
    "    * 两种方案去获得更小list范围：\n",
    "        1.递归中缩小list\n",
    "        2.递归中缩小index\n",
    "* 确定一个平衡二叉搜索树的要求\n",
    "    * 方案1：inorder\n",
    "    * 方案2：sorted(preoder) 或 sorted(postorder)\n",
    "* 对于二叉查找树，默认 左子树node数量 > 或者 < 右子树的node数量\n",
    "\n",
    "#### 题目总结\n",
    "* in + pre构造二叉树 105. Construct Binary Tree from Preorder and Inorder Traversal.py\n",
    "    * DFS + find index in recursion # t(N\\*\\*2)\n",
    "        * preorder提供root，用root在inorder的index去划分pre和in，并作为递归的输入\n",
    "        * dfs(preorder, inorder) # 输入为list\n",
    "        * mid = inorder.index(preorder[0]) \n",
    "        * 易错点：[1 : **mid + 1**]\n",
    "    * DFS + dict  # tO(N)\n",
    "        * inorder->dict{value:index}，以在原list上的位置参数pre_l,pre_r作为参数划分pre和in\n",
    "        * transfer inorder to dict\n",
    "        * dfs(0, len(pre_order), 0, len(in_order)) # 输入为index\n",
    "        * mid = dic[preorder[pre_left]]\n",
    "        * root.left = self.dfs(pre_l + 1, **XX**, in_l, mid)  # in的左子树的前后边界是确定，而pre的右边界不确定，故由前序和中序个数是相同的条件，pre_r - pre_l = in_r - in_l => pre_r = in_r - in_l + pre_l = mid - in_left + pre_left + 1 = **XX**\n",
    "        * root.right = self.dfs(**YY**, pre_r, mid + 1, in_r)  # pre的左边界不确定，故 pre - **YY** = in_r - (mid + 1)\n",
    "        * 易错点：dfs里的pre的边界 **pre_l + 1**\n",
    "* in+ post构造二叉树 106. Construct Binary Tree from Inorder and Postorder Traversal.py\n",
    "    * DFS + find index\n",
    "        * post提供root，in用来划分左右子树\n",
    "    * DFS + dict\n",
    "        * dfs使用序号作为参数输入\n",
    "* sorted list构造平衡二叉搜索树 108. Convert Sorted Array to Binary Search Tree.py\n",
    "    * 二分法取mid作为root, 划分左右子树，进行递归   # sO(N), O(N) to keep the output, and O(logN) for the recursion stack\n",
    "        * 易错点：左边树node数量可以大于或小于右边树，故取root = TreeNode(nums[len(nums) // 2])，无论奇数偶数个\n",
    "    * ！iterative to simulate recursion\n",
    "        * 对范围的序号进行缩小 stack.append([root, 0, length - 1, mid])\n",
    "        * 易错点： TreeNode(nums[mid])不是TreeNode(mid)，全部闭区间，rMid = (r - mid) // 2 + mid + 1\n",
    "* sorted linkedlist构造平衡二叉搜索树 109. Convert Sorted List to Binary Search Tree.py\n",
    "    * brute force - slow - fast pointer  # tO(NlogN) 因为pointer值只跳跃N/2次\n",
    "        * 用快慢点找中点，设root，分割链表，再递归\n",
    "        * 易错点：while fast and fast.next 不是or，要确保两个存在，有一个不行都不行\n",
    "    * linkedlist -> list\n",
    "        * 链表转list，再构造  # tO(N)\n",
    "        * 易错点：root = TreeNode(nodeList[mid]) 不是 root = TreeNode(mid)\n",
    "    * inorder simulation\n",
    "        * 没懂\n",
    "* level order构造二叉树\n",
    "    * queue保存root及list中index，通过更新2\\*index + 1/2来获得下层节点值，需及时判断节点是否存在\n",
    "    * queue = deque([(root, 0)])\n",
    "    * l_ind = 2 * ind + 1\n",
    "    * r_ind = 2 * ind + 2"
   ]
  },
  {
   "cell_type": "markdown",
   "metadata": {},
   "source": [
    "## 其他树的种类\n",
    "### 平衡二叉树\n",
    "* 熟悉至少一种类型的平衡二叉树，了解实现方式\n",
    "* 平衡：左右子树的高度差不超过1\n",
    "* 红/黑树(Red/Black tree)：\n",
    "    * https://zhuanlan.zhihu.com/p/31805309\n",
    "* 伸展树(Splay tree)\n",
    "* AVL树\n",
    "    * 任一节点对应的两棵子树的最大高度差为1 -> 高度平衡树\n",
    "    * 优势：查找、插入和删除在平均和最坏情况下的时间复杂度都是O(logN)\n",
    "    * 劣势：增加和删除元素的操作则可能需要借由一次或多次树旋转，以实现树的重新平衡。"
   ]
  },
  {
   "cell_type": "markdown",
   "metadata": {},
   "source": [
    "### n元树"
   ]
  },
  {
   "cell_type": "markdown",
   "metadata": {},
   "source": [
    "### tire树"
   ]
  },
  {
   "cell_type": "markdown",
   "metadata": {},
   "source": [
    "# 图"
   ]
  },
  {
   "cell_type": "markdown",
   "metadata": {},
   "source": [
    "## 定义\n",
    "* 由顶点的有穷非空集合和顶点之间的边的集合组成。通常表示为G(V, E), 其中，G表示一个图，V是图G中顶点的集合，E是图G中边的集合。\n",
    "    * vertex:顶点\n",
    "    * edge：边\n",
    "* 图的种类\n",
    "    * 无向图\n",
    "        * 无向完全图：任意两个节点之间有且仅有一条边，N个顶点，N(N-1)/2条边\n",
    "    * 有向图\n",
    "        * **有向无环图 DAG (Directed acyclic graph), 表示相关联的依赖状态**\n",
    "        * 有向完全图：任意两个顶点之间有且仅有方向相反的两条边(<->)，N(N-1)条边\n",
    "    * 或者分为 带权图/不带权图 (均不适用BFS和DFS)\n",
    "* 邻接顶点 \n",
    "    * 无向图：由一条边连接起来的两个顶点，互为邻接顶点\n",
    "    * 有向图：u->v, u的邻接点是v，即指向的点为邻接点\n",
    "* 顶点的度\n",
    "    * 与顶点相关联的边的条数\n",
    "        * 入度：别的点指向我点的个数\n",
    "        * 出度：我点指向别的点的个数\n",
    "    * 有向图：度 = 入度 + 出度\n",
    "    * 无向图：度 = 入度 = 出度\n",
    "* 连通图\n",
    "    * 无向图：任意一对顶点都有路径连通（即无向完全图），称为连通图\n",
    "    * 有向图：任意一对顶点vi和vj，都有vi到vj的路径，称为强连通图\n",
    "* 生成树\n",
    "    * 一个无向连通图的最小子图称为该图的生成树。\n",
    "    * 有N个顶点的连通图的生成树有N - 1条边\n",
    "    * 最小生成树：权值和最小的生成树"
   ]
  },
  {
   "cell_type": "markdown",
   "metadata": {},
   "source": [
    "## 表示方法"
   ]
  },
  {
   "cell_type": "markdown",
   "metadata": {},
   "source": [
    "### 邻接表\n",
    "* 定义：每个节点的邻接点的总集合\n",
    "* 表现方式\n",
    "    * 邻接集合 \n",
    "        * N = [{a,b, c}, {d, e}]\n",
    "        * 见下方\n",
    "    * 邻接列表 adjacency list\n",
    "        * N = [[a,b, c], [d, e]]\n",
    "    * 邻接字典 \n",
    "        * N = [{'b':2, 'c':1, 'd':3, 'e':9, 'f':4},{'c':4, 'e':3}]\n",
    "        * key是邻接点，value是权值\n",
    "    * **嵌套字典1**\n",
    "        * 用于带权图 399. Evaluate Division.py\n",
    "        * N = {'a':{b:5, c:1}, 'b':{b:1, c:2}}\n",
    "    * **嵌套字典2**\n",
    "        * N = {'a':{b, c}, 'b':{b, c}}\n",
    "        \n",
    "* 优点\n",
    "    * 节省空间，只存储实际存在的边\n",
    "    * 对于有向图，可以添加或删除边\n",
    "* 缺点\n",
    "    * 关注顶点的入度时，可能需要遍历整个表\n",
    "    * 对于无向图，如需要删除一条边，需要在两个节点的行处查找并删除\n",
    "* 实现方法\n",
    "    * input：**有向无环图的依赖关系**\n",
    "    * 见下方"
   ]
  },
  {
   "cell_type": "code",
   "execution_count": 4,
   "metadata": {},
   "outputs": [
    {
     "name": "stdout",
     "output_type": "stream",
     "text": [
      "defaultdict(<class 'dict'>, {1: {3: 1, 4: 5}, 3: {4: 2, 5: 4}, 2: {3: 3}})\n",
      "defaultdict(<class 'set'>, {1: {3, 4}, 3: {4, 5}, 2: {3}})\n"
     ]
    }
   ],
   "source": [
    "# 邻接集合 - e.g.有向图\n",
    "# 将节点的编号赋值给相应的节点，方便操作\n",
    "a, b, c, d, e, f, g, h = range(8)\n",
    "N = [{'b', 'c', 'd', 'e', 'f'},\n",
    "     {'c', 'e'},\n",
    "     {'d'},\n",
    "     {'e'},\n",
    "     {'f'},\n",
    "     {'c', 'g', 'h'},\n",
    "     {'f', 'h'},\n",
    "     {'f', 'g'}]\n",
    "# 查看a的邻接点\n",
    "N[a]\n",
    "# 查看a的出度\n",
    "len(N[a])\n",
    "# 查看g是否是a的邻接点之一\n",
    "'g' in N[a]\n",
    "\n",
    "# 邻接集合的字典表示\n",
    "N = {'a':set('bcdef'),\n",
    "     'b':set('ce'),\n",
    "     'c':set('d'),\n",
    "     'd':set('e'),\n",
    "     'e':set('f'),\n",
    "     'f':set('cgh'),\n",
    "     'g':set('fh'),\n",
    "     'h':set('fg')}\n",
    "\n",
    "# 嵌套字典1\n",
    "pair= [[1, 3], [3, 4], [2, 3], [3, 5], [1, 4]]\n",
    "weight = [1,2,3,4,5]\n",
    "\n",
    "\n",
    "from collections import defaultdict\n",
    "graph = defaultdict(dict)\n",
    "for (x, y),v in zip(pair, weight):\n",
    "    graph[x][y] = v\n",
    "print(graph)\n",
    "\n",
    "# 嵌套字典2\n",
    "from collections import defaultdict  # 即value默认为set，且key不存在时，返回[],不会报错,并且可以避免pair里的重复对\n",
    "graph = defaultdict(set)\n",
    "for key, value in pair:\n",
    "    graph[key].add(value)\n",
    "print(graph)"
   ]
  },
  {
   "cell_type": "markdown",
   "metadata": {},
   "source": [
    "### 邻接矩阵\n",
    "* 定义：采用矩阵来描述图中顶点之间的关系(及弧或边的权)\n",
    "* A[i][j] = 1 (若Vi和Vj之间有弧或边的存在) / 0 没有存在这些\n",
    "* 特点\n",
    "    * 主对角线为自己到自己，为0\n",
    "    * 无向图\n",
    "        * 邻接矩阵是对称的，第 i 行或 第 i 列的和就是顶点的度\n",
    "    * 第 i 行的**和**为 i 的出度，即i到各个j点\n",
    "    * 列 i 列的**和**为 i 的入度\n",
    "    * 第 i 行和第 i 列的和为 i 的度\n",
    "* 优点：\n",
    "    * 快速判断两个顶点之间是否存在边\n",
    "    * 对于有向图，可以快速添加或删除边\n",
    "* 缺点\n",
    "    * 如顶点之间的边比较少，比较浪费空间 （N * N矩阵）"
   ]
  },
  {
   "cell_type": "code",
   "execution_count": null,
   "metadata": {},
   "outputs": [],
   "source": [
    "# 邻接矩阵 - e.g 有向图\n",
    "# 通过一个二维数组，对应图中的每个节点，使用０，１来表示相关节点是否为当前节点的邻居\n",
    "# 可以使用嵌套list实现\n",
    "a, b, c, d, e, f, g, h = range(8)\n",
    "\n",
    "N = [[0, 1, 1, 1, 1, 1, 0, 0],\n",
    "     [0, 0, 1, 0, 1, 0, 0, 0],\n",
    "     [0, 0, 0, 1, 0, 0, 0, 0],\n",
    "     [0, 0, 0, 0, 1, 0, 0, 0],\n",
    "     [0, 0, 0, 0, 0, 1, 0, 0],\n",
    "     [0, 0, 1, 0, 0, 0, 1, 1],\n",
    "     [0, 0, 0, 0, 0, 1, 0, 1],\n",
    "     [0, 0, 0, 0, 0, 1, 1, 0]]\n",
    "\n",
    "# 检查a, b是否为相邻节点,即检查N[a][b]是否为１\n",
    "N[a][b] == 1\n",
    "\n",
    "# c节点的度\n",
    "sum(N[c])"
   ]
  },
  {
   "cell_type": "markdown",
   "metadata": {},
   "source": [
    "## BFS\n",
    "### 定义\n",
    "* 宽度优先遍历，一层一层遍历"
   ]
  },
  {
   "cell_type": "markdown",
   "metadata": {},
   "source": [
    "### 模板\n",
    "#### 遍历\n",
    "* 假设：无向图，只有一个起始点，0-index\n",
    "* 复杂度\n",
    "    * 时间复杂度: \n",
    "        * 邻接表 O(V + E)\n",
    "        * 邻接矩阵 O(V ** 2)\n",
    "    * 空间复杂度: worst O(V) V 是节点个数 （不考虑graph的空间）"
   ]
  },
  {
   "cell_type": "code",
   "execution_count": 30,
   "metadata": {},
   "outputs": [
    {
     "name": "stdout",
     "output_type": "stream",
     "text": [
      "0\n",
      "1\n",
      "2\n",
      "3\n",
      "4\n"
     ]
    }
   ],
   "source": [
    "'''\n",
    "input: \n",
    "    nums, the number of nodes\n",
    "    pairs, list[list], [[1, 2], [2, 3],...]: 1-2-3\n",
    "output:\n",
    "    True, if having cycle\n",
    "coner case:\n",
    "    nums is None, return False\n",
    "    pairs is None or pairs == [[]], return False\n",
    "'''\n",
    "from collections import deque\n",
    "class Graph:\n",
    "    def bfs(self, nums, pairs):\n",
    "        if not nums:\n",
    "            return\n",
    "        if not pairs or pairs == [[]]:\n",
    "            return \n",
    "        \n",
    "        visited = [0] * nums\n",
    "        graph = [[] for _ in range(nums)]\n",
    "        \n",
    "        for i, j in pairs:\n",
    "            graph[i].append(j)\n",
    "            graph[j].append(i)\n",
    "        \n",
    "        queue = deque([0])\n",
    "        visited[0] = 1\n",
    "        \n",
    "        while queue:\n",
    "            node = queue.popleft()\n",
    "            print(node)\n",
    "            for outNode in graph[node]:\n",
    "                if visited[outNode] == 0:\n",
    "                    queue.append(outNode)\n",
    "                    visited[outNode] = 1\n",
    "        return \n",
    "\n",
    "X = Graph()\n",
    "X.bfs(5, [[0,1], [0,2], [0,3], [1,4]])"
   ]
  },
  {
   "cell_type": "markdown",
   "metadata": {},
   "source": [
    "#### 无法shi判断有向图闭合回路\n",
    "* 假设：有多个起始点，判断是否有闭合回路\n",
    "* 核心: 判断将要访问的点是否在本次循环中被访问过\n",
    "* 方法：用不同颜色标记每次循环 -> **无法解决 1->2->4, 1->3->4的情况**\n",
    "* **无法实现**"
   ]
  },
  {
   "cell_type": "markdown",
   "metadata": {},
   "source": [
    "#### 判断无向图环\n",
    "* 假设：存在多个起始点，0-indx，判断是否存在环\n",
    "* 核心：每个节点i访问的子节点中的访问过的节点只有可能是i节点的上级parent节点，否则有环\n",
    "* 方法：在dfs(index)中添加parent标志物参数，其是parent的节点的序号"
   ]
  },
  {
   "cell_type": "code",
   "execution_count": 33,
   "metadata": {},
   "outputs": [
    {
     "name": "stdout",
     "output_type": "stream",
     "text": [
      "False\n"
     ]
    }
   ],
   "source": [
    "'''\n",
    "input: \n",
    "    nums, the number of nodes\n",
    "    pairs, list[list], [[1, 2], [2, 3],...]: 1-2-3\n",
    "output:\n",
    "    True, if having cycle\n",
    "coner case:\n",
    "    nums is None, return False\n",
    "    pairs is None or pairs == [[]], return False\n",
    "'''\n",
    "from collections import deque\n",
    "class Graph:\n",
    "    def checkCycle(self, nums, pairs):\n",
    "        if not nums:\n",
    "            return\n",
    "        if not pairs or pairs == [[]]:\n",
    "            return \n",
    "        \n",
    "        visited = [0] * nums\n",
    "        graph = [[] for _ in range(nums)]\n",
    "        \n",
    "        for i, j in pairs:\n",
    "            graph[i].append(j)\n",
    "            graph[j].append(i)\n",
    "        \n",
    "        for i in range(nums):\n",
    "            if visited[i] == 0:\n",
    "                queue = deque([(i, -1)])\n",
    "                visited[i] = 1\n",
    "                while queue:\n",
    "                    node, parent = queue.popleft()\n",
    "                    for outNode in graph[node]:\n",
    "                        if visited[outNode] == 0:\n",
    "                            queue.append([outNode, node])\n",
    "                            visited[outNode] = 1\n",
    "                        else:\n",
    "                            if outNode != parent:\n",
    "                                return True                   \n",
    "        return False\n",
    "\n",
    "X = Graph()\n",
    "print(X.checkCycle(5, [[0,1], [0,2], [0,3], [1,4]]))"
   ]
  },
  {
   "cell_type": "markdown",
   "metadata": {},
   "source": [
    "## DFS\n",
    "### 定义\n",
    "* 深度优先搜索\n",
    "* 应用对象：无向图/有向图"
   ]
  },
  {
   "cell_type": "markdown",
   "metadata": {},
   "source": [
    "### 模板"
   ]
  },
  {
   "cell_type": "markdown",
   "metadata": {},
   "source": [
    "#### 遍历\n",
    "* 假设：只有一个起始点的无向图\n",
    "* 核心：只访问未访问过的点\n",
    "* 复杂度\n",
    "    * 时间复杂度: \n",
    "        * 邻接表 O(V + E)\n",
    "        * 邻接矩阵 O(V ** 2)\n",
    "    * 空间复杂度: O(V) V 是节点个数（不考虑graph的空间）"
   ]
  },
  {
   "cell_type": "code",
   "execution_count": 25,
   "metadata": {},
   "outputs": [
    {
     "name": "stdout",
     "output_type": "stream",
     "text": [
      "0 is visited\n",
      "1 is visited\n",
      "4 is visited\n",
      "2 is visited\n",
      "3 is visited\n"
     ]
    }
   ],
   "source": [
    "'''\n",
    "DFS-遍历-模板\n",
    "方法：\n",
    "    1. 输入\n",
    "        * 顶点数量 num：int\n",
    "        * 边的关系 slides：[[1, 2], [1, 3],...] \n",
    "    2 建立空邻接表和空访问表，并依据边的关系,填充空邻接表  # 0 代表未访问\n",
    "    3 从某顶点v出发，访问其及其各个未被访问的邻接点，深度优先遍历图，至图中所有的和v点有路径相通，且未被访问的顶点均被访问到。\n",
    "    4 若尚有其他的顶点尚未访问到，则另选一个顶点为起始点进行访问\n",
    "'''\n",
    "class Graph:\n",
    "    def dfsGraph(self, num, slides):\n",
    "        graph = [[] for _ in range(num)]  # 建立空邻接表 tO(N)\n",
    "        visited = [0 for _ in range(num)]  # 建立空访问表\n",
    "\n",
    "        for i, j in slides:  # 填充邻接表 tO(E)\n",
    "            graph[i].append(j)\n",
    "            graph[j].append(i)\n",
    "\n",
    "        index = 0\n",
    "        \n",
    "        \n",
    "        def dfs(index):  # 从index开始访问其余节点\n",
    "            if visited[index] == 1:\n",
    "                return\n",
    "            \n",
    "            print('%s is visited' % index)\n",
    "            visited[index] = 1\n",
    "            for outNode in graph[index]:\n",
    "                dfs(outNode)\n",
    "        \n",
    "        dfs(0)\n",
    "        return\n",
    "        \n",
    "x = Graph()\n",
    "x.dfsGraph(5, [[0,1], [0,2], [0,3], [1,4]])"
   ]
  },
  {
   "cell_type": "markdown",
   "metadata": {},
   "source": [
    "#### 判断有向图闭合回路\n",
    "* 假设：存在多个起点，0-index，判断是否存在闭合回路\n",
    "* 核心：在一轮DFS中，若某节点访问到一个已经被本轮dfs访问过的节点，那么就是存在闭合回路\n",
    "* 方法：visited的标识改为 -1-未访问，0-正在访问，1-已经访问"
   ]
  },
  {
   "cell_type": "code",
   "execution_count": 26,
   "metadata": {},
   "outputs": [
    {
     "name": "stdout",
     "output_type": "stream",
     "text": [
      "False\n"
     ]
    }
   ],
   "source": [
    "'''\n",
    "input: \n",
    "    nums, the number of nodes\n",
    "    pairs, list[list], [[1, 2], [2, 3],...]: 1->2->3\n",
    "output:\n",
    "    True, if having cycle\n",
    "coner case:\n",
    "    nums is None, return False\n",
    "    pairs is None or pairs == [[]], return False\n",
    "'''\n",
    "class Graph:\n",
    "    def checkCycle(self, nums, pairs):  # if having cycle, return True\n",
    "        if not nums:  # corner case\n",
    "            return False\n",
    "        if not pairs or pairs == [[]]:\n",
    "            return False\n",
    "        \n",
    "        visited = [-1] * nums\n",
    "        graph = [[] for _ in range(nums)]\n",
    "        \n",
    "        for i, j in pairs:\n",
    "            graph[i].append(j)\n",
    "        \n",
    "        def dfs(index):\n",
    "            if visited[index] == 0:\n",
    "                return True\n",
    "            if visited[index] == 1:\n",
    "                return False\n",
    "            \n",
    "            visited[index] = 0\n",
    "            for outNode in graph[index]:\n",
    "                if dfs(outNode):\n",
    "                    return True\n",
    "            visited[index] = 1\n",
    "            return False\n",
    "            \n",
    "        \n",
    "        for i in range(nums):\n",
    "            if dfs(i):\n",
    "                return True\n",
    "        \n",
    "        return False\n",
    "\n",
    "X = Graph()\n",
    "print(X.checkCycle(5, [[0,1], [0,2], [0,3], [1,4]]))"
   ]
  },
  {
   "cell_type": "markdown",
   "metadata": {},
   "source": [
    "#### 判断无向图环\n",
    "* 假设：存在多个起始点，0-indx，判断是否存在环\n",
    "* 核心：每个节点i访问的子节点中的访问过的节点只有可能是i节点的上级parent节点，否则有环\n",
    "* 方法：在dfs(index)中添加parent标志物参数，其是parent的节点的序号"
   ]
  },
  {
   "cell_type": "code",
   "execution_count": 27,
   "metadata": {},
   "outputs": [
    {
     "name": "stdout",
     "output_type": "stream",
     "text": [
      "True\n"
     ]
    }
   ],
   "source": [
    "'''\n",
    "input: \n",
    "    nums, the number of nodes\n",
    "    pairs, list[list], [[1, 2], [2, 3],...]: 1-2-3\n",
    "output:\n",
    "    True, if having cycle\n",
    "coner case:\n",
    "    nums is None, return False\n",
    "    pairs is None or pairs == [[]], return False\n",
    "易错点：\n",
    "    dfs的visited全部在for循环里\n",
    "'''\n",
    "class Graph:\n",
    "    def checkCycle(self, nums, pairs):  # if having cycle, return True\n",
    "        if not nums:  # corner case\n",
    "            return False\n",
    "        if not pairs or pairs == [[]]:\n",
    "            return False\n",
    "        \n",
    "        visited = [0] * nums\n",
    "        graph = [[] for _ in range(nums)]\n",
    "        \n",
    "        for i, j in pairs:\n",
    "            graph[i].append(j)\n",
    "            graph[j].append(i)\n",
    "        \n",
    "        def dfs(index, parent):  # if having cycle, return True          \n",
    "            visited[index] = 1\n",
    "            \n",
    "            for outNode in graph[index]:\n",
    "                if visited[outNode] == 1:\n",
    "                    if outNode != parent:\n",
    "                        return True\n",
    "                else:\n",
    "                    if dfs(outNode, index):\n",
    "                        return True\n",
    "            return False\n",
    "            \n",
    "        for i in range(nums):\n",
    "            if visited[i] == 0:\n",
    "                if dfs(i, -1):\n",
    "                    return True\n",
    "        return False\n",
    "    \n",
    "X = Graph()\n",
    "print(X.checkCycle(4, [[0,1], [0,2], [1,3], [1,2]]))"
   ]
  },
  {
   "cell_type": "markdown",
   "metadata": {},
   "source": [
    "## 拓扑排序"
   ]
  },
  {
   "cell_type": "markdown",
   "metadata": {},
   "source": [
    "### 定义\n",
    "* Topological Sorted Order\n",
    "* 与图的关系\n",
    "    * 元素个数 num -> 顶点数量\n",
    "    * 依赖关系 prerequisities -> 边的集合\n",
    "    * 出度表 outdegree -> 邻接表 "
   ]
  },
  {
   "cell_type": "markdown",
   "metadata": {},
   "source": [
    "### 类型\n",
    "* case1:从入度为0点开始遍历 \n",
    "    * 实现对象\n",
    "        * 指向闭合回路的非闭合回路连接部分\n",
    "        * 非闭合回路\n",
    "    * 遍历结果：只要有环，所有点的indegree就不全都是0\n",
    "* case2:从出度为0点开始遍历\n",
    "    * 实现对象\n",
    "        * 从非闭合回路中引出的非闭合回路部分\n",
    "        * 指向闭合回路的非闭合回路连接部分\n",
    "        * 非闭合回路\n",
    "    * 故只要有环，outdegree就不全是0"
   ]
  },
  {
   "cell_type": "markdown",
   "metadata": {},
   "source": [
    "### 判断有向图闭合回路-模板\n",
    "* 假设：存在多个起点，0-index，判断是否存在闭合回路\n",
    "* 步骤\n",
    "    1. 输入\n",
    "        * 元素个数 num：int\n",
    "        * 依赖关系 prerequisities：[[元素1，元素2]....], 1依赖2，2->1,2必须先完成\n",
    "    * 构建空入度和空出度表\n",
    "        * 在元素值不从0开始时：dict构建indegree/outdegree\n",
    "            * 注意：indegree每个元素val都要填充0\n",
    "    * 用依赖关系去填充入度和出度表  # 注意：依赖关系的依赖次序\n",
    "        * case 1\n",
    "            * 入度表 [int]\n",
    "            * 出度表 [[1,2,3],...] \n",
    "        * case 2 \n",
    "            * 入度表 [[1,2,3],...] \n",
    "            * 出度表 [int] \n",
    "    * 建立空queue\n",
    "    * 依照入度表/出度表，把所有入度/出度为0的点的序号加入queue\n",
    "        * **升级版** queue.append([index, XXX])\n",
    "    * 遍历queue的元素\n",
    "        * 遍历次序：\n",
    "            * 一层一层遍历，只遍历indegree = 0的节点\n",
    "            * for遍历下层节点时，先去掉其重复edge,等到其indegree=0时，再加入queue\n",
    "        * popleft每个元素 node_ind\n",
    "            * **升级版**：for循环，遍历本层\n",
    "        * 遍历node_ind 所有出度点\n",
    "            * 出度点的入度 - 1 / 入度点的出度 - 1\n",
    "            * 若出度点的入度为0，queue append该出度点 / 若入度点的出度为0，queue append该入度点\n",
    "    * 输出：\n",
    "        * case 1：\n",
    "            * 入度表全为0，则图无环\n",
    "            * 入度表不全为0\n",
    "                * 入度为0的点：可以从入度为0的点开始，顺序完成的点\n",
    "                * 入度不为0的点：无法独立完成\n",
    "        * case 2：\n",
    "            * 出度表全为0，则图无环\n",
    "            * 出度表不全为0\n",
    "                * 出度为0的点：可以从出度为0的点开始，顺序完成的点\n",
    "                * 出度不为0的点：无法从出度为0的点开始完成的点"
   ]
  },
  {
   "cell_type": "code",
   "execution_count": 35,
   "metadata": {},
   "outputs": [
    {
     "data": {
      "text/plain": [
       "True"
      ]
     },
     "execution_count": 35,
     "metadata": {},
     "output_type": "execute_result"
    }
   ],
   "source": [
    "'''\n",
    "拓扑排序\n",
    "\n",
    "input: \n",
    "    nums, the number of nodes\n",
    "    pairs, list[list], [[1, 2], [2, 3],...]: 1->2->3\n",
    "output:\n",
    "    True, if having cycle\n",
    "coner case:\n",
    "    nums is None, return False\n",
    "    pairs is None or pairs == [[]], return False\n",
    "'''\n",
    "from collections import deque\n",
    "class Graph:\n",
    "    def topoSort(self, nums, pairs):  # return True if having cycle\n",
    "        if not nums:  # corner case\n",
    "            return False\n",
    "        if not pairs or pairs == [[]]:\n",
    "            return False\n",
    "        \n",
    "        inDegree = [0] * nums\n",
    "        outDegree = [[] for _ in range(nums)]\n",
    "        \n",
    "        for i, j in pairs:\n",
    "            inDegree[j] += 1\n",
    "            outDegree[i].append(j)\n",
    "        \n",
    "        queue = deque()\n",
    "        for index, value in enumerate(inDegree):\n",
    "            if value == 0:\n",
    "                queue.append(index)\n",
    "        \n",
    "        while queue:\n",
    "            node = queue.popleft()\n",
    "            for outNode in outDegree[node]:\n",
    "                inDegree[outNode] -= 1\n",
    "                if inDegree[outNode] == 0:\n",
    "                    queue.append(outNode)\n",
    "        \n",
    "        if sum(inDegree) == 0:\n",
    "            return False\n",
    "        else:\n",
    "            return True\n",
    "        \n",
    "    \n",
    "x = Graph()\n",
    "x.topoSort(2, [[1,0],[0,1]])"
   ]
  },
  {
   "cell_type": "markdown",
   "metadata": {},
   "source": [
    "## 并查集"
   ]
  },
  {
   "cell_type": "markdown",
   "metadata": {},
   "source": [
    "### 定义\n",
    "* 并查集是树形的数据结构，保持着用于处理一些不相交集合Disjoint Sets的合并及查询问题。\n",
    "    * Find:确定元素属于哪一个子集。它可以被用来确定两个元素是否属于同一个子集\n",
    "    * Union:将两个子集合并成同一个集合\n",
    "* 有两种Union Find set优化方法\n",
    "    * Path Compression  - 速度较慢\n",
    "    * Union by rank - 本块的方法"
   ]
  },
  {
   "cell_type": "markdown",
   "metadata": {},
   "source": [
    "### 复杂度\n",
    "* 时间复杂度\n",
    "    * O(m), m is the number of pairs (union operation)\n",
    "        * because we use the path compression method, single union operation is O(log(m))=  O(a(m)) with ranking it.where a is the inverse Ackerman function, which grows very slowly.So O(a(m)) = O(1).\n",
    "* 空间复杂度\n",
    "    * O(n), n is number of nodes"
   ]
  },
  {
   "cell_type": "markdown",
   "metadata": {},
   "source": [
    "### 模板\n",
    "#### 判断无向图环\n",
    "* 假设：存在多个起始点，0-indx，判断是否存在环\n",
    "* 核心：若pair[i, j]中，i的根和j的根相同，说明i,j已经连接过了，说明新pair构成这两个点的第三条边，则构成了环\n",
    "* 方法："
   ]
  },
  {
   "cell_type": "code",
   "execution_count": 39,
   "metadata": {},
   "outputs": [
    {
     "name": "stdout",
     "output_type": "stream",
     "text": [
      "True\n"
     ]
    }
   ],
   "source": [
    "'''\n",
    "input: \n",
    "    nums, the number of nodes\n",
    "    pairs, list[list], [[1, 2], [2, 3],...]: 1-2-3\n",
    "output:\n",
    "    True, if having cycle\n",
    "coner case:\n",
    "    nums is None, return False\n",
    "    pairs is None or pairs == [[]], return False\n",
    "'''\n",
    "class Graph:\n",
    "    def checkCycle(self, nums, pairs):  # if having cycle, return True\n",
    "        if not nums:  # corner case\n",
    "            return False\n",
    "        if not pairs or pairs == [[]]:\n",
    "            return False\n",
    "        \n",
    "        groupTag = [i for i in range(nums)]\n",
    "        rank = [1] * nums\n",
    "        \n",
    "        def find(i):  # find the root index of i\n",
    "            if i != groupTag[i]:\n",
    "                return find(groupTag[i])\n",
    "            else:\n",
    "                return i\n",
    "        \n",
    "        def union(i, j):  # union i, j in groupTag\n",
    "            root1 = find(i)\n",
    "            root2 = find(j)\n",
    "            \n",
    "            if root1 != root2:\n",
    "                if rank[root1] >= rank[root2]:\n",
    "                    rank[root1] += rank[root2]\n",
    "                    groupTag[root2] = groupTag[root1]\n",
    "                else:\n",
    "                    rank[root2] += rank[root1]\n",
    "                    groupTag[root1] = groupTag[root2]\n",
    "            else:\n",
    "                return True\n",
    "        \n",
    "        for i, j in pairs:\n",
    "            if union(i, j):\n",
    "                return True\n",
    "        return False\n",
    "\n",
    "    \n",
    "X = Graph()\n",
    "print(X.checkCycle(6, [[0,1], [1,2], [3,4], [5,3], [0,2]]))"
   ]
  },
  {
   "cell_type": "markdown",
   "metadata": {},
   "source": [
    "#### 求无向图独立部分个数\n",
    "* 核心：记录groupTag[root2/1] = root1/2次数i，即减少i个single component, 故现独立的部分是 n - i 个\n",
    "* 案例：岛屿问题（如果节点不与其他节点联通，则会孤立成一个岛屿）"
   ]
  },
  {
   "cell_type": "code",
   "execution_count": 45,
   "metadata": {},
   "outputs": [
    {
     "name": "stdout",
     "output_type": "stream",
     "text": [
      "2\n"
     ]
    }
   ],
   "source": [
    "'''\n",
    "input: \n",
    "    nums, the number of nodes\n",
    "    pairs, list[list], [[1, 2], [2, 3],...]: 1-2-3\n",
    "output:\n",
    "    True, if having cycle\n",
    "coner case:\n",
    "    nums is None, return False\n",
    "    pairs is None or pairs == [[]], return False\n",
    "'''\n",
    "class Graph:\n",
    "    def checkCycle(self, nums, pairs):  # if having cycle, return True\n",
    "        if not nums:  # corner case\n",
    "            return False\n",
    "        if not pairs or pairs == [[]]:\n",
    "            return False\n",
    "        \n",
    "        groupTag = [i for i in range(nums)]\n",
    "        rank = [1] * nums\n",
    "        \n",
    "        def find(i):  # find the root index of i\n",
    "            if i != groupTag[i]:\n",
    "                return find(groupTag[i])\n",
    "            else:\n",
    "                return i\n",
    "        \n",
    "        def union(i, j):  # union i, j in groupTag\n",
    "            root1 = find(i)\n",
    "            root2 = find(j)\n",
    "            \n",
    "            nonlocal times\n",
    "            if root1 != root2:\n",
    "                times += 1\n",
    "                if rank[root1] >= rank[root2]:\n",
    "                    rank[root1] += rank[root2]\n",
    "                    groupTag[root2] = groupTag[root1]\n",
    "                else:\n",
    "                    rank[root2] += rank[root1]\n",
    "                    groupTag[root1] = groupTag[root2]\n",
    "                \n",
    "        times = 0\n",
    "        for i, j in pairs:\n",
    "            union(i, j)\n",
    "            \n",
    "        return nums - times\n",
    "\n",
    "    \n",
    "X = Graph()\n",
    "print(X.checkCycle(6, [[0,1], [1,2], [3,4], [5,3], [0,2]]))"
   ]
  },
  {
   "cell_type": "markdown",
   "metadata": {},
   "source": [
    "## 题目类型总结\n",
    "### 总体分类\n",
    "* 无环孤立 n = len(pairs) + 1  # len(pairs)即边长\n",
    "    * 先判断 n和len(pairs) + 1的关系\n",
    "    * 后判断 是否有环 或 判断 孤立个数\n",
    "    * 类型：是否不依赖其他人，且一个人可以做完的课程\n",
    "* 有环孤立 n < 1 + len(pairs)\n",
    "    * 先判断 n和len(pairs) + 1的关系\n",
    "    * 后判断 是否孤立\n",
    "    * 类型：课程能够完成\n",
    "* 无环多个 n > len(pairs) + 1\n",
    "    * 先判断 n和len(pairs) + 1的关系\n",
    "    * 后判断 是否有环\n",
    "    * 类型：同时进行的项目数\n",
    "* 有环多个 n > = < len(pairs) + 1\n",
    "    * 判断 是否有环 + 是否孤立"
   ]
  },
  {
   "cell_type": "markdown",
   "metadata": {},
   "source": [
    "### 建图/dfs/bfs技巧\n",
    "* 建图\n",
    "    * 0-index用list\n",
    "    * 复杂的用 defaultdict(set)\n",
    "    * weighted graph用 defaultdict(dict)\n",
    "        * graph[i][j] = val\n",
    "* 建visited\n",
    "    * 只是判断有无出现，用set()。访问过一次，就add(i)\n",
    "* 标记visited\n",
    "    * BFS中，push进queue中后，立马标记\n",
    "    * DFS中，在Processing过程中标记"
   ]
  },
  {
   "cell_type": "markdown",
   "metadata": {},
   "source": [
    "## 有向图"
   ]
  },
  {
   "cell_type": "markdown",
   "metadata": {},
   "source": [
    "### 方法\n",
    "* 判断是否是闭合回路\n",
    "\n",
    "    * dfs: -1, 0, 1法\n",
    "    * topo sort: indegree == [0] * n\n",
    "* 独立部分个数\n",
    "    * 情况1：判定是否有且仅有一个独立，指定有且仅有一个起始点，并给与此点\n",
    "        * visited能否都为1\n",
    "    * 情况2：不考虑有向次序，数独立的个数\n",
    "        * dfs和bfs都无法处理1->3->5,2->3->4的情况，故把有向图当作**无向图**来计算独立个数\n",
    "* 路径层数\n",
    "    * 前提条件：只有一个独立部分，且只有一个入口 there is a way to run each program exactly once \n",
    "    * dfs：未验证 -》去做\n",
    "    * bfs\n",
    "        * 即tree bfs记录层数的方法\n",
    "    * topo sort: \n",
    "        * 即tree bfs记录层数的方法\n",
    "        * 方法1：记录运行for的次数，for循环本层所有的node，\n",
    "        * 方法2：queue.append([x,level + 1]),\n",
    "* 路径和\n",
    "* 最短路径\n",
    "    * BFS"
   ]
  },
  {
   "cell_type": "markdown",
   "metadata": {},
   "source": [
    "### 题目总结\n",
    "* 是否能够独立完成,是否有环\n",
    "    * 方法1：topological sort，indegree是否全为0\n",
    "    * 方法2：对每个节点dfs，看是否可以碰到环\n",
    "    * 方法3：bfs，看while中是否出现visited[i] = 1,-> 无法处理 1-> 3, 1->2->3的情况。无法实现\n",
    "    * 课程是否可以完成\n",
    "        * 207. Course Schedule.py\n",
    "* （独立完成）的值和顺序 -> level order 遍历值 \n",
    "    * 方法1：topo sort save popleft的值\n",
    "    * 方法2：DFS的后续遍历，再反向输出结果\n",
    "    * 课程完成的顺序\n",
    "        * 210. Course Schedule II.py\n",
    "* （独立完成）的层数 -> tree的层数 DAG\n",
    "    * 方法1：topo + 累加level + for 每层\n",
    "    * 方法2：topo + queue[index, level]\n",
    "    * 工期完成的时间（可以同时做多个工作） \n",
    "        * 程序的依赖关系.py\n",
    "* （独立完成的）的最大宽度 DAG\n",
    "    * 方法1：topo + 保存 len(queue) + for 每层\n",
    "    * 同时进行最大的工作数量\n",
    "* （独立完成的）的每个path的值 -> 路径path和 DAG\n",
    "    * 方法1：从入度为0的开始dfs + queue[index, [path]]\n",
    "    * 每个工作的线程的工作内容\n",
    "    * sequence的重新构建原list \n",
    "        * 444. Sequence Reconstruction.py\n",
    "* 断点开始完成的path -> 路径path和（以outdegree为输出的）\n",
    "    * 方法：outdegree = [int] + bfs + 保存index\n",
    "    * 安全terminal的工作内容 \n",
    "        * 802. Find Eventual Safe States.py\n",
    "\n",
    "#### 有向图\n",
    "* 路径和 1376. Time Needed to Inform All Employees.py\n",
    "    * BFS + 建图\n",
    "    \n",
    "#### 拓扑排序（依赖关系）\n",
    "* 课程是否有环 207. Course Schedule.py\n",
    "    * topo法，看indegree是否全为0，都被访问到了\n",
    "    * DFS法，-1，0，1看是否循环内是否有0\n",
    "* ！完成课程的先后顺序 210. Course Schedule II.py\n",
    "    * 1->3, 2->3,意味着3之前要完成1和2\n",
    "    * topo法，按照层序保存index输出\n",
    "    * DFS法判断是否有环 + postorder遍历，先输出根部保存到res，再reverse res\n",
    "* ！判断sequence 能否重构原list 444. Sequence Reconstruction.py\n",
    "    * 保存所有从头到尾的path，看org在不在里面\n",
    "    * topo法，queue.append([index, [node]])\n",
    "    * dfs法，遍历整个路径-》 没做\n",
    "* ！是否有断点开始的安全结尾 802. Find Eventual Safe States.py\n",
    "    * 从断点开始，寻找可以到达尾部节点（outdegree = 0）的节点，保存，sort输出\n",
    "    * topo法，采用反向出入度标记法，从出度为0的点开始遍历，遍历到的点即为结果\n",
    "    * dfs法，扫描所有的点，若该点不在环内，则save in res\n",
    "* ！程序需要多久做完 《程序的依赖关系.py》\n",
    "    * topo数层数"
   ]
  },
  {
   "cell_type": "markdown",
   "metadata": {},
   "source": [
    "## 无向图题目类型"
   ]
  },
  {
   "cell_type": "markdown",
   "metadata": {},
   "source": [
    "### 方法\n",
    "* 是否有环\n",
    "    * DFS\n",
    "        * Parent法 dfs(index, visited, graph, parent)\n",
    "        * for traversal unvisited, dfs() no head ending condition\n",
    "    * BFS\n",
    "        * Parent法 queue = deque([(pair中的点，-1)])\n",
    "        * 避免第一个index点为孤立点\n",
    "    * Union find\n",
    "        * 若有环，root1 == root2成立\n",
    "* 孤立个数\n",
    "    * Union find\n",
    "        * 若仅有一个孤立，则 res = (n - 1) - 连接新点的次数 = 0\n",
    "        * 若多个孤立，则 res = (n - 1) - 连接新点的次数\n",
    "* 路径层数\n",
    "* 路径和\n",
    "* 克隆图\n",
    "    * 用dict保存映射关系\n",
    "    * 先判断在不在dic里，后创立新值，并dict连接新旧；最后新值通过dic的映射连接其邻居\n",
    "\n",
    "* 分类情况\n",
    "    * case 1：无环孤立: len(pair) = n - 1\n",
    "    * case 2：有环孤立: len(pair) > n - 1\n",
    "    * case 3: 无环多个：len(pair) < n - 1\n",
    "    * case 4：有环多个：都有可能\n",
    "* 是否有环\n",
    "    * DFS - parent法\n",
    "    * Union-find set\n",
    "        * 条件：pari从无重复\n",
    "        * 操作: 每个pair都应该是拓展新节点，故若出现root1=root2,则出现了环\n",
    "* 求一个点到其他点的path长度（level数）\n",
    "    * 注意：path长度 = 点的数量/level - 1\n",
    "    * BFS\n",
    "        * 类似tree，queue.append([index, level])，在visit[i] = 1时，path add to res\n",
    "            * 求最长长度时，方案1. max(path) 方案2. 直接最后输出level - 1即可\n",
    "    * DFS\n",
    "        * 类似tree，process中，visit[i] = 1, path add to res\n",
    "* 求几个孤立\n",
    "    * DFS\n",
    "        * 条件：pair从0到大，无重复\n",
    "        * 操作：scan every unvisited node, 访问了几次，就有几个环\n",
    "    * Union-find set\n",
    "        * 条件：pair无重复\n",
    "        * 操作：n个数，联通了m次（root1!=root2），有n-m个孤立部分"
   ]
  },
  {
   "cell_type": "markdown",
   "metadata": {},
   "source": [
    "### 题目总结"
   ]
  },
  {
   "cell_type": "markdown",
   "metadata": {},
   "source": [
    "#### 图的基本\n",
    "* 克隆图 133. Clone Graph.py\n",
    "    * 先判断/创立点，再建立dic映射，再在新的graph上连接点\n",
    "    * BFS + dict # tO(N) sO(N)\n",
    "    * DFS + dict # tO(N) sO(N)"
   ]
  },
  {
   "cell_type": "markdown",
   "metadata": {},
   "source": [
    "#### 无向图\n",
    "* 求无向图中的点的最长路径的最小值 《无向图的最长距离.py》\n",
    "    * 求每个点的所有路径path， 求path的最长值，再遍历到所有点上\n",
    "    * BFS/DFS\n",
    "* 判断图是否是有效树 261. Graph Valid Tree.py\n",
    "    * 判断**无环孤立**\n",
    "    * corner case edge = vertex -1 排除掉**无环多个和有环孤立**\n",
    "    * 然后判断是 无环孤立 和 有环多个，故接下来判断**有环无环 或者 孤立还是多个**都行\n",
    "        * 判断 是否有环\n",
    "            * DFS  # tO(V + E) sO(V)\n",
    "                * 先寻找第一个可以dfs的节点(for n)，针对每个节点dfs(i,parent), 若本节点的子节点已经访问过，且该子节点与本节点的parent不相同，则出现了环\n",
    "            * BFS  # tO(V + E) sO(V)\n",
    "                * queue = deque([(pairs[0][0], -1)])，加入parent判断\n",
    "                * 注意第一个加进去的index不一定可以为0，因为若0为孤立点，则整体return True。故第一个加进去的index要是pair里的结点\n",
    "            * Union find  # tO（V + E) sO(V)\n",
    "                * 看是否每个pair都是用来拓展新的root，即无root1 == root2情况，若有，则存在环\n",
    "        * 判断 判断是否孤立\n",
    "            * Union find \n",
    "                * 判断连接新点的次数是否是 n - 1\n",
    "* 无向图的联通分量个数 323. Number of Connected Components in an Undirected Graph.py\n",
    "    * 判断**孤立数量**\n",
    "    * DFS  # tO(V + E) sO(V)\n",
    "        * dfs进行了几次，就有几个联通分量\n",
    "    * Union find # tO(V + E) sO(V)\n",
    "        * **并查集巧妙的pass了环的pair**\n",
    "        * n - （连接新点groupTag[root2] = root1)的次数\n",
    "* 朋友圈的个数 547. Friend Circles.py\n",
    "    * 判断**孤立数量**\n",
    "    * DFS # tO(N) sO(N)\n",
    "        * dfs进行了几次，就有几个联通分量\n",
    "        * 易错点：for j in range(len(M)) 索引的是第i行的第j个数，而不是M[i]里的数\n",
    "    * Union-find # tO(N) sO(N)\n",
    "        * n - （ groupTag[root2] = root1)的次数\n",
    "        * 易错点：矩阵是左下和右上的三角形，并且for i in range(i + 1)"
   ]
  },
  {
   "cell_type": "markdown",
   "metadata": {},
   "source": [
    "# 矩阵\n",
    "## 技巧点\n",
    "* 逆向思维，问a到b，可以想b到a"
   ]
  },
  {
   "cell_type": "markdown",
   "metadata": {},
   "source": [
    "## DFS"
   ]
  },
  {
   "cell_type": "markdown",
   "metadata": {},
   "source": [
    "### 模板1\n",
    "* 针对问题：matrix遍历时不需要判断DFS之前的情况\n",
    "* 从for进入dfs部分的条件：可以被访问，且未被访问过\n",
    "* visited标记：在dfs里进行标记 \n",
    "* dfs内部循环的条件\n",
    "    * 条件放在总if中\n",
    "    * 条件方法每个子dfs()前\n",
    "    * 选用方法根据条件设置\n",
    "* time complexity: O(N) where N is the number of node in the matrix. We might process every node.\n",
    "* space complexit: O(N) the implicit call stack when using dfs\n",
    "* 注意要点\n",
    "    * i是行，是i-1上面一行up,i + 1是下面一行down\n",
    "    * 可能不需要visited，比如染色问题\n",
    "    * 注意grid的row和column的数量可能是不一样"
   ]
  },
  {
   "cell_type": "code",
   "execution_count": 5,
   "metadata": {},
   "outputs": [],
   "source": [
    "class Matrix:\n",
    "    def dfs(self, grid):\n",
    "        if not grid:  # corner case\n",
    "            return None\n",
    "        if len(grid) == 1:\n",
    "            return\n",
    "        \n",
    "        m, n = len(grid), len(grid[0])\n",
    "        # build empty visited with the same size as grid\n",
    "        visited = [[0] * n for _ in range(m)]\n",
    "        \n",
    "        # scan grid and dfs the island node\n",
    "        for i in range(m):\n",
    "            for j in range(n):\n",
    "                if grid[i][j] == 1 and visited[i][j] == 0:\n",
    "                    self.dfs(i, j, visited)\n",
    "        return\n",
    "        \n",
    "    def dfs(self, i, j, visited):\n",
    "        if i < 0 or j <0 or i >= m or j >= n or visited[i][j] == 1:  # corner case\n",
    "            return\n",
    "\n",
    "        # set visited\n",
    "        visited[i][j] = 1  #  对正常点的操作\n",
    "        dfs(self, i - 1, j, visited)  # up，对后面的点进行操作\n",
    "        dfs(self, i + 1, j, visited)  # down\n",
    "        dfs(self, i, j - 1, visited)  # left\n",
    "        dfs(self, i, j + 1, visited)  # right"
   ]
  },
  {
   "cell_type": "markdown",
   "metadata": {},
   "source": [
    "### 模板2\n",
    "* 针对问题：matrix遍历时需要判断每一次DFS情况\n",
    "* 解决方案：通过比较每一次更新的值来抉择,此时把dfs当作递归来处理\n",
    "* 具体的方案\n",
    "    * 方案1：针对大规模的重复性问题，添加memo by dic。Memoization: for a problem with massive duplicate calls, cache the results\n",
    "    * 方法2: 针对重复访问问题，用visitd或seen set\n",
    "* 技巧\n",
    "    * 若原问题复杂，则回到矩阵dfs问题的基本框架 -> 用visit进行记录，再判断\n",
    "        * 比如输出是否到达，T or F -> 想到用最原始的方法，记录点的visit,然后再判断进行处理"
   ]
  },
  {
   "cell_type": "code",
   "execution_count": 4,
   "metadata": {},
   "outputs": [],
   "source": [
    "class Matrix:\n",
    "    def dfs(i, j, visited):  # let node to visit the gird\n",
    "        visited[i][j] = 1\n",
    "        for (x, y) in ((i - 1, j), (i + 1, j), (i, j - 1), (i, j + 1)):\n",
    "            if 0 <= x < m and 0 <= y < n and visited[x][y] == 0 and matrix[i][j] >= matrix[x][y]:  # 增加判断每一次dfs的情况\n",
    "                dfs(x, y, visited)\n",
    "        return"
   ]
  },
  {
   "cell_type": "markdown",
   "metadata": {},
   "source": [
    "## BFS - 题目未做完，heap和dijkstra算法\n",
    "### 模板1\n",
    "* 针对问题：矩阵类问题\n",
    "* 明确添加新node时的判断条件\n",
    "    * 未访问过\n",
    "    * 可以被访问\n",
    "* 在append之后，立马做好visited的标记，避免无限循环\n",
    "* 技巧点\n",
    "    * 需要全部遍历无visit影响的，可以提前把所有起始头放入queue中"
   ]
  },
  {
   "cell_type": "code",
   "execution_count": 2,
   "metadata": {},
   "outputs": [],
   "source": [
    "class Matrix:\n",
    "    def bfs(self, grid):\n",
    "        if grid is None:  # corner case\n",
    "            return\n",
    "        if grid == [[]]:\n",
    "            return\n",
    "        \n",
    "        r, c = len(grid), len(grid[0])\n",
    "        visited = [[0 for _ in range(c)] for _ in range(r)]\n",
    "        \n",
    "        from collections import deques\n",
    "        for i in range(len(grid)):\n",
    "            for j in range(len(grid[0])):\n",
    "                if grid[i][j] == 1 and visited[i][j] == 0:\n",
    "                    queue = deque([(i, j)])\n",
    "                    visited[i][j] = 1\n",
    "                    while queue:\n",
    "                        r, c = queue.popleft()\n",
    "                        for x, y in ((r - 1, c), (r + 1, c), (r, c - 1), (r, c + 1)):\n",
    "                            if 0 <= x <= r - 1 and 0 <= y <= c - 1 and visited[x][y] == 0:\n",
    "                                queue.append([x, y])\n",
    "                                visited[x][y] = 1\n",
    "        return"
   ]
  },
  {
   "cell_type": "markdown",
   "metadata": {},
   "source": [
    "### 模板2\n",
    "* 针对问题：迷宫类问题，求有效路径/最短路径等"
   ]
  },
  {
   "cell_type": "code",
   "execution_count": null,
   "metadata": {},
   "outputs": [],
   "source": [
    "from collections import deque\n",
    "class Maze:\n",
    "    def findWay(self, maze):\n",
    "        queue = deque()\n",
    "        queue.append(start)   # start\n",
    "        \n",
    "        while queue:\n",
    "            i, j = queue.popleft()\n",
    "            \n",
    "            maze[i][j] = -1  # 标记访问过了\n",
    "            \n",
    "            if (i, j) == destination:  # 终止条件\n",
    "                return XXX\n",
    "            \n",
    "            for x, y in ((-1, 0), (1, 0), (0, -1), (0, 1)):  # 遍历四个方向，目前的位置\n",
    "                row = i + x\n",
    "                col = y + y\n",
    "                \n",
    "                while xxx and xxx:  # move until the wall\n",
    "                    row += x\n",
    "                    col += y\n",
    "                \n",
    "                row -= x  # move back a step\n",
    "                col -= y\n",
    "            \n",
    "            if maze[row][col] is not visited and [row, col] not in queue:\n",
    "                queue.append([row,col])"
   ]
  },
  {
   "cell_type": "markdown",
   "metadata": {},
   "source": [
    "## dijkstra算法"
   ]
  },
  {
   "cell_type": "markdown",
   "metadata": {},
   "source": [
    "* 目的：在带权有向网络中，求单源最短路径\n",
    "* 条件\n",
    "    * 输入：有向图G =(V, E, W), V =(1,2,3,..n), start(s) = 1\n",
    "    * 输出：从s到每个顶点2,3,4,..的最短路径\n",
    "* 思路\n",
    "    1.已探索的路径集合 S = {1}\n",
    "    * 对于i of (V -S)，计算1到i的相对S的最短路径，长度dist[i]\n",
    "    * 选择(V - S)中的dist值的最小j，将j继续加入S，修改V-S中顶点的dist值\n",
    "    * 继续上述过程，直到S=V，即全部的V都在S中"
   ]
  },
  {
   "cell_type": "code",
   "execution_count": 7,
   "metadata": {
    "scrolled": true
   },
   "outputs": [
    {
     "ename": "SyntaxError",
     "evalue": "unexpected EOF while parsing (<ipython-input-7-d3716a3994ac>, line 19)",
     "output_type": "error",
     "traceback": [
      "\u001b[1;36m  File \u001b[1;32m\"<ipython-input-7-d3716a3994ac>\"\u001b[1;36m, line \u001b[1;32m19\u001b[0m\n\u001b[1;33m    \u001b[0m\n\u001b[1;37m    ^\u001b[0m\n\u001b[1;31mSyntaxError\u001b[0m\u001b[1;31m:\u001b[0m unexpected EOF while parsing\n"
     ]
    }
   ],
   "source": [
    "class Matrix:\n",
    "    def Dijkstra(self, n, pair, weight):\n",
    "        from collections import defaultdict\n",
    "        graph = defaultdict(dict)\n",
    "        for (x, y), val in zip(pair, weight):\n",
    "            graph[x][y] = val\n",
    "        \n",
    "        s = {}\n",
    "        s[0] = 1\n",
    "        dist = {}\n",
    "        dist[0] = 0\n",
    "        for i in graph:\n",
    "            if i not in graph[0]:\n",
    "                dist[i] = float('inf')\n",
    "            else:\n",
    "                dist[i] = graph[0][i]\n",
    "        \n",
    "        while len(graph)!= len(s):\n",
    "            "
   ]
  },
  {
   "cell_type": "markdown",
   "metadata": {},
   "source": [
    "## A* 算法"
   ]
  },
  {
   "cell_type": "markdown",
   "metadata": {},
   "source": [
    "##  题目类型\n",
    "### 网格 +  联通部分\n",
    "#### 方法\n",
    "* DFS\n",
    "* BFS"
   ]
  },
  {
   "cell_type": "markdown",
   "metadata": {},
   "source": [
    "#### 题目总结\n",
    "* 像素染成目标色 733. Flood Fill.py  # t/s O(N)\n",
    "    * DFS\n",
    "        * 访问起始点并染色，后染色其可以染色且未染色的邻居\n",
    "        * 易错点：起始点就是目标色，直接return；不需要visited\n",
    "    * BFS\n",
    "        * 用queue.append([r, c])，后染色其邻居\n",
    "        * 易错点：在append某点之后，立马染色该点\n",
    "* 岛屿的数量 200. Number of Islands.py \n",
    "    * DFS  # t/sO(M\\*N)\n",
    "        * 遍历每个unvisited且可以访问的点，并dfs访问其邻居，标记trigger dfs的数量\n",
    "        * 易错点：标志的是'1'，而不是数字1\n",
    "    * BFS  # tO(M\\*N) sO(min(M.N))) expect visited O(N)\n",
    "        * 遍历每个unvisited且可以访问的点，记录times，用bfs访问其邻居并加入queue\n",
    "        * 易错点：\n",
    "            1. 在append某点之后，立马标注该点已经访问过\n",
    "            * c + 1 <= len(gird[0]), 而不是len(grid)\n",
    "    * 二维并查集\n",
    "* 朋友圈 547. Friend Circles.py\n",
    "    * 也可以看成1维的连接，通过并查集完成\n",
    "* 矩阵 - 某点到某点的全部路径\n",
    "    * "
   ]
  },
  {
   "cell_type": "markdown",
   "metadata": {},
   "source": [
    "# 二分搜索 Binary Search"
   ]
  },
  {
   "cell_type": "markdown",
   "metadata": {},
   "source": [
    "## 定义\n",
    "* 前提条件：已经**排序**好的序列\n",
    "* 方法：首先与序列中间的元素进行比较, 如果小于这个元素, 就在当前序列的前半部分继续查找, 如果大于这个元素, 就在当前序列的后半部分继续查找,直到找到相同的元素, 或者所查找的序列范围为空为止."
   ]
  },
  {
   "cell_type": "markdown",
   "metadata": {},
   "source": [
    "## 作用\n",
    "* 面试中如果需要优化O(n)的时间复杂度，一般只能是O(logn)的二分法"
   ]
  },
  {
   "cell_type": "markdown",
   "metadata": {},
   "source": [
    "## 一维模板"
   ]
  },
  {
   "cell_type": "code",
   "execution_count": 2,
   "metadata": {},
   "outputs": [],
   "source": [
    "# 模板1\n",
    "# 有一个Edge的情况就是，L最大可以等于len(array)，R最小可能为-1\n",
    "def binarySearch(arr, target):    \n",
    "    l, r = 0, len(arr) - 1\n",
    "    while l <= r: # l和r互换位置相邻时，返回\n",
    "        mid = l + (r - l) //2  # 是L，不是1；mid对于偶数，是靠左的，即[1,2]中，mid为1\n",
    "        if target == arr[mid]:\n",
    "            return mid\n",
    "        elif target < arr[mid]:\n",
    "            r = mid - 1\n",
    "        elif target > arr[mid]:\n",
    "            l = mid + 1\n",
    "    return -1\n",
    "\n",
    "# 极个别情况下的模板\n",
    "# 针对的是第一个模板的短板：当要access数组边界的数，如果边界的数在运行中出现更改，可能越界。??\n",
    "# 虽然这种情况也可以用Edge Case来写，但太过麻烦。这点我们后面具体说来。\n",
    "def binarySearch(arr, target):\n",
    "    l, r = 0, len(arr) - 1\n",
    "    while l + 1 < r:  # r要比l大2，即中间可以隔一个数，[0,2]不返回；l和r相邻时，返回\n",
    "        mid = l + (r - l) //2\n",
    "        if target == arr[mid]:  # 不仅mid为结果值\n",
    "            l = mid\n",
    "        elif target < arr[mid]:\n",
    "            r = mid\n",
    "        elif target > arr[mid]:\n",
    "            l = mid\n",
    "    \n",
    "    if arr[l] == target:\n",
    "        return l\n",
    "    if arr[r] == target:\n",
    "        return r\n",
    "    return -1\n",
    "     "
   ]
  },
  {
   "cell_type": "markdown",
   "metadata": {},
   "source": [
    "## 二维矩阵模板"
   ]
  },
  {
   "cell_type": "code",
   "execution_count": 4,
   "metadata": {},
   "outputs": [],
   "source": [
    "# 模板1\n",
    "# 二维矩阵的数是从前往后，从上往下，且i行尾< i+1行头的\n",
    "# 当作一维array进行二分搜索\n",
    "def searchMatrix(matrix, target):\n",
    "    row = len(matrix)\n",
    "    columns = len(matrix[0])\n",
    "    \n",
    "    l, r = 0, row * column - 1\n",
    "    while l <= r:\n",
    "        mid = l + (r - l) // 2\n",
    "        midVal = matrix[mid // column][mid % column]  #行，列\n",
    "        if target == midVal:\n",
    "            return True\n",
    "        if target < midVal:\n",
    "            r = mid - 1\n",
    "        else:\n",
    "            l = mid + 1\n",
    "    return False"
   ]
  },
  {
   "cell_type": "code",
   "execution_count": null,
   "metadata": {},
   "outputs": [],
   "source": [
    "# 模板2\n",
    "# 二维矩阵的数是从前往后，从上往下，且每行都是独立增长的\n",
    "# 进行对角线搜索 diagonal search： 从左上到右下遍历i，然后对i的行和列进行二分搜索\n",
    "class Matrix\n",
    "    def searchMatrix(self, matrix, target):\n",
    "        # corner case\n",
    "\n",
    "        for i in range(min(len(matrix), len(matrix[0]))):\n",
    "            r = self.binarySearch(i, matrix, target, 1)  # 1 represent search the row\n",
    "            c = self.binarySearch(i, matrix, target, 0)\n",
    "            if r or c:\n",
    "                return True\n",
    "        return False\n",
    "    \n",
    "    def binarySearch(self, i, matrix, target, tag):  # return True if having target\n",
    "        m = len(matrix)\n",
    "        n = len(matrix[0])\n",
    "        \n",
    "        \n",
    "        l = i\n",
    "        if tag == 1:\n",
    "            r = n - 1  # 别忘记 - 1\n",
    "        else:\n",
    "            r = m - 1\n",
    "        \n",
    "        \n",
    "        while l <= r:\n",
    "            mid  = l + (r - l) // 2\n",
    "            if tag == 1:\n",
    "                midVal = matrix[i][mid]\n",
    "            else:\n",
    "                midVal = matrix[mid][i]\n",
    "            if midVal == target:\n",
    "                return True\n",
    "            elif midVal < target:\n",
    "                l = mid + 1\n",
    "            else:\n",
    "                r = mid - 1\n",
    "        return False"
   ]
  },
  {
   "cell_type": "markdown",
   "metadata": {},
   "source": [
    "## 做题步骤\n",
    "* 简化问题并判断是否可以用bs\n",
    "    * 标准：用sorted或部分sorted序列里，找到满足要求T的一个数i, i是output\n",
    "* 判断类型\n",
    "    * 给出T，或通过其他方式给出判别，找到T -> 类型1/2\n",
    "        * 找到：返回Target值的下标或者Bool函数\n",
    "        * 没找到：\n",
    "            * r,l分别是target的左右两边的数的序号\n",
    "            * l是target插入时应该的序号\n",
    "            * r是小于target的最大的那个数的序号\n",
    "    * 未给出T，找出具有特点的值 -> 类型3\n",
    "* 易错点：\n",
    "    * 当target在nums范围之外时\n",
    "        * r (target < nums[0]) 会小于0\n",
    "        * l(target>nums[-1]) 会大于len(nums) - 1\n",
    "        * 故此时索引nums[l]或nums[r]会报错,故需要提前判断处理一下\n",
    "    * 判断条件要想清楚再写"
   ]
  },
  {
   "cell_type": "markdown",
   "metadata": {},
   "source": [
    "## 题目汇总"
   ]
  },
  {
   "cell_type": "markdown",
   "metadata": {},
   "source": [
    "* Method: binary search + 本题使用的思想\n",
    "    1. corner case\n",
    "    2. binary search\n",
    "        a.step1\n",
    "        b.step2\n",
    "        c....\n",
    "* 旋转的排序数列\n",
    "    * 结构特点：两个上升序列并列\n",
    "    * 核心：在sorted的部分进行二分查找\n",
    "    * 无重复寻找T  33. Search in Rotated Sorted Array.py \n",
    "        * 左右哪一段sorted，判断target是否在该sorted段中,缩小l/r\n",
    "    * 有重复寻找T  81. Search in Rotated Sorted Array II.py \n",
    "        * 左右哪一段sorted及该段是否头尾数相同，若sorted；若头尾相同，l += 1,继续寻找sorted段\n",
    "        * time: worst O(N),出现[1,1,1...]情况 \n",
    "    * 无重复找最小值 **(类型3)**  153. Find Minimum in Rotated Sorted Array.py\n",
    "        * 按照趋势找最小值，左半段是否有序都无法缩小范围，故用右半段缩小范围，并且目标值可能就在边界上\n",
    "* 求峰值  **(类型3)**\n",
    "    * 结构特点：上升序列+下降序列\n",
    "    * 核心：答案在nums[i]>nums[i+1]处\n",
    "    * 单峰值找峰值  852. Peak Index in a Mountain Array.py\n",
    "        * 判断nums[i]>nums[i+1]，移动l/r, 返回nums[l],nums[r]最大的序号\n",
    "    * 多峰值找峰值  162. Find Peak Element.py\n",
    "        * 与上题完全相同\n",
    "* 二维矩阵\n",
    "    * 单调递增矩阵找T  74. Search a 2D Matrix.py\n",
    "        * 二维矩阵模板1，当作行来处理\n",
    "    * 每行递增，每列递增矩阵找T  240. Search a 2D Matrix II.py\n",
    "        * 二维矩阵模板2，对角线遍历，二分搜索\n",
    "        * space search reduction tO(m + n)\n",
    "* 平方与根\n",
    "    * 判断T是否是完美平方数  367. Valid Perfect Square.py\n",
    "        * r从half + 1开始\n",
    "    * 求数T的平方根，若不为整数，取整数部分  69. Sqrt(x).py\n",
    "        * 法1：r从half + 1开始，若根不存在，返回r\n",
    "        * 法2：return int(x**(0.5)) \n",
    "* 求T的index\n",
    "    * 求不重复T的index\n",
    "        * 求T的index，若不存在，返回该插入的index  35. Search Insert Position.py\n",
    "            * 存在返回mid，不存在返回l\n",
    "        * 求一个无限大的arr中，求T的index，若不存在返回-1  447 Search in a Big Sorted Array （LintCode）.py\n",
    "            * 先倍增到比T大的数x，再在[0,x-1]中找T\n",
    "    * 求重复T的index\n",
    "        * 求重复数的尾index，若无返回-1  458. Last Position of Target (Lintcode).py\n",
    "            * 返回r, 后if nums[r] = T,则返回r,否则返回-1\n",
    "        * 求重复数的首尾index，若无返回-1  34. Find First and Last Position of Element in Sorted Array.py\n",
    "            * 方法1：判断T是否超范围 + 两个不同的find函数的返回r,l，判断nums[r/l] == T\n",
    "            * 方法2：两个不同的find函数的返回r,l\n",
    "                * 对head，先判断l是否超len(nums) - 1(T大于all nums的情况)，再判断nums[r/l] == T(target在nums存在)，-1(不存在，及target大于nums的情况)\n",
    "                * 对end同理\n",
    "* 求T附近值\n",
    "    * 求离T最近的值\n",
    "        * 求T，若T不存在，求最近且最小的  拉面题\n",
    "            * 判断T是否超范围 + 类型1 + 若不存在，比较r和l谁离T近\n",
    "        * 求T index，若T不存在，求最近的index\n",
    "            * 存在返回index，不存在比较r和l进行返回\n",
    "    * 求离T最近的K个值的index\n",
    "        * 改变r为len(arr) - k - 1;\n",
    "        * 把x看成mid和mid + k的中点，要使得左半边x->arr[mid]比右半边arr[mid+k]->x更小，故进行比较\n",
    "        * 若arr[mid] + arr[mid + k] < 2x 说明arr[mid]区域在x的左边，要前进左边界，故l = mi + 1\n",
    "        * 在相等时，继续缩小右边界;最后返回找到的l值，得到arr[l:l + k]\n",
    "        * Time complexity: O(log(N-K)) binary search + O(K) for res slice\n",
    "    * 求比T大的最小值,若无，则返回letter初值  744. Find Smallest Letter Greater Than Target.py\n",
    "        * 若l在范围内，返回l；否则返回letters初值  \n",
    "* 求arr中和是target的两个数的序号  167. Two Sum II - Input array is sorted.py\n",
    "    * 遍历arr中的i，在[i+1:]中对差值（T-nums[i]）进行二分搜索\n",
    "        * time：O(log(n-1) + log(n-2)+...) = log((n-1)!) < nlogn\n",
    "* 猜数是高还是低\n",
    "    * 由API[mid]的返回值决定边界的范围\n",
    "    * 易错点：API的返回的是计算机值与我值比较的大小关系\n",
    "* 求哪个开始坏了，假设一定有坏的，isBadVersion(mid)作为判断条件  278. First Bad Version.py\n",
    "    * 返回l\n",
    "* 每层递增1，求几次可以到达n  441. Arranging Coins.py\n",
    "    * 设i次后，(1+i)\\*i/2(T)到达或超过n\n",
    "    * 存在返回i，不存在返回r (若不存在，则找到答案是假设是2.5，那么r = 2,l =3,故返回2)"
   ]
  },
  {
   "cell_type": "markdown",
   "metadata": {},
   "source": [
    "# 二叉搜索树 Binary Search Tree BST "
   ]
  },
  {
   "cell_type": "markdown",
   "metadata": {},
   "source": [
    "## 定义及性质\n",
    "* 使用可比较键来指定孩子的方向。Uses comparable keys to assign which direction a child is. \n",
    "* 左子节点的键小于其父节点 Left child has a key smaller than its parent node.\n",
    "* 右子项的键大于其父节点 Right child has a key greater than its parent node.\n",
    "* 不能有重复的节点 There can be no duplicate node.\n",
    "* 任意节点的左右子树也分别为二叉搜索树"
   ]
  },
  {
   "cell_type": "markdown",
   "metadata": {},
   "source": [
    "## 作用\n",
    "* 插入、删除、查找较快的容器，平均时间复杂度为O(log n)"
   ]
  },
  {
   "cell_type": "markdown",
   "metadata": {},
   "source": [
    "## 常用操作"
   ]
  },
  {
   "cell_type": "markdown",
   "metadata": {},
   "source": [
    "### 插入\n",
    "* 当向树中插入一个新的节点时，该节点将总是作为叶子节点,最困难的地方就是如何找到该节点的父节点。\n",
    "* 核心：基于二分法，找到插入的点"
   ]
  },
  {
   "cell_type": "code",
   "execution_count": null,
   "metadata": {},
   "outputs": [],
   "source": [
    "# 插入模板\n",
    "class TreeNode:\n",
    "    def __init__(self, value):\n",
    "        self.val = value\n",
    "        self.left = None\n",
    "        self.right = None\n",
    "        \n",
    "class BST:\n",
    "    # 迭代法\n",
    "    def insertIteration(self, root, target):  # return root with inserted target\n",
    "        if not root:  # corner case\n",
    "            return TreeNode(target)\n",
    "        \n",
    "        res = root\n",
    "        while root:\n",
    "            if target < root.val:\n",
    "                if root.left is None:\n",
    "                    root.left = TreeNode(target)\n",
    "                    return res\n",
    "                else:\n",
    "                    root = root.left\n",
    "            else:\n",
    "                if root.right is None:\n",
    "                    root.right = TreeNode(target)\n",
    "                    return res\n",
    "                else:\n",
    "                    root = root.right\n",
    "    \n",
    "    # 递归法\n",
    "    def insert(self, root, target):  # return root with inserted target\n",
    "        if not root:  # corner case\n",
    "            return TreeNode(target)\n",
    "        \n",
    "        if target < root.val:\n",
    "            root.left = self.insert(root.left, target)\n",
    "        else:\n",
    "            root.right = self.insert(root.right, target)\n",
    "        return root"
   ]
  },
  {
   "cell_type": "markdown",
   "metadata": {},
   "source": [
    "### 查找\n",
    "* 通过二叉搜索树查找节点，理想情况下我们需要检查的节点数可以减半。\n",
    "* 但是二叉搜索树十分依赖于树中节点的拓扑结构，也就是节点间的布局关系。\n",
    "    * 若布局良好，则是O(log(n))\n",
    "    * 若是skewed tree，node分布在一条直线上，查找时间为 O(n) worst case"
   ]
  },
  {
   "cell_type": "code",
   "execution_count": 1,
   "metadata": {},
   "outputs": [],
   "source": [
    "# 查找模板\n",
    "class BST:\n",
    "    def find(self, root, target):  # return node with target value\n",
    "        if not root:  # corner case\n",
    "            return None\n",
    "        \n",
    "        while root:\n",
    "            if root.val == target:\n",
    "                return root\n",
    "            elif target < root.val:\n",
    "                root = root.left\n",
    "            elif root.val < target:\n",
    "                root = root.right\n",
    "        return None\n",
    "\n",
    "    def findRecursion(self, root, target):  # recursion method\n",
    "        if not root:\n",
    "            return None\n",
    "        \n",
    "        if root.val == target:\n",
    "            return root\n",
    "        if target < root.val:\n",
    "            return self.findRecursion(root.left, target)\n",
    "        else:\n",
    "            return self.findRecursion(root.right, target)"
   ]
  },
  {
   "cell_type": "markdown",
   "metadata": {},
   "source": [
    "### 删除\n",
    "* 第一步：定位要删除的节点，可以使用前面的查找算法\n",
    "* 第二步：选择合适的节点代替删除节点的位置，有三种情况需要考虑\n",
    "    * case1: 被删除节点 没有左孩子\n",
    "        * 用 右孩子 代替\n",
    "    * case2：被删除节点 没右孩子\n",
    "        * 用 左孩子 代替\n",
    "        * 原因：被删除节点的左孩子要么都大于，要么都小于被删除节点的父节点的值，故符合二叉搜索树的性质（子节点小于或大于父节点值）\n",
    "    * case3: 被删除节点 左右孩子都有\n",
    "        * 方法1：用被删除节点的前驱节点（即比被删除节点小一位的节点） 代替\n",
    "        * 方法2：用被删除节点的后继节点 代替\n",
    "* 注意：\n",
    "    * a = TreeNode(1), b = a, 此时b获得了a的地址\n",
    "        * 若a的值val/next发生了改变，b改变\n",
    "        * 若a的地址发生了改变(a = TreeNode(5)), b依旧是原来a的地址\n",
    "* 时间空间复杂度\n",
    "    * 时间复杂度\n",
    "        * O(H), H is height of tree, equal to logN in the case of the balanced tree\n",
    "    * 空间复杂度\n",
    "        * O(H), keep the recursion stack"
   ]
  },
  {
   "cell_type": "code",
   "execution_count": 4,
   "metadata": {},
   "outputs": [],
   "source": [
    "# 删除模板\n",
    "class TreeNode:\n",
    "    def __init__(self, x):\n",
    "        self.val = x\n",
    "        self.left = None\n",
    "        self.right = None\n",
    "\n",
    "class Tree:\n",
    "    def deleteNode(self, root: TreeNode, key: int) -> TreeNode:\n",
    "        if not root:  # corner case\n",
    "            return None\n",
    "        \n",
    "        if key < root.val:\n",
    "            root.left = self.deleteNode(root.left, key)\n",
    "        elif key == root.val:\n",
    "            if root.left is None and root.right is None:\n",
    "                root = None\n",
    "            elif root.left is None:\n",
    "                root = root.right\n",
    "            elif root.right is None:\n",
    "                root = root.left\n",
    "            else:  # root has left and right\n",
    "                predecessor = self.findPre(root)  # use predecessor to replace root\n",
    "                root.val = predecessor\n",
    "                root.left = self.deleteNode(root.left, predecessor)\n",
    "        elif root.val < key:\n",
    "            root.right = self.deleteNode(root.right, key)\n",
    "        return root\n",
    "    \n",
    "    def findPre(self, root):  # return value of root's predecessor\n",
    "        root = root.left\n",
    "        while root.right:\n",
    "            root = root.right\n",
    "        return root.val"
   ]
  },
  {
   "cell_type": "markdown",
   "metadata": {},
   "source": [
    "## 算法总结\n",
    "* **总思路/手段**\n",
    "    * 前序递归遍历\n",
    "    * **中序迭代遍历** - 得到递增序列，并利于与前值比较\n",
    "    * **二分式遍历** - 减少比较次数\n",
    "        * 递归法\n",
    "        * 迭代法\n",
    "* 确定唯一一个二叉搜索树的要求\n",
    "    * 方案1：postorder list\n",
    "    * 方案2：preorder list\n",
    "* 确定多个可能性的二叉搜索树的要求\n",
    "    * 方案1： inorder list = ascending order node value list = sorted(postorder) = sorted(preorder)"
   ]
  },
  {
   "cell_type": "markdown",
   "metadata": {},
   "source": [
    "## 题目类型"
   ]
  },
  {
   "cell_type": "markdown",
   "metadata": {},
   "source": [
    "### 基本类型\n",
    "* 查找 700. Search in a Binary Search Tree.py\n",
    "* 插入 701. Insert into a Binary Search Tree.py\n",
    "* 删除 450. Delete Node in a BST.py"
   ]
  },
  {
   "cell_type": "markdown",
   "metadata": {},
   "source": [
    "### 拓展类型\n",
    "* BST性质\n",
    "    * 验证是否是BST 98. Validate Binary Search Tree.py\n",
    "        * 方法1：preorder判断每个值是否在上下限之内\n",
    "        * 方法2：inorder判断每个值是否是递增的\n",
    "    * 两个node val颠倒，进行恢复 99. Recover Binary Search Tree.py\n",
    "    * 两个点的最近公共祖先 235. Lowest Common Ancestor of a Binary Search Tree.py\n",
    "    * 修剪BST  669. Trim a Binary Search Tree.py\n",
    "* 查找第k小个 230. Kth Smallest Element in a BST.py\n",
    "* 查找众数（可能有多个）  501. Find Mode in Binary Search Tree.py"
   ]
  },
  {
   "cell_type": "markdown",
   "metadata": {},
   "source": [
    "# 回溯法"
   ]
  },
  {
   "cell_type": "markdown",
   "metadata": {},
   "source": [
    "## 概念\n",
    "* 回溯法又称试探法，当探索到某一步时，发现原先的选择达不到目标，就退回一步重新选择，这种走不通就退回再走的技术为回溯法。"
   ]
  },
  {
   "cell_type": "markdown",
   "metadata": {},
   "source": [
    "## 两种模板\n",
    "* 把问题抽象成一个树\n",
    "    * 回溯算法就是个多叉树的遍历问题，关键就是在前序遍历和后序遍历的位置做一些操作，每一层for循环就是树的一层\n",
    "    * 有头树：树、图等问题， root是头，也是第一层\n",
    "    * 无头树：求arr的子集等，[]是头，也是第一层\n",
    "* 思考tree结构的时候,backtrack里面参数的规则要一致，都从i开始取，或者i+ 1开始取"
   ]
  },
  {
   "cell_type": "markdown",
   "metadata": {},
   "source": [
    "### 模板1 - for内操作-无头树\n",
    "* 特点：for + append + 单个dfs + pop\n",
    "* 框架如下：\n",
    "    * 路径：已经做出的选择，i等\n",
    "    * 选择列表：当前可以做的选择\n",
    "    * 结束条件：到达决策树底层，无法再做选择的条件\n",
    "* 擅长无头树，相当于对每个子树分别进行模板2的回溯：\n",
    "    * 选择arr[i]作为头，并加入选择列表\n",
    "    * 求子集：arr[0].arr[1],...arr[n-1]\n",
    "* 针对有头树：\n",
    "    * root提前加入path里\n",
    "    * 二叉树：依次选择node(root.left和root.right)，作为独立的部分进行回溯操作\n",
    "        * 注意:对node是否存在进行判断;"
   ]
  },
  {
   "cell_type": "code",
   "execution_count": null,
   "metadata": {},
   "outputs": [],
   "source": [
    "# 模板1\n",
    "class Array:\n",
    "    def main(self,选择列表):\n",
    "        result = []\n",
    "        def backtrack(path，选择列表):\n",
    "            if 结束条件：# 此时考虑边界条件\n",
    "                return\n",
    "                \n",
    "            for 选择 in 选择列表:  # 树的第二层\n",
    "                模板1 内容:\n",
    "                   [if i,j在范围之内\n",
    "                        path加入选择\n",
    "                        if 判断路径是否满足条件:  # 作为路径加入res的条件\n",
    "                            result.add(路径)\n",
    "                        backtracking(路径，选择列表(除去已经选择的))  # 树的第二层的每个树\n",
    "                        path撤销选择，将该选择再加入选择列表 ]\n",
    "        backtrack([]，选择列表)  # 空路径是第一层\n",
    "        return reult\n",
    "    \n",
    "# 模板1 - 求nums的所有子集\n",
    "class Solution:\n",
    "    def subsets(self, nums: List[int]) -> List[List[int]]:\n",
    "        res = []\n",
    "        def backtrack(path, start, nums):\n",
    "            res.append(path[:])  # 可以放到append后面\n",
    "            \n",
    "            for i in range(start, len(nums)):\n",
    "                path.append(nums[i])\n",
    "                res.append(path[:])\n",
    "                backtrack(path, i + 1, nums)\n",
    "                path.pop()\n",
    "        \n",
    "            \n",
    "        backtrack([], 0, nums)\n",
    "        return res"
   ]
  },
  {
   "cell_type": "markdown",
   "metadata": {},
   "source": [
    "### 模板2 - for外操作- 有头树\n",
    "* 特点：append + for 多个dfs + pop，类比二叉树的遍历\n",
    "* 擅长有头树：视root作为头，进行操作\n",
    "    * 二叉树：root作为独立的部分进行回溯操作\n",
    "* 针对无头树：视输入的i为头，进行操作\n",
    "    * 求子集：因为只会围绕i = 0进行回溯操作，故需要遍历所有的i,每个进行回溯操作"
   ]
  },
  {
   "cell_type": "code",
   "execution_count": 1,
   "metadata": {},
   "outputs": [],
   "source": [
    "'''\n",
    "input:\n",
    "    m is columns, value range is 1 to 100\n",
    "    n is rows, value range is 1 to 100\n",
    "output: int, the number of unique path\n",
    "corner case:\n",
    "    m = n = 1, return 1\n",
    "\n",
    "A. backtrack - dfs\n",
    "    Method:\n",
    "        1. create a visited tag list\n",
    "        2. from start to dfs scan the grid, only right and down way\n",
    "            if reach to finish point, save path in set\n",
    "        3. return set length\n",
    "    \n",
    "    Time complexity: O(2^(nm))\n",
    "    Space: O(2^(nm))\n",
    "'''\n",
    "\n",
    "class Solution:\n",
    "    def uniquePaths(self, m: int, n: int) -> int:\n",
    "        if m == n == 1:  # corner case\n",
    "            return 1\n",
    "        \n",
    "        visited = [[0] * m for _ in range(n)]\n",
    "        \n",
    "        res = []\n",
    "        \n",
    "        def dfs(i, j, path):  # save path in res\n",
    "            if i < 0 or j < 0 or i > n - 1 or j > m - 1 or visited[i][j] == 1:\n",
    "                return\n",
    "            \n",
    "            path.append([i, j])\n",
    "            visited[i][j] = 1 \n",
    "            \n",
    "            if i == n - 1 and j == m - 1:\n",
    "                res.append(path[:])\n",
    "            for (x, y) in ((i + 1, j), (i, j + 1)):\n",
    "                dfs(x, y, visited)\n",
    "                \n",
    "            visited[i][j] = 0 # 别忘记撤销visited\n",
    "            path.pop()\n",
    "        \n",
    "        dfs(0, 0, [])\n",
    "        return len(res)\n",
    "        "
   ]
  },
  {
   "cell_type": "markdown",
   "metadata": {},
   "source": [
    "## 模板1"
   ]
  },
  {
   "cell_type": "markdown",
   "metadata": {},
   "source": [
    "### 子集模板\n",
    "* 方法1：数学归纳思想，假设已知一个规模较小的问题的结果，思考如何推导出原问题的结果。\n",
    "* 方法2：回溯算法，要用 start 参数排除已选择的数字"
   ]
  },
  {
   "cell_type": "code",
   "execution_count": null,
   "metadata": {},
   "outputs": [],
   "source": [
    "# 求nums的所有子集\n",
    "class Solution:\n",
    "    def subsets(self, nums: List[int]) -> List[List[int]]:\n",
    "        res = []\n",
    "        def backtrack(path, start, nums):\n",
    "            res.append(path[:])  # 可以放到append后面\n",
    "            \n",
    "            for i in range(start, len(nums)):\n",
    "                path.append(nums[i])\n",
    "                res.append(path[:])\n",
    "                backtrack(path, i + 1, nums)\n",
    "                path.pop()\n",
    "        \n",
    "            \n",
    "        backtrack([], 0, nums)\n",
    "        return res"
   ]
  },
  {
   "cell_type": "markdown",
   "metadata": {},
   "source": [
    "### 组合模板\n",
    "* 方法：利用回溯思想，把结果设想成树结构，我们只要套用回溯算法模板即可，\n",
    "* 关键点\n",
    "    * 在于要用一个 start 排除已经选择过的数字\n",
    "    * 更新 res 的时机是树到达底端时\n",
    "* 易错点：在for i 循环中，新的backtrack(i + 1,...)开始"
   ]
  },
  {
   "cell_type": "code",
   "execution_count": null,
   "metadata": {},
   "outputs": [],
   "source": [
    "# 从1-n数中，取k个数\n",
    "class Solution:\n",
    "    def combine(self, n: int, k: int) -> List[List[int]]:\n",
    "        res = []\n",
    "        \n",
    "        def backtrack(start, path, n, k):\n",
    "            if len(path) == k:\n",
    "                res.append(path[:])\n",
    "            \n",
    "            for i in range(start, n + 1):\n",
    "                path.append(i)\n",
    "                backtrack(i + 1, path, n, k)\n",
    "                path.pop()\n",
    "        \n",
    "        backtrack(1, [], n, k)\n",
    "        return res"
   ]
  },
  {
   "cell_type": "markdown",
   "metadata": {},
   "source": [
    "### 排列模板\n",
    "* 方法: 表示成树结构套用算法模板\n",
    "* 关键点: 使用 in path 方法排除已经选择的数字"
   ]
  },
  {
   "cell_type": "code",
   "execution_count": null,
   "metadata": {},
   "outputs": [],
   "source": [
    "# 求全排列\n",
    "class Solution:\n",
    "    def permute(self, nums: List[int]) -> List[List[int]]:\n",
    "        res = []\n",
    "        \n",
    "        def backtrack(path, nums):\n",
    "            if len(path) == len(nums):\n",
    "                res.append(path[:])\n",
    "                return\n",
    "            \n",
    "            for i in nums:\n",
    "                if i in path:  # 目的：选择从选择列表移除；作用方式：针对下一轮，排除掉已经有i的path\n",
    "                    continue\n",
    "                path.append(i)\n",
    "                backtrack(path, nums)\n",
    "                path.pop()     \n",
    "        \n",
    "        backtrack([], nums)\n",
    "        return res"
   ]
  },
  {
   "cell_type": "markdown",
   "metadata": {},
   "source": [
    "# 递归法"
   ]
  },
  {
   "cell_type": "markdown",
   "metadata": {},
   "source": [
    "## 易错点\n",
    "* 多个True/False混合判断可以转化为数字和判断"
   ]
  },
  {
   "cell_type": "code",
   "execution_count": 10,
   "metadata": {},
   "outputs": [
    {
     "name": "stdout",
     "output_type": "stream",
     "text": [
      "yes\n"
     ]
    }
   ],
   "source": [
    "a = True\n",
    "b = True\n",
    "c = False\n",
    "if a + b + c >= 2:\n",
    "    print('yes')"
   ]
  },
  {
   "cell_type": "markdown",
   "metadata": {},
   "source": [
    "## 定义\n",
    "* 在其定义中，调用自身的算法。An algorithm that calls itself in its definition.\n",
    "    * 基本情况时,条件语句用于**中断递归** **Base case** a conditional statement that is used to break the recursion.\n",
    "    * 递归情况时,条件语句用于**触发递归** **Recusive case** a conditional statement that is used to trigger the recursion. \n",
    "    \n",
    "## 核心\n",
    "   * 将问题的规模缩小，并且缩小后问题并没有发生变化，这样就可以继续调用自身来完成接下来的任务"
   ]
  },
  {
   "cell_type": "markdown",
   "metadata": {},
   "source": [
    "## 书写方法\n",
    "### 明确输入输出\n",
    "1. 判断是否需要Hepler()\n",
    "    * 不需要：只有返回出函数的值是新的变量(子递归的返回值也是结果值) -> 直接返回新变量 -> def depth(self，输入量)\n",
    "    * 需要: \n",
    "        * 情况1：除了返回出函数的值，还有中间变量，此中间变量参与返回值的合成或计算\n",
    "            * def depth(self, 输入量+ 中间变量， e.g [] + 输出量)\n",
    "        * 情况2：函数需要一个递归函数处理新的问题，在递归过程中的中间值是函数最终要求的值。\n",
    "            * def \\_\\_init\\_\\_(self): \n",
    "                * self.输出量 = 0; \n",
    "            * def main(): \n",
    "                * self.helper()\n",
    "                * return self.输出量\n",
    "            * def helper():\n",
    "                * self.输出量计算\n",
    "* 判断输出值：\n",
    "    * 正常情况下，返回A；如失败，返回B\n",
    "    * 不需要helper()\n",
    "        * type1: 结果必须返回出去，外面才能接收到\n",
    "            * 即 return output\n",
    "            * def depth(root): # output: height\n",
    "            * 递归调用语句必须有返回值\n",
    "                * e.g. l = self.depth(root.left),\n",
    "    * 需要helper()\n",
    "        * type1: 结果必须返回出去，外面才能接收到\n",
    "            * 即 return output\n",
    "            * def depth(root): # output: height\n",
    "            * 递归调用语句必须有返回值\n",
    "                * e.g. l = self.depth(root.left)\n",
    "        * type2: 结果不必返回出去（结果保存在输入参数list等中，）\n",
    "            * 即 return\n",
    "            * def path(root, level, dic):  # output: dic\n",
    "            * 递归调用语句不必有返回值\n",
    "                * e.g. self.depth(root.left， level + 1, dic)"
   ]
  },
  {
   "cell_type": "markdown",
   "metadata": {},
   "source": [
    "### 基本步骤\n",
    "1. 即递归的终止条件\n",
    "    * 在终止条件之前，考虑到中间变量的初始化\n",
    "    * e.g.在二分查找中，终止条件就是找到了我们想要的数或者搜索完了整个数组(查找失败)。\n",
    "        * if start > end: return -1 else if target == arr[middle]: return middle\n",
    "2. 不断演进\n",
    "    * 不断缩小取值范围，并在缩小的范围里使用递归函数\n",
    "    * 对于type 1\n",
    "        * **返回值 = 递归函数(缩小范围)**\n",
    "        * e.g. l = self.depth(root.left)\n",
    "    * 对于type 2\n",
    "        * 递归函数(缩小范围)\n",
    "        * self.path(root.left, level + 1, dic)\n",
    "    * e.g. 二分查找中，就是继续查找剩下的一半数组\n",
    "        * if target > arr[middle]: index = self.binary_search(arr, middle + 1, end, target)\n",
    "        * else: index = self.binary_search(arr, start, middle - 1, target)\n",
    "* 补充其余部分\n",
    "    * 补充2之前的参数定义\n",
    "        * e.g. res = float('-inf')\n",
    "    * 补充2之后的返回值\n",
    "        * type 1：return output\n",
    "        * type 2: return \n",
    "* 不要做重复的事情\n",
    "    * 不要‘重复多次地调用自身，又不缩小问题的规模’"
   ]
  },
  {
   "cell_type": "markdown",
   "metadata": {},
   "source": [
    "# 动态规划 - 需要对题目进行总结"
   ]
  },
  {
   "cell_type": "markdown",
   "metadata": {},
   "source": [
    "## 自顶向下 与 自底向上"
   ]
  },
  {
   "cell_type": "markdown",
   "metadata": {},
   "source": [
    "* 自顶向下：例如递归树（或者说图），是从上向下延伸，都是从一个规模较大的原问题比如说 f(20)，向下逐渐分解规模，直到 f(1) 和 f(2) 触底，然后逐层返回答案，这就叫自顶向下\n",
    "* 自底向上：直接从最底下，最简单，问题规模最小的 f(1) 和 f(2) 开始往上推，直到推到我们想要的答案 f(20)，这就是动态规划的思路，这也是为什么动态规划一般都脱离了递归，而是由循环迭代完成计算。"
   ]
  },
  {
   "cell_type": "markdown",
   "metadata": {},
   "source": [
    "## 概念"
   ]
  },
  {
   "cell_type": "markdown",
   "metadata": {},
   "source": [
    "* 最优子结构：\n",
    "    * 原问题可以有多个解决方案（子问题），通过选择最好的一个解决方案来实现原问题\n",
    "    * **子问题**间必须互相独立\n",
    "* 状态转移方程：把 f(n) 想做一个状态 n，这个状态 n 是由状态 n - 1 和状态 n - 2 相加转移而来，这就叫状态转移\n",
    "    * 状态转移方程直接代表着暴力解法\n",
    "    * 状态：目标金额amount"
   ]
  },
  {
   "cell_type": "markdown",
   "metadata": {},
   "source": [
    "## 使用范围\n",
    "* 求max/min\n",
    "* yes/no 求能否达到\n",
    "* count 求数量"
   ]
  },
  {
   "cell_type": "markdown",
   "metadata": {},
   "source": [
    "## 常见的四种类型\n",
    "* 一维序列类问题 - 考虑之前的子问题\n",
    "* 二维序列类问题 - 画表格\n",
    "* 矩阵类问题 - 考虑当前的子问题\n",
    "* Others\n",
    "    * 背包类 -  按值定状态\n",
    "    * 区间类 - 倒着想"
   ]
  },
  {
   "cell_type": "markdown",
   "metadata": {},
   "source": [
    "## DP的写法\n",
    "* 方程符合最优子结构 -> 写暴力解(包含状态转移方程的递归代码) -> 看出有没有重叠子问题了，有则带备忘录/dp数组优化，无则输出\n",
    "\n",
    "### 暴力解的写法（包含状态转移方程 function的递归代码）\n",
    "* 总之：明确「状态」和「选择」 -> 定义 dp 数组/函数的含义-> 明确 base case\n",
    "1. 确认原问题与子问题\n",
    "    * 子问题之间是否互相独立，没有相互制约\n",
    "    * 数硬币问题：\n",
    "        * 原问题：目标金额amount的最少硬币\n",
    "        * 子问题：1 + （amount - 1的硬币数）；1 + (amount - 2的硬币数）；多个解决方案，选择其中最好的一个实现原问题\n",
    "2. **确认状态n（确认变量） state**\n",
    "    * 状态 -> 目前情况的描述，包含影响结果的**必须**变量 \n",
    "        * 若状态有三个因素，则分类固定某一因素，0/1；然后确定从另外两个因素中找选择\n",
    "    * 数硬币问题：目标金额 amount\n",
    "3. **确定 dp 函数的定义**\n",
    "    * 通过原问题与子问题，确定dp函数的定义，状态n作为dp方程的的参数\n",
    "    * 数硬币问题\n",
    "        * 参数是amount，dp(amount)代表凑出amount的最少硬币数量\n",
    "4. **确定dp(n)之间的联系，选择哪些小的状态（n-1,n-2等），来算大的状态(n) , function**\n",
    "    * dp[i]可以有哪些解决方案\n",
    "* **明确边界状态的值 initialization**\n",
    "    * 见带备忘录和dp table的解法\n",
    "* 明确最终状态"
   ]
  },
  {
   "cell_type": "markdown",
   "metadata": {},
   "source": [
    "### 带备忘录的递归解法\n",
    "* 用dict存储每次的结果，对状态转移方程构成暴力解法中的重叠子问题进行优化\n",
    "* memo = {}, memo[(i,j)] = dp(i,j -1) + 1, return memo[(i,j -1)]... \n",
    "* 若dp[i][j]在某些情况下，可能为某常数时，必须用table，不能用memo  -- ？\n",
    "\n",
    "#### 结束条件设定\n",
    "* 起始原点\n",
    "* 某些固定点\n",
    "* dp(i,j)超界的情况，即通常i，j小于0的情况"
   ]
  },
  {
   "cell_type": "markdown",
   "metadata": {},
   "source": [
    "### DP table 的迭代解法\n",
    "* 用dp数组存储每次的结果，对状态转移方程构成暴力解法中的重叠子问题进行优化\n",
    "* 注意：dp table: i,j的起始值根据遍历方向确定，不一定是状态的起始值(0)"
   ]
  },
  {
   "cell_type": "markdown",
   "metadata": {},
   "source": [
    "#### 结构及初始值设定\n",
    "* 三个需要设定的因素\n",
    "    1. **dp = [[XX] * (n + 1) for _ in range(m + 1)]**\n",
    "        * **注意取nums第i个要是nums[i - 1]**\n",
    "    2. for i in range(**1**, **m + 1**)\n",
    "    3. **把边界条件的设定放入for循环中**\n",
    "        * 考虑为原点的情况\n",
    "        * 考虑在边上的情况\n",
    "* 层数设定\n",
    "    * 尽量两层以内\n",
    "    * 若三个及以上变量，化简for循环的变量\n",
    "        * 选取种类可能数少的变量，把其可能性的种类列出来，a[][][1] =... a[][][0]= ...，用来替换此变量的for循环"
   ]
  },
  {
   "cell_type": "markdown",
   "metadata": {},
   "source": [
    "#### DP table的空间优化方法\n",
    "* 滚动数组法，下面是滚动数组法的简化版\n",
    "* 一维DP优化\n",
    "    * 条件：dp[i]只与某几个前状态dp[i-1]等有关\n",
    "    * 思路：化一维数组为2个数的比较\n",
    "    * 方法：先初始化dp_i_1, dp_i_2等常数，再把dp[i-1],dp[i-2]等转化为dp_i_1, dp_i_2等常数，在循环里赋值\n",
    "* 二维DP优化\n",
    "    * 条件：dp状态由两个变量构成，若新状态(i,s)只由有限个相邻状态(i/i-1,s/s-1)构成，即用旧a，b计算新a，b\n",
    "        * dp[i][0] = max(dp[i-1][0], dp[i-1][1] + prices[i])，不管[0][1],dp[i]只与dp[i-1]有关\n",
    "    * 思路：化二维数组为一维\n",
    "    * 方法：只优化外围的变量\n",
    "        * i在外层，s在里层，优化i\n",
    "    * 易错点：\n",
    "        1. 计算时，使用 a,b = ab计算1，ab计算2，来避免ab计算2之前，a因为ab计算1发生改变\n",
    "    \n",
    "#### dp数组的遍历方向\n",
    "* 三种遍历方向\n",
    "    * 正向 - 到达右下角\n",
    "    * 反向 - 到达左上角\n",
    "    * 斜向/反斜向 - 到达右上角或左下角\n",
    "* 原则：\n",
    "    * 遍历的过程中，所需的状态必须是已经计算出来的\n",
    "    * 遍历的终点必须是存储结果的那个位置"
   ]
  },
  {
   "cell_type": "code",
   "execution_count": 1,
   "metadata": {},
   "outputs": [
    {
     "ename": "IndentationError",
     "evalue": "expected an indented block (<ipython-input-1-114e25a8db35>, line 14)",
     "output_type": "error",
     "traceback": [
      "\u001b[1;36m  File \u001b[1;32m\"<ipython-input-1-114e25a8db35>\"\u001b[1;36m, line \u001b[1;32m14\u001b[0m\n\u001b[1;33m    for i in range(m - 1, -1, -1):\u001b[0m\n\u001b[1;37m    ^\u001b[0m\n\u001b[1;31mIndentationError\u001b[0m\u001b[1;31m:\u001b[0m expected an indented block\n"
     ]
    }
   ],
   "source": [
    "# 正向\n",
    "class Array:\n",
    "    def sequence(self, arr1, arr2):\n",
    "        m = len(arr1)\n",
    "        n = len(arr2)\n",
    "        \n",
    "        dp = [[0] * n for _ in range(m)]\n",
    "        \n",
    "        for i in range(m):\n",
    "            for j in range(n):\n",
    "                # 计算dp[i][j]\n",
    "# 反向\n",
    "    \n",
    "        for i in range(m - 1, -1, -1):\n",
    "            for j in range(n - 1, -1, -1):\n",
    "                # 计算dp[i][j]\n",
    "\n",
    "# 斜右向，在对角线的右上方，从[0][1]到[n-2][n-1], 最后到达[0][n-1]\n",
    "        for l in range(2, n + 1):\n",
    "            for i in range(n - l + 1):\n",
    "                j = l + i - 1\n",
    "                # 计算[i][j]\n",
    "\n",
    "# 反斜向-取右上部分，即一行反向，一行缩减范围\n",
    "        for i in range(n - 1, -1, -1):\n",
    "            for j in range(i + 1, n):\n",
    "                # 计算dp[i][j]        \n",
    "        "
   ]
  },
  {
   "cell_type": "markdown",
   "metadata": {},
   "source": [
    "## 子序列问题"
   ]
  },
  {
   "cell_type": "markdown",
   "metadata": {},
   "source": [
    "* 题目共性：\n",
    "    * 要求：求一个最长子序列\n",
    "    * 时间复杂度： O(N^2)"
   ]
  },
  {
   "cell_type": "markdown",
   "metadata": {},
   "source": [
    "### 一维dp数组模板"
   ]
  },
  {
   "cell_type": "code",
   "execution_count": 1,
   "metadata": {},
   "outputs": [
    {
     "ename": "SyntaxError",
     "evalue": "invalid syntax (<ipython-input-1-7ec7c09a2d13>, line 7)",
     "output_type": "error",
     "traceback": [
      "\u001b[1;36m  File \u001b[1;32m\"<ipython-input-1-7ec7c09a2d13>\"\u001b[1;36m, line \u001b[1;32m7\u001b[0m\n\u001b[1;33m    dp[i] = 最值(dp[i], dp[j] +,...)\u001b[0m\n\u001b[1;37m                             ^\u001b[0m\n\u001b[1;31mSyntaxError\u001b[0m\u001b[1;31m:\u001b[0m invalid syntax\n"
     ]
    }
   ],
   "source": [
    "class Array:\n",
    "    def sequence(self, arr):\n",
    "        n = len(arr)\n",
    "        dp = [X] * n  # X根据边界条件进行修改\n",
    "        for i in range(n):  # 依次计算dp[0]到dp[n-1]\n",
    "            for j in range(i):  # 通过dp[0]到dp[i - 1]计算dp[i]\n",
    "                dp[i] = 最值(dp[i], dp[j] +,...)"
   ]
  },
  {
   "cell_type": "markdown",
   "metadata": {},
   "source": [
    "* 应用：最长递增子序列\n",
    "    * dp数组的定义：在子数组 array[0..i] 中，要求的子序列（最长递增子序列）的长度是 dp[i]\n",
    "    * 参见：最长递增子序列"
   ]
  },
  {
   "cell_type": "markdown",
   "metadata": {},
   "source": [
    "### 二维dp数组模板"
   ]
  },
  {
   "cell_type": "code",
   "execution_count": 1,
   "metadata": {},
   "outputs": [],
   "source": [
    "class Array:\n",
    "    def sequence(self, arr):\n",
    "        n = len(arr)\n",
    "        dp = [[0]* n for _ in range(n)]  # 是否扩展dp到dp[n]，根据题目而定\n",
    "        \n",
    "        for i in range(0, n):  # 行\n",
    "            for j in range(0, n):  # 列\n",
    "                if arr[i] == arr[j]:  # 在dp[0]为扩展时，即为0时，dp的1对应着arr的0 改为arr[i-1]\n",
    "                    dp[i][j] = dp[i][j] +...\n",
    "                else:  # 非对角线\n",
    "                    dp[i][j] = 最值(...)"
   ]
  },
  {
   "cell_type": "markdown",
   "metadata": {},
   "source": [
    "* 应用：涉及两个字符串/数组的子序列\n",
    "    * eg. 最长公共子序列，编辑距离\n",
    "* dp数组的含义：\n",
    "    * 第一种：涉及两个字符串/数组时\n",
    "        * 含义：在子数组 arr1[0..i] 和子数组 arr2[0..j] 中，要求的子序列（最长公共子序列）长度为 dp[i][j]\n",
    "        * 第一步：解决两个字符串的动态规划问题，一般都是用两个指针 i,j 分别指向两个字符串的最后，然后一步步往前走，缩小问题的规模 - 暴力解dp递归的思考方法\n",
    "        * 第二步：dp meomo / dp table 优化\n",
    "            * 注意1：dp table时的base case，dp[0][j],dp[i][0]，dp[0][0].以及dp的1对应着arr的0\n",
    "        * e.g.最长公共子序列， 编辑距离\n",
    "    * 第二种：只涉及一个字符串/数组时（e.g.最长回文子序列）\n",
    "        * 含义：在子数组 array[i..j] 中，要求的子序列（最长回文子序列）的长度为 dp[i][j]\n",
    "        * 第一步：解决一个字符串的动态规划问题，一般都是用两个指针 i,j 分别指向该字符串的头和尾，然后一步步往中间靠拢，缩小问题的规模 - 暴力解dp递归的思考方法\n",
    "        * 第二步：dp meomo / dp table 优化\n",
    "        * 参见：最长回文子序列"
   ]
  },
  {
   "cell_type": "code",
   "execution_count": null,
   "metadata": {},
   "outputs": [],
   "source": [
    "# 公共子序列\n",
    "class Solution:\n",
    "    def longestCommonSubsequence(self, text1: str, text2: str) -> int:\n",
    "        if not text1 or not text2:\n",
    "            return 0\n",
    "        \n",
    "        m = len(text1)\n",
    "        n = len(text2)\n",
    "        dp = [[0]* (n + 1) for _ in range(m + 1)] \n",
    "        # 第一行，第一列都为空\n",
    "        \n",
    "        for i in range(1, m + 1):\n",
    "            for j in range(1, n + 1):\n",
    "                if text1[i - 1] == text2[j - 1]:\n",
    "                    dp[i][j] = dp[i-1][j-1] + 1  \n",
    "                    # 从i-1,j-1累加，即dp[i-1][j-1]是完全不包含ij的最长，dp[i][j]是完全包含ij的最长\n",
    "                    # [i][j-1]或[i-1][j]是半包含ij的最长，半包含最长可能等于全包含最长，故不能是dp[i][j] = dp[i-1][j] + 1\n",
    "                else:\n",
    "                    dp[i][j] = max(dp[i][j- 1],dp[i-1][j])\n",
    "        return dp[m][n]"
   ]
  },
  {
   "cell_type": "markdown",
   "metadata": {},
   "source": [
    "## 矩阵类问题\n",
    "### 题目要求\n",
    "* 给定一个矩阵，矩阵里有着一些信息，然后根据这些信息求解问题\n",
    "\n",
    "### 题目特点\n",
    "* 遍历矩阵其实就是遍历图，在遍历的过程中会有一些临时的状态，也就是子问题的答案，记录这些答案，从而推得我们最后想要的答案\n",
    "\n",
    "### 解题思路\n",
    "* 只需要思考当前位置的状态，然后试着去看当前位置和它邻居的递进关系，从而得出我们想要的递推方程\n",
    "* base case的写法\n",
    "    * memo法\n",
    "        * 过界的情况\n",
    "            * 离开边界范围 i < 0 or j < 0\n",
    "                * 求最小值时，return float('inf') \n",
    "                * 求最大值时，return float('-inf') / 0\n",
    "            * 在边界上 i == 0 or j == 0\n",
    "        * 在原点情况，即 i == 0 and j == 0\n",
    "    * dp table 法\n",
    "        * 在原点情况，即 i == 0 and j == 0"
   ]
  },
  {
   "cell_type": "markdown",
   "metadata": {},
   "source": [
    "## 背包问题 \n",
    "### 题目要求\n",
    "* 在一个载重有限制W的背包里，放入物品，物品的总数为N, 物品的weight = wt list, 物品的价值value = val list，求放哪些物品使得总价值量最高\n",
    "* N = 3, W = 4，wt = [2, 1, 3]，val = [4, 2, 3] -> 算法返回 6，选择前两件物品装进背包，总重量 3 小于 W，可以获得最大价值 6"
   ]
  },
  {
   "cell_type": "markdown",
   "metadata": {},
   "source": [
    "### **题目特点**\n",
    "* 核心：\n",
    "    * 限制：\n",
    "        1. 取的数的总量和\n",
    "        * 在一个nums里不重复的取数\n",
    "            * 故是二维dp\n",
    "    * 过程：通过选或不选，实现最优解问题\n",
    "* 思路：选的情况 + 不选的情况"
   ]
  },
  {
   "cell_type": "markdown",
   "metadata": {},
   "source": [
    "### 解题思路\n",
    "* 明确两点，状态和选择\n",
    "    * 状态：由载重量W和选哪N个物品共同决定背包能装的价值\n",
    "        * （因为物品不能重复，选完一个之后，不能再选另一个，故对价值产生影响）\n",
    "    2. 选择：第i物品装不装进背包\n",
    "\n",
    "* dp数组的定义\n",
    "\n",
    "    * dp[i][w] = 对于前i个物品，在w载重的要求下，达到的最大价值\n",
    "    2. base case, dp[0][w] = 0, dp[i][0] = 0\n",
    "\n",
    "* 状态转移方程\n",
    "    * 不放物品i情况下：\n",
    "        dp[i][w] = dp[i - 1][w]\n",
    "    * 放物品i的情况下：\n",
    "        dp[i][w] = max(dp[i - 1][w - wt(i)] + wt(i))"
   ]
  },
  {
   "cell_type": "markdown",
   "metadata": {},
   "source": [
    "### 注意要点\n",
    "* DP memo\n",
    "    * i = 0 和 i < 0 一般是两情况，\n",
    "    需要分开处理\n",
    "* DP table\n",
    "    * 建立DP table，先建列，再建行，维数要比len(nums)加1\n",
    "    * 扫描DP table时，从1开始"
   ]
  },
  {
   "cell_type": "markdown",
   "metadata": {},
   "source": [
    "### 空间时间复杂度\n",
    "* 时间复杂度：O(nW)\n",
    "* 空间复杂度：O(nW)"
   ]
  },
  {
   "cell_type": "markdown",
   "metadata": {},
   "source": [
    "### 模板"
   ]
  },
  {
   "cell_type": "code",
   "execution_count": 1,
   "metadata": {},
   "outputs": [],
   "source": [
    "# 暴力解模板\n",
    "class DP:\n",
    "    def backpack01(self, n, W, wt, val):  # return max value in weight range\n",
    "        def dp(i, w):\n",
    "            if i < 0 or w < 0:\n",
    "                return float('-inf')\n",
    "            if i == 0 or w == 0:\n",
    "                return 0\n",
    "\n",
    "            res = float('-inf')\n",
    "            res = max(res, dp(i - 1, w), dp(i - 1, w - wt[i - 1]) + val[i - 1])\n",
    "            return res\n",
    "\n",
    "        return dp(n, W)\n",
    "\n",
    "# DP table 模板\n",
    "## 易错点： 对w - wt[i - 1] < 0进行判断，此时不能选i\n",
    "class DP:\n",
    "    def backpack01(self, n, W, wt, val):  # return max value in weight range\n",
    "        if not wt or not val:\n",
    "            return 0\n",
    "        if n == 0 or W == 0:\n",
    "            return 0\n",
    "\n",
    "        dp = [[0] * (W + 1) for _ in range(n + 1)]\n",
    "\n",
    "        for i in range(1, n + 1):\n",
    "            for w in range(1, W + 1):\n",
    "                if w - wt[i - 1] < 0:\n",
    "                    dp[i][w] = dp[i - 1][w]\n",
    "                else:\n",
    "                    dp[i][w] = max(dp[i - 1][w], dp[i - 1][w - wt[i - 1]] + val[i - 1])\n",
    "        return dp[n][W]"
   ]
  },
  {
   "cell_type": "markdown",
   "metadata": {},
   "source": [
    "## 区间类问题"
   ]
  },
  {
   "cell_type": "markdown",
   "metadata": {},
   "source": [
    "### 解题思路\n",
    "* 明确两点，状态和选择\n",
    "    * 状态：在区间[i, j]上的最优解\n",
    "    2. 选择：通常对某个区间[i, j]两端操作，根据dp[i+1][j]或者dp[i][j-1]来递推下一个状态\n",
    "* 状态转移方程\n",
    "    * dp[i][j] = temp + max/min(dp[i+1][j], dp[i][j-1])\n",
    "    * 遍历方向：斜向遍历 （以区间的长度len为循环变量，在不同的长度区间里枚举所有可能的状态，并从中选取最优解）\n",
    "    * 返回：右上角的顶点，即dp[0][n - 1]\n",
    "* base case"
   ]
  },
  {
   "cell_type": "markdown",
   "metadata": {},
   "source": [
    "### 模板 "
   ]
  },
  {
   "cell_type": "code",
   "execution_count": 1,
   "metadata": {
    "collapsed": true
   },
   "outputs": [
    {
     "ename": "NameError",
     "evalue": "name 'n' is not defined",
     "output_type": "error",
     "traceback": [
      "\u001b[1;31m---------------------------------------------------------------------------\u001b[0m",
      "\u001b[1;31mNameError\u001b[0m                                 Traceback (most recent call last)",
      "\u001b[1;32m<ipython-input-1-7f08203480f3>\u001b[0m in \u001b[0;36m<module>\u001b[1;34m\u001b[0m\n\u001b[0;32m      1\u001b[0m \u001b[1;31m# DP table， n = len(arr)\u001b[0m\u001b[1;33m\u001b[0m\u001b[1;33m\u001b[0m\u001b[1;33m\u001b[0m\u001b[0m\n\u001b[1;32m----> 2\u001b[1;33m \u001b[1;32mfor\u001b[0m \u001b[0ml\u001b[0m \u001b[1;32min\u001b[0m \u001b[0mrange\u001b[0m\u001b[1;33m(\u001b[0m\u001b[1;36m2\u001b[0m\u001b[1;33m,\u001b[0m \u001b[0mn\u001b[0m \u001b[1;33m+\u001b[0m \u001b[1;36m1\u001b[0m\u001b[1;33m)\u001b[0m\u001b[1;33m:\u001b[0m\u001b[1;33m\u001b[0m\u001b[1;33m\u001b[0m\u001b[0m\n\u001b[0m\u001b[0;32m      3\u001b[0m     \u001b[1;32mfor\u001b[0m \u001b[0mi\u001b[0m \u001b[1;32min\u001b[0m \u001b[0mrange\u001b[0m\u001b[1;33m(\u001b[0m\u001b[0mn\u001b[0m \u001b[1;33m-\u001b[0m \u001b[0ml\u001b[0m \u001b[1;33m+\u001b[0m \u001b[1;36m1\u001b[0m\u001b[1;33m)\u001b[0m\u001b[1;33m:\u001b[0m\u001b[1;33m\u001b[0m\u001b[1;33m\u001b[0m\u001b[0m\n\u001b[0;32m      4\u001b[0m         \u001b[0mj\u001b[0m \u001b[1;33m=\u001b[0m \u001b[0ml\u001b[0m \u001b[1;33m+\u001b[0m \u001b[0mi\u001b[0m \u001b[1;33m-\u001b[0m \u001b[1;36m1\u001b[0m\u001b[1;33m\u001b[0m\u001b[1;33m\u001b[0m\u001b[0m\n\u001b[0;32m      5\u001b[0m         \u001b[1;32mfor\u001b[0m \u001b[0mk\u001b[0m \u001b[1;32min\u001b[0m \u001b[0mrange\u001b[0m\u001b[1;33m(\u001b[0m\u001b[0mi\u001b[0m \u001b[1;33m+\u001b[0m \u001b[1;36m1\u001b[0m\u001b[1;33m,\u001b[0m \u001b[0mj\u001b[0m\u001b[1;33m)\u001b[0m\u001b[1;33m:\u001b[0m\u001b[1;33m\u001b[0m\u001b[1;33m\u001b[0m\u001b[0m\n",
      "\u001b[1;31mNameError\u001b[0m: name 'n' is not defined"
     ]
    }
   ],
   "source": [
    "# DP table， n = len(arr)\n",
    "for l in range(2, n + 1):\n",
    "    for i in range(n - l + 1):\n",
    "        j = l + i - 1\n",
    "        for k in range(i + 1, j):\n",
    "            dp[i][j] = temp + max/min(dp[i + 1][j], dp[i][j - 1])"
   ]
  },
  {
   "cell_type": "markdown",
   "metadata": {},
   "source": [
    "### 题目\n",
    "* https://blog.csdn.net/sinat_21107433/article/details/104454704"
   ]
  },
  {
   "cell_type": "markdown",
   "metadata": {},
   "source": [
    "## 打家劫舍问题"
   ]
  },
  {
   "cell_type": "markdown",
   "metadata": {},
   "source": [
    "### **题目特点**\n",
    "* 核心：\n",
    "    * 限制：在一个nums里不重复的取数，不能相邻\n",
    "        * 故是一维DP\n",
    "    * 过程：通过选或不选，实现最优解问题\n",
    "* 思路：选的情况 + 不选的情况"
   ]
  },
  {
   "cell_type": "markdown",
   "metadata": {},
   "source": [
    "### 解题思路\n",
    "* 明确两点，状态和选择\n",
    "    1. 状态：打劫到i家的情况下的最大抢劫值\n",
    "    2. 选择： 打不打劫第i家\n",
    "* dp数组的定义\n",
    "    * dp[i] = 打劫到i家的最大抢劫值\n",
    "    2. base case, dp[0] = 0\n",
    "* 状态转移方程\n",
    "    * 抢i情况下：\n",
    "        dp[i] = i的钱 + 抢劫到i-2家的最大值\n",
    "    * 不抢i的情况下：\n",
    "        dp[i] = 抢劫到i-1家的最大值"
   ]
  },
  {
   "cell_type": "markdown",
   "metadata": {},
   "source": [
    "### 注意要点\n",
    "* DP memo\n",
    "    * i = 0 和 i < 0 都需要考虑到\n",
    "* DP table\n",
    "    * 建立DP table，先建列，再建行，维数要比len(nums)加1\n",
    "    * 扫描DP table时，in range**(1, n + 1)**"
   ]
  },
  {
   "cell_type": "markdown",
   "metadata": {},
   "source": [
    "### 空间时间复杂度\n",
    "* 时间复杂度：O(n)\n",
    "* 空间复杂度：O(n)"
   ]
  },
  {
   "cell_type": "markdown",
   "metadata": {},
   "source": [
    "### 模板"
   ]
  },
  {
   "cell_type": "code",
   "execution_count": 4,
   "metadata": {},
   "outputs": [],
   "source": [
    "class Solution:\n",
    "    def rob(self, nums) -> int:\n",
    "        if not nums:\n",
    "            return 0\n",
    "        if len(nums) == 1:\n",
    "            return nums[0]\n",
    "\n",
    "        n = len(nums)\n",
    "        memo = {}\n",
    "\n",
    "        def dp(i):  # return max amount when can to i house\n",
    "            if i in memo:\n",
    "                return memo[i]\n",
    "            if i <= 0:\n",
    "                return 0\n",
    "\n",
    "            res = max(dp(i - 1), nums[i - 1] + dp(i - 2))\n",
    "            memo[i] = res\n",
    "            return res\n",
    "\n",
    "        return dp(n)\n",
    "\n",
    "'''\n",
    "DP table\n",
    "'''\n",
    "class Solution:\n",
    "    def rob(self, nums) -> int:\n",
    "        if not nums:\n",
    "            return 0\n",
    "        if len(nums) == 1:\n",
    "            return nums[0]\n",
    "\n",
    "        n = len(nums)\n",
    "        dp = [0] * (n + 1)\n",
    "\n",
    "        for i in range(1, n + 1):\n",
    "            if i - 2 >= 0:\n",
    "                dp[i] = max(dp[i - 1], dp[i - 2] + nums[i - 1])\n",
    "            else:\n",
    "                dp[i] = nums[i - 1]\n",
    "\n",
    "        return dp[n]\n",
    "\n",
    "    '''\n",
    "DP table\n",
    "优化了空间，因为只用到了dp[i-1]和dp[i -2]\n",
    "'''\n",
    "class Solution:\n",
    "    def rob(self, nums: List[int]) -> int:\n",
    "        if not nums:\n",
    "            return 0\n",
    "        if len(nums) == 1:\n",
    "            return nums[0]\n",
    "\n",
    "        n = len(nums)\n",
    "        dp_i_1 = 0\n",
    "        dp_i_2 = 0\n",
    "        dp_i = 0\n",
    "\n",
    "        for i in range(1, n + 1):\n",
    "            dp_i = max(dp_i_1, dp_i_2 + nums[i - 1])\n",
    "            dp_i_2 = dp_i_1\n",
    "            dp_i_1 = dp_i\n",
    "\n",
    "        return dp_i"
   ]
  },
  {
   "cell_type": "markdown",
   "metadata": {},
   "source": [
    "## 股票买卖问题"
   ]
  },
  {
   "cell_type": "markdown",
   "metadata": {},
   "source": [
    "### **题目特点**\n",
    "* 核心：\n",
    "    * 限制：股票天数i th，交易次数k，持有状态s\n",
    "        * 故是三维DP\n",
    "    * 过程：通过选或不选，实现最优解问题\n",
    "* 思路：选的情况 + 不选的情况"
   ]
  },
  {
   "cell_type": "markdown",
   "metadata": {},
   "source": [
    "### 解题思路\n",
    "* 明确两点，状态和选择\n",
    "    1. 状态：股票天数i th，目前交易k次，和当前持有状态s的情况下的最大收益\n",
    "    2. 选择：\n",
    "        * s = 0\n",
    "            * 对于第i天的股票， 卖，不买\n",
    "        * s = 1\n",
    "            * 对于第i天的股票， 买，持有\n",
    "* dp数组的定义\n",
    "    * dp[i][k][s] = 在第i天，买交易了k次，持有状态为s的情况下的最大收益\n",
    "    2. base case\n",
    "        * 结合题目实际情况，考虑s = 0/1下，i和k等于最小的可能取值时候，dp[i][k][s]的值。不用考虑i-1等关系\n",
    "        * i = 0 and s =0,  dp = 0\n",
    "        * **i = 0 and s = 1, dp = -prices[0]**\n",
    "        * k = 0 and s = 0, dp = 0\n",
    "        * **k = 0 and s = 1, dp = float('-inf')**\n",
    "* 状态转移方程\n",
    "    * s = 0 第i天不持有\n",
    "        * dp[i][k][0] = max（第i天卖，第i天不买保持) = max(dp[i - 1][k][1] + stack[i], dp[i - 1][k][0])\n",
    "    * s = 1 第i天持有\n",
    "        * dp[i][k][1] = max（第i天买，第i天持有) = max(dp[i - 1][k - 1][0] - stack[i], dp[i - 1][k][1])"
   ]
  },
  {
   "cell_type": "markdown",
   "metadata": {},
   "source": [
    "### 模板"
   ]
  },
  {
   "cell_type": "code",
   "execution_count": 6,
   "metadata": {},
   "outputs": [],
   "source": [
    "class Solution:\n",
    "    def maxProfit(self, K, S, prices) -> int:\n",
    "        if not prices or len(prices) == 1:  # corner case\n",
    "            return 0\n",
    "\n",
    "        n = len(prices)\n",
    "        memo = {}\n",
    "\n",
    "        def dp(i, k, s):  # return most profit\n",
    "            if (i, k, s) in memo:\n",
    "                return memo[(i, k, s)]\n",
    "            if i == 0 and s == 0:\n",
    "                return 0\n",
    "            if i == 0 and s == 1:\n",
    "                return -prices[i]\n",
    "            if k == 0 and s == 0:\n",
    "                return 0\n",
    "            if k == 0 and s == 1:\n",
    "                return float('-inf')\n",
    "\n",
    "            if s == 0:  # in ith day, not keep stack\n",
    "                res = max(dp(i - 1, k, 0), prices[i] + dp(i - 1, k, 1))\n",
    "            else:\n",
    "                res = max(dp(i - 1, k - 1, 0) - prices[i], dp(i - 1, k, 1))\n",
    "            memo[(i, k, s)] = res\n",
    "            return res\n",
    "\n",
    "        return dp(n - 1, K, S)"
   ]
  },
  {
   "cell_type": "markdown",
   "metadata": {},
   "source": [
    "# 贪心算法"
   ]
  },
  {
   "cell_type": "markdown",
   "metadata": {},
   "source": [
    "## 基本概念\n",
    "* 在对问题求解时，总是做出在当前看来最好的选择。即 不从整体上最优加以考虑，它所做出的仅是在某种意义上的局部最优解。  \n",
    "* 贪心算法只对部分问题才能得到整体最优解，选择的贪心策略必须具备无后效性。\n",
    "    * **无后效性：状态 受前不受后影响**"
   ]
  },
  {
   "cell_type": "markdown",
   "metadata": {},
   "source": [
    "## 适用前提\n",
    "* 使用局部最优策略能产生全局最优解的问题\n",
    "* 实际上，贪心算法适用的情况很少。针对问题时，可以先选择该问题下的几个实际数据进行分析，就可以做出判断。"
   ]
  },
  {
   "cell_type": "markdown",
   "metadata": {},
   "source": [
    "## 基本步骤\n",
    "1. 建立数学模型来描述问题 （找规律？）\n",
    "* 把求解的问题分成若干个子问题 （减少问题规模，设想只有1个，只有2个的情况）\n",
    "* 对每一个子问题求解，得到子问题的局部最优解\n",
    "* 把子问题的局部最优解合成原来解问题的一个解"
   ]
  },
  {
   "cell_type": "markdown",
   "metadata": {},
   "source": [
    "## 分配问题"
   ]
  },
  {
   "cell_type": "markdown",
   "metadata": {},
   "source": [
    "### 题目要求\n",
    "* 将某些东西分配给具有某些要求的人\n",
    "    * 给两个list，分别是东西的属性和人的要求属性"
   ]
  },
  {
   "cell_type": "markdown",
   "metadata": {},
   "source": [
    "### 题目思路\n",
    "* **排序**：对两个list进行排序\n",
    "* 使用东西对人进行满足， **先满足一个，再满足下一个**\n",
    "    * 若满足，东西+ 1， 人+ 1\n",
    "    * 若不满足，东西就 + 1"
   ]
  },
  {
   "cell_type": "markdown",
   "metadata": {},
   "source": [
    "### 模板\n",
    "* 类似**分离双指针**的写法"
   ]
  },
  {
   "cell_type": "code",
   "execution_count": null,
   "metadata": {},
   "outputs": [],
   "source": [
    "class Solution:\n",
    "    def findContentChildren(self, g: List[int], s: List[int]) -> int:\n",
    "        if not g:  # corner case\n",
    "            return 0\n",
    "        if not s:\n",
    "            return 0\n",
    "\n",
    "        g.sort()\n",
    "        s.sort()\n",
    "\n",
    "        m = len(g)\n",
    "        n = len(s)\n",
    "        i = j = 0\n",
    "\n",
    "        while i < m and j < n:\n",
    "            if s[j] >= g[i]:\n",
    "                i += 1\n",
    "                j += 1\n",
    "            else:\n",
    "                j += 1\n",
    "        return i"
   ]
  },
  {
   "cell_type": "markdown",
   "metadata": {},
   "source": [
    "## 区间问题"
   ]
  },
  {
   "cell_type": "markdown",
   "metadata": {},
   "source": [
    "### 题目要求\n",
    "* 处理多个区间\n",
    "    * 区间调度：给很多形如 [start, end] 的闭区间，算出这些区间中最多有几个互不相交的区间。\n",
    "    * 区间合并：合并所有重叠区间\n",
    "    * 区间交集：找出两组区间的交集\n",
    "\n",
    "### 题目特征\n",
    "* 需要列出题目中的互斥区间/互不相容区间\n",
    "* 题目中包含区间重叠、合并等关键词或信息\n",
    "\n",
    "### 题目思路\n",
    "1. **排序**:在区间intvs集合中，以区间的结尾值为对比的标准，对所有区间进行**排序**\n",
    "    * 也有的题目按照区间的第一个值作为对比的标准，进行排序\n",
    "* 从区间集合里选择一个区间x，x是当前所有区间中结束最早的（end最小）\n",
    "* 把所有与x区间相交的区间从区间集合intvs中删除\n",
    "* 重复2.3.步骤，直到intvs空为止。之前选出的那些x就是最大不相交子集"
   ]
  },
  {
   "cell_type": "markdown",
   "metadata": {},
   "source": [
    "### 模板"
   ]
  },
  {
   "cell_type": "code",
   "execution_count": 2,
   "metadata": {},
   "outputs": [],
   "source": [
    "## 求最多有几个互不相交的区间的个数\n",
    "class Solution:\n",
    "    def countIntervals(self, intervals) -> int:\n",
    "        if not intervals or intervals == [[]]:  # corner case\n",
    "            return 0\n",
    "        \n",
    "        intervals.sort(key = lambda x : x[1])\n",
    "        \n",
    "        count = 1\n",
    "        x_end = intervals[0][1]\n",
    "        \n",
    "        for intv in intervals:\n",
    "            start = intv[0]\n",
    "            if start >= x_end:\n",
    "                count += 1\n",
    "                x_end = intv[1]\n",
    "\n",
    "        return count"
   ]
  },
  {
   "cell_type": "markdown",
   "metadata": {},
   "source": [
    "# 双指针"
   ]
  },
  {
   "cell_type": "markdown",
   "metadata": {},
   "source": [
    "## 定义\n",
    "* 遍历的过程中，不是普通的使用单个指针进行循环访问，而是使用**两个相同方向或者相反方向的指针**进行扫描，从而达到相应的目的。\n",
    "* 针对数组：**数组有序**"
   ]
  },
  {
   "cell_type": "markdown",
   "metadata": {},
   "source": [
    "## 代码技巧"
   ]
  },
  {
   "cell_type": "markdown",
   "metadata": {},
   "source": [
    "* while一般放i，j的大体的判断条件，比如i < j，而在while内部放具体的判断条件\n",
    "* 遍历方法\n",
    "    * 与遍历过的数据进行比较：遍历nums，比较elem和它之前遍历过的数"
   ]
  },
  {
   "cell_type": "markdown",
   "metadata": {},
   "source": [
    "## 对撞/对开指针"
   ]
  },
  {
   "cell_type": "markdown",
   "metadata": {},
   "source": [
    "### 定义\n",
    "* 对撞指针是指在有序数组中，将指向最左侧的索引定义为左指针 (left)，最右侧的定义为右指针 (right)，然后从两头向中间进行数组遍历\n",
    "* 对开指针是指在有序数组中，选择一个中点，从中点开始，向左和向右用两个指针对数组进行遍历"
   ]
  },
  {
   "cell_type": "markdown",
   "metadata": {},
   "source": [
    "### 模板\n",
    "* total里含有的是两个指针指向的值\n",
    "* ij位置的改变交给外层while去完成，最好不要内层再加while"
   ]
  },
  {
   "cell_type": "code",
   "execution_count": 3,
   "metadata": {},
   "outputs": [],
   "source": [
    "class Solution:\n",
    "    def twoSum(self, numbers, target: int):\n",
    "        if len(numbers) == 2:  # corner case\n",
    "            return [1, 2]\n",
    "\n",
    "        i, j = 0, len(numbers) - 1\n",
    "        while i < j:  # 判断i,j的位置 - 粗略的比较条件\n",
    "            total = numbers[i] + numbers[j]  # 目前的结果\n",
    "            if target < total:  #  更详细的比较条件\n",
    "                j -= 1\n",
    "            elif total < target:\n",
    "                i += 1\n",
    "            else:\n",
    "                return [i + 1, j + 1]"
   ]
  },
  {
   "cell_type": "markdown",
   "metadata": {},
   "source": [
    "### 题目总结"
   ]
  },
  {
   "cell_type": "markdown",
   "metadata": {},
   "source": [
    "#### 多数之和\n",
    "* 两个的和\n",
    "    * 前后两个指针\n",
    "    * 在已排序数组里求和 167. Two Sum II - Input array is sorted.py\n",
    "* 三个及以上的和\n",
    "    * 固定一个，找另外两个\n",
    "    * 不要忘记 i + 1\n",
    "        * 15. 3Sum.py\n",
    "        * 16. 3Sum Closest.py\n",
    "        * 18. 4Sum.py\n",
    "            * 2 for loop + 对撞指针\n",
    "    \n",
    "#### 综合题\n",
    "* 11. Container With Most Water.py\n",
    "    * 不断移动短边到中间，更新盛水量\n",
    "* 611. Valid Triangle Number.py\n",
    "    * 先固定最长边，一定范围内的值都可以成为三角形\n",
    "* 845. Longest Mountain in Array.py\n",
    "    * 先找到peak，再向两边扩展"
   ]
  },
  {
   "cell_type": "markdown",
   "metadata": {},
   "source": [
    "## 前向型指针 - 快慢指针"
   ]
  },
  {
   "cell_type": "markdown",
   "metadata": {},
   "source": [
    "### 定义\n",
    "* 快慢指针也是双指针，但是两个指针从同一侧开始遍历数组，将这两个指针分别定义为快指针（fast）和慢指针（slow），两个指针以不同的策略移动，直到两个指针的值相等（或其他特殊条件）为止，如 fast 每次增长两个，slow 每次增长一个。\n",
    "* 核心：\n",
    "    * **先选定合适的s，再思考怎么移动f**"
   ]
  },
  {
   "cell_type": "markdown",
   "metadata": {},
   "source": [
    "### 应用范围\n",
    "1. 判断链表是否有环\n",
    "2. 已知链表中含有环，返回这个环的起始位置\n",
    "3. 寻找链表的中点\n",
    "4. 寻找链表的倒数第 k 个元素"
   ]
  },
  {
   "cell_type": "markdown",
   "metadata": {},
   "source": [
    "### 模板\n",
    "* s, f的初值有两种选项，根据实际情况判断\n",
    "    * s, f = 0, 0\n",
    "    * s, f = 0, 1\n",
    "* 易错点\n",
    "    * 在每种判断条件下，f均需要往前走一步"
   ]
  },
  {
   "cell_type": "code",
   "execution_count": 46,
   "metadata": {},
   "outputs": [],
   "source": [
    "class Solution:\n",
    "    def slow_fast(self, nums) -> int:\n",
    "        if not nums:  # corner case\n",
    "            return 0\n",
    "        if len(nums) == 1:\n",
    "            return 1\n",
    "        \n",
    "        s, f = 0, 0  # s,f的初值会随题目变化而变化；s用来标记上一个状态的值\n",
    "        n = len(nums)\n",
    "        \n",
    "        while f < n:\n",
    "            if nums[s] == nums[f]:  # 常常会在此内部做文章\n",
    "                f += 1\n",
    "            else:\n",
    "                nums[s] = nums[f]\n",
    "                f += 1\n",
    "        return s"
   ]
  },
  {
   "cell_type": "markdown",
   "metadata": {},
   "source": [
    "## 前向型指针 - 滑动窗口"
   ]
  },
  {
   "cell_type": "markdown",
   "metadata": {},
   "source": [
    "### 定义\n",
    "* 当需要获得数组或者字符串的**连续子部分 contiguous subarray**，考虑使用滑动窗口\n",
    "* nums[left,right] 为滑动窗口，根据具体的要求，通过遍历的时候，来改变 left 和 right 的位置，从而完成任务\n",
    "* 核心：\n",
    "    * **先固定住左边界，探索右边界；再适当缩小左边界**"
   ]
  },
  {
   "cell_type": "markdown",
   "metadata": {},
   "source": [
    "### 题目特征\n",
    "* 输入是线性结构：链表，数组，字符串\n",
    "* 输出是最长/最短 或 最大/最小目标值 或 连续子序列 等"
   ]
  },
  {
   "cell_type": "markdown",
   "metadata": {},
   "source": [
    "### 使用条件\n",
    "* 必要条件：如果题目涉及到求和等数值运算时，输入的数组中不能有负数，否则，不满足滑动窗口单调的原则。\n",
    "    * 这也是判断滑动窗口能否使用的最为重要的逻辑点\n",
    "* 使用条件\n",
    "    * 满足滑窗性质：如果滑动窗口现在的值Sc能通过上一个滑窗的值St对滑入Ai和滑出A0元素进行计算得出，即Sc = St - A0 + Ai。那么，我们能够得到函数Sc = f(St, A0, Ai),满足此函数关系的题目可使用滑动窗口来解决\n",
    "    * 满足完备性:保证滑窗能够覆盖整个搜索空间。换言之，可以理解为窗口滑动是按照某种特定规律来进行的即可使用滑窗法解题，若无特定的滑动规则或滑动判断条件，则不能使用"
   ]
  },
  {
   "cell_type": "markdown",
   "metadata": {},
   "source": [
    "### 常见题型\n",
    "1. k个连续数字的最大值；\n",
    "\n",
    "2. 最长不重复子串；\n",
    "\n",
    "3. 回文字符串；\n",
    "\n",
    "4. 字符串匹配(寻找某字符串中是否有给定字符串、是否有异"
   ]
  },
  {
   "cell_type": "markdown",
   "metadata": {},
   "source": [
    "### 模板"
   ]
  },
  {
   "cell_type": "code",
   "execution_count": null,
   "metadata": {},
   "outputs": [],
   "source": [
    "class Solution:\n",
    "    def slideWindow(self, nums: List[int]):\n",
    "        l = r = 0\n",
    "        n = len(nums)\n",
    "        \n",
    "        for r in range(n): # 滑动窗口的特征是不断移动右指针\n",
    "            window append(s[r])\n",
    "            while valid:  # 修改l的条件\n",
    "                window remove(s[l])\n",
    "                l += 1"
   ]
  },
  {
   "cell_type": "markdown",
   "metadata": {},
   "source": [
    "## 分离双指针"
   ]
  },
  {
   "cell_type": "markdown",
   "metadata": {},
   "source": [
    "### 定义\n",
    "* 输入是两个数组 / 链表，两个指针分别在两个容器中移动；根据问题的不同，初始位置可能都在头部，或者都在尾部，或一头一尾。"
   ]
  },
  {
   "cell_type": "markdown",
   "metadata": {},
   "source": [
    "### 模板"
   ]
  },
  {
   "cell_type": "code",
   "execution_count": 9,
   "metadata": {},
   "outputs": [],
   "source": [
    "class Solution:\n",
    "    def intersect(self, nums1, nums2):\n",
    "        if not nums1 or not nums2:\n",
    "            return []\n",
    "\n",
    "        nums1.sort()\n",
    "        nums2.sort()\n",
    "\n",
    "        m = len(nums1)\n",
    "        n = len(nums2)\n",
    "\n",
    "        i = j = 0\n",
    "\n",
    "        res = []\n",
    "        while i < m and j < n:\n",
    "            if nums1[i] < nums2[j]:\n",
    "                i += 1\n",
    "            elif nums1[i] == nums2[j]:\n",
    "                res.append(nums1[i])\n",
    "                i += 1\n",
    "                j += 1\n",
    "            else:\n",
    "                j += 1\n",
    "        return res\n"
   ]
  },
  {
   "cell_type": "markdown",
   "metadata": {},
   "source": [
    "# 数组-算法技巧"
   ]
  },
  {
   "cell_type": "markdown",
   "metadata": {},
   "source": [
    "## 前缀和"
   ]
  },
  {
   "cell_type": "markdown",
   "metadata": {},
   "source": [
    "### 定义\n",
    "* 一个数组中，第n位存储的是数组前n个数字的和\n",
    "    * prefix[i]=prefix[i−1]+array[i]\n",
    "    * array=[1,2,3,4,5,6] -> prefix_sum=[1,3,6,10,15,21]"
   ]
  },
  {
   "cell_type": "markdown",
   "metadata": {},
   "source": [
    "### 题目特征\n",
    "* 连续子数组\n",
    "* 对于前缀和的题目，重在考量前缀和之间的关系以及如何存储这些关系来达到题目要求，并且只要出现连续时，若数组均为正整数同样可以考虑双指针来解题，这样可以提升解出题目的概率。"
   ]
  },
  {
   "cell_type": "markdown",
   "metadata": {},
   "source": [
    "### 模板"
   ]
  },
  {
   "cell_type": "markdown",
   "metadata": {},
   "source": [
    "#### 前缀和统一计算型模板"
   ]
  },
  {
   "cell_type": "code",
   "execution_count": 1,
   "metadata": {},
   "outputs": [],
   "source": [
    "class Array:\n",
    "    def prefixSum(self, arr):\n",
    "        prefix = [0] * len(arr)\n",
    "        prefix[0] = arr[0]\n",
    "        for i in range(1, len(arr)):\n",
    "            prefix[i] = prefix[i - 1] + arr[i]\n",
    "        \n",
    "        # 或者\n",
    "        from itertools import accumulate\n",
    "        from operator import add\n",
    "        prefix = accumulate(arr, add)\n",
    "        \n",
    "        for i in range(len(arr)):\n",
    "            pass\n",
    "        # 对前缀和进行相关所需要的操作\n",
    "        # 通过操作得到符合题目要求的答案"
   ]
  },
  {
   "cell_type": "markdown",
   "metadata": {},
   "source": [
    "#### 通过单个前缀和分别计算关系型 - 本方法没看到题目，不理解\n",
    "* 需要考虑每一个前缀和与上一个前缀和的影响，而这些影响可能是线性的关系，一般都会以数组或者字典的形式进行保存，以这种方式来对最终的结果进行记录。\n",
    "* 字典中，一般会将前缀和关系为0的项设置为1，即record[0]=1，这是因为0，一般为满足题目条件的匹配，只要有计算结果为0的项，结果均加1。"
   ]
  },
  {
   "cell_type": "code",
   "execution_count": null,
   "metadata": {},
   "outputs": [],
   "source": [
    "class Array:\n",
    "    def prefix_sum(self, array, k):\n",
    "        # k为目标值\n",
    "        # 用于记录当前前缀和的值\n",
    "        prefix_sum = 0\n",
    "\n",
    "        # 用于存储前缀和之间的关系\n",
    "        # 可以用两数之和中的字典来类比此处的记录字典作用\n",
    "        # 当有两个前缀和有所匹配时，满足条件，取出字典中对应匹配的数值进行相加即可得到答案\n",
    "        record = {}\n",
    "\n",
    "        # 一般计算值为0都会满足条件，手动置为1\n",
    "        record[0] = 1\n",
    "\n",
    "        # 记录最终答案\n",
    "        result = 0\n",
    "\n",
    "        for i in range(len(array)):\n",
    "            # 求前n个数的前缀和\n",
    "            prefix_sum += array[i]\n",
    "\n",
    "            # 按照对应题目的条件进行前缀和的筛选和匹配\n",
    "            if record[prefix_sum - k] > 0:\n",
    "                # 对满足条件的前缀和进行累加\n",
    "                # 同时不断累加的过程其实相当于多种满足条件的元素间的排列组合\n",
    "                result += record[record[prefix_sum - k]]\n",
    "\n",
    "            # 对当前前缀和进行记录\n",
    "            # 可以理解为两数之和中出现的第一个元素\n",
    "            record[prefix_sum] += 1\n",
    "        return result"
   ]
  },
  {
   "cell_type": "markdown",
   "metadata": {},
   "source": []
  }
 ],
 "metadata": {
  "kernelspec": {
   "display_name": "Python 3",
   "language": "python",
   "name": "python3"
  },
  "language_info": {
   "codemirror_mode": {
    "name": "ipython",
    "version": 3
   },
   "file_extension": ".py",
   "mimetype": "text/x-python",
   "name": "python",
   "nbconvert_exporter": "python",
   "pygments_lexer": "ipython3",
   "version": "3.7.7"
  },
  "toc": {
   "base_numbering": 1,
   "nav_menu": {},
   "number_sections": true,
   "sideBar": true,
   "skip_h1_title": false,
   "title_cell": "Table of Contents",
   "title_sidebar": "Contents",
   "toc_cell": false,
   "toc_position": {
    "height": "calc(100% - 180px)",
    "left": "10px",
    "top": "150px",
    "width": "289.763px"
   },
   "toc_section_display": true,
   "toc_window_display": true
  }
 },
 "nbformat": 4,
 "nbformat_minor": 2
}
