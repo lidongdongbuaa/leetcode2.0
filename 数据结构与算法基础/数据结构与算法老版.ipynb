{
 "cells": [
  {
   "cell_type": "markdown",
   "metadata": {},
   "source": [
    "# 备考要求\n",
    "* 熟练掌握每种题型对应的brute force和常用方法\n",
    "* **遇到array题目，bruteforce应该想找出所有的可能性，再想用贪心或动规解决**\n",
    "* 针对leetcode，想清楚某系列题目之间的相关关系，I和II之间区别与联系\n",
    "* 某些特殊方法的数学证明要熟悉\n",
    "* 更多关注“基本”问题而不是超级难题。\n",
    "    * easy 和 median题目\n",
    "* 练习时要特别注意编程。 为每个问题写下可靠的代码并跟踪时间。！！！\n",
    "* 打印加入（[UTF8]{ctex}）\n",
    "* 选用LuaLatex"
   ]
  },
  {
   "cell_type": "markdown",
   "metadata": {},
   "source": [
    "# 电面经验\n",
    "## 印尼经验\n",
    "* 面试的决定时间应该是1-2周，若没消息，和hr联系\n",
    "* 跟hr确定是否可以使用hangout代替电话\n",
    "* 电面只做题，不问别的\n",
    "* 特长等电面过了提交"
   ]
  },
  {
   "cell_type": "markdown",
   "metadata": {},
   "source": [
    "# 实习备考计划 4.12\n",
    "* 明确oa和电面的考察重点\n",
    "    * 查阅官方资料\n",
    "    * leetcode按官方的分类数\n",
    "    * 苏丹 string, array, 树，图, DP\n",
    "    * Problem list的区分\n",
    "* 制定复习计划\n",
    "* 4.12 完成一遍内容\n",
    "    * 白天赶进度，吃透更关键\n",
    "    * 晚上必须复习\n",
    "* 4.12 开始再次复习和拓展"
   ]
  },
  {
   "cell_type": "markdown",
   "metadata": {},
   "source": [
    "## 易错题\n",
    "### 排序\n",
    "* quicksort\n",
    "* insertion sort\n",
    "* bottom up merge sort\n",
    "\n",
    "### tree\n",
    "* pre + in 构造树\n",
    "* level order 构造树\n",
    "* inorder balanced \n",
    "\n",
    "### graph\n",
    "* course schedule II DFS method to find the taking course order\n",
    "\n",
    "### 位运算的概念"
   ]
  },
  {
   "cell_type": "markdown",
   "metadata": {},
   "source": [
    "# 时间空间复杂度\n",
    "## 时间复杂度\n",
    "* 时间频度:一个算法中的语句执行次数，记为T(n)，n称为问题的规模\n",
    "* 时间复杂度：算法中语句执行次数为一个常数，则时间复杂度为O(1)；复杂度就是频度的求最大次方简化版\n",
    "    * 时间频度不相同时，时间复杂度有可能相同，如T(n)=n2+3n+4与T(n)=4n2+2n+1它们的频度不同，但时间复杂度相同，都为O(n2)\n",
    "* 常数阶O(1),对数阶O(log2n),线性阶O(n), 线性对数阶O(nlog2n),平方阶O(n2)，立方阶O(n3),...， k次方阶O(nk),指数阶O(2n)\n",
    "    * 尽可能选用多项式阶O(nk)，而不希望用指数阶的算法"
   ]
  },
  {
   "cell_type": "markdown",
   "metadata": {},
   "source": [
    "## 空间复杂度\n",
    "* **临时占用空间的量度，不计算输入输出的占用空间**\n",
    "* 常数阶O(1)： 如当一个算法的空间复杂度为一个常量，即不随被处理数据量n的大小而改变时，可表示为O(1)；\n",
    "* 对数阶O(logN)：当一个算法的空间复杂度与以2为底的n的对数成正比时，可表示为0(logN)；\n",
    "* 线性阶0(N)：当一个算法的空间复杂度与n成线性比例关系时，可表示为0(n).\n",
    "* 特别的\n",
    "    * **空间复杂度没有累乘的概念，是根据消耗space与输入量的关系决定的**\n",
    "    * 递归(recursive)/backtracking\n",
    "        * 在一次方法调用中，内部的临时变量和方法调用栈帧是放到栈空间中，普通的递归是需要记录所有的调用栈\n",
    "        * 故递归了多少次（不包含回退的次数），就有多少空间被使用，即O(n)"
   ]
  },
  {
   "cell_type": "markdown",
   "metadata": {},
   "source": [
    "# Python基础"
   ]
  },
  {
   "cell_type": "markdown",
   "metadata": {},
   "source": [
    "## 可变对象与不可变对象\n",
    "* 可变对象：list dict set， 即地址不变时，内容可变\n",
    "* 不可变对象：tuple string int float bool，即地址不变时，内容不可变\n",
    "* 函数传参的影响：\n",
    "    * A -> 地址a\n",
    "    * functin(A)\n",
    "        * A -> 地址a\n",
    "        * A = 1 -> 把1的地址赋给了A，不改变原A的地址\n",
    "    * A -> 地址a\n",
    "    * 函数传入的是参数A的地址，即使用函数前后，A的地址都为a\n",
    "* 但是在**函数中** \n",
    "    * 若A是可变对象\n",
    "        * A.append等操作不改变A的地址，但是修改了A的内部结构，导致使用函数后，A地址不变，但内容发生了改变\n",
    "    * 若A是不可变对象\n",
    "        * +-等操作相当于给A赋值新地址，但不改变A原地址\n",
    " "
   ]
  },
  {
   "cell_type": "markdown",
   "metadata": {},
   "source": [
    "### 数据类型和变量\n",
    "* 转义字符 \\\n",
    "    * 放在要转义的目标之前\n",
    "        * 'I\\'m \\\"OK\\\"!' -> I'm \"OK\"!\n",
    "    * \\n表示换行，\\t表示制表符\n",
    "    * 字符\\本身也要转义，所以\\\\\\表示的字符就是\\\n",
    "    * **r'string'表示 'string' 内部的字符串默认不转义**\n",
    "    * 用'''...'''的格式表示多行内容\n",
    "        * '''strA...strB'''，strA和strB为两行内容\n",
    "* 动态语言\n",
    "    * Python变量本身的类型不固定，成为动态语言\n",
    "    * 而如Java是静态语言 int a = 123; \n",
    "* 常量\n",
    "    * 通常用全部大写的变量名表示常量，e.g.PI = 3.14159265359"
   ]
  },
  {
   "cell_type": "markdown",
   "metadata": {},
   "source": [
    "### 字符串和编码\n",
    "* 编码\n",
    "    * 1个字节（byte） = 8个比特（bit）\n",
    "        * 一个字节能表示的最大的整数就是255（二进制11111111=十进制255）\n",
    "    * ASCII编码 -> 127个字符(大小写英文字母、数字和一些符号)\n",
    "        * 1个字节表示1个字符，即8位二进制数表示一个字符\n",
    "    * Unicode编码 -> 所有语言\n",
    "        * 2个字节表示1个字符，即16位二进制数表示一个字符\n",
    "    * UTF-8编码 - > 所有语言，Unicode的简化版\n",
    "        * 根据不同的数字大小编码成1-6个字节\n",
    "        * 英文 1个字节表示1个字符\n",
    "        * 中文 3个字节表示1个字符\n",
    "* Unicode和UTF-8的关系\n",
    "    * 计算机内存中-> 使用Unicode编码\n",
    "    * 硬盘保存或者传输 -> UTF-8编码\n",
    "* 字符串\n",
    "    * Python使用 Unicode编码\n",
    "    * 编码与字符的转换\n",
    "        * int = ord(str)\n",
    "        * str = chr(int)\n",
    "    * str -> 指定编码的字节\n",
    "        * bytes = str.encode('ascii'/'utf-8')\n",
    "        * 'ABC'.encode('ascii') -> b'ABC'\n",
    "    * 指定编码的字节 -> str\n",
    "        *  str = bytes.decode('ascii'/'utf-8')\n",
    "    * 始终坚持使用UTF-8编码对str和bytes进行转换\n",
    "* 格式化字符串 - print输出\n",
    "    * 'srt %s, %s...' ** % (str1, str2,...) **\n",
    "    * 表示函数： 一般全部使用 %s\n",
    "        * %s：字符串\n",
    "        * %d：整数\n",
    "        * %f：浮点数\n",
    "        * %x：十六进制整数\n",
    "    * print('Hello, %s' % 'world') -> 'Hello, world'"
   ]
  },
  {
   "cell_type": "markdown",
   "metadata": {},
   "source": [
    "## 函数"
   ]
  },
  {
   "cell_type": "markdown",
   "metadata": {},
   "source": [
    "### 调用函数\n",
    "### 定义函数"
   ]
  },
  {
   "cell_type": "markdown",
   "metadata": {},
   "source": [
    "### 函数的参数\n",
    "#### 位置参数\n",
    "* 定义\n",
    "    * 普通的参数，就是占位的参数\n",
    "    \n",
    "#### 默认参数\n",
    "* 定义\n",
    "    * 必选参数在前，默认参数在后\n",
    "    * 当函数有多个参数时，把变化大的参数放前面，变化小的参数放后面。变化小的参数就可以作为默认参数。\n",
    "* 使用\n",
    "    * 按顺序提供默认参数，直接在函数里添加要修改为的参数即可\n",
    "    * 不按顺序提供部分默认参数时，需要把参数名写上\n",
    "    * def enroll(name, gender, age=6, city='Beijing'):enroll('li', 'male', 6)\n",
    "* 默认参数必须指向不变对象！\n",
    "\n",
    "#### 可变参数\n",
    "* 定义\n",
    "    * \\*args是可变参数，args接收的是一个tuple；\n",
    "    * 可变参数就是传入的参数个数是可变的，可以是1个、2个到任意个，还可以是0个\n",
    "    * 可变参数在函数调用时自动组装为一个tuple\n",
    "* 使用\n",
    "    * 参数前面加一个* 号\n",
    "        * def person(\\*names)\n",
    "    * 既可以直接传入：func(1, 2, 3)\n",
    "    * 又可以先组装list或tuple，再通过*args传入：func(*(1, 2, 3))；\n",
    "    * def calc(* numbers):  sum = 0 for n in numbers:\n",
    "* 特殊情况\n",
    "    *  输入为空，也可以  calc()"
   ]
  },
  {
   "cell_type": "markdown",
   "metadata": {},
   "source": [
    "#### 关键字参数\n",
    "* 定义\n",
    "    * \\*\\*kw是关键字参数，kw接收的是一个dict。\n",
    "    * 允许传入0个或任意个含参数名的参数，这些关键字参数在函数内部自动组装为一个dict\n",
    "    * 扩展函数的功能\n",
    "* 使用\n",
    "    * 参数中加入 ** kw\n",
    "        * def person(name, age, \\*\\*kw): print('name:', name, 'age:', age, 'other:', kw)\n",
    "    * 可以只传入必选参数 \n",
    "        * person('Michael', 30)\n",
    "        * name: Michael age: 30 other: {}\n",
    "    * 既可以直接传入：func(a=1, b=2)\n",
    "        * person('Adam', 45, gender='M', job='Engineer')\n",
    "            * name: Adam age: 45 other: {'gender': 'M', 'job': 'Engineer'}\n",
    "    * 又可以先组装dict，再通过\\*\\*kw传入：func(\\*\\*{'a': 1, 'b': 2})。\n",
    "        * extra = {'city': 'Beijing', 'job': 'Engineer'}\n",
    "        *  person('Jack', 24, ** extra)\n",
    "        * 注意kw获得的dict是extra的一份拷贝，对kw的改动不会影响到函数外的extra。\n",
    "        \n",
    "#### 命名关键字参数\n",
    "* 定义\n",
    "    * 限制关键字参数的名字\n",
    "* 使用\n",
    "    * (a,b, \\*, c, d)，* 后面的参数被视为命名关键字参数\n",
    "    * 必须传入参数名,即 city='Beijing'\n",
    "        * 只接收city和job作为关键字参数\n",
    "        * def person(name, age, * , city, job): \n",
    "        * person('Jack', 24, city='Beijing', job='Engineer')\n",
    "    * 如果函数定义中已经有了一个可变参数，后面跟着的命名关键字参数就不再需要一个特殊分隔符\\*了\n",
    "        * def person(name, age, \\*args, city, job):\n",
    "    * 可以有缺省值，从而简化调用\n",
    "        * def person(name, age, \\*, city='Beijing', job):\n",
    "        * 命名关键字参数city具有默认值，调用时，可不传入city参数：\n",
    "            * person('Jack', 24, job='Engineer')\n",
    "            \n",
    "#### 参数组合\n",
    "* 顺序必须是：必选参数、默认参数、可变参数、命名关键字参数和关键字参数\n",
    "\n",
    "#### 特殊\n",
    "* 对于任意函数，都可以通过类似func(\\*args, \\*\\*kw)的形式调用它，无论它的参数是如何定义的\n",
    "* 即通过对input进行 \\*a 可变参数化，\\*\\* 关键字参数化\n",
    "* def f1(a, b, c=0, \\*args, \\*\\*kw): print('a =', a, 'b =', b, 'c =', c, 'args =', args, 'kw =', kw)\n",
    "* args = (1, 2, 3, 4) kw = {'d': 99, 'x': '#'}, f1(\\*args, \\*\\*kw) \n",
    "* a = 1 b = 2 c = 3 args = (4,) kw = {'d': 99, 'x': '#'}"
   ]
  },
  {
   "cell_type": "markdown",
   "metadata": {},
   "source": [
    "### 递归函数\n",
    "* 通常写法：f(n) = （f(n-1)的表示方法）\n",
    "* 缺点：\n",
    "    * 空间复杂度过大\n",
    "        * 递归的函数调用是通过栈（stack）这种数据结构实现的，即使用return的次数\n",
    "        * 每当进入一个函数调用，栈就会加一层栈帧，每当函数返回，栈就会减一层栈帧。\n",
    "        * 由于栈的大小不是无限的，所以，递归调用的次数过多，会导致栈溢出\n",
    "* 尾递归 Tail call：\n",
    "    * 形式：return 语句调用自身本身，且不能包含表达式。计算在运行return的函数之前完成\n",
    "    * 与循环等价\n",
    "    * 优点：\n",
    "        * 若编译器或者解释器把尾递归做优化，使递归本身无论调用多少次，都只占用一个栈帧，不会出现栈溢出的情况\n",
    "        * 但是Python未优化，也会导致栈溢出"
   ]
  },
  {
   "cell_type": "markdown",
   "metadata": {},
   "source": [
    "## 高级特征\n",
    "### 切片 Slice\n",
    "* 对象：list,tuple,string\n",
    "* 浅复制list\n",
    "    * b = a[:]\n",
    "    * b = a.copy()\n",
    "    * import copy b = copy(a)\n",
    "    \n",
    "### 迭代\n",
    "* for a in list/tuple:\n",
    "* for a in str:\n",
    "* dic\n",
    "    * for key in dic:\n",
    "    * for value in dic.values():\n",
    "    * for key, value in dic.items():\n",
    "* 索引-元素对\n",
    "    * for i, value in enumerate(list):\n",
    "* for x, y in [[a, b], [c, d]]:"
   ]
  },
  {
   "cell_type": "markdown",
   "metadata": {},
   "source": [
    "### 列表生成式\n",
    "* 单层 [ f(x) for x in A]\n",
    "* 单层 + 判断 [ f(x) for x in A if B]\n",
    "* 双层全排列, 即两个for是平行结构，不是下一层结构\n",
    "    * [m + n for m in 'ABC' for n in 'XYZ']\n",
    "    * ['AX', 'AY', 'AZ', 'BX', 'BY', 'BZ', 'CX', 'CY', 'CZ']"
   ]
  },
  {
   "cell_type": "markdown",
   "metadata": {},
   "source": [
    "### 生成器 generator"
   ]
  },
  {
   "cell_type": "markdown",
   "metadata": {},
   "source": [
    "* 定义：在循环中不断按照某种算法计算出后面的元素\n",
    "* 创建\n",
    "    * 方法1：把列表生成式的[]改为()\n",
    "    * 方法2：在函数中加入 yield xxx, 函数变为生成器,生成xxx\n",
    "* 判断：isinstance(x, Iterable)\n",
    "    * e.g. isinstance(target, Iterable)\n",
    "* 输出方法：\n",
    "    * 方法1：next() 挨个元素输出\n",
    "        * **next(generator)** 运行一次，输出一个元素\n",
    "    * 方法2：for循环 输出 - 更常见\n",
    "        * for n in g:\n",
    "* 输出generator的return语句的返回值\n",
    "    * 必须捕获StopIteration错误，返回值包含在StopIteration的value中\n",
    "    * g = fib(6)\n",
    "    * while True:\n",
    "    * ...     try:\n",
    "    * ...         x = next(g)\n",
    "    * ...         print('g:', x)\n",
    "    * ...     except StopIteration as e:\n",
    "    * ...         print('Generator return value:', e.value)\n",
    "    * ...         break"
   ]
  },
  {
   "cell_type": "markdown",
   "metadata": {},
   "source": [
    "### 可迭代对象Iterable 和 迭代器 Iterator\n",
    "* 判断是否为可迭代对象/迭代器 \n",
    "    * from collections import Iterable, Iterator\n",
    "    * isinstance(xxx, Iterable/Iterator) ：True or False"
   ]
  },
  {
   "cell_type": "markdown",
   "metadata": {},
   "source": [
    "#### 可迭代对象Iterable\n",
    "* 定义：直接作用于for循环的对象统称为可迭代对象\n",
    "* 创建\n",
    "    * 集合数据类型，如list、tuple、dict、set、str等\n",
    "    * generator 生成器\n",
    "\n",
    "#### 迭代器 Iterator\n",
    "* 定义：可以被next()函数调用并不断返回下一个值的对象\n",
    "    * 属于惰性计算的序列，即不next就没有下一个\n",
    "* 创建\n",
    "    * 转换list/dict/str等iterable对象\n",
    "        * iter()函数\n",
    "        * e.g. iter('abc')\n",
    "    * generator 生成器\n",
    "        * e.g. (x for x in range(10))\n",
    "* 判断：isinstance(x, Iterator)\n",
    "    * e.g. isinstance(target, Iterator)\n",
    "* 输出方法\n",
    "    * 方法1：同generator\n",
    "    * 方法2：list/tuple/set(Iterator)把整个序列计算出来，并返回一个list/tuple/set\n",
    "* 特点\n",
    "    * Iterator是一个数据流（data flow），Iterator对象可以被next()函数调用并不断返回下一个数据，直到没有数据时抛出StopIteration错误\n",
    "    * 可以把这个数据流看做是一个有序序列，但我们却不能提前知道序列的长度，只能不断通过next()函数实现按需计算下一个数据\n",
    "        * Iterator甚至可以表示一个无限大的数据流，例如全体自然数。而使用list是永远不可能存储全体自然数的。"
   ]
  },
  {
   "cell_type": "markdown",
   "metadata": {},
   "source": [
    "## 函数式编程 Funtional Programming\n",
    "### 高阶函数 Higher-order function\n",
    "* 把函数作为参数传入，这样的函数称为高阶函数，函数式编程就是指这种高度抽象的编程范式。\n",
    "* def add(x, y, f): return f(x) + f(y)\n",
    "* add(-5, 6, abs)"
   ]
  },
  {
   "cell_type": "markdown",
   "metadata": {},
   "source": [
    "#### map/reduce\n",
    "* **map**\n",
    "    * 结构：Iterator = map(function name, Iterable)\n",
    "        * fucntion: one input, one output\n",
    "        * Iterable: list/tuple/dic/set/string\n",
    "        * Iterator: 用next()/for loop/ list/tuple/set(Iterator) 输出\n",
    "    * 功能\n",
    "        * 对每个元素的函数分块化，简洁化\n",
    "        * Iterator的每个元素 = fucntion(Iterable的每个元素)\n",
    "        * def f(x):  return x * x\n",
    "        * r = map(f, [1, 2, 3, 4, 5, 6, 7, 8, 9])\n",
    "        * list(r)： [1, 4, 9, 16, 25, 36, 49, 64, 81]\n",
    "* reduce\n",
    "    * from functools import reduce\n",
    "    * 结构：res = reduce(function(x, y), Iterable)\n",
    "        * fucntion: two input, one output\n",
    "        * Iterable: list/tuple/dic/set/string，e.g. [x1, x2, x3, ...]\n",
    "        * res: 一个int/string结果输出\n",
    "    * 功能：f(f(f(x1, x2), x3), x4)，两两累计算"
   ]
  },
  {
   "cell_type": "markdown",
   "metadata": {},
   "source": [
    "#### filter\n",
    "* filter\n",
    "    * 结构：Iterator = filter(TrueOrFalseFunction, Iterable)\n",
    "        * TrueOrFalseFunction:one input, True or False output\n",
    "        * Iterable: list/tuple/dic/set/string，e.g. [x1, x2, x3, ...]\n",
    "        * Iterator:  用next()/for loop/ list/tuple/set(Iterator) 输出\n",
    "    * 功能：Iterator的每个元素 =Iterable中让TrueOrFalseFucntion为True的元素\n",
    "        * list中删掉偶数，保留奇数\n",
    "        * 把一个序列中的空字符串删掉"
   ]
  },
  {
   "cell_type": "markdown",
   "metadata": {},
   "source": [
    "#### sorted\n",
    "* sorted\n",
    "    * sorted(iterable, key=None, reverse=False) \n",
    "    * 结构：new = sorted(old, key = xxx, reverse = True/Fasle)\n",
    "        * key指定的函数将作用于old的每一个元素上，并根据key函数返回的结果进行排序。\n",
    "        * reverse: True 小到大，False 大到小\n",
    "     * a = sorted(['bob', 'about', 'Zoo', 'Credit'], key=str.lower)\n",
    "         * a : ['about', 'bob', 'Credit', 'Zoo']"
   ]
  },
  {
   "cell_type": "markdown",
   "metadata": {},
   "source": [
    "### 返回函数\n",
    "#### 函数作为返回值\n",
    "* 定义：高阶函数中，高阶函数中定义的新函数作为结果值返回\n",
    "\n",
    "#### 闭包 Closure\n",
    "* 定义：在函数lazy_sum中又定义了函数sum，并且，内部函数sum可以引用外部函数lazy_sum的参数和局部变量，当lazy_sum返回函数sum时，相关参数和变量都保存在返回的函数中\n",
    "* 返回一个函数时，牢记该函数并未执行，返回函数中不要引用任何可能会变化的变量。"
   ]
  },
  {
   "cell_type": "markdown",
   "metadata": {},
   "source": [
    "### 匿名函数\n",
    "* 定义：非显示的定义函数\n",
    "* 结构：lambda x : f(x)\n",
    "    * 关键字lambda表示匿名函数\n",
    "    * 冒号前面的x表示函数参数\n",
    "    \n",
    "* 功能\n",
    "    * 输出\n",
    "        * f(x)\n",
    "    * 匿名函数是一个函数对象\n",
    "        * 可以把匿名函数赋值给一个变量，再利用变量来调用该函数\n",
    "            * f = lambda x: x * x,  f(5)\n",
    "        * 可以把匿名函数作为返回值返回,即返回函数\n",
    "            * def build(x, y): return lambda: x * x + y * y\n",
    "* 优势\n",
    "    * 函数没有名字，不必担心函数名冲突\n",
    "* 应用\n",
    "    * 排序\n",
    "        * new = sorted(old, key = lambda x: f(x))\n",
    "        * x是old里的元素\n",
    "        * 按照f(x)的大小对old里的元素x进行排序"
   ]
  },
  {
   "cell_type": "markdown",
   "metadata": {},
   "source": [
    "### 装饰器 Decorator\n",
    "* 函数也是一个对象，而且函数对象可以被赋值给变量，故通过变量能调用函数\n",
    "    * def now(): print('2015-3-25')，f = now， f()\n",
    "    * 函数对象有一个__name__属性，可以拿到函数的名字\n",
    "* 定义：在代码运行期间动态增加功能的方式\n",
    "    * 本质上，decorator就是一个返回函数的高阶函数\n",
    "* 实例说明：\n",
    "    * 定义一个能打印日志的decoratoR.\n",
    "        * 因为它是一个decorator，所以接受一个函数作为参数，并返回一个函数。\n",
    "        * def log(func):\n",
    "        * def wrapper(\\*args, \\*\\*kw):\n",
    "            print('call %s():' % func.__name__)\n",
    "            return func(\\*args, \\*\\*kw)\n",
    "        * return wrapper\n",
    "    * 把decorator置于函数的定义处，通过借助Python的@语法\n",
    "        * @log\n",
    "        * def now():\n",
    "            * print('2015-3-25')\n",
    "        * 调用now()函数，不仅会运行now()函数本身，还会在运行now()函数前打印一行日志\n",
    "        * 把@log放到now()函数的定义处，相当于执行了语句\n",
    "    * 由于log()是一个decorator，返回一个函数，所以，原来的now()函数仍然存在，只是现在同名的now变量指向了新的函数，于是调用now()将执行新函数，即在log()函数中返回的wrapper()函数。\n",
    "    * apper()函数的参数定义是(\\*args, \\*\\*kw)，因此，wrapper()函数可以接受任意参数的调用。在wrapper()函数内，首先打印日志，再紧接着调用原始函数。\n",
    "    * 如果decorator本身需要传入参数，那就需要编写一个返回decorator的高阶函数，写出来会更复杂。\n",
    "* 在面向对象（OOP）的设计模式中，decorator被称为装饰模式。OOP的装饰模式需要通过继承和组合来实现，而Python除了能支持OOP的decorator外，直接从语法层次支持decorator。Python的decorator可以用函数实现，也可以用类实现。\n",
    "* decorator可以增强函数的功能，定义起来虽然有点复杂，但使用起来非常灵活和方便。"
   ]
  },
  {
   "cell_type": "markdown",
   "metadata": {},
   "source": [
    "### 偏函数 Partial function\n",
    "* 定义：把一个函数的某些参数给固定住（也就是设置默认值），返回一个新的函数，调用这个新函数会更简单\n",
    "* 结构\n",
    "    * import functools\n",
    "    * new_function = functools.partial(old_function,\\*args, \\*\\*kw)\n",
    "        * e.g. int2 = functools.partial(int, base=2)\n",
    "    * new_function(XXX)\n",
    "        * int2('1000000') ： 64\n",
    "* 实例\n",
    "    * max2 = functools.partial(max, 10)\n",
    "    * max2(5, 6, 7) 等于 args = (10, 5, 6, 7)， max(*args)"
   ]
  },
  {
   "cell_type": "markdown",
   "metadata": {},
   "source": [
    "## 使用模块\n",
    "###  编写模块\n",
    "* 第1行：#!/usr/bin/env python3\n",
    "* 第2行：# -*- coding: utf-8 -*-\n",
    "* 第4行：'模块的文档注释'\n",
    "* 第6行：使用__author__变量把作者写进去，__author__ = 'Name'\n",
    "* 第8行：导入其他模块\n",
    "    * import sys\n",
    "* 第9行：函数\n",
    "    * def test():\n",
    "    * args = sys.argv\n",
    "    * if len(args)==1:\n",
    "        * print('Hello, world!')\n",
    "    * elif len(args)==2:\n",
    "        * print('Hello, %s!' % args[1])\n",
    "    * else:\n",
    "        * print('Too many arguments!')\n",
    "* 第10行：判断是否是在命令行运行该模块\n",
    "    * if __name__=='__main__': test()\n",
    "    * 当我们在命令行运行hello模块文件时，Python解释器把一个特殊变量__name__置为__main__，而如果在其他地方导入该hello模块时，if判断将失败\n",
    "    * 因此，这种if测试可以让一个模块通过命令行运行时执行一些额外的代码，最常见的就是运行测试"
   ]
  },
  {
   "cell_type": "markdown",
   "metadata": {},
   "source": [
    "###  作用域\n",
    "* 公开的\n",
    "    * 正常的函数和变量名，可以被直接引用\n",
    "    * e.g. abc, x123\n",
    "* 特殊公开变量\n",
    "    * \\_\\_xxx__ \n",
    "    * 可以被直接引用，但是有特殊用途\n",
    "    * e.g. \\_\\_author__, \\_\\_name__\n",
    "* 私有的\n",
    "    * 私有的函数和变量，不应该直接被引用\n",
    "    * def \\_xxx, \\_\\_xxx\n",
    "    * e.g. \\_abc\n",
    "* 总结\n",
    "    * 外部不需要引用的函数全部定义成private，只有外部需要引用的函数才定义为public"
   ]
  },
  {
   "cell_type": "markdown",
   "metadata": {},
   "source": [
    "## 面向对象的编程\n",
    "* Object Oriented Programming, OOP\n",
    "* 程序的基本单元：对象\n",
    "* 对象\n",
    "    * 数据和操作数据的函数\n",
    "    * 所有数据类型\n",
    "    * 自定义对象，e.g. x = mySoluction,x即自定义对象\n",
    "* 设计思想：抽象出Class，根据Class创建Instance\n",
    "    * Class——Student，是指学生这个概念\n",
    "    * 实例（Instance）则是一个个具体的Student，"
   ]
  },
  {
   "cell_type": "markdown",
   "metadata": {},
   "source": [
    "### 类和实例\n",
    "* 类：抽象的模板\n",
    "* 实例：根据类创建出来的一个个具体的对象\n",
    "    * 各个实例拥有的数据都互相独立，互不影响\n",
    "* 类\n",
    "    * 创建\n",
    "        * class 类名（**大写开头单词**） + (要继承的类)\n",
    "    * 绑定属性（强制）\n",
    "        * def __init__(self, attribute1, attribute2):\n",
    "            * self.attributeA = attribute1\n",
    "            * self.attributeB = attribute2\n",
    "    * 当我们定义一个class的时候，我们实际上就定义了一种数据类型。\n",
    "        * 我们定义的数据类型和Python自带的数据类型，比如str、list、dict没什么两样\n",
    "* 实例\n",
    "    * 实例变量 = 实例\n",
    "    * 创建\n",
    "        * instance_name = 类名()\n",
    "    * 绑定新属性（可选）\n",
    "        * instance_name.新属性名 = XXX\n",
    "    * 修改类创建的属性\n",
    "        * instance_name.旧属性名 = YYY\n",
    "        \n",
    "* 函数，即类的方法\n",
    "    * 第一个参数永远是实例变量self，并且，调用时，不用传递该参数\n",
    "    * 类的方法和普通函数没有什么区别，仍然可以用默认参数、可变参数、关键字参数和命名关键字参数。 "
   ]
  },
  {
   "cell_type": "markdown",
   "metadata": {},
   "source": [
    "### 数据封装\n",
    "* 封装：类实例本身就拥有一些用init定义的数据，要访问这些数据，就没有必要从外面的函数去访问，可以在类的内部定义访问数据的函数，即把这些数据封装起来了。\n"
   ]
  },
  {
   "cell_type": "markdown",
   "metadata": {},
   "source": [
    "### 访问限制\n",
    "* 定义：实例可以修改类创建的属性，故进行访问限制，让内部属性不被外部访问\n",
    "* 方法：类的属性的名称前加上两个下划线__\n",
    "    * def \\_\\_init__(self, name, score):\n",
    "        * self.__name = name\n",
    "        * self.__score = score\n",
    "* 允许外部代码获得属性\n",
    "    * 类增加函数\n",
    "        * def get_name(self):\n",
    "            * return self.__name\n",
    "* 允许外部代码修改属性\n",
    "    * 类增加函数\n",
    "        * def set_score(self, score):\n",
    "            * self.__score = score\n",
    "* 一个下划线开头的实例名\n",
    "    * 可以访问的，但是，按照约定俗成的规定，当你看到这样的变量时，意思就是，“虽然我可以被访问，但是，请把我视为私有变量，不要随意访问”。"
   ]
  },
  {
   "cell_type": "markdown",
   "metadata": {},
   "source": [
    "### 继承和多态 Inheritance and polymorphism\n",
    "* 继承\n",
    "    * 当我们定义一个class的时候，可以从某个现有的class继承\n",
    "    * 新的class：子类（Subclass）\n",
    "    * 被继承的class：基类、父类或超类（Base class、Super class）。\n",
    "* 继承的优势\n",
    "    * 继承：子类获得了父类的全部功能\n",
    "        * 父类有什么函数，子类就有\n",
    "    * 多态：当子类和父类都存在相同的函数（方法）时，总是会调用子类的函数（方法）\n",
    "        * 对扩展开放：允许新增子类\n",
    "        * 对修改封闭：不需要修改依赖父类型的函数\n",
    "* 静态语言 vs 动态语言\n",
    "    * 对于静态语言（例如Java）来说，如果需要传入Animal类型，则传入的对象必须是Animal类型或者它的子类，否则，将无法调用run()方法。\n",
    "    * 对于Python这样的动态语言来说，则不一定需要传入Animal类型。我们只需要保证传入的对象有一个run()方法就可以了\n",
    "        * 这就是动态语言的“鸭子类型”，它并不要求严格的继承体系，一个对象只要“看起来像鸭子，走起路来像鸭子”，那它就可以被看做是鸭子。\n",
    "        * Python的“file-like object“就是一种鸭子类型。对真正的文件对象，它有一个read()方法，返回其内容。但是，许多对象，只要有read()方法，都被视为“file-like object“。许多函数接收的参数就是“file-like object“，你不一定要传入真正的文件对象，完全可以传入任何实现了read()方法的对象。"
   ]
  },
  {
   "cell_type": "markdown",
   "metadata": {},
   "source": [
    "### 获取对象信息\n",
    "* type()\n",
    "    * 判断一个对象是否是函数\n",
    "        * 可以使用types模块中定义的常量\n",
    "        * import types\n",
    "        * type(abs)==types.BuiltinFunctionType\n",
    "    * return Class type\n",
    "    \n",
    "* ininstance(object, (type1, type2, ...))  - **优先使用**\n",
    "    * isinstance([1, 2, 3], (list, tuple))\n",
    "    \n",
    "* dir()\n",
    "    * 获得一个对象的所有属性和方法\n",
    "    * return list\n",
    "    * 配合getattr()、setattr()以及hasattr()，我们可以直接操作一个对象的状态"
   ]
  },
  {
   "cell_type": "markdown",
   "metadata": {},
   "source": [
    "### 实例属性和类属性\n",
    "* 实例属性\n",
    "    * 绑定方法\n",
    "        * \\_\\_init__绑定\n",
    "        * 实例变量绑定\n",
    "            * s.score = 90\n",
    "    * 实例属性属于各个实例所有，互不干扰\n",
    "* 类属性\n",
    "    * 绑定方法\n",
    "        * 直接在class中定义属性\n",
    "        * 类属性属于类所有，所有实例共享一个属性\n",
    "        * class Student(object):\n",
    "            * name = 'Student'\n",
    "* 相同名称的实例属性将屏蔽掉类属性，但是当你删除实例属性后，再使用相同的名称，访问到的将是类属性\n",
    "* 不要对实例属性和类属性使用相同的名字，否则将产生难以发现的错误。"
   ]
  },
  {
   "cell_type": "markdown",
   "metadata": {},
   "source": [
    "## 面向对象的高级编程\n",
    "* https://www.liaoxuefeng.com/wiki/1016959663602400/1017501628721248\n",
    "* 使用\\_\\_slots__\n",
    "* 使用@property\n",
    "* 多重继承\n",
    "* 定制类\n",
    "* 使用枚举类\n",
    "* 使用元类"
   ]
  },
  {
   "cell_type": "markdown",
   "metadata": {},
   "source": [
    "## 错误、调试和测试\n",
    "* https://www.liaoxuefeng.com/wiki/1016959663602400/1017598814713792\n",
    "* 错误处理\n",
    "* 调试\n",
    "* 单元测试\n",
    "* 文档测试"
   ]
  },
  {
   "cell_type": "markdown",
   "metadata": {},
   "source": [
    "## IO编程\n",
    "* https://www.liaoxuefeng.com/wiki/1016959663602400/1017606916795776\n",
    "* 文件读写 - 参见 ML 学习笔记\n",
    "* StringIO 和 BytesIO\n",
    "    * StringIO和BytesIO是在内存中操作str和bytes的方法，使得和读写文件具有一致的接口\n",
    "* 操作文件和目录- 参见 ML 学习笔记\n",
    "* 序列化\n",
    "    * Python提供了pickle模块来实现序列化\n",
    "    * 用pickle.loads()方法反序列化\n",
    "    * JSON\n",
    "    * JSON进阶"
   ]
  },
  {
   "cell_type": "markdown",
   "metadata": {},
   "source": [
    "## 进程和线程\n",
    "* https://www.liaoxuefeng.com/wiki/1016959663602400/1017627212385376\n",
    "* 多进程\n",
    "* 多线程\n",
    "* ThreadLocal\n",
    "* 进程 vs. 线程\n",
    "* 分布式进程"
   ]
  },
  {
   "cell_type": "markdown",
   "metadata": {},
   "source": [
    "## 正则表达式\n",
    "* 基础匹配库\n",
    "    * \\d 一个数字\n",
    "    * \\w 一个字母或数字\n",
    "    * . 一个任意字符\n",
    "    * \\* 任意个字符\n",
    "    * \\+ 至少一个字符\n",
    "    *  ？ 0或1个字符\n",
    "    * {n} n个字符\n",
    "    * {n, m} n-m个字符\n",
    "    * \\s 一个空格（包括Tab等空白符）\n",
    "    * \\s+ 至少一个空格\n",
    "    * \\ 转义字符\n",
    "        * 表示 - : \\\\-"
   ]
  },
  {
   "cell_type": "markdown",
   "metadata": {},
   "source": [
    "* 进阶匹配库\n",
    "    * 用[]表示范围\n",
    "    * [0-9a-zA-Z\\_] 匹配一个数字、字母或者下划线\n",
    "    * [0-9a-zA-Z\\_]+ 匹配至少由一个数字、字母或者下划线组成的字符串\n",
    "        * 比如'a100'，'0_Z'，'Py3000'等等\n",
    "    * [a-zA-Z\\_][0-9a-zA-Z\\_]* 匹配由字母或下划线开头，后接任意个由一个数字、字母或者下划线组成的字符串\n",
    "        * 即Python合法的变量\n",
    "    * [a-zA-Z\\_][0-9a-zA-Z\\_]{0, 19}  更精确地限制了变量的长度是1-20个字符\n",
    "        * 前面1个字符+后面最多19个字符\n",
    "    * A|B可以匹配A或B\n",
    "        * (P|p)ython可以匹配'Python'或者'python'\n",
    "    * ^表示行的开头，^\\d表示必须以数字开头\n",
    "    * \\\\$表示行的结束，\\d\\\\$表示必须以数字结束"
   ]
  },
  {
   "cell_type": "markdown",
   "metadata": {},
   "source": [
    "* re模块\n",
    "    * 强烈建议使用Python的r前缀，就不用考虑转义的问题\n",
    "    * import re\n",
    "    * test = '用户输入的字符串'\n",
    "    * if re.match(r'正则表达式', test):\n",
    "        * print('ok')\n",
    "    * else:\n",
    "        * print('failed')"
   ]
  },
  {
   "cell_type": "markdown",
   "metadata": {},
   "source": [
    "* 切分字符串\n",
    "    * re.split(r'正则表达式', string)\n",
    "    * re.split(r'\\s+', 'a b   c')\n",
    "        * ['a', 'b', 'c']\n",
    "    * re.split(r'[\\s\\,]+', 'a,b, c  d')\n",
    "        * ['a', 'b', 'c', 'd']\n",
    "    * re.split(r'[\\s\\,\\;]+', 'a,b;; c  d')\n",
    "        * ['a', 'b', 'c', 'd']"
   ]
  },
  {
   "cell_type": "markdown",
   "metadata": {},
   "source": [
    "* 分组\n",
    "    * 可以提取子串，其中用()表示的就是要提取的分组（Group）\n",
    "    * m = re.match(r'(group1) - (group i)', string)\n",
    "    * m.group(i)\n",
    "        * group(0)永远是原始字符串\n",
    "        * group(1)、group(2)……表示第1、2、……个子串\n",
    "    * e.g. \n",
    "        * t = '19:05:30'\n",
    "        * m = re.match(r'^(0[0-9]|1[0-9]|2[0-3]|[0-9])\\:(0[0-9]|1[0-9]|2[0-9]|3[0-9]|4[0-9]|5[0-9]|[0-9])\\:(0[0-9]|1[0-9]|2[0-9]|3[0-9]|4[0-9]|5[0-9]|[0-9])$', t)\n",
    "        * m.groups() -> ('19', '05', '30')"
   ]
  },
  {
   "cell_type": "markdown",
   "metadata": {},
   "source": [
    "* 贪婪匹配\n",
    "    * 正则匹配默认是贪婪匹配，也就是匹配尽可能多的字符\n",
    "        * 故注意匹配的时候，不要让正则把后面的全部匹配了"
   ]
  },
  {
   "cell_type": "markdown",
   "metadata": {},
   "source": [
    "* 编译\n",
    "    * 当我们在Python中使用正则表达式时，re模块内部会干两件事情\n",
    "        * 编译正则表达式，如果正则表达式的字符串本身不合法，会报错\n",
    "        * 用编译后的正则表达式去匹配字符串\n",
    "    * 如果一个正则表达式要重复使用几千次，出于效率的考虑，我们可以预编译该正则表达式，接下来重复使用时就不需要编译这个步骤了，直接匹配\n",
    "    * import re\n",
    "    * re_telephone = re.compile(r'^(\\d{3})-(\\d{3,8})\\\\$')\n",
    "    * re_telephone.match('010-12345').groups()  -> ('010', '12345')\n",
    "        * 编译后生成Regular Expression对象，由于该对象自己包含了正则表达式，所以调用对应的方法时不用给出正则字符串。"
   ]
  },
  {
   "cell_type": "markdown",
   "metadata": {},
   "source": [
    "## 常用内建模块\n",
    "### datatime\n",
    "#### 概念\n",
    "* from datetime import datetime\n",
    "* 当前时间\n",
    "    * datetime.now()\n",
    "* str 转化为 datetime\n",
    "    * cday = datetime.strptime('2015-6-1 18:19:59', '%Y-%m-%d %H:%M:%S')\n",
    "* datatime 转化为 str\n",
    "    * string = datetime.strftime('%a, %b %d %H:%M')\n",
    "* datetime加减\n",
    "    * (datetime1 - datetime2).days 用天表示结果\n",
    "        * 0 <= microseconds < 1000000\n",
    "        * 0 <= seconds < 3600\\*24 (一天的秒数)\n",
    "        * -999999999 <= days <= 999999999\n",
    "    * datetime_new = datetime + timedelta(days=2, hours=12)\n",
    "* timestamp 无关时区的值\n",
    "\n",
    "#### 题型\n",
    "* 1360. Number of Days Between Two Dates.py"
   ]
  },
  {
   "cell_type": "markdown",
   "metadata": {},
   "source": [
    "### collections\n",
    "#### namedtuple 自定义tuple对象\n",
    "* namedtuple是一个函数\n",
    "* 它用来创建一个自定义的tuple对象，并且规定了tuple元素的个数，并可以用属性而不是索引来引用tuple的某个元素\n",
    "\n",
    "#### defaultdic \n",
    "* 使用dict时，如果引用的Key不存在，就会抛出KeyError。如果希望key不存在时，返回一个默认值，就可以用defaultdict\n",
    "    * from collections import defaultdict\n",
    "    * dd = defaultdict(lambda: 'N/A')\n",
    "    * dd['key1'] = 'abc' -> 'abc'\n",
    "        * 在建立默认值lambda之后再给dd赋值\n",
    "    * dd['key2'] -> 'N/A'\n",
    "* 默认值是调用返回函数时返回的,即在key不存在时返回的\n",
    "* 返回函数在创建defaultdict对象时传入的\n",
    "\n",
    "#### 计数器\n",
    "* from collections import Counter\n",
    "* c = Counter(target) : Counter(dic{elem:times})\n",
    "    * target: iterable/关键字参数\n",
    "\n",
    "* 数学集合操作\n",
    "    * a + b 相加\n",
    "        * 相同的key的value相加\n",
    "    * a - b 相减\n",
    "        * 相同的key的value相减，只保留正值的value\n",
    "    * a.subtract(b) 相减\n",
    "        * 相同的key的value相减，全部保留\n",
    "    * a & b 交集\n",
    "        * 取两者都有的key,value取小的那一个\n",
    "    * a | b 并集\n",
    "        * 汇聚所有的key, key相同的情况下，取大的value\n",
    "* 常见做法\n",
    "    * list(c) 返回key组成的list\n",
    "    * set(c) 返回key组成的set\n",
    "    * dict(c) 转化成字典\n",
    "    * c.items() 转化成(元素，计数值)组成的列表\n",
    "    * Counter(dict(list_of_pairs)) 从(元素，计数值)组成的列表转化成Counter\n",
    "    * sum(c.values()) 继承自字典的.values()方法返回values的列表，再求和\n",
    "    * c += Counter() 利用counter的相加来去除times为0或负的值\n",
    "    \n",
    "#### deque 队列\n",
    "* 见3.4\n",
    "#### OrderedDict\n",
    "* 新版python已经无用\n",
    "#### ChainMap\n",
    "* hainMap可以把一组dict串起来并组成一个逻辑上的dict。ChainMap本身也是一个dict，但是查找的时候，会按照顺序在内部的dict依次查找。\n",
    "* 什么时候使用ChainMap最合适？\n",
    "    * 举个例子：应用程序往往都需要传入参数，参数可以通过命令行传入，可以通过环境变量传入，还可以有默认参数。我们可以用ChainMap实现参数的优先级查找，即先查命令行参数，如果没有传入，再查环境变量，如果没有，就使用默认参数。"
   ]
  },
  {
   "cell_type": "markdown",
   "metadata": {},
   "source": [
    "### 其他\n",
    "* https://www.liaoxuefeng.com/wiki/1016959663602400/1017685387246080\n",
    "* base64\n",
    "* struct\n",
    "* hashlib\n",
    "* itertools\n",
    "* contextlib\n",
    "* urllib\n",
    "* XML\n",
    "* HTMLParser"
   ]
  },
  {
   "cell_type": "markdown",
   "metadata": {},
   "source": [
    "# 数据结构基础\n"
   ]
  },
  {
   "cell_type": "markdown",
   "metadata": {},
   "source": [
    "## list/set/dict/string 综合技巧\n",
    "* 求每个字母在每个位置上出现的次数（在多个包含此元素的elem中）\n",
    "    * 关键参数：位置，字母\n",
    "    * 思路1： 位置上看字母\n",
    "        * 扫描多个elem的第一个位置，记录元素种类及次数；扫描第二个位置，记录元素种类及次数...\n",
    "    * 思路2：字母上看位置\n",
    "        * 针对每个字母，统计其在各个位置上的分布。e.g. a：[0:1, 1:3, 2:6], a字母在0位置上出现1次...\n",
    "    * 1366. Rank Teams by Votes\n",
    "* 排序\n",
    "    * 按字母序排序时，两种方案\n",
    "        * 简单法: sort 字母\n",
    "        * 按照转换成的26个数字序：sorted(list, key = lambda x: ord(x)) # 正逆序用 ord(x)/-ord(x)来设定\n",
    "    * 复杂排序\n",
    "        * 排序a里的字母，可以通过b里的关于a字母的字典集进行排序 sorted(a, key = lambda x : b[x])"
   ]
  },
  {
   "cell_type": "markdown",
   "metadata": {
    "pycharm": {
     "name": "#%% md\n"
    }
   },
   "source": [
    "## List/Stack 列表/栈"
   ]
  },
  {
   "cell_type": "markdown",
   "metadata": {},
   "source": [
    "### 定义\n",
    "* Stores data elements based on an sequential, most commonly 0 based, index. \n",
    "* Based on tuples from set theory. （元组 + 可变的集合 -> 可变的元组）。\n",
    "* They are one of the oldest, most commonly used data structures. "
   ]
  },
  {
   "cell_type": "markdown",
   "metadata": {},
   "source": [
    "### 常用操作及复杂度\n",
    "* 增 \n",
    "    * list.append(obj) O(1)\n",
    "        * append操作是没有返回值的\n",
    "        * 求a添加b后的list：a.append(b), return a\n",
    "    * list.extend(seq) O(len(seq)) 用新列表扩展原来的列表\n",
    "        * = listA + listB  O(len(listB)) 用B扩展A\n",
    "    * list.insert(**index, obj**) O(index)\n",
    "* 删 \n",
    "    * b = list.pop()  O(1)\n",
    "    * b = list.pop(i) O(N), O(N-i): list.pop(0):O(N) \n",
    "        * = del list[i]/del list, O(N) depends on i; O(N) in worst case i都为0开始的正序，但pop有返回值，del没有返回值\n",
    "    * list.remove(obj) O(N) 移除列表中某个值的第一个匹配项\n",
    "    * **list.clear() O(1)** 清空列表\n",
    "* 改 \n",
    "    * list[i] = newValue O(1)\n",
    "* 查\n",
    "    * list[i] O(1)\n",
    "    * list[a:b] O(b-a)\n",
    "        * **a和b可以超过list index的范围**, e.g bottom-up merge sort\n",
    "    * list.index(obj) O(N) 从列表中找出某个值第一个匹配项的索引位置 \n",
    "* 排\n",
    "    * list.sort( key=None, **reverse=False**) O(NlogN)  **无返回值**\n",
    "    * new = sorted(list)  **有返回值**\n",
    "    * list.reverse() O(N) 转置\n",
    "    * a = list[::-1] O(N) 转置"
   ]
  },
  {
   "cell_type": "markdown",
   "metadata": {},
   "source": [
    "* 其他\n",
    "    * 计数 list.count(obj) O(N) 统计某个元素在列表中出现的次数\n",
    "    * 长度 len(list) **O(1)**\n",
    "    * 构造 list(string or ...) O(len(,,,))\n",
    "    * **判断 check ==, != O(N)**\n",
    "    * 包含 x in/not in list O(N)\n",
    "    * 极值 max(list) / min(list) O(N)\n",
    "    * 迭代 for v in l:  O(N) \n",
    "    * 乘 \n",
    "        * k * list  O(k N)\n",
    "        * 5 * list  O(N)\n",
    "        * len(list) * list  O(N**2)\n",
    "        * 乘的是括号里面的数，再外套括号\n",
    "            * a = [1, 3, 4], b = a * 2, b = [1, 3, 4, 1, 3, 4]\n",
    "            * a = a = [[1,3,4], [2,3,4]], b = [a[0]]* 2, b = [[1, 3, 4], [1, 3, 4]]\n",
    "    * **复制**\n",
    "        * 浅复制\n",
    "            * b = list.copy() O(N) \n",
    "            * 最方便 b = list[:]  O(N)\n",
    "            * from copy import copy a = copy(A) O(N)\n",
    "        * 深复制\n",
    "             * a = deepcopy(A) O(N)\n",
    "* 总结：需要对list中每一个元素都需要进行的操作是O(N)\n",
    "\n",
    "* **特别**\n",
    "    * list.sort( key=None, **reverse=False**) \n",
    "        * reverse = False(默认，小到大)/True(大到小)\n",
    "        * key=lambda y: y[1] \n",
    "            * y代表list的元素\n",
    "            * y[1]代表以元素的1st值作为排序标准\n",
    "            * 备注：这里y可以是任意字母，等同key=lambda x: x[1]\n",
    "        * key = lambda x: (x[1], x[0])\n",
    "            * 以x[1], x[0]为排序标准，以x[1]为优先准则，x[1]相等下，按照x[0]排序\n",
    "    * new_list = [elem[0] for elem in list] 生成器\n",
    "         * 用list里的元素elem的elem[0]作为new_list的元素\n",
    "* **矩阵**\n",
    "    * 求矩阵的某i列,只能用列表生成式\n",
    "        * [elem[i] for elem in matrix] "
   ]
  },
  {
   "cell_type": "markdown",
   "metadata": {},
   "source": [
    "### 优缺点和适用情况\n",
    "* 针对每个 DS 和算法，应该问自己：有什么优缺点？我什么时候可以使用它？\n",
    "* 优点: \n",
    "    * append(obj), pop() 作为stack， 从尾部存储和弹出单个变量\n",
    "    * list[i] = newValue, list[i] 作为存储结构，修改里面的元素和索引里面的元素\n",
    "    * len(i) 求一段长度，也等于 j-i + 1\n",
    "    * list.sort() 排序速度很快了\n",
    "* 缺点: \n",
    "    * index(obj) O(N) 不适合查找值为obj的变量\n",
    "    * insert(index, obj)不适合插入增加值\n",
    "    * pop(i)/del list(i) 不适合选择删除\n",
    "* 其他适用情况：\n",
    "    * 构造最基本结构：线性数组 Linear data structures, are the most basic. .\n",
    "        * Stack 栈 - 简单的，按照输入顺序存储数据。\n",
    "    * 构造非线性数据结构 Non-linear data structures.\n",
    "        * Graphs 图 [[1,2], [3, 4]]\n",
    "        * Trees  树 中序遍历 [1,[2,4,5],3]"
   ]
  },
  {
   "cell_type": "markdown",
   "metadata": {},
   "source": [
    "### 常用技巧和算法"
   ]
  },
  {
   "cell_type": "markdown",
   "metadata": {},
   "source": [
    "#### Stack类题目\n",
    "* 做题套路\n",
    "    * 先建立stack，循环的把input放入，然后再循环中进一步操作，例如比对和pop\n",
    "    \n",
    "* 易错点\n",
    "    * 随时判断stack是否为空\n",
    "    * test case时，可以移动角标法"
   ]
  },
  {
   "cell_type": "markdown",
   "metadata": {},
   "source": [
    "#### 技巧和算法"
   ]
  },
  {
   "cell_type": "markdown",
   "metadata": {},
   "source": [
    "* 存储 序号和元素属性\n",
    "    * 套嵌列表 [[index, sum],...]\n",
    "        * 可排序\n",
    "    * dic存储\n",
    "        * 可排序 new = dic.sorted(dic.items(), key = lambda item : item[0/1])\n",
    "* Prefix method 前缀和\n",
    "* **求最大/最小值**\n",
    "    * 最优方法\n",
    "        * 先定义最大/最小值 res =float('inf')/float('-inf')\n",
    "        * 后生成值与res不断的比较更新\n",
    "        * 优势：省去list存储\n",
    "    * 普通方法\n",
    "        * 先建立list存储\n",
    "        * 再res = max(list)"
   ]
  },
  {
   "cell_type": "markdown",
   "metadata": {},
   "source": [
    "#### 注意要点"
   ]
  },
  {
   "cell_type": "markdown",
   "metadata": {},
   "source": [
    "## Tuple 元组"
   ]
  },
  {
   "cell_type": "markdown",
   "metadata": {},
   "source": [
    "### 定义\n",
    "* 不能修改的list, immutable\n",
    "* 空 t = ()\n",
    "* 单个元素 t = **(1,)**\n",
    "* t = (1, 2, 3, 4, 5)"
   ]
  },
  {
   "cell_type": "markdown",
   "metadata": {},
   "source": [
    "### 常用操作及复杂度\n",
    "* 增\n",
    "    * t1 + t2 O(len(t2))\n",
    "* 删\n",
    "    * del t 删除整个tuple O(1)\n",
    "* 改 - None\n",
    "* 查\n",
    "    * t[i] O(1)\n",
    "    * t[a:b] O(b-a)\n",
    "    * t.index[obj] O(N)\n",
    "* 排 - None\n",
    "* 其他\n",
    "    * 计数 l.count(obj) O(N)\n",
    "    * 长度 len(t) O(1)\n",
    "    * 构造 tuple(seq) O(N)\n",
    "    * 判断 ==, != O(N)\n",
    "    * 包含 a in/not in t O(N)\n",
    "    * 极值 max/min(t) O(N)\n",
    "    * 迭代 for a in t O(N)\n",
    "    * 乘 k * t O(kN)\n",
    "    * from copy import copy, deepcopy  \n",
    "     a = copy(A) O(N) 浅复制 \n",
    "     a = deepcopy(A) O(N)  深复制 \n",
    "    \n"
   ]
  },
  {
   "cell_type": "markdown",
   "metadata": {},
   "source": [
    "### 优缺点和适用情况\n",
    "* 针对每个 DS 和算法，应该问自己：有什么优缺点？我什么时候可以使用它？\n",
    "* 优点\n",
    "    * t不可变性\n",
    "        * 作为dic的key\n",
    "        * 不可改变的存储结构， 用于性能优化，多线程安全，不需要锁，不担心被恶意修改或者不小心修改。\n",
    "    * t[i] 作为存储结构，索引里面的元素\n",
    "    * len(i) 求一段长度，也等于 j-i + 1\n",
    "* 缺点\n",
    "    * index(obj) O(N) 不适合查找值为obj的变量\n",
    "* 其他适用情况 - 无"
   ]
  },
  {
   "cell_type": "markdown",
   "metadata": {},
   "source": [
    "### 注意要点\n",
    "* 函数可以同时返回多个值，但其实返回的就是一个tuple。"
   ]
  },
  {
   "cell_type": "markdown",
   "metadata": {
    "pycharm": {
     "name": "#%% md\n"
    }
   },
   "source": [
    "## Linked list"
   ]
  },
  {
   "cell_type": "markdown",
   "metadata": {},
   "source": [
    "### 定义\n",
    "* Stores data with nodes that point to other nodes. 用节点储存数据并指向其他节点\n",
    "    * 节点的描述：Nodes, at its most basic it has one datum and one reference (another node) 在最基础的情况下，节点拥有一个数据和一个参考（其他节点）\n",
    "    * 链表的描述：A linked list chains nodes together by pointing one node's reference to another. 节点通过指向另一个节点从而使链表连接在一起\n",
    "    * Doubly linked list has nodes that also references the previous node. 双向链表有两个参考，一个是之前的node，一个是之后的node\n",
    "    * Circularly linked list is simple linked list whose tail, the last node, references the head, the first node. 成环链表是由简单的链表首末相连组成"
   ]
  },
  {
   "cell_type": "code",
   "execution_count": 2,
   "metadata": {},
   "outputs": [],
   "source": [
    "class ListNode:\n",
    "    def __init__(self, x):\n",
    "        self.val = x\n",
    "        self.next = None"
   ]
  },
  {
   "cell_type": "markdown",
   "metadata": {},
   "source": [
    "### 常用操作及复杂度\n",
    "* 增\n",
    "    * node.next = b O(1) 头/尾增加\n",
    "* 删\n",
    "    * node.next = None O(1) 头/尾删除\n",
    "* 改\n",
    "    * node.val = obj O(1) 头/尾修改值\n",
    "* 查\n",
    "    * while node.val = obj: node = node.next  O(N)\n",
    "* 排\n",
    "    * merge sort: O(NlogN)\n",
    "    * store in list, then list.sort(), then transfer as linkedlist： O(NlogN)"
   ]
  },
  {
   "cell_type": "markdown",
   "metadata": {},
   "source": [
    "### 优缺点及适用情况 \n",
    "* 优点\n",
    "    * 增、删：从头部或者尾部增加或删除node\n",
    "        * 可以实现stack栈和Queue队列\n",
    "    * 修改值 node.val = obj\n",
    "* 缺点\n",
    "    * 查,需要遍历 O(N) \n",
    "* 其他适用情况 - 无"
   ]
  },
  {
   "cell_type": "markdown",
   "metadata": {},
   "source": [
    "### 题目总结"
   ]
  },
  {
   "cell_type": "markdown",
   "metadata": {},
   "source": [
    "#### 技巧和算法"
   ]
  },
  {
   "cell_type": "markdown",
   "metadata": {},
   "source": [
    "* 建立dummy = cur = head\n",
    "    * 原因：head可能为处理对象\n",
    "    * 优点\n",
    "        * 不影响head的判断，可以直接跳过head\n",
    "* two pointer method\n",
    "    * 优点\n",
    "        * 前后段对比\n",
    "        * 判断相邻前后点\n",
    "            * 相互是否数值重复\n",
    "            * 与其他值的大小关系/重复关系\n",
    "        * 返回两个链表的head\n",
    "    * 缺点：\n",
    "         * 容易搞混\n",
    "    * 模板：328. Odd Even Linked List\n",
    "         * 先建立两个头节点，并尽可能备份(evenH) odd = head, even = evenH = head.next\n",
    "         * 循环，以最远的节点和其next作为判断 while even and even.next\n",
    "         * 连接操作 + 两个头节点挪屁股操作 odd.next = even.next, odd = odd.next, even.next = odd.next, even = even.next\n",
    "         * 连接最终结果，并返回备份的头\n",
    "* slow-fast pointer\n",
    "    * 原因：无法得知长度\n",
    "    * 优点\n",
    "        * 寻找中点\n",
    "        * 寻找负nth点 + dummy, 注意while f.next\n",
    "        * 判断/寻找环\n",
    "     * 缺点/困难点\n",
    "         * 处理奇偶数\n",
    "             * 会跳到奇数中点或偶数下半段起点\n",
    "             * while需要添加f.next的判断，防止跳过了\n",
    "* 转list/set/dic/数字\n",
    "    * 转成list，利用list的性质，对元素进行操作\n",
    "        * 优点：方便，简单\n",
    "        * 缺点：\n",
    "            * 占据空间，空间复杂度为O(N)\n",
    "            * a in list，时间复杂度为O(N)\n",
    "    * 转成set\n",
    "        * 优点：a in set，时间复杂度为O(1)\n",
    "        * 缺点：set.add()，之后set里元素顺序并不是添加顺序\n",
    "    * 转成dic\n",
    "        * 优点：\n",
    "            * a in dic，时间复杂度为O(1)\n",
    "            * 记录node出现次数\n",
    "            * 记录复杂链表的对应关系\n",
    "        * 缺点\n",
    "            * 无切片等操作\n",
    "     * 转成数字\n",
    "         * 优点：算数运算方便\n",
    "         * 缺点：链表和数字相互转换，时间复杂度为O(N)\n",
    "* 转置法\n",
    "    * 优点\n",
    "        * 利于加和\n",
    "        * 利于回文判断\n",
    "        * 利于交叉合并\n",
    "    * 缺点\n",
    "        * head位置容易乱"
   ]
  },
  {
   "cell_type": "markdown",
   "metadata": {},
   "source": [
    "#### 注意要点"
   ]
  },
  {
   "cell_type": "markdown",
   "metadata": {},
   "source": [
    "* while遍历链表：首要记住！head = head.next不要漏了\n",
    "* 切割链表：记着首先备份上一段的结尾节点，while head: **before_tail = head**, head = head.next\n",
    "* 空间复杂度: 当增加头节点或临时节点时，增加的只是节点，不计后面的尾随节点，故sO(1)"
   ]
  },
  {
   "cell_type": "markdown",
   "metadata": {},
   "source": [
    "### 题目类型\n",
    "* 合并与插入\n",
    "    * 链表值相加\n",
    "        * 两链表值相加 2.Add Two Numbers.py\n",
    "            * 转数字,相加\n",
    "            * 直接迭代相加 while l1 or l2 or carry\n",
    "        * 加1到链表值上 369. Plus One Linked List.py\n",
    "            * 转数字,加1 sO(N)\n",
    "            * 链表转置后加1 sO(1)\n",
    "    * 合并链表\n",
    "        * 21. Merge Two Sorted Lists.py\n",
    "            * 转list 合并 sO(N)\n",
    "            * 直接迭代合并 sO(1) while l1 and l2 + if l1 + if l2\n",
    "        * !!23. Merge k Sorted Lists.py\n",
    "            * 从前到后顺序合并 tO(Nk),sO(1)\n",
    "            * 转list,合并 tO(NlogN),N是总node数,sO(N)\n",
    "            * mergeSort tO(Nlogk),s(N)\n",
    "            * 自下而上mergeSort tO(Nlogk),s(1)\n",
    "            * 堆？\n",
    "* 复制\n",
    "    * !复杂链表的复制 138. Copy List with Random Pointer.py\n",
    "        * 先遍历旧链，复制next，同时dic存新旧node地址关系；再遍历旧链，若node有random，则根据dic建立新链的random sO(N)\n",
    "        * 插空复制旧链，再建立next和random，最后分离旧新链 sO(N)，但是减少了dic的使用\n",
    "            * 易错点：建立random和分离时，别忘了head = head.next\n",
    "* 删除\n",
    "    * !删除指定-值-节点 203. Remove Linked List Elements.py\n",
    "        * 转list，遇到指定值删除 sO(N)\n",
    "        * 判断next，跳或不跳 sO(1)\n",
    "        * two pointer + before_head sO(1)\n",
    "    * 删除指定节点\n",
    "        * !删除倒数第n个节点 19. Remove Nth Node From End of List.py\n",
    "            * 转list后，del list[-N] sO(N)\n",
    "            * 转置法，head到n，删除n，再转置 sO(1)\n",
    "            * slow-fast法，建立dummy，间隔n个，head到负n+1，再删除n sO(1)\n",
    "        * 直接指向要删除的节点，无返回 237. Delete Node in a Linked List.py\n",
    "            * 下个节点值赋给本节点，next跳到下下个节点 tO(1)\n",
    "    * 删除重复节点\n",
    "        * 保留本值 83. Remove Duplicates from Sorted List.py\n",
    "            * 转list/dic，如已存在，跳过 tO(N^2/N) sO(N)\n",
    "            * two pointer sO(1)\n",
    "        * !不保留本值 82. Remove Duplicates from Sorted List II.py\n",
    "            * 转list，如已存在，记录并跳过，遇新值时，pop记录值再添加 sO(N)\n",
    "            * 转dic，取value为1的构建 sO(N)\n",
    "            * two pointer + before_head sO(1)\n",
    "* 排列与拆分\n",
    "    * 排序\n",
    "        * ！！插入排序 147. Insertion Sort List.py\n",
    "            * 转list tO(N2) sO(N)\n",
    "            * insertion sort tO(N2) sO(N)\n",
    "                1. 建立空的链表Create an empty sorted (or result) list\n",
    "                * 遍历输入链表 Traverse the given list, do following for every node.\n",
    "                    * 把目前的节点用排序的方法插入结果Insert current node in sorted way in sorted or result list.\n",
    "                * 改变原链表头为新建立的链表Change head of given linked list to head of sorted (or result) list.\n",
    "        * ！！O(NlogN)排序 148. Sort List (linked list).py\n",
    "            * 转list，sort tO(NlogN) sO(N)\n",
    "            * merge sort tO(NlogN) sO(N)\n",
    "            * 自下而上merge sort sO(1)\n",
    "                1. 用while head 替换 for\n",
    "                2. 每轮 merge之前，每次更新fake_tail和head\n",
    "                3. 每轮 merge中，先cut，后merge，再链接merged linklist，最后更新fake_tail和head\n",
    "    * 旋转\n",
    "        * 后面k位调到前面,保持原顺序(k会大于length) 61. Rotate List.py\n",
    "            * k处理，转list,切片重构 sO(N)\n",
    "            * k处理，two pointer cut，重构 sO(1)\n",
    "    * 全转置\n",
    "        * 206. Reverse Linked List.py\n",
    "            * 转list，list.reverse() tO(N) sO(N)\n",
    "            * 转置法 sO(1)\n",
    "    * 部分转置\n",
    "        * 两两转置 24. Swap Nodes in Pairs.py\n",
    "            * 转list，for interval =2交换值 sO(N)\n",
    "            * 转置法，转置2次，分模块化 sO(1)\n",
    "        * ！！kk个转置 25. Reverse Nodes in k-Group.py\n",
    "            * 转list, for 切片,reverse() sO(N)\n",
    "            * 转置法，转置k次，分模块化，sO(1)\n",
    "        * 转置m到n一部分 92. Reverse Linked List II.py\n",
    "            * 转list，切片，reverse()，赋回原来 sO(N)\n",
    "            * 转置法，转置n-m+1次，sO(1)\n",
    "        * ！后部转置并交叉入前部中 143. Reorder List.py\n",
    "            * 转list，两个list交叉合并， sO(N)\n",
    "            * 转置法，后部转置，与前半部合并 sO(1)\n",
    "        \n",
    "    * 重构\n",
    "        * 小于x+大于x，保持稳定 86. Partition List.py\n",
    "            * 转list，两个list，再extend sO(N)\n",
    "            * two pointer sO(1)\n",
    "        * ！！奇数位偶数位拆分 328. Odd Even Linked List.py\n",
    "            * 转list，两个list，再extend sO(N)\n",
    "            * two pointer sO(1)\n",
    "    * 拆分\n",
    "        * !k组分割，组差最多为1 725. Split Linked List in Parts.py\n",
    "            * 转list，求node数，求每组数，拆分 sO(N)\n",
    "            * two pointer,求node数，求每组数，拆分 sO(1)\n",
    "* 环\n",
    "    * 判断有环 141. Linked List Cycle.py\n",
    "        * 转set/list，存入node sO(N)\n",
    "        * s-f pointer sO(1)\n",
    "    * 判断+输出环交点 142. Linked List Cycle II.py\n",
    "       * 转set/list,存入node sO(N)\n",
    "       * s-f pointer，找相交，再从起始和相交处开始同时跑 sO(1)\n",
    "    * ! 环链表中插入节点 708. Insert into a Cyclic Sorted List.py\n",
    "        * 转list，记录头位置，append，sort(),再重建 tO(NlogN) sO(N)\n",
    "        * 转list，判断节点位置，四种情况：== head ,< x <, > x <, < x > tO(N),sO(N)\n",
    "        * 转list，记录头位置，二分法插入，再重建 tO(logN) sO(N)\n",
    "        * two pointer, 四种情况 tO(N) sO(1)\n",
    "* 判断结构\n",
    "    * 是否回文 234. Palindrome Linked List.py\n",
    "        * 转list，list[i]与list[-(i+1)]对比 sO(N)\n",
    "        * s-f pointer,two pointer, 转置前面的，再与后面的对比,注意长度奇偶 sO(1)\n",
    "* 判断两链表\n",
    "    * ! list的subsequence是否是链表里的subset, 返回数量 817. Linked List Components.py\n",
    "        * two pointer 遍历链表，node in list tO(N^2)\n",
    "        * two pinter list转set, 遍历链表，node in set tO(N)\n",
    "    * 两链表找出交点 160. Intersection of Two Linked Lists.py\n",
    "        * 转set/list，转一个，遍历另一个进行对比判断 tO(max(len(a,b))) sO(max(len(a,b))) \n",
    "        * 求长度，head到公共长度部分，同时递进，判断nod3 tO(max(len(a,b))) sO(1)"
   ]
  },
  {
   "cell_type": "markdown",
   "metadata": {
    "pycharm": {
     "name": "#%% md\n"
    }
   },
   "source": [
    "## Stack, Queue and Heap queue(priority queue) 栈，队列，堆"
   ]
  },
  {
   "cell_type": "markdown",
   "metadata": {
    "pycharm": {
     "name": "#%% md\n"
    }
   },
   "source": [
    "### Stack 栈\n",
    "#### 定义\n",
    "* Last-In-First-Out (LIFO) concept \n",
    "* append() / pop() \n",
    "* can be made from **list**\n",
    "* can be made from **linklist**, by having the head be the only place for insertion and removal. 可用链表构成,插入：建立新节点，连接到头节点；移除：移除头节点，返回下一个\n",
    "    * 参见 <链表实现stack和Queue>"
   ]
  },
  {
   "cell_type": "markdown",
   "metadata": {},
   "source": [
    "#### 常用操作及复杂度\n",
    "* 同List 列表"
   ]
  },
  {
   "cell_type": "markdown",
   "metadata": {},
   "source": [
    "### Queue 队列 \n",
    "* First-In-First-Out (FIFO) principle \n",
    "* Lists are not efficient to implement a queue 列表不能有效的执行队列\n",
    "    * 故调用容器-双端队列deque(double-end-queue) \n",
    "    * from collections import deque d = deque(iterable) (\"deck\")，If iterable is not specified, the new deque is empty.\n",
    "    * append(x) / appendleft(x) / pop() / popleft() / extend(iterable) / extendleft(iterable) O(1) 双向append or pop, O(1)\n",
    "* can be made from **linklist** that only removes from head and adds to tail 也可用链表构成, 从头部移除，从尾部添加\n",
    "    * 参见 <链表实现stack和Queue>"
   ]
  },
  {
   "cell_type": "code",
   "execution_count": 3,
   "metadata": {},
   "outputs": [
    {
     "name": "stdout",
     "output_type": "stream",
     "text": [
      "deque(['c', 'e'])\n",
      "deque(['e', 'c'])\n"
     ]
    }
   ],
   "source": [
    "# Queue (deque) 队列\n",
    "from collections import deque\n",
    "B = 'desk'  # iterable\n",
    "d = deque(B) # 转化B为队列d\n",
    "d = deque()  # 建立新队列d\n",
    "d.append('c')\n",
    "d.appendleft('e')  # 'edeskc'\n",
    "d.extend('a')\n",
    "d.extendleft('a')  # 扩展最左边\n",
    "x = d.pop() # 注意！没有i参数（list有i参数）\n",
    "d.popleft() #删除最左边的，即先“进”的，无(i)\n",
    "d.reverse() # 转置\n",
    "print(d)\n",
    "d.rotate(1) # 向右循环移动 n 步。 如果 n 是负数，就向左循环。e.g把倒数第1个调换到前面\n",
    "print(d)"
   ]
  },
  {
   "cell_type": "markdown",
   "metadata": {},
   "source": [
    "### Heap queue 堆 \n",
    "* 最小值在堆顶  "
   ]
  },
  {
   "cell_type": "code",
   "execution_count": 1,
   "metadata": {
    "ExecuteTime": {
     "end_time": "2019-12-26T06:10:12.926000Z",
     "start_time": "2019-12-26T06:10:12.907000Z"
    },
    "pycharm": {
     "name": "#%%\n"
    }
   },
   "outputs": [
    {
     "data": {
      "text/plain": [
       "[3, 4]"
      ]
     },
     "execution_count": 1,
     "metadata": {},
     "output_type": "execute_result"
    }
   ],
   "source": [
    "# Heap queue 堆\n",
    "from heapq import heapify, heappop, heappush, heappushpop, heapreplace, nlargest, nsmallest\n",
    "# 创建一个堆，可以使用list来初始化为 []\n",
    "C = []  # 建立新heapq\n",
    "# 创建一个堆或者可以通过一个函数 heapify() ，来把一个list转换成堆\n",
    "C = [2, 3, 4]\n",
    "heapify(C)  # 转化C为堆，**原地**，线性时间内\n",
    "heappush(C, 2)  # 添加2,注意！只能添加值！不能添加list等数据结构，下面的删除也是这样!\n",
    "x = heappop(C)\n",
    "heappushpop(C, 2)  # 先添加，再删除顶端的\n",
    "heapreplace(C, 5)  # 先删除顶端的，再添加\n",
    "nlargest(2, C)  # nlargest(n, iterable, key=None) 返回前n个符合k条件的最大值（e.g. k = lambda x: x[0]）  = sorted(iterable, key=key, reverse=True)[:n]\n",
    "nsmallest(2, C)  # nsmallest(n, iterable, key=None) 返回前n个最小值 = sorted(iterable, key=key, reverse= False)[:n]"
   ]
  },
  {
   "cell_type": "markdown",
   "metadata": {},
   "source": [
    "### 经典应用"
   ]
  },
  {
   "cell_type": "markdown",
   "metadata": {
    "pycharm": {
     "name": "#%% md\n"
    }
   },
   "source": [
    "## Dict 字典"
   ]
  },
  {
   "cell_type": "markdown",
   "metadata": {},
   "source": [
    "### 定义\n",
    "* 结构：Stores data with **key value pairs**.\n",
    "* 功能：Hash function accept a key and return an output unique only to that specific key\n",
    "    * This is known as hashing, which is the concept that an input and an output have **a one-to-one correspondence** to map information.\n",
    "    * Hash function has **a unique address** in memory for that data.\n",
    "* 与list区别\n",
    "    * dic 占用空间多，用时少\n",
    "    * list 占用空间少，用时多"
   ]
  },
  {
   "cell_type": "markdown",
   "metadata": {},
   "source": [
    "### 常用操作及复杂度\n",
    "* 增： d[k] = v O(1)\n",
    "* 删\n",
    "    * 删除某一个 \n",
    "        * **d.pop(k)** O(1) 删除key对应的pair，并返回value \n",
    "        * del d[k]\n",
    "    * 删除最后一个\n",
    "        * **d.popitem()** O(1)\n",
    "        * 删除并返回最后一个pair\n",
    "* Search: O(1) d[k]\n",
    "* 其他\n",
    "    * 判断key存在\n",
    "        * xx in dict\n",
    "        * dict.get(xx)\n",
    "            * if false, turn None\n",
    "    * 求长度\n",
    "        * len(dict)\n",
    "    * 排序"
   ]
  },
  {
   "cell_type": "code",
   "execution_count": 3,
   "metadata": {},
   "outputs": [
    {
     "name": "stdout",
     "output_type": "stream",
     "text": [
      "['e', 'd', 'c', 'b', 'a']\n"
     ]
    }
   ],
   "source": [
    "# dict 排序\n",
    "dic = {'a':4, 'b':3, 'c':2, 'd':1, 'e':0}\n",
    "\n",
    "# 基于key排序\n",
    "## 返回key\n",
    "a = sorted(dic)\n",
    "a = sorted(dic.keys())\n",
    "## 返回value\n",
    "a = sorted(dic)  # 先排key\n",
    "b = [dic[x] for x in a]\n",
    "## 返回整体\n",
    "new = sorted(dic.items(), key = lambda x: x[0])  # [('a', 4), ('b', 3), ('c', 2), ('d', 1), ('e', 0)]\n",
    "\n",
    "# 基于value排序\n",
    "## 返回key\n",
    "a = sorted(dic, key = lambda x:dic[x])\n",
    "print(a)\n",
    "## 返回value\n",
    "a = sorted(dic.values())\n",
    "## 返回整体\n",
    "new = sorted(dic.items(), key = lambda x: x[1])  # [('e', 0), ('d', 1), ('c', 2), ('b', 3), ('a', 4)]\n",
    "\n",
    "\n",
    "## 先根据value值排序，再根据key值排序\n",
    "new = sorted(dic.items(), key = lambda x : (x[1], x[0]))  # [('e', 0), ('d', 1), ('c', 2), ('b', 3), ('a', 4)]\n",
    "## 先根据value值逆排序，再根据key值的顺序排序\n",
    "new = sorted(dic.items(), key = lambda x : (-x[1], x[0]))"
   ]
  },
  {
   "cell_type": "markdown",
   "metadata": {},
   "source": [
    "### 重点\n",
    "* 优势: 插入，删除，搜索 insertion, deletion, and searching\n",
    "* Hash collisions(哈希冲突) are when a hash function returns the **same output** for **two distinct inputs**.\n",
    "    * All hash function have its problem\n",
    "    * This is often accommodated(解决) for **having the hash table being very large**\n",
    "* Hashes are important for **dictionary** and **database indexing**."
   ]
  },
  {
   "cell_type": "markdown",
   "metadata": {},
   "source": [
    "### 应用\n",
    "* 查找某一value对应的key\n",
    "    * for k, v in dic.items(): if v == a: return k"
   ]
  },
  {
   "cell_type": "markdown",
   "metadata": {},
   "source": [
    "#### hash() 函数"
   ]
  },
  {
   "cell_type": "markdown",
   "metadata": {},
   "source": [
    "#### 应用总结"
   ]
  },
  {
   "cell_type": "markdown",
   "metadata": {},
   "source": [
    "#### 注意要点\n",
    "* dict内部存放的顺序 = key放入的顺序，而set是不同的 (Python 3.6新特征，廖雪峰的论述不对)\n",
    "* dic的key必须是不可变对象，例如int，str等"
   ]
  },
  {
   "cell_type": "markdown",
   "metadata": {},
   "source": [
    "## Set 集合"
   ]
  },
  {
   "cell_type": "markdown",
   "metadata": {},
   "source": [
    "### 定义\n",
    "* 一组key的集合\n",
    "* key值不重复，若加入的list有重复，则自动滤掉重复的"
   ]
  },
  {
   "cell_type": "markdown",
   "metadata": {},
   "source": [
    "### 常用操作\n",
    "* 创\n",
    "    * a = set()\n",
    "    * a = set([b, c, d, ...])\n",
    "* 增\n",
    "    * a.add(key)\n",
    "* 删\n",
    "    * a.remove(key)\n",
    "* 查\n",
    "    * **a in set  # tO(1)**\n",
    "* 交并集\n",
    "    * set可以看作数学意义上，无序和无重复元素的集合，故可以做数学意义上的交并集\n",
    "    * s1 = set([1, 2, 3])， s2 = set([2, 3, 4])\n",
    "    * s1 & s2 -> {2, 3}\n",
    "    * s1 | s2 -> {1, 2, 3, 4}\n",
    "    * list不支持"
   ]
  },
  {
   "cell_type": "markdown",
   "metadata": {},
   "source": [
    "### 注意要点\n",
    "* 与tuple的区别\n",
    "    * tuple：\n",
    "        * 不可变的list -> 元素可以重复\n",
    "        * 可以不变中带可变，即可以 (1, 2, [1, 2])\n",
    "    * set\n",
    "        * 仅有key的dic -> 元素不能重复\n",
    "        * 必须从里到外全部不可变，即**不可以** {1, 2, [1, 2]}"
   ]
  },
  {
   "cell_type": "markdown",
   "metadata": {},
   "source": [
    "## String 字符串"
   ]
  },
  {
   "cell_type": "markdown",
   "metadata": {},
   "source": [
    "### 定义\n",
    "* subsequence 可以**不连续**且有序的子序列 \n",
    "* substring **连续**但有序的子序列\n",
    "* the length of the longest palindromes that can be built with those letters 可以不连续，可以无序的子序列"
   ]
  },
  {
   "cell_type": "markdown",
   "metadata": {},
   "source": [
    "### 常用操作\n",
    "* 提取性质\n",
    "    * 计数 string.count()\n",
    "* 修改操作\n",
    "    * **转置**\n",
    "        * str = str[::-1]\n",
    "    * 修改某一位\n",
    "        * b = strA.replace(strOld, strNew)\n",
    "        * strA其实没变，是复制一份\n",
    "* 增减操作\n",
    "    * 前部填充0 str.zfill(width) \n",
    "        * 返回指定长度的字符串，原字符串右对齐，前面填充0 \n",
    "        * 用于位运算填充bin()结果前面的0\n",
    "    * 删除\n",
    "        * 删除头尾\n",
    "            * chars str = str.strip([chars]). 默认是空格\n",
    "        * 删除头\n",
    "            * chars str = str.lstrip([chars]). 默认是空格\n",
    "        * 删除尾\n",
    "            * chars str = str.rstrip([chars]). 默认是空格\n",
    "* 合并序列里的元素\n",
    "    * str.join(sequence) 将序列中的元素（元组、列表、字典、字符串）以指定的字符str连接生成一个新的字符串\n",
    "    * '->'.join(['a', 'b', 'c']) -> 'a->b->c'\n",
    "    * **序列中的元素的元素必须也是字符串**\n",
    "* 判断在不在\n",
    "    * a in string\n",
    "* 大小写\n",
    "    * 转换\n",
    "        * 转换为大写 str.upper()\n",
    "        * 转换为小写 str.lower()\n",
    "    * 判断\n",
    "        * 判断为大写 str.isupper()\n",
    "        * 判断为小写 str.islower()"
   ]
  },
  {
   "cell_type": "markdown",
   "metadata": {},
   "source": [
    "### 常用技巧和算法"
   ]
  },
  {
   "cell_type": "markdown",
   "metadata": {},
   "source": [
    "#### 注意要点\n",
    "* string不支持s[i] = 's'的替换操作\n",
    "* string操作时,如果数据再用,需要及时等于返回值, 因为原始值是不变的\n",
    "    * tmp = tmp.rstrip() "
   ]
  },
  {
   "cell_type": "markdown",
   "metadata": {},
   "source": [
    "## 题目类型"
   ]
  },
  {
   "cell_type": "markdown",
   "metadata": {},
   "source": [
    "* 求最长子序列substring"
   ]
  },
  {
   "cell_type": "markdown",
   "metadata": {},
   "source": [
    "## Binary Tree 二叉树"
   ]
  },
  {
   "cell_type": "markdown",
   "metadata": {},
   "source": [
    "### 定义\n",
    "* 一个像树一样的数据结构，其中每个节点最多有两个孩子 a tree like data structure where every node has at most two children\n",
    " * 有左右子节点 There is one left and right child node\n",
    " * **每个节点都有parent**"
   ]
  },
  {
   "cell_type": "code",
   "execution_count": 2,
   "metadata": {
    "ExecuteTime": {
     "end_time": "2020-02-11T07:08:57.758388Z",
     "start_time": "2020-02-11T07:08:57.750421Z"
    }
   },
   "outputs": [],
   "source": [
    "# 树节点的定义\n",
    "class TreeNode:\n",
    "    def __init__(self, x):\n",
    "        self.val = x\n",
    "        self.left = None\n",
    "        self.right = None\n",
    "\n",
    "# 树的构造，使用bfs方法\n",
    "from collections import deque\n",
    "def constructTree(nodeList):  # input: list , output: root\n",
    "    new_node = []\n",
    "    for elem in nodeList:  # transfer list val to tree node\n",
    "        if elem:\n",
    "            new_node.append(TreeNode(elem))\n",
    "        else:\n",
    "            new_node.append(None)\n",
    "\n",
    "    queue = deque()\n",
    "    queue.append(new_node[0])\n",
    "\n",
    "    resHead = queue[0]\n",
    "    i = 1\n",
    "\n",
    "    while i <= len(new_node) - 1:  # bfs method building\n",
    "        head = queue.popleft()\n",
    "        head.left = new_node[i]  # build left and push\n",
    "        if head.left:\n",
    "            queue.append(head.left)\n",
    "        if i + 1 == len(new_node):  # if no i + 1 in new_node\n",
    "            break\n",
    "        head.right = new_node[i + 1]  # build right and push\n",
    "        if head.right:\n",
    "            queue.append(head.right)\n",
    "        i = i + 2\n",
    "    return resHead \n"
   ]
  },
  {
   "cell_type": "markdown",
   "metadata": {},
   "source": [
    "### 重点\n",
    "* 旨在优化搜索和排序 Designed to optimize searching and sorting\n",
    " \n",
    "* 它们比其他数据结构更容易实现。They are comparably simple to implement than other data structure."
   ]
  },
  {
   "cell_type": "markdown",
   "metadata": {},
   "source": [
    "### 常用操作及复杂度\n",
    "* 遍历\n",
    "    * **DFS中前中后序遍历方式** \n",
    "        * time complexity: O(N) 遍历了每个节点\n",
    "        * space complexity: \n",
    "            * O(h) = 树的高度height\n",
    "            * average: O(logN) \n",
    "                * 完全二叉树 perfect binary tree\n",
    "                * h = logN\n",
    "            * worst: O(N) \n",
    "                * 偏二叉树 skewed tree\n",
    "                * h = N\n",
    "    * **层次遍历/宽度优先遍历** level order tree traversal/ breath first traversal(BFS)\n",
    "        * **从根到叶的遍历方式**\n",
    "        * time complexity: O(N) 遍历了每个节点\n",
    "        * space complexity: \n",
    "            * O(w) = 树层的最大宽度，即最下层的宽度\n",
    "            * best: O(1) \n",
    "                * 偏二叉树 skewed tree\n",
    "                * 队列保持1个元素弹入弹出\n",
    "            * average: O(N) \n",
    "                * 完全二叉树 perfect binary tree\n",
    "                * 最下层宽度2**(H) = 2**(LogN) = N/2 = N\n",
    "    * DFS和BFS的**空间**复杂度综述\n",
    "       * DFS\n",
    "           * average: O(logN) --> balance tree\n",
    "           * worst: O(N) --> skewed tree\n",
    "       * BFS\n",
    "           * best O(1)  --> skewed tree\n",
    "           * average(N)  --> balance tree"
   ]
  },
  {
   "cell_type": "markdown",
   "metadata": {},
   "source": [
    "* Insertion: O(logN)\n",
    "* Indexing: O(logN)"
   ]
  },
  {
   "cell_type": "markdown",
   "metadata": {},
   "source": [
    "### 平衡二叉树\n",
    "* 熟悉至少一种类型的平衡二叉树，了解实现方式\n",
    "* 平衡：左右子树的高度差不超过1\n",
    "* 红/黑树(Red/Black tree)：\n",
    "    * https://zhuanlan.zhihu.com/p/31805309\n",
    "* 伸展树(Splay tree)\n",
    "* AVL树\n",
    "    * 任一节点对应的两棵子树的最大高度差为1 -> 高度平衡树\n",
    "    * 优势：查找、插入和删除在平均和最坏情况下的时间复杂度都是O(logN)\n",
    "    * 劣势：增加和删除元素的操作则可能需要借由一次或多次树旋转，以实现树的重新平衡。"
   ]
  },
  {
   "cell_type": "markdown",
   "metadata": {},
   "source": [
    "### 算法总结\n",
    "#### DFS遍历\n",
    "* **从叶到根的遍历** \n",
    "* 遍历的种类（前中后指的是root的位置）\n",
    "    * 前序遍历 PreOrder (root, left, right)\n",
    "        * 应用：想在节点上直接执行操作（或输出结果）使用先序\n",
    "        * 迭代实现：\n",
    "            1. stack + pop, append(R), append(L) # 与结果顺序反向\n",
    "            2. color notation # 与结果顺序反向\n",
    "    * 中序遍历 InOrder (left, root, right)\n",
    "        *  应用：\n",
    "            * 在二分搜索树中，中序遍历的顺序符合从小到大（或从大到小）顺序的，要输出其排序好的结果使用中序\n",
    "            * 以root 1为中心对称分布 -> 检测树是否中心对称\n",
    "        * 迭代实现\n",
    "            * color notation # 与结果顺序反向\n",
    "    * 后序遍历 PostOrder (left, right, root) \n",
    "        * 特点：在执行操作时，肯定已经遍历过该节点的左右子节点\n",
    "        * 应用：进行破坏性操作比如删除所有节点，比如判断树中是否存在相同子树\n",
    "        * 迭代实现：\n",
    "            1. stack + pop, append(L) + append(R) + reverse res # reverse 之前的 root + right + left 与 append反向\n",
    "            * color notation # 与结果顺序反向\n",
    "* 特点：离叶近，占用空间少（不记录搜索过程中的状态）\n",
    "* 优势：**搜索全部的解**\n",
    "    * 当求解目标，必须要走到最深（例如树，走到叶子节点）才能得到一个解，这种情况适合用深搜。\n",
    "* 技巧\n",
    "    * 多个分类判别条件情况\n",
    "    * return 新的属性\n",
    "    * dfs()添加新属性，如dic，level等\n",
    "\n",
    "* 递归实现:\n",
    "    * 核心思维：假设左右孩子搞定了（搞定的方式就是调用函数本身，替换自变量即可），现在怎么做才能得到最终答案\n",
    "    * def traversal(self, root):\n",
    "        * if root is None:\n",
    "            * return\n",
    "        * 前序遍历\n",
    "        * traversal(self, root.left)\n",
    "        * 中序遍历\n",
    "        * traversal（self, root.right）\n",
    "        * 后序遍历  \n",
    "* **升级要求**\n",
    "    * 非递归实现\n",
    "        * **用一个栈手动模拟递归**\n",
    "            * **颜色(0/1)标记法** 见下方\n",
    "            * 迭代法：用法与BFS相同，即stack = [[root, attribute]]\n",
    "        * tO(N) sO(NlogN)\n",
    "    * 常量空间内解决树的遍历问题\n",
    "        * Morris遍历：采用线索二叉树 Threaded binary tree\n",
    "        * 结构\n",
    "            * 右空指针指向中序遍历下的后继节点 right null pointer point to in-order successor of the node\n",
    "            * 左空指针指向中序遍历下的前节点 left null pointer point to in-order predecessor of the node\n",
    "        * 作用：不需要为每个节点额外分配指针指向其前驱和后继节点 without recusrsion and extra storage for front and next node\n",
    "        * 优势：sO(1)\n",
    "        * 缺点：会暂时性的改动树的结构 it would change the tree stucture temporarily"
   ]
  },
  {
   "cell_type": "code",
   "execution_count": 1,
   "metadata": {},
   "outputs": [
    {
     "ename": "SyntaxError",
     "evalue": "invalid syntax (<ipython-input-1-ad118786984f>, line 57)",
     "output_type": "error",
     "traceback": [
      "\u001b[1;36m  File \u001b[1;32m\"<ipython-input-1-ad118786984f>\"\u001b[1;36m, line \u001b[1;32m57\u001b[0m\n\u001b[1;33m    def\u001b[0m\n\u001b[1;37m        ^\u001b[0m\n\u001b[1;31mSyntaxError\u001b[0m\u001b[1;31m:\u001b[0m invalid syntax\n"
     ]
    }
   ],
   "source": [
    "'''\n",
    "核心：stack simulate recursion\n",
    "append顺序的倒序是输出的顺序\n",
    "    append right - left - root -> output: root - left - right 前序遍历 \n",
    "    append right - root - left -> output: left - root - right 中序遍历\n",
    "    append root - right - left -> output: left - right - root 后序遍历\n",
    "增加了color，输出量[], 及root append 操作\n",
    "易错点： \n",
    "        \n",
    "    stack = [[root, 0]],一定开始是0，因为如果是1的话，下面的while就完成了，无法运行\n",
    "    append一定是添加[root, color],不要漏掉color\n",
    "    pop()的顺序 = 添加root.val的倒序 = res的顺序\n",
    "    用的是stack，不是queue\n",
    "'''\n",
    "class TreeNode:\n",
    "    def __init__(self, x):\n",
    "        self.val = x\n",
    "        self.left = None\n",
    "        self.right = None \n",
    "        \n",
    "class Solution:\n",
    "    def preorderTraversal(self, root: TreeNode):  # 颜色标记法\n",
    "        if not root:\n",
    "            return []\n",
    "\n",
    "        stack = [[root, 0]]  # 0 represent new node for res, 1 represent visited in res\n",
    "\n",
    "        res = []\n",
    "        while stack:\n",
    "            root, color = stack.pop()\n",
    "            if color == 0:\n",
    "                if root.right:\n",
    "                    stack.append([root.right, 0])\n",
    "                if root.left:\n",
    "                    stack.append([root.left, 0])\n",
    "                stack.append([root, 1])\n",
    "            else:\n",
    "                res.append(root.val)\n",
    "        return res\n",
    "\n",
    "    def preorderTraversal_stack(self, root):  # 迭代法， output： root-左-右\n",
    "        if not root:\n",
    "            return []\n",
    "\n",
    "        stack = [root]\n",
    "        res = []\n",
    "\n",
    "        while stack:\n",
    "            root = stack.pop()\n",
    "            if root.right: # 与输出的顺序相反\n",
    "                stack.append(root.right)\n",
    "            if root.left:\n",
    "                stack.append(root.left)\n",
    "            res.append(root.left)\n",
    "        return res\n",
    "    \n",
    "    def \n",
    "        \n",
    "    def postoderTraversal_stack(self, root):  # 迭代法-后序遍历 - output: 左-右-root\n",
    "        if not root:\n",
    "            return []\n",
    "\n",
    "        stack = [root]\n",
    "        res = []\n",
    "\n",
    "        while stack:\n",
    "            root = stack.pop()\n",
    "            if root.left:  # 重点\n",
    "                stack.append(root.left)\n",
    "            if root.right: # 重点\n",
    "                stack.append(root.right)\n",
    "            res.append(root.val)\n",
    "        return res[::-1]   # 重点\n",
    "                    "
   ]
  },
  {
   "cell_type": "markdown",
   "metadata": {},
   "source": [
    "#### 层次遍历/宽度优先遍历 level order tree traversal/ breath first traversal(BFS)\n",
    "* 种类\n",
    "    * 自顶向下层序\n",
    "        * 从上层到下层，每层从左到右\n",
    "            * 从右到左的话，先append right, 再append left\n",
    "        * 思路： 维护一个队列存储上一层的结点，逐层访问\n",
    "        * 使用deque或者普通list实现 先进先出的策略，即左出右进的策略\n",
    "            * deque的popleft()是O(1)\n",
    "            * list的pop(0)是O(N)\n",
    "        * 迭代法\n",
    "            * from collections import deque # deque [dek]\n",
    "            * def traversal(self, root):\n",
    "                * if not root:\n",
    "                    * return\n",
    "                * queue = deque([root])  # or queue = list\n",
    "                    * **若[root, XXX], 必须 queue = deque(), queue.append([root, XXX])**\n",
    "                * while queue:\n",
    "                    * node = queue.popleft()  # or node = queue.pop(0)\n",
    "                    * 遍历输出\n",
    "                    * if node.left:\n",
    "                        * queue.append(node.left)\n",
    "                    * if node.right:\n",
    "                        * queue.append(node.right) \n",
    "        * 递归法\n",
    "            * self.helper(root, dic, level)\n",
    "    * 自底向上层序\n",
    "        * 自顶向下层序遍历得到的层放入数据结构然后 reverse 过来\n",
    "    * 锯齿层序遍历\n",
    "        * 每一层访问顺序有所改变，而且是每次都反转顺序\n",
    "            * 第一层左->右，第二层右->左，第三层左->右...\n",
    "        * 思路：用stack 栈实现，并且每层弹出完全以后，再加入下一层node\n",
    "* 特点：离根近，占用空间多（记录搜索过程中的状态）\n",
    "* 优势：**搜索最短路径(离根最短的路径)**\n",
    "    * BFS搜索过程中遇到的解一定是离根最近的，即最优解，此时搜索算法可以终止。\n",
    "    * e.g.求最少步数，最少交换次数\n",
    "* 技巧\n",
    "    * 修改queue.append(XX)\n",
    "        * 两个root [root1, root2]\n",
    "        * 一个root，一个性质 [root, XX]， XX保存了从根到节点的信息，故dfs和bfs一定可以相互转化\n",
    "    * 多个分类判别条件情况\n",
    "    * **while + for内循环**\n",
    "        * 求层宽度时，for内扫描全部的同层节点\n",
    "            * for _ in range(width): node = queue.popleft(), queue.append()....\n",
    "\n",
    "* 注意\n",
    "    * 用于保存搜索过程的点的数据结构，要是hashset类型的"
   ]
  },
  {
   "cell_type": "markdown",
   "metadata": {},
   "source": [
    "#### 路径之和：\n",
    "* preorder DFS：及时pop\n",
    "* preorder iterative DFS: 先右后左，append([root, XXX])\n",
    "* BFS: 先左后右，append([root, XXX])"
   ]
  },
  {
   "cell_type": "markdown",
   "metadata": {},
   "source": [
    "#### 构建二叉树\n",
    "* 思路: 在递归中创建根节点，然后找到将元素劈成左右子树的方法，递归得到左右根节点，接上创建的根然后返回.\n",
    "* 确定一个二叉树的要求\n",
    "    * 方案1：inorder + postorder\n",
    "    * 方案2：inorder + preorder\n",
    "    * 方案3：level order list,更新index\n",
    "    * 前序（后序）遍历的作用呢？提供根节点！然后根据根节点，就可以递归的生成左右子树\n",
    "    * 两种方案去获得更小list范围：\n",
    "        1.递归中缩小list\n",
    "        2.递归中缩小index\n",
    "* 确定一个平衡二叉搜索树的要求\n",
    "    * 方案1：inorder\n",
    "    * 方案2：sorted(preoder) 或 sorted(postorder)\n",
    "* 对于二叉查找树，默认 左子树node数量 > 或者 < 右子树的node数量"
   ]
  },
  {
   "cell_type": "markdown",
   "metadata": {},
   "source": [
    "### 题目类型\n",
    "#### 二叉树定义\n",
    "* 二叉树的每个节点都有两个子节点\n",
    "* 二叉树的每个节点都有一个母节点，除了root\n",
    "    * 判断是否为有效的二叉树 1361. Validate Binary Tree Nodes.py\n",
    "        * 给出node和其子节点的直接关系，数有母节点的node个数\n",
    "    \n",
    "\n",
    "#### 二叉树性质\n",
    "* 共性：\n",
    "    * 解题共性\n",
    "        * DFS和BFS 扫描所有节点（特殊情况说明除外）\n",
    "    * 复杂度共性\n",
    "        * time: 均为O(N)\n",
    "        * space \n",
    "            * dfs： average O(logN) -> balance tree; worst O(N) -> skewed tree\n",
    "            * bfs:  best O(1) -> skewed tree; average O(N) -> balance tree"
   ]
  },
  {
   "cell_type": "markdown",
   "metadata": {},
   "source": [
    "* 二叉树结构\n",
    "    * 相同二叉树 100. Same Tree.py\n",
    "        * brute force - dfs/bfs list save and compare\n",
    "        * directly compare - pre-order DFS\n",
    "            * 4种情况\n",
    "                * not p and not q\n",
    "                * not p or not q\n",
    "                * p and q\n",
    "                    * p.val != q.val\n",
    "                    * p.val == q.val\n",
    "        * dirtctly compare - BFS\n",
    "            * queue = deque([p, q])\n",
    "            * 4种情况  \n",
    "    * ! 对称二叉树 101. Symmetric Tree.py\n",
    "        * directly compare\n",
    "            * corner case + helper\n",
    "            * helper(root.left, root.right) - DFS\n",
    "                * 4种情况 + heper(n1.left, n2.right) and helper(n1.right, n2.left)\n",
    "            * return helper\n",
    "        * directly compare - BFS\n",
    "            * queue = deque(**[root.left, root.right]**)\n",
    "            * 4种情况 + append([n1.left, n2.right]) + append([n1.right, n2.left])"
   ]
  },
  {
   "cell_type": "markdown",
   "metadata": {},
   "source": [
    "* 二叉树的深度\n",
    "    * ！求所有路径的深度\n",
    "        * DFS\n",
    "            * 采用辅助函数引进变量res和height用于保存信息\n",
    "            * edge + depth functionm + return res\n",
    "            * def depth(self, root, height, res): # output: res: List\n",
    "                * break recursion: \n",
    "                    * case 1: not root: return\n",
    "                    * case2: root is leaf: height + 1, res.append(height) return \n",
    "                * trigger recusion\n",
    "                    * other case: self.depth(root.left / root.right, height + 1, res)\n",
    "            * 易错点：要记住root存在的话，要把其height的一层给加上，例如case2中发现root是leaf时，需要加上\n",
    "        * BFS\n",
    "            * queue.append([node, height])\n",
    "            * if node is leaf, save height in res\n",
    "    * 最大深度 104. Maximum Depth of Binary Tree.py\n",
    "        * brute force: 基于《求所有路径的深度》 + max(res)\n",
    "        * DFS + accumulate height\n",
    "            * return 1 + max(maxDepth(left), maxDepth(right))\n",
    "        * BFS + accumulate height\n",
    "            * queue.append([root, height])\n",
    "            * renew max height\n",
    "    * ！最小深度 111. Minimum Depth of Binary Tree.py\n",
    "        * brute force: 基于《求所有路径的深度》 + min(res)\n",
    "        * optimized：\n",
    "            * 方案1：优化基于《求所有路径的深度》\n",
    "                * DFS（实时求min）\n",
    "                * BFS + accumulate height\n",
    "                    * 扫描部分节点，遇到leaf立马返回\n",
    "                    * queue.append([root, height])\n",
    "            * 方案2：DFS + accumulate height - 记不住\n",
    "                * break: \n",
    "                    * root is None\n",
    "                    * root is leaf, return 1\n",
    "                * trigger\n",
    "                    * root has one branch, return 1 + max(minDepth(left), minDepth(right))\n",
    "                    * root has two branch, return 1 + minDepth(left, right)"
   ]
  },
  {
   "cell_type": "markdown",
   "metadata": {},
   "source": [
    "* 二叉树的宽度\n",
    "    * 求每层的节点数\n",
    "        * BFS\n",
    "            * deque stores nodes\n",
    "            * for loop to traveral every level nodes, record length to res\n",
    "            * 易错点：先 for，再popleft\n",
    "        * DFS\n",
    "            * DFS scan every node, accumulate level and level node numb, record them in dic\n",
    "    * 求每层的宽度（即节点有空，None, 4，None, 6, 宽为3）\n",
    "        * 《求每层的节点数》 + [nodes, index * 2 (+1)]\n",
    "        * BFS\n",
    "            * deque stores [nodes, index]\n",
    "            * for traveral and renew every level nodes [nodes, index * 2 (+1)], record level and width (right node's index - left node's index + 1) to res\n",
    "            * 易错点：先 for，再popleft\n",
    "        * DFS\n",
    "            * main: initial level, index, dic\n",
    "            * helper: DFS scan every node, accumulate level and index (index * 2( + 1)), record level: [first node index, other node index] in dic\n",
    "            * 易错点 record level: [first node index, other node index] in dic\n",
    "    * 二叉树的最大宽度 662. Maximum Width of Binary Tree.py\n",
    "        * brute force: 基于《求每层的宽度》， 再max(res)\n",
    "        * BFS + max(res, level width)\n",
    "        * DFS + dic[level]保存每层第一个节点index，res = max（res，index - dic[level] + 1）"
   ]
  },
  {
   "cell_type": "markdown",
   "metadata": {},
   "source": [
    "* ! 平衡二叉树 110. Balanced Binary Tree.py\n",
    "    * 判断二叉树是否为平衡二叉树 - 每一个子树的最深路径对比\n",
    "    * brute force - top - down  - tO(NlogN), for skewed tree, tO(N); sO(N)\n",
    "        * main：\n",
    "            * DFS/BFS scan every node\n",
    "            * compare node left and right subtree height\n",
    "        * hepler:\n",
    "            * 二叉树的最大深度 DFS/BFS\n",
    "    * bottom-up check every height step\n",
    "        * main\n",
    "            * corner case +  helper() + return\n",
    "        * helper\n",
    "            * **post-order** - tO(N) sO(logN)\n",
    "                * calculate max height of tree\n",
    "                    * check nodes' max height's gap, if > 1, signal -1, stop recurison and return it out of helper()\n",
    "            * iterative to simulate recursion - **post-order** -tO(N) sO(N)\n",
    "                * 易错点：不能以leaf的间距层数来判定是否平衡\n",
    "                * use dic to save {node: height}\n",
    "                * l, r = dic[root.left], dic[root.right]\n",
    "                * if l == -1 or r == -1 or abs(l - r) == -1: return False\n",
    "                * else: return dic[root] = 1 + max(l + r)"
   ]
  },
  {
   "cell_type": "markdown",
   "metadata": {},
   "source": [
    "#### 二叉树的遍历\n",
    "* 前序遍历 pre-order\n",
    "    * 144. Binary Tree Preorder Traversal.py\n",
    "        * pre-order\n",
    "        * iterative - stack to simulate recursion - 不重要\n",
    "        * iterative - 0/1 notation - 重要\n",
    "* 中序遍历 in-order \n",
    "    * 94. Binary Tree Inorder Traversal.py\n",
    "* ！后序遍历 post-order \n",
    "    * 145. Binary Tree Postorder Traversal.py"
   ]
  },
  {
   "cell_type": "markdown",
   "metadata": {},
   "source": [
    "* 层次遍历 level order traversal\n",
    "    * 102. Binary Tree Level Order Traversal.py\n",
    "        * 迭代法 deque\n",
    "        * 递归法 self.helper(root, level, dic)\n",
    "* 从下到上层次遍历 bottom-up order traversal\n",
    "    * 107. Binary Tree Level Order Traversal II.py\n",
    "        * 迭代法 deque + reverse\n",
    "        * 递归法 self.helper(root, level, dic) + reverse\n",
    "* 锯齿形遍历  zigzag order traversal - s型遍历\n",
    "    * 103. Binary Tree Zigzag Level Order Traversal.py\n",
    "        * 迭代法 deque + odd level keep, even level reverse\n",
    "        * 递归法 self.helper(root, level, dic) + odd level keep, even level reverse\n",
    "* node.next的space O(1)法\n",
    "    * !116. Populating Next Right Pointers in Each Node.py - perfect binary tree\n",
    "    * !117. Populating Next Right Pointers in Each Node II.py - binary tree\n",
    "    * 116和117统一分析\n",
    "        * 116是117的不完美情况，故117的方法适用于116\n",
    "        * 117方法\n",
    "            * level order traversal - sO(N)\n",
    "                * turn the pointer by for loop in every loop: \n",
    "                * queue[i].next = queue[i + 1]\n",
    "            * using up level node next pointer\n",
    "                * reserve root\n",
    "                * traversal level by level\n",
    "                    * traversal current level's node - cur by next\n",
    "                        * reserve dummy = tail\n",
    "                        * build lower level next by control cur.left or right .enxt to tail\n",
    "                        * renew tail\n",
    "                   * renew cur = dummuy.next\n",
    "                 * return root\n",
    "        * 116 方法\n",
    "             * using up level node next pointer\n",
    "                 * reserve leftMost = root\n",
    "                 * traversal level by level, until leftMost.left == None\n",
    "                     * traversal current level's node - cur by next\n",
    "                         * build lower level next by control cur.left or right .enxt to tail;head.left.next = head.right,if head.next:  head.right.next = head.next.left\n",
    "                     * renew leftMost = leftMost.left\n",
    "                     \n",
    "                \n",
    "         \n"
   ]
  },
  {
   "cell_type": "markdown",
   "metadata": {},
   "source": [
    "#### 路径和\n",
    "* 判断某路径的和是否等于target 112. Path Sum.py\n",
    "    * pre-order DFS  # sO(logN)\n",
    "        * helper(root, pathsum, target) return T/F\n",
    "        * **pathSum -= root.val**\n",
    "    * iterative pre-order DFS  # sO(logN)\n",
    "        * 先right，后left\n",
    "        * stack.append([root, root.val])\n",
    "    * BFS  # sO(N)\n",
    "        * deque([(root, root.val)])\n",
    "        * 易错点：判断root为leaf, 最里层的小括号\n",
    "* 输出路径的和等于target的所有路径 113. Path Sum II.py\n",
    "    * pre-order DFS \n",
    "        * helper(root, tmp, res) return res\n",
    "        * **tmp.pop()**\n",
    "    * iterative pre-order DFS\n",
    "        * root, tmp = stack.pop()\n",
    "        * r = tmp.copy(), r.append(root.right.val)\n",
    "        * 先right，后left\n",
    "        * stack.append([root.right, r)]])\n",
    "    * BFS \n",
    "        * 先left后right\n",
    "* 输出路径构成的整数的和 129. Sum Root to Leaf Numbers.py\n",
    "    * pre-order DFS  # sO(logN)\n",
    "        * transfer path list to sum\n",
    "    * iterateive pre-order DFS  # sO(logN)\n",
    "        * transfer path list to sum\n",
    "        * 先right，后left\n",
    "    * BFS  # sO(N)\n",
    "        * root, tmp = queue.popleft()\n",
    "        * queue.append(root.left, **tmp * 10 + root.left.val**)\n",
    "* 输出所有路径，node之间用 -> 连接 257. Binary Tree Paths.py\n",
    "    * brute force - DFS\n",
    "        1. 全部遍历，输出为list[list]\n",
    "        *  list transferred as string\n",
    "    * iterative DFS\n",
    "        * stack.append([root, str(root.val)])\n",
    "    * BFS\n",
    "        * queue.append([(root, str(root.val))])\n",
    "* ZZ最长路径和 1372. Longest ZigZag Path in a Binary Tree.py\n",
    "    * DFS  # time O(N) space(NlogN)\n",
    "        * self.dfs(root, l, r), save max(res, l, r) in res. l, r是左 or 右parent的路径和"
   ]
  },
  {
   "cell_type": "markdown",
   "metadata": {},
   "source": [
    "#### 二叉树的构建\n",
    "* in + pre构造二叉树 105. Construct Binary Tree from Preorder and Inorder Traversal.py\n",
    "    * DFS + find index in recursion # t(N\\*\\*2)\n",
    "        * preorder提供root，用root在inorder的index去划分pre和in，并作为递归的输入\n",
    "        * dfs(preorder, inorder) # 输入为list\n",
    "        * mid = inorder.index(preorder[0]) \n",
    "        * 易错点：[1 : **mid + 1**]\n",
    "    * DFS + dict  # tO(N)\n",
    "        * inorder->dict{value:index}，以在原list上的位置参数pre_l,pre_r作为参数划分pre和in\n",
    "        * transfer inorder to dict\n",
    "        * dfs(0, len(pre_order), 0, len(in_order)) # 输入为index\n",
    "        * mid = dic[preorder[pre_left]]\n",
    "        * root.left = self.dfs(pre_l + 1, **XX**, in_l, mid)  # in的左子树的前后边界是确定，而pre的右边界不确定，故由前序和中序个数是相同的条件，pre_r - pre_l = in_r - in_l => pre_r = in_r - in_l + pre_l = mid - in_left + pre_left + 1 = **XX**\n",
    "        * root.right = self.dfs(**YY**, pre_r, mid + 1, in_r)  # pre的左边界不确定，故 pre - **YY** = in_r - (mid + 1)\n",
    "        * 易错点：dfs里的pre的边界 **pre_l + 1**\n",
    "* in+ post构造二叉树 106. Construct Binary Tree from Inorder and Postorder Traversal.py\n",
    "    * DFS + find index\n",
    "        * post提供root，in用来划分左右子树\n",
    "    * DFS + dict\n",
    "        * dfs使用序号作为参数输入\n",
    "* sorted list构造平衡二叉搜索树\n",
    "    * 二分法取mid作为root, 划分左右子树，进行递归   # sO(N), O(N) to keep the output, and O(logN) for the recursion stack\n",
    "        * 易错点：左边树node数量可以大于或小于右边树，故取root = TreeNode(nums[len(nums) // 2])，无论奇数偶数个\n",
    "    * ！iterative to simulate recursion\n",
    "        * 对范围的序号进行缩小 stack.append([root, 0, length - 1, mid])\n",
    "        * 易错点： TreeNode(nums[mid])不是TreeNode(mid)，全部闭区间，rMid = (r - mid) // 2 + mid + 1\n",
    "* sorted linkedlist构造平衡二叉搜索树\n",
    "    * brute force - slow - fast pointer  # tO(NlogN) 因为pointer值只跳跃N/2次\n",
    "        * 用快慢点找中点，设root，分割链表，再递归\n",
    "        * 易错点：while fast and fast.next 不是or，要确保两个存在，有一个不行都不行\n",
    "    * linkedlist -> list\n",
    "        * 链表转list，再构造  # tO(N)\n",
    "        * 易错点：root = TreeNode(nodeList[mid]) 不是 root = TreeNode(mid)\n",
    "    * inorder simulation\n",
    "        * 没懂\n",
    "* level order构造二叉树\n",
    "    * queue保存root及list中index，通过更新2\\*index + 1/2来获得下层节点值，需及时判断节点是否存在\n",
    "    * queue = deque([(root, 0)])\n",
    "    * l_ind = 2 * ind + 1\n",
    "    * r_ind = 2 * ind + 2"
   ]
  },
  {
   "cell_type": "markdown",
   "metadata": {},
   "source": [
    "## n元树"
   ]
  },
  {
   "cell_type": "markdown",
   "metadata": {},
   "source": [
    "## tire树"
   ]
  },
  {
   "cell_type": "markdown",
   "metadata": {},
   "source": [
    "## Graph 图"
   ]
  },
  {
   "cell_type": "markdown",
   "metadata": {},
   "source": [
    "### 总结"
   ]
  },
  {
   "cell_type": "markdown",
   "metadata": {},
   "source": [
    "#### 总体分类\n",
    "* 无环孤立 n = len(pairs) + 1  # len(pairs)即边长\n",
    "    * 先判断 n和len(pairs) + 1的关系\n",
    "    * 后判断 是否有环 或 判断 孤立个数\n",
    "    * 类型：是否不依赖其他人，且一个人可以做完的课程\n",
    "* 有环孤立 n < 1 + len(pairs)\n",
    "    * 先判断 n和len(pairs) + 1的关系\n",
    "    * 后判断 是否孤立\n",
    "    * 类型：课程能够完成\n",
    "* 无环多个 n > len(pairs) + 1\n",
    "    * 先判断 n和len(pairs) + 1的关系\n",
    "    * 后判断 是否有环\n",
    "    * 类型：同时进行的项目数\n",
    "* 有环多个 n > = < len(pairs) + 1\n",
    "    * 判断 是否有环 + 是否孤立"
   ]
  },
  {
   "cell_type": "markdown",
   "metadata": {},
   "source": [
    "#### 建图/dfs/bfs技巧\n",
    "* 建图\n",
    "    * 0-index用list\n",
    "    * 复杂的用 defaultdict(set)\n",
    "    * weighted graph用 defaultdict(dict)\n",
    "        * graph[i][j] = val\n",
    "* 建visited\n",
    "    * 只是判断有无出现，用set()。访问过一次，就add(i)\n",
    "* 标记visited\n",
    "    * BFS中，push进queue中后，立马标记\n",
    "    * DFS中，在Processing过程中标记"
   ]
  },
  {
   "cell_type": "markdown",
   "metadata": {},
   "source": [
    "#### 图类型\n",
    "* 有向图\n",
    "    * 是否有环\n",
    "    \n",
    "        * dfs: -1, 0, 1法\n",
    "        * topo sort: indegree == [0] * n\n",
    "    * 独立部分个数\n",
    "        * 情况1：判定是否有且仅有一个独立，指定有且仅有一个起始点，并给与此点\n",
    "            * visited能否都为1\n",
    "        * 情况2：不考虑有向次序，数独立的个数\n",
    "            * dfs和bfs都无法处理1->3->5,2->3->4的情况，故把有向图当作**无向图**来计算独立个数\n",
    "    * 路径层数\n",
    "        * 前提条件：只有一个独立部分，且只有一个入口 there is a way to run each program exactly once \n",
    "        * dfs：未验证 -》去做\n",
    "        * bfs\n",
    "            * 即tree bfs记录层数的方法\n",
    "        * topo sort: \n",
    "            * 即tree bfs记录层数的方法\n",
    "            * 方法1：记录运行for的次数，for循环本层所有的node，\n",
    "            * 方法2：queue.append([x,level + 1]),\n",
    "    * 路径和\n",
    "    * 最短路径\n",
    "        * BFS"
   ]
  },
  {
   "cell_type": "markdown",
   "metadata": {},
   "source": [
    "* 无向图\n",
    "    * 是否有环\n",
    "        * DFS\n",
    "            * Parent法 dfs(index, visited, graph, parent)\n",
    "            * for traversal unvisited, dfs() no head ending condition\n",
    "        * BFS\n",
    "            * Parent法 queue = deque([(pair中的点，-1)])\n",
    "            * 避免第一个index点为孤立点\n",
    "        * Union find\n",
    "            * 若有环，root1 == root2成立\n",
    "    * 孤立个数\n",
    "        * Union find\n",
    "            * 若仅有一个孤立，则 res = (n - 1) - 连接新点的次数 = 0\n",
    "            * 若多个孤立，则 res = (n - 1) - 连接新点的次数\n",
    "    * 路径层数\n",
    "    * 路径和"
   ]
  },
  {
   "cell_type": "markdown",
   "metadata": {},
   "source": [
    "### 定义\n",
    "* 由顶点的有穷非空集合和顶点之间的边的集合组成。通常表示为G(V, E), 其中，G表示一个图，V是图G中顶点的集合，E是图G中边的集合。\n",
    "    * vertex:顶点\n",
    "    * edge：边\n",
    "* 图的种类\n",
    "    * 无向图\n",
    "        * 无向完全图：任意两个节点之间有且仅有一条边，N个顶点，N(N-1)/2条边\n",
    "    * 有向图\n",
    "        * **有向无环图 DAG (Directed acyclic graph), 表示相关联的依赖状态**\n",
    "        * 有向完全图：任意两个顶点之间有且仅有方向相反的两条边(<->)，N(N-1)条边\n",
    "    * 或者分为 带权图/不带权图 (均不适用BFS和DFS)\n",
    "* 邻接顶点 \n",
    "    * 无向图：由一条边连接起来的两个顶点，互为邻接顶点\n",
    "    * 有向图：u->v, u的邻接点是v，即指向的点为邻接点\n",
    "* 顶点的度\n",
    "    * 与顶点相关联的边的条数\n",
    "        * 入度：别的点指向我点的个数\n",
    "        * 出度：我点指向别的点的个数\n",
    "    * 有向图：度 = 入度 + 出度\n",
    "    * 无向图：度 = 入度 = 出度\n",
    "* 连通图\n",
    "    * 无向图：任意一对顶点都有路径连通（即无向完全图），称为连通图\n",
    "    * 有向图：任意一对顶点vi和vj，都有vi到vj的路径，称为强连通图\n",
    "* 生成树\n",
    "    * 一个无向连通图的最小子图称为该图的生成树。\n",
    "    * 有N个顶点的连通图的生成树有N - 1条边\n",
    "    * 最小生成树：权值和最小的生成树"
   ]
  },
  {
   "cell_type": "markdown",
   "metadata": {},
   "source": [
    "### 表示方法"
   ]
  },
  {
   "cell_type": "markdown",
   "metadata": {},
   "source": [
    "#### 邻接表\n",
    "* 定义：每个节点的邻接点的总集合\n",
    "* 表现方式\n",
    "    * 邻接集合 \n",
    "        * N = [{a,b, c}, {d, e}]\n",
    "        * 见下方\n",
    "    * 邻接列表 adjacency list\n",
    "        * N = [[a,b, c], [d, e]]\n",
    "    * 邻接字典 \n",
    "        * N = [{'b':2, 'c':1, 'd':3, 'e':9, 'f':4},{'c':4, 'e':3}]\n",
    "        * key是邻接点，value是权值\n",
    "    * **嵌套字典**\n",
    "        * 用于带权图 399. Evaluate Division.py\n",
    "        * 见下方\n",
    "    * 嵌套字典2\n",
    "        * N = {'a':[b, c], 'b':[b, c]}\n",
    "        \n",
    "* 优点\n",
    "    * 节省空间，只存储实际存在的边\n",
    "    * 对于有向图，可以添加或删除边\n",
    "* 缺点\n",
    "    * 关注顶点的入度时，可能需要遍历整个表\n",
    "    * 对于无向图，如需要删除一条边，需要在两个节点的行处查找并删除\n",
    "* 实现方法\n",
    "    * input：**有向无环图的依赖关系**\n",
    "        * e.g. input = [[1, 3], [3, 4], [2, 3], [3, 5], [1, 4]]\n",
    "    * output: 嵌套字典2\n",
    "    * Steps:\n",
    "        * from collections import defaultdict  # 即value默认为set，且key不存在时，返回[],不会报错,并且可以避免pair里的重复对\n",
    "        * graph = defaultdict(set)\n",
    "        * for key, value in input:\n",
    "            * graph[key].append(value)"
   ]
  },
  {
   "cell_type": "code",
   "execution_count": 2,
   "metadata": {},
   "outputs": [
    {
     "ename": "NameError",
     "evalue": "name 'pair' is not defined",
     "output_type": "error",
     "traceback": [
      "\u001b[1;31m---------------------------------------------------------------------------\u001b[0m",
      "\u001b[1;31mNameError\u001b[0m                                 Traceback (most recent call last)",
      "\u001b[1;32m<ipython-input-2-7a988a7205cd>\u001b[0m in \u001b[0;36m<module>\u001b[1;34m\u001b[0m\n\u001b[0;32m     39\u001b[0m \u001b[1;32mfrom\u001b[0m \u001b[0mcollections\u001b[0m \u001b[1;32mimport\u001b[0m \u001b[0mdefaultdict\u001b[0m\u001b[1;33m\u001b[0m\u001b[1;33m\u001b[0m\u001b[0m\n\u001b[0;32m     40\u001b[0m \u001b[0mgraph\u001b[0m \u001b[1;33m=\u001b[0m \u001b[0mdefaultdict\u001b[0m\u001b[1;33m(\u001b[0m\u001b[0mdict\u001b[0m\u001b[1;33m)\u001b[0m\u001b[1;33m\u001b[0m\u001b[1;33m\u001b[0m\u001b[0m\n\u001b[1;32m---> 41\u001b[1;33m \u001b[1;32mfor\u001b[0m \u001b[1;33m(\u001b[0m\u001b[0mx\u001b[0m\u001b[1;33m,\u001b[0m \u001b[0my\u001b[0m\u001b[1;33m)\u001b[0m\u001b[1;33m,\u001b[0m\u001b[0mv\u001b[0m \u001b[1;32min\u001b[0m \u001b[0mzip\u001b[0m\u001b[1;33m(\u001b[0m\u001b[0mpair\u001b[0m\u001b[1;33m,\u001b[0m \u001b[0mweight\u001b[0m\u001b[1;33m)\u001b[0m\u001b[1;33m:\u001b[0m\u001b[1;33m\u001b[0m\u001b[1;33m\u001b[0m\u001b[0m\n\u001b[0m\u001b[0;32m     42\u001b[0m     \u001b[0mgraph\u001b[0m\u001b[1;33m[\u001b[0m\u001b[0mx\u001b[0m\u001b[1;33m]\u001b[0m\u001b[1;33m[\u001b[0m\u001b[0my\u001b[0m\u001b[1;33m]\u001b[0m \u001b[1;33m=\u001b[0m \u001b[0mv\u001b[0m\u001b[1;33m\u001b[0m\u001b[1;33m\u001b[0m\u001b[0m\n",
      "\u001b[1;31mNameError\u001b[0m: name 'pair' is not defined"
     ]
    }
   ],
   "source": [
    "# 邻接集合 - e.g.有向图\n",
    "# 将节点的编号赋值给相应的节点，方便操作\n",
    "a, b, c, d, e, f, g, h = range(8)\n",
    "N = [{'b', 'c', 'd', 'e', 'f'},\n",
    "     {'c', 'e'},\n",
    "     {'d'},\n",
    "     {'e'},\n",
    "     {'f'},\n",
    "     {'c', 'g', 'h'},\n",
    "     {'f', 'h'},\n",
    "     {'f', 'g'}]\n",
    "# 查看a的邻接点\n",
    "N[a]\n",
    "# 查看a的出度\n",
    "len(N[a])\n",
    "# 查看g是否是a的邻接点之一\n",
    "'g' in N[a]\n",
    "\n",
    "# 邻接集合的字典表示\n",
    "N = {'a':set('bcdef'),\n",
    "     'b':set('ce'),\n",
    "     'c':set('d'),\n",
    "     'd':set('e'),\n",
    "     'e':set('f'),\n",
    "     'f':set('cgh'),\n",
    "     'g':set('fh'),\n",
    "     'h':set('fg')}\n",
    "\n",
    "# 嵌套字典\n",
    "N = {'a':{'b':2, 'c':1, 'd':3, 'e':9, 'f':4},\n",
    "     'b':{'c':4, 'e':3},\n",
    "     'c':{'d':8},\n",
    "     'd':{'e':7},\n",
    "     'e':{'f':5},\n",
    "     'f':{'c':2, 'g':2, 'h':2},\n",
    "     'g':{'f':1, 'h':6},\n",
    "     'h':{'f':9, 'g':8}}\n",
    "# 生成方法\n",
    "from collections import defaultdict\n",
    "graph = defaultdict(dict)\n",
    "for (x, y),v in zip(pair, weight):\n",
    "    graph[x][y] = v\n"
   ]
  },
  {
   "cell_type": "markdown",
   "metadata": {},
   "source": [
    "#### 邻接矩阵\n",
    "* 定义：采用矩阵来描述图中顶点之间的关系(及弧或边的权)\n",
    "* A[i][j] = 1 (若Vi和Vj之间有弧或边的存在) / 0 没有存在这些\n",
    "* 特点\n",
    "    * 主对角线为自己到自己，为0\n",
    "    * 无向图\n",
    "        * 邻接矩阵是对称的，第 i 行或 第 i 列的和就是顶点的度\n",
    "    * 第 i 行的**和**为 i 的出度，即i到各个j点\n",
    "    * 列 i 列的**和**为 i 的入度\n",
    "    * 第 i 行和第 i 列的和为 i 的度\n",
    "* 优点：\n",
    "    * 快速判断两个顶点之间是否存在边\n",
    "    * 对于有向图，可以快速添加或删除边\n",
    "* 缺点\n",
    "    * 如顶点之间的边比较少，比较浪费空间 （N * N矩阵）"
   ]
  },
  {
   "cell_type": "code",
   "execution_count": 4,
   "metadata": {},
   "outputs": [
    {
     "data": {
      "text/plain": [
       "1"
      ]
     },
     "execution_count": 4,
     "metadata": {},
     "output_type": "execute_result"
    }
   ],
   "source": [
    "# 邻接矩阵 - e.g 有向图\n",
    "# 通过一个二维数组，对应图中的每个节点，使用０，１来表示相关节点是否为当前节点的邻居\n",
    "# 可以使用嵌套list实现\n",
    "a, b, c, d, e, f, g, h = range(8)\n",
    "\n",
    "N = [[0, 1, 1, 1, 1, 1, 0, 0],\n",
    "     [0, 0, 1, 0, 1, 0, 0, 0],\n",
    "     [0, 0, 0, 1, 0, 0, 0, 0],\n",
    "     [0, 0, 0, 0, 1, 0, 0, 0],\n",
    "     [0, 0, 0, 0, 0, 1, 0, 0],\n",
    "     [0, 0, 1, 0, 0, 0, 1, 1],\n",
    "     [0, 0, 0, 0, 0, 1, 0, 1],\n",
    "     [0, 0, 0, 0, 0, 1, 1, 0]]\n",
    "\n",
    "# 检查a, b是否为相邻节点,即检查N[a][b]是否为１\n",
    "N[a][b] == 1\n",
    "\n",
    "# c节点的度\n",
    "sum(N[c])"
   ]
  },
  {
   "cell_type": "markdown",
   "metadata": {},
   "source": [
    "### 常用操作及复杂度\n",
    "#### 总结\n",
    "* 与tree的BFS和DFS很像，相互借鉴理解\n",
    "\n",
    "\n",
    "#### DFS\n",
    "* 应用对象：无向图/有向图\n",
    "* 步骤\n",
    "    1. 输入\n",
    "        * 顶点数量 num：int\n",
    "        * 边的关系 slides：[[1, 2], [1, 3],...] \n",
    "    * 建立空邻接表和空访问表，并依据边的关系,填充空邻接表  # 0 代表未访问\n",
    "    * 从某顶点v出发，访问其及其各个未被访问的邻接点，深度优先遍历图，至图中所有的和v点有路径相通，且未被访问的顶点均被访问到。\n",
    "    * 若尚有其他的顶点尚未访问到，则另选一个顶点为起始点进行访问\n",
    "* 复杂度\n",
    "    * 时间复杂度: \n",
    "        * 邻接表 O(V + E)\n",
    "        * 邻接矩阵 O(V ** 2)\n",
    "    * 空间复杂度: O(V) V 是节点个数（不考虑graph的空间）\n",
    "\n",
    "* 有向图和无向图在dfs中的区别\n",
    "    * 有向图：在dfs过程中，不会访问到parent节点，访问到则出现环\n",
    "        * 故可以用一次dfs path中是否出现0正在访问的节点来判断是否有环\n",
    "    * 无向图：在dfs过程中，先访问本节点，然后访问本节点直接来源的parent节点（已经访问过），然后访问本节点的child节点。若child同样被访问过了，则说明child也是本节点的直接来源节点，则出现了环。\n",
    "        * 故要对parent节点进行标记，若发现本节点已经访问，且不是parent节点，则出现了环\n",
    "* **有向图判断是否有环**\n",
    "    * 核心：在一轮DFS中，有没有重合的点\n",
    "    * 对应措施\n",
    "        * 标识改为 -1-未访问，0-正在访问，1-已经访问\n",
    "        * end\n",
    "            * visit[ind] == 0 node正在访问，return False\n",
    "            * visit[ind] == 1 node已经访问，return True\n",
    "        * visit[ind] = 0\n",
    "        * 递归\n",
    "            * for elem in graph[ind]:\n",
    "                * if not self.dfs(graph, visit, elem):\n",
    "                    * return False\n",
    "            * visit[ind] = 1\n",
    "            * return True\n",
    "* **无向图判断是否有环**\n",
    "    * 核心：\n",
    "        * 对于无环图来说，每个节点i访问的子节点中的访问过的节点只有可能是i节点的上级parent节点，否则有环\n",
    "        * 在一轮dfs中，访问的访问过的店若不是parent节点，则出现了环\n",
    "        * 起作用的就只是第一轮实施的dfs, 用for 循环n是为了找到可以实施dfs的节点，防止没有index=0节点等情况\n",
    "    * 应对措施：\n",
    "        * 在dfs中添加parent标志物，其是parent的节点的序号\n",
    "        * 递归\n"
   ]
  },
  {
   "cell_type": "code",
   "execution_count": 3,
   "metadata": {},
   "outputs": [
    {
     "name": "stdout",
     "output_type": "stream",
     "text": [
      "node index is 0\n",
      "[1, 0, 0, 0, 0]\n",
      "node index is 1\n",
      "[1, 1, 0, 0, 0]\n",
      "node index is 4\n",
      "[1, 1, 0, 0, 1]\n",
      "node index is 2\n",
      "[1, 1, 1, 0, 1]\n",
      "node index is 3\n",
      "[1, 1, 1, 1, 1]\n"
     ]
    }
   ],
   "source": [
    "# DFS\n",
    "# 以无向图举例\n",
    "class MySolution:\n",
    "    def dfsGraph(self, num, slides):\n",
    "        graph = [[] for _ in range(num)]  # 建立空邻接表 tO(N)\n",
    "        visited = [0 for _ in range(num)]  # 建立空访问表\n",
    "\n",
    "        for i, j in slides:  # 填充邻接表 tO(E)\n",
    "            graph[i].append(j)\n",
    "            graph[j].append(i)\n",
    "\n",
    "        index = 0\n",
    "        \n",
    "\n",
    "        self.DFS(index, graph, visited)  # case1, 所有节点都连在一起时的遍历方法，从第0个节点开始访问\n",
    "        \n",
    "#         for ind, neighbor in enumerate(graph):  # case1, 并不是所有节点都连在一起时的遍历方法，从第0个节点开始访问\n",
    "#             if visit[ind] == 0:  # 不遍历已经访问的节点，（根据实际情况，可以删除）\n",
    "#                 self.DFS(index, graph, visited)\n",
    "        return\n",
    "\n",
    "    def DFS(self, index, graph, visited):  # 访问\n",
    "        if visited == [1] * len(visited):  # end condition\n",
    "            return\n",
    "\n",
    "        print('node index is %s' % index)\n",
    "        visited[index] = 1  # 表示已访问该点 tO(1)\n",
    "        print(visited)\n",
    "\n",
    "        for node_ind in graph[index]:  # 遍历第index节点的邻接行里的邻接节点\n",
    "            if visited[node_ind] == 0:  # 若邻接节点未被访问过\n",
    "                self.DFS(node_ind, graph, visited)\n",
    "        \n",
    "x = MySolution()\n",
    "x.dfsGraph(5, [[0,1], [0,2], [0,3], [1,4]])\n",
    "\n",
    "\n",
    "# 有向图判断是否有环\n",
    "# 思想：从所有的点开始，进行dfs，看是否可以碰到环\n",
    "# 特点：在dfs循环内加点，看是否在一次dfs内遇到\n",
    "class Solution:\n",
    "    def canFinish(self, nums, condition):  # return T有环/F无环\n",
    "        if nums == 0:  # corner case\n",
    "            return False\n",
    "        if condition == []:\n",
    "            return False\n",
    "\n",
    "        graph = [[] for _ in range(nums)]\n",
    "        visit = [-1] * nums  # 三种状态，-1未访问，0正在DFS中访问，1已经访问\n",
    "\n",
    "        for i, j in condition:  # build adjacency table\n",
    "            graph[j].append(i)\n",
    "\n",
    "        for i in range(nums):\n",
    "            if self.dfs(graph, visit, i):\n",
    "                return True\n",
    "        return False\n",
    "\n",
    "\n",
    "    def dfs(self, graph, visit, ind):  # when repeat, return True有环or False无环\n",
    "        if visit[ind] == 0:\n",
    "            return True\n",
    "        if visit[ind] == 1: # 只访问未访问的，相当于剪枝\n",
    "            return False\n",
    "\n",
    "        visit[ind] = 0\n",
    "        for elem in graph[ind]:\n",
    "            if self.dfs(graph, visit, elem):\n",
    "                return True\n",
    "        visit[ind] = 1\n",
    "        return False\n",
    "\n",
    "# 无向图判断是否有环\n",
    "class Soluiton:\n",
    "    def isCyclic(self, nums, pairs):  # return T有环/F无环\n",
    "        if not nums:\n",
    "            return False\n",
    "        if not pairs:\n",
    "            return False\n",
    "        \n",
    "        visited = [0] * nums\n",
    "        graph = [[] for _ in range(nums)]\n",
    "        \n",
    "        for i, j in pairs:\n",
    "            graph[i].append(j)\n",
    "            graph[j].append(i)\n",
    "        \n",
    "        for i in range(nums):\n",
    "            if visited[i] == 0:  # 必须遍历unvisited node\n",
    "                if self.dfs(i, graph, visited, -1):# -1 代表i=0的parent节点序号是-1\n",
    "                    return True\n",
    "        return False\n",
    "    \n",
    "    def dfs(self, i, graph, visited, parent_index):  # return T for 有环，F for 无环\n",
    "        visited[i] = 1\n",
    "        for j in graph[i]:\n",
    "            if visited[j] == 1:\n",
    "                if j != parent_index:  # 若无环，i的已访问子node的序号应该是i的parent的序号；若有，则不是\n",
    "                    return True\n",
    "            elif visited[j] == 0:\n",
    "                if self.dfs(j, graph, visited, i):\n",
    "                    return True\n",
    "        return False\n",
    "        \n",
    "        "
   ]
  },
  {
   "cell_type": "markdown",
   "metadata": {},
   "source": [
    "#### BFS\n",
    "* 应用对象：无向图/有向图\n",
    "* 步骤\n",
    "    1. 输入\n",
    "        * 顶点数量 num：int\n",
    "        * 边的关系 slides：[[1, 2], [1, 3],...] \n",
    "    * 建立空邻接表和空访问表，并依据边的关系,填充空邻接表  # 0 代表未访问\n",
    "    * 从某个顶点出发，访问其各个邻接点\n",
    "    * 从邻接点出发，访问邻接点的邻接点（先访问的点，其邻接点也先被访问）\n",
    "    * 访问其他未被访问的顶点\n",
    "* 复杂度\n",
    "    * 时间复杂度: \n",
    "        * 邻接表 O(V + E)\n",
    "        * 邻接矩阵 O(V ** 2)\n",
    "    * 空间复杂度: worst O(V) V 是节点个数 （不考虑graph的空间）"
   ]
  },
  {
   "cell_type": "code",
   "execution_count": 1,
   "metadata": {},
   "outputs": [
    {
     "ename": "IndentationError",
     "evalue": "expected an indented block (<ipython-input-1-c2cf0be57138>, line 28)",
     "output_type": "error",
     "traceback": [
      "\u001b[1;36m  File \u001b[1;32m\"<ipython-input-1-c2cf0be57138>\"\u001b[1;36m, line \u001b[1;32m28\u001b[0m\n\u001b[1;33m    x = MySolution()\u001b[0m\n\u001b[1;37m                    ^\u001b[0m\n\u001b[1;31mIndentationError\u001b[0m\u001b[1;31m:\u001b[0m expected an indented block\n"
     ]
    }
   ],
   "source": [
    "# BFS\n",
    "# 以无向图独立部分举例\n",
    "from collections import deque\n",
    "class MySolution:\n",
    "    def bfsGraph(self, num, slides):\n",
    "        graph = [[] for _ in range(num)]  # 建立空邻接表 tO(N)\n",
    "        visited = [0 for _ in range(num)]  # 建立空访问表\n",
    "\n",
    "        for i, j in slides:  # 填充邻接表 tO(E)\n",
    "            graph[i].append(j)\n",
    "            graph[j].append(i)\n",
    "  \n",
    "        queue = deque()\n",
    "        queue.append(0)  # 独立部分的情况，若多个部分，需要循环加入未访问的节点\n",
    "\n",
    "        while queue:\n",
    "            node_ind = queue.popleft()  # 从某个顶点出发，访问其各个邻接点\n",
    "            visited[node_ind] = 1\n",
    "            print('visited node index:%s' % node_ind)\n",
    "            print('visit: %s' % visited)\n",
    "            for neigh_ind in graph[node_ind]:  # 从邻接点出发，访问邻接点的邻接点\n",
    "                if visited[neigh_ind] == 0:\n",
    "                    queue.append(neigh_ind)\n",
    "        return\n",
    "    \n",
    "    def isCyclic(self, n, pairs):  # return T for cyclic, False for acyclic\n",
    "        \n",
    "x = MySolution()\n",
    "x.bfsGraph(5, [[0,1], [0,2], [0,3], [1,4]])"
   ]
  },
  {
   "cell_type": "markdown",
   "metadata": {},
   "source": [
    "#### 拓扑排序 Topological Sorted Order\n",
    "* 基本作用：判断是否有环\n",
    "* 特点：只有topo是从入度为0，也就是开头开始的探索\n",
    "    * dfs，bfs都是随机式的\n",
    "* 类型\n",
    "    * case1：以indegree为结果\n",
    "        * 从独立点开始数（入度为0点，出度不为0）\n",
    "        * 0的含义\n",
    "            * 以独立头起始的环连接（若存在）\n",
    "            * 独立的线性状态的部分\n",
    "        * 故只要有环，indegree就不全是0\n",
    "    * case2：以outdegree为结果\n",
    "        * 从断点开始数（入度不为0点，出度为0点）\n",
    "        * 0的含义\n",
    "            * 断头点起始，无outdegree为尾的环连接\n",
    "            * 独立的线性状态的部分\n",
    "        * 故只要有环，outdegree就不全是0\n",
    "* 与图的关系\n",
    "    * 元素个数 num -> 顶点数量\n",
    "    * 依赖关系 prerequisities -> 边的集合\n",
    "    * 出度表 outdegree -> 邻接表\n",
    "* 步骤\n",
    "    1. 输入\n",
    "        * 元素个数 num：int\n",
    "        * 依赖关系 prerequisities：[[元素1，元素2]....], 1依赖2，2->1,2必须先完成\n",
    "    * 构建空入度和空出度表\n",
    "        * 在元素值不从0开始时：dict构建indegree/outdegree\n",
    "            * 注意：indegree每个元素val都要填充0\n",
    "    * 用依赖关系去填充入度和出度表  # 注意：依赖关系的依赖次序\n",
    "        * case 1\n",
    "            * 入度表 [int]\n",
    "            * 出度表 [[1,2,3],...] \n",
    "        * case 2 \n",
    "            * 入度表 [[1,2,3],...] \n",
    "            * 出度表 [int] \n",
    "    * 建立空queue\n",
    "    * 依照入度表/出度表，把所有入度/出度为0的点的序号加入queue\n",
    "        * **升级版** queue.append([index, XXX])\n",
    "    * 遍历queue的元素\n",
    "        * 遍历次序：\n",
    "            * 一层一层遍历，只遍历indegree = 0的节点\n",
    "            * for遍历下层节点时，先去掉其重复edge,等到其indegree=0时，再加入queue\n",
    "        * popleft每个元素 node_ind\n",
    "            * **升级版**：for循环，遍历本层\n",
    "        * 遍历node_ind 所有出度点\n",
    "            * 出度点的入度 - 1 / 入度点的出度 - 1\n",
    "            * 若出度点的入度为0，queue append该出度点 / 若入度点的出度为0，queue append该入度点\n",
    "    * 输出：\n",
    "        * case 1：\n",
    "            * 入度表全为0，则图无环\n",
    "            * 入度表不全为0\n",
    "                * 入度为0的点：有独立的开头点，可以顺序完成的点\n",
    "                * 入度不为0的点：无法独立完成\n",
    "        * case 2：\n",
    "            * 出度表全为0，则图无环\n",
    "            * 出度表不全为0\n",
    "                * 出度为0的点：有断点头开始，可以顺序完成的点\n",
    "                * 出度不为0的点：无法断点头开始完成的点"
   ]
  },
  {
   "cell_type": "code",
   "execution_count": 1,
   "metadata": {},
   "outputs": [
    {
     "data": {
      "text/plain": [
       "'有环'"
      ]
     },
     "execution_count": 1,
     "metadata": {},
     "output_type": "execute_result"
    }
   ],
   "source": [
    "# 拓扑排序\n",
    "# topological sort method \n",
    "from collections import deque\n",
    "class mySolution:\n",
    "    def topoSort(self, num, prerequisities):  # num: 节点数量；prerequisities: [[0, 1], [],...] 依赖关系, 即0依赖1\n",
    "        outdegree = [[] for _ in range(num)]  # 所有节点的空出度表，包含出度的点的index，即邻接表\n",
    "        indegree = [0 for _ in range(num)]  # 所有节点的空入度表，包含入度点的数量\n",
    "        # 或者 indegree = [0] * num\n",
    "        # 但是不能 outdegree = [[]] * num!\n",
    "\n",
    "        for x, y in prerequisities:  # 通过依赖关系去填充入度和出度表\n",
    "            outdegree[y].append(x)  #  填充出度表\n",
    "            indegree[x] += 1  # 填充入度表\n",
    "            \n",
    "        queue = deque()\n",
    "        for ind, val in enumerate(indegree):  # 把所有入度为0的点的序号加入queue\n",
    "            if val == 0:\n",
    "                queue.append(ind)\n",
    "        # 可以合并成\n",
    "        # queue = deque([i for i, v in enumerate(indegree) if v == 0])\n",
    "        \n",
    "        while queue:\n",
    "            node_ind = queue.popleft()  # popleft每个元素\n",
    "            for out_ind in outdegree[node_ind]:  # 遍历其所有出度点\n",
    "                indegree[out_ind] -= 1 # 出度点的入度 - 1\n",
    "                if indegree[out_ind] == 0:  # 若出度点的入度为0，queue append该出度点\n",
    "                    queue.append(out_ind)\n",
    "               \n",
    "        \n",
    "        if indegree == [0] * num:\n",
    "            return '无环'\n",
    "        else:\n",
    "            return '有环'\n",
    "x = mySolution()\n",
    "x.topoSort(2, [[1,0],[0,1]])"
   ]
  },
  {
   "cell_type": "markdown",
   "metadata": {},
   "source": [
    "#### 复杂度及时空权衡\n",
    "* 可以降低算法的时间复杂度以换取更大的空间，或减少消耗的空间以换取较慢的执行"
   ]
  },
  {
   "cell_type": "markdown",
   "metadata": {},
   "source": [
    "### 算法总结\n",
    "#### 有向图（依赖关系）\n",
    "* 是否能够独立完成,是否有环\n",
    "    * 方法1：topological sort，indegree是否全为0\n",
    "    * 方法2：对每个节点dfs，看是否可以碰到环\n",
    "    * 方法3：bfs，看while中是否出现visited[i] = 1,-> 无法处理 1-> 3, 1->2->3的情况。无法实现\n",
    "    * 课程是否可以完成\n",
    "        * 207. Course Schedule.py\n",
    "* （独立完成）的值和顺序 -> level order 遍历值 \n",
    "    * 方法1：topo sort save popleft的值\n",
    "    * 方法2：DFS的后续遍历，再反向输出结果\n",
    "    * 课程完成的顺序\n",
    "        * 210. Course Schedule II.py\n",
    "* （独立完成）的层数 -> tree的层数 DAG\n",
    "    * 方法1：topo + 累加level + for 每层\n",
    "    * 方法2：topo + queue[index, level]\n",
    "    * 工期完成的时间（可以同时做多个工作） \n",
    "        * 程序的依赖关系.py\n",
    "* （独立完成的）的最大宽度 DAG\n",
    "    * 方法1：topo + 保存 len(queue) + for 每层\n",
    "    * 同时进行最大的工作数量\n",
    "* （独立完成的）的每个path的值 -> 路径path和 DAG\n",
    "    * 方法1：从入度为0的开始dfs + queue[index, [path]]\n",
    "    * 每个工作的线程的工作内容\n",
    "    * sequence的重新构建原list \n",
    "        * 444. Sequence Reconstruction.py\n",
    "* 断点开始完成的path -> 路径path和（以outdegree为输出的）\n",
    "    * 方法：outdegree = [int] + bfs + 保存index\n",
    "    * 安全terminal的工作内容 \n",
    "        * 802. Find Eventual Safe States.py"
   ]
  },
  {
   "cell_type": "markdown",
   "metadata": {},
   "source": [
    "#### 克隆图\n",
    "* 用dict保存映射关系\n",
    "* 先判断在不在dic里，后创立新值，并dict连接新旧；最后新值通过dic的映射连接其邻居"
   ]
  },
  {
   "cell_type": "markdown",
   "metadata": {},
   "source": [
    "\n",
    "#### 求两点间最短距离\n",
    "* BFS，visited可以用set()"
   ]
  },
  {
   "cell_type": "markdown",
   "metadata": {},
   "source": [
    "#### 无向图\n",
    "* 分类情况\n",
    "    * case 1：无环孤立: len(pair) = n - 1\n",
    "    * case 2：有环孤立: len(pair) > n - 1\n",
    "    * case 3: 无环多个：len(pair) < n - 1\n",
    "    * case 4：有环多个：都有可能\n",
    "* 是否有环\n",
    "    * DFS - parent法\n",
    "    * Union-find set\n",
    "        * 条件：pari从无重复\n",
    "        * 操作: 每个pair都应该是拓展新节点，故若出现root1=root2,则出现了环\n",
    "* 求一个点到其他点的path长度（level数）\n",
    "    * 注意：path长度 = 点的数量/level - 1\n",
    "    * BFS\n",
    "        * 类似tree，queue.append([index, level])，在visit[i] = 1时，path add to res\n",
    "            * 求最长长度时，方案1. max(path) 方案2. 直接最后输出level - 1即可\n",
    "    * DFS\n",
    "        * 类似tree，process中，visit[i] = 1, path add to res\n",
    "* 求几个孤立\n",
    "    * DFS\n",
    "        * 条件：pair从0到大，无重复\n",
    "        * 操作：scan every unvisited node, 访问了几次，就有几个环\n",
    "    * Union-find set\n",
    "        * 条件：pair无重复\n",
    "        * 操作：n个数，联通了m次（root1!=root2），有n-m个孤立部分"
   ]
  },
  {
   "cell_type": "markdown",
   "metadata": {},
   "source": [
    "### 题目类型\n",
    "#### 有向图\n",
    "* 路径和 1376. Time Needed to Inform All Employees.py\n",
    "    * BFS + 建图\n",
    "    \n",
    "#### 拓扑排序（依赖关系）\n",
    "* 课程是否有环 207. Course Schedule.py\n",
    "    * topo法，看indegree是否全为0，都被访问到了\n",
    "    * DFS法，-1，0，1看是否循环内是否有0\n",
    "* ！完成课程的先后顺序 210. Course Schedule II.py\n",
    "    * 1->3, 2->3,意味着3之前要完成1和2\n",
    "    * topo法，按照层序保存index输出\n",
    "    * DFS法判断是否有环 + postorder遍历，先输出根部保存到res，再reverse res\n",
    "* ！判断sequence 能否重构原list 444. Sequence Reconstruction.py\n",
    "    * 保存所有从头到尾的path，看org在不在里面\n",
    "    * topo法，queue.append([index, [node]])\n",
    "    * dfs法，遍历整个路径-》 没做\n",
    "* ！是否有断点开始的安全结尾 802. Find Eventual Safe States.py\n",
    "    * 从断点开始，寻找可以到达尾部节点（outdegree = 0）的节点，保存，sort输出\n",
    "    * topo法，采用反向出入度标记法，从出度为0的点开始遍历，遍历到的点即为结果\n",
    "    * dfs法，扫描所有的点，若该点不在环内，则save in res\n",
    "* ！程序需要多久做完 《程序的依赖关系.py》\n",
    "    * topo数层数"
   ]
  },
  {
   "cell_type": "markdown",
   "metadata": {},
   "source": [
    "#### 图的基本\n",
    "* 克隆图 133. Clone Graph.py\n",
    "    * 先判断/创立点，再建立dic映射，再在新的graph上连接点\n",
    "    * BFS + dict # tO(N) sO(N)\n",
    "    * DFS + dict # tO(N) sO(N)"
   ]
  },
  {
   "cell_type": "markdown",
   "metadata": {},
   "source": [
    "#### 无向图\n",
    "* 求无向图中的点的最长路径的最小值 《无向图的最长距离.py》\n",
    "    * 求每个点的所有路径path， 求path的最长值，再遍历到所有点上\n",
    "    * BFS/DFS"
   ]
  },
  {
   "cell_type": "markdown",
   "metadata": {},
   "source": [
    "### Dijkstra 和 A*\n",
    "* 如果有机会，请尝试研究更高级的算法\n",
    "* Dijkstra \n",
    "    * 定义：一个顶点到其余各顶点的最短路径算法，解决的是有权图中最短路径问题。\n",
    "    * 主要特点： 以起始点为中心向外层层扩展，直到扩展到终点为止。\n",
    "    * 基于BFS\n",
    "* A* \n",
    "    * 定义：一个顶点到其余各顶点的最短路径算法\n",
    "* BFS加上评估函数可以变成A算法"
   ]
  },
  {
   "cell_type": "markdown",
   "metadata": {},
   "source": [
    "## 并查集 Union-find set"
   ]
  },
  {
   "cell_type": "markdown",
   "metadata": {},
   "source": [
    "### 定义\n",
    "* 并查集是树形的数据结构，保持着用于处理一些不相交集合Disjoint Sets的合并及查询问题。有一个联合-查找算法Union-find Algorithm定义了两个操作用于此数据结构\n",
    "* Find:确定元素属于哪一个子集。它可以被用来确定两个元素是否属于同一个子集\n",
    "* Union:将两个子集合并成同一个集合"
   ]
  },
  {
   "cell_type": "markdown",
   "metadata": {},
   "source": [
    "### 算法总结\n",
    "* 判断无向图是否有环\n",
    "    * 方法：是否root1 = root2\n",
    "    * 所有的边pair应该是不重复的，即循环一次，联通一个新点，若两个点都已经与root联通过了，则说明新pair构成这两个点的第三条边，则构成了三角形，不再是树\n",
    "    * 应用的性质：无环图的每一个pair都应该是拓展新点，故新点重复时，说明有环\n",
    "* 求无向图的孤立数量\n",
    "    * 方法1：nums = len(set(groupTag))\n",
    "    * 方法2(不推荐)：nums = n - (time + 1)\n",
    "    * 岛屿问题（如果节点不与其他节点联通，则会孤立成一个岛屿）"
   ]
  },
  {
   "cell_type": "markdown",
   "metadata": {},
   "source": [
    "### 现实思路\n",
    "* 概括：先让每个节点代表一个分组，然后scan pair，把pair[1]改为pair[0]的分组，直到最后有几个隔离的，就有几个分组\n",
    "    * 在根据pair分组时，若发现pair[0]和pair[1]的分组相同，不用更改，说明0和1之前已经联通了，需要再次联通，说明其成环\n",
    "* 建立n个分组，每个分组代表一堆可以互相联通的节点\n",
    "* 遍历每队节点，找到他们各自所属的分队A,B\n",
    "* 如果A!=B,则将A,B分组union起来，表示A,B分组联通了\n",
    "* 如果A == B，则跳过（说明A,B已经在一个组里了）"
   ]
  },
  {
   "cell_type": "markdown",
   "metadata": {},
   "source": [
    "###  常用操作及复杂度"
   ]
  },
  {
   "cell_type": "markdown",
   "metadata": {},
   "source": [
    "* 代码如下\n",
    "* 时间复杂度 O(V + E)\n",
    "* 空间复杂度 O(V)\n",
    "* **缺陷** \n",
    "    * 本方法要求输入的pair的具有严苛的顺序，即从一端节点开始，顺序构成pair[i, j]，i在先，j在后\n",
    "    * 否则，其实都联通，也会出现groupTag具有多个值的现象\n",
    "    * **改进方法**， 在union之后，对groupTag的值再find()一遍，替换掉原值，即可得到正确的分组"
   ]
  },
  {
   "cell_type": "code",
   "execution_count": null,
   "metadata": {},
   "outputs": [],
   "source": [
    "Class Solution:\n",
    "# find操作是为每一个节点找到它的最远祖先，如果节点对应的数值为初始的index的话，证明其依然为isolate，\n",
    "# 如果不是的话，存储的index为其祖先的index，这样就能find其最远祖先\n",
    "\n",
    "    def find(self, index, groupTag):\n",
    "        # isolate\n",
    "        if group[index] == index:\n",
    "            return index\n",
    "        # group\n",
    "        else:\n",
    "            return self.find(groupTag[index], groupTag)\n",
    "\n",
    "# Union操作，进来的这两个节点是联通的，union函数是将这两个节点合并成一个组。通过调用find操作，对两个节点找到其祖先\n",
    "# 然后如果祖先相同的话，证明这两个节点已经再一个组里，跳过；如果不是的话，将第二个节点的祖先设置为第一个节点\n",
    "    def union(self, i, j, groupTag):\n",
    "        root1 = self.find(i, groupTag)\n",
    "        root2 = self.find(j, groupTag)\n",
    "        # already unioned\n",
    "        if root1 == root2:\n",
    "            return\n",
    "        else:\n",
    "            groupTag[root2] = root1  # 连接新点\n",
    "    \n",
    "    def groups(n, pairs):\n",
    "        # 初始化，每一个点都设置为单独的一个组，标记为index\n",
    "        groupTag = [i for i in range(n)]  # 即每个i都用其index = i进行标记\n",
    "        \n",
    "        for i, j in pairs:\n",
    "            self.union(i, j, groupTag)\n",
    "        \n",
    "        #针对Union-find的缺陷进行修正，详细见上文\n",
    "        for i in range(len(groupTag)):\n",
    "            groupTag[i] = self.find(groupTag[i], groupTag)"
   ]
  },
  {
   "cell_type": "markdown",
   "metadata": {},
   "source": [
    "### 题目类型(无向图)\n",
    "* 判断图是否是有效树 261. Graph Valid Tree.py\n",
    "    * 判断**无环孤立**\n",
    "    * corner case edge = vertex -1 排除掉**无环多个和有环孤立**\n",
    "    * 然后判断是 无环孤立 和 有环多个，故接下来判断**有环无环 或者 孤立还是多个**都行\n",
    "        * 判断 是否有环\n",
    "            * DFS  # tO(V + E) sO(V)\n",
    "                * 先寻找第一个可以dfs的节点(for n)，针对每个节点dfs(i,parent), 若本节点的子节点已经访问过，且该子节点与本节点的parent不相同，则出现了环\n",
    "            * BFS  # tO(V + E) sO(V)\n",
    "                * queue = deque([(pairs[0][0], -1)])，加入parent判断\n",
    "                * 注意第一个加进去的index不一定可以为0，因为若0为孤立点，则整体return True。故第一个加进去的index要是pair里的结点\n",
    "            * Union find  # tO（V + E) sO(V)\n",
    "                * 看是否每个pair都是用来拓展新的root，即无root1 == root2情况，若有，则存在环\n",
    "        * 判断 判断是否孤立\n",
    "            * Union find \n",
    "                * 判断连接新点的次数是否是 n - 1"
   ]
  },
  {
   "cell_type": "markdown",
   "metadata": {},
   "source": [
    "* 无向图的联通分量个数 323. Number of Connected Components in an Undirected Graph.py\n",
    "    * 判断**孤立数量**\n",
    "    * DFS  # tO(V + E) sO(V)\n",
    "        * dfs进行了几次，就有几个联通分量\n",
    "    * Union find # tO(V + E) sO(V)\n",
    "        * **并查集巧妙的pass了环的pair**\n",
    "        * n - （连接新点groupTag[root2] = root1)的次数\n",
    "* 朋友圈的个数 547. Friend Circles.py\n",
    "    * 判断**孤立数量**\n",
    "    * DFS # tO(N) sO(N)\n",
    "        * dfs进行了几次，就有几个联通分量\n",
    "        * 易错点：for j in range(len(M)) 索引的是第i行的第j个数，而不是M[i]里的数\n",
    "    * Union-find # tO(N) sO(N)\n",
    "        * n - （ groupTag[root2] = root1)的次数\n",
    "        * 易错点：矩阵是左下和右上的三角形，并且for i in range(i + 1)"
   ]
  },
  {
   "cell_type": "markdown",
   "metadata": {},
   "source": [
    "## 矩阵的搜索"
   ]
  },
  {
   "cell_type": "markdown",
   "metadata": {},
   "source": [
    "### DFS"
   ]
  },
  {
   "cell_type": "markdown",
   "metadata": {},
   "source": [
    "#### 模板\n",
    "* 明确dfs函数中不合法的状态，及时return和继续dfs的情况\n",
    "    * 未访问过\n",
    "    * 可以被访问\n",
    "* 做好visited的标记，避免无限循环"
   ]
  },
  {
   "cell_type": "code",
   "execution_count": null,
   "metadata": {},
   "outputs": [],
   "source": [
    "class MySolution:\n",
    "    def main(self, grid):\n",
    "        if not grid:  # corner case\n",
    "            return None\n",
    "        if len(grid) == 1:\n",
    "            return\n",
    "        \n",
    "        # build empty visited with the same size as grid\n",
    "        visited = [[0 for _ in range(len(grid[0]))] for _ in range(len(grid))]\n",
    "        \n",
    "        # scan grid and dfs the island node\n",
    "        for i in range(len(grid)):\n",
    "            for j in range(len(gird[i])):\n",
    "                if grid[i][j] == 1 and visited[i][j] == 0:\n",
    "                    self.dfs(i, j, visited)\n",
    "        return\n",
    "        \n",
    "    def dfs(self, i, j, visited):\n",
    "        if i < 0 or j <0 or i >= len(visited) or j >= len(visited[0]) or visited[i][j] == 1:  #  只要有一个不成立，就返回\n",
    "            return\n",
    "\n",
    "        # set visited\n",
    "        visited[i][j] = 1\n",
    "        dfs(self, i - 1, j, visited)  # up\n",
    "        dfs(self, i + 1, j, visited)  # down\n",
    "        dfs(self, i, j - 1, visited)  # left\n",
    "        dfs(self, i, j + 1, visited)  # right"
   ]
  },
  {
   "cell_type": "markdown",
   "metadata": {},
   "source": [
    "#### 复杂度\n",
    "* time complexity: O(N) where N is the number of node in the matrix. We might process every node.\n",
    "* space complexit: O(N) the implicit call stack when using dfs"
   ]
  },
  {
   "cell_type": "markdown",
   "metadata": {},
   "source": [
    "#### 注意要点\n",
    "* i是行，是i-1上面一行up,i + 1是下面一行down\n",
    "* 可能不需要visited，比如染色问题\n",
    "* 注意grid的row和column的数量可能是不一样 "
   ]
  },
  {
   "cell_type": "markdown",
   "metadata": {},
   "source": [
    "### BFS\n",
    "#### 模板\n",
    "* 明确添加新node时的判断条件\n",
    "    * 未访问过\n",
    "    * 可以被访问\n",
    "* 在append之后，立马做好visited的标记，避免无限循环"
   ]
  },
  {
   "cell_type": "code",
   "execution_count": 2,
   "metadata": {},
   "outputs": [],
   "source": [
    "class MySolution:\n",
    "    def main(self, grid):\n",
    "        if not grid:  # corner case\n",
    "            return None\n",
    "        if len(grid) == 1:\n",
    "            return\n",
    "        \n",
    "        # build empty visited with the same size as grid\n",
    "        visited = [[0 for _ in range(len(grid[0]))] for _ in range(len(grid))]\n",
    "        \n",
    "        from collections import deque\n",
    "        \n",
    "        for i in range(len(grid)):\n",
    "            for j in range(len(gird[i])):\n",
    "                if grid[i][j] == 1 and visited[i][j] == 0:\n",
    "                    queue.append([i, j])\n",
    "                    while queue:\n",
    "                        r, c = queue.popleft()\n",
    "                        if r - 1 >= 0 and visited[r - 1][c] == 0:\n",
    "                            queue.append([r - 1, c])\n",
    "                            visited[r - 1][c] = 1\n",
    "                        if r + 1 <= len(grid) - 1 and visited[r + 1][c] == 0:\n",
    "                            queue.append([r + 1, c])\n",
    "                            visited[r + 1][c] = 1\n",
    "                        if c - 1 >= 0 and visited[r][c - 1] == 0:\n",
    "                            queue.append([r, c - 1])\n",
    "                            visited[r][c - 1] = 1\n",
    "                        if c + 1 <= len(grid[0]) - 1 and visited[r][c + 1] == 0:\n",
    "                            queue.append([r, c + 1])\n",
    "                            visited[r][c + 1] = 1\n",
    "        return"
   ]
  },
  {
   "cell_type": "markdown",
   "metadata": {},
   "source": [
    "### 算法总结\n",
    "* 网格 +  联通部分\n",
    "    * DFS\n",
    "    * BFS"
   ]
  },
  {
   "cell_type": "markdown",
   "metadata": {},
   "source": [
    "### 题目类型\n",
    "* 网格 + 联通部分\n",
    "    * 像素染成目标色 733. Flood Fill.py  # t/s O(N)\n",
    "        * DFS\n",
    "            * 访问起始点并染色，后染色其可以染色且未染色的邻居\n",
    "            * 易错点：起始点就是目标色，直接return；不需要visited\n",
    "        * BFS\n",
    "            * 用queue.append([r, c])，后染色其邻居\n",
    "            * 易错点：在append某点之后，立马染色该点\n",
    "    * 岛屿的数量 200. Number of Islands.py \n",
    "        * DFS  # t/sO(M\\*N)\n",
    "            * 遍历每个unvisited且可以访问的点，并dfs访问其邻居，标记trigger dfs的数量\n",
    "            * 易错点：标志的是'1'，而不是数字1\n",
    "        * BFS  # tO(M\\*N) sO(min(M.N))) expect visited O(N)\n",
    "            * 遍历每个unvisited且可以访问的点，记录times，用bfs访问其邻居并加入queue\n",
    "            * 易错点：\n",
    "                1. 在append某点之后，立马标注该点已经访问过\n",
    "                * c + 1 <= len(gird[0]), 而不是len(grid)\n",
    "        * 二维并查集\n",
    "    * 朋友圈 547. Friend Circles.py\n",
    "        * 也可以看成1维的连接，通过并查集完成"
   ]
  },
  {
   "cell_type": "markdown",
   "metadata": {},
   "source": [
    "## NP完全问题"
   ]
  },
  {
   "cell_type": "markdown",
   "metadata": {},
   "source": [
    "### NP-complete的含义"
   ]
  },
  {
   "cell_type": "markdown",
   "metadata": {},
   "source": [
    "### 问题类别\n",
    "当面试官变相询问您时能够识别它们\n",
    "* 旅行推销员\n",
    "* 背包问题"
   ]
  },
  {
   "cell_type": "markdown",
   "metadata": {},
   "source": [
    "## 其他基础知识\n",
    "* 调用函数时，实参改变，形参不改变。即传入的head是不随函数里变换而变化的"
   ]
  },
  {
   "cell_type": "markdown",
   "metadata": {},
   "source": [
    "## 数据结构回顾\n",
    "* 思考各个数据结构之间的区别，e.g.stack栈和heap堆之间的区别"
   ]
  },
  {
   "cell_type": "markdown",
   "metadata": {},
   "source": [
    "# 搜索基础 Search Basics"
   ]
  },
  {
   "cell_type": "markdown",
   "metadata": {},
   "source": [
    "## 宽度优先搜索 Breadth First Search"
   ]
  },
  {
   "cell_type": "markdown",
   "metadata": {},
   "source": [
    "### 定义\n",
    "* 通过从根开始首先搜索树的级别来搜索树（或图）的算法 An algorithm that search a tree (or graph) by searching levels of the tree firs, starting at the root.\n",
    " * 它找到每个级别相同的节点，最经常从左到右移动。\n",
    " * 在执行此操作时，它将跟踪当前级别上节点的子节点\n",
    " * 检查完一个级别后，它将移至下一级别的最左侧节点\n",
    " * 最右下角的节点最后被评估（最深且距离其级别最远的节点）。\n",
    "\n",
    "### 重点\n",
    "* 最适合搜索宽于深的树 Optimal for searching a tree that is **wider than it is deep**.\n",
    "* 当遍历树时，使用队列来存储有关树的信息 Uses a **queque** to store information about the tree while it traverses a tree.\n",
    "    * 因为它使用队列，所以比深度优先搜索要占用更多的内存。 Because it uses a queue it is more memory intensive than depth first serarch.\n",
    "    * 队列使用更多的内存，因为它需要存储指针(?) The queue uses more memory because it needs to stores pointers.\n",
    "    \n",
    "### 复杂度\n",
    "* Search: O(V + E) under the graph is represented by the adjacency list structure\n",
    "* Each edege is labeled twice. E is number of edges 边的数量\n",
    "* Each vertex is labeled twice. V is number of vertices 顶点的数量"
   ]
  },
  {
   "cell_type": "markdown",
   "metadata": {},
   "source": [
    "## 深度优先搜索 Depth First Search"
   ]
  },
  {
   "cell_type": "markdown",
   "metadata": {},
   "source": [
    "### 定义\n",
    "* 一种算法，该算法通过从根开始首先搜索树的深度来搜索树（或图） An algorithm that searches a tree (or graph) by searching depth of the tree first, starting at the root.\n",
    "    * 它沿着一棵树向左走，直到不能走远为止。 It traverses left down a tree until it cannot go futher.\n",
    "    * 一旦到达分支的末尾，它将遍历该分支的右子节点，如果可能的话，再返回右子节点。 Once it reaches the end of a branch, it traverses back up trying the right child of nodes on that branch, and if possible left from the right children.\n",
    "    * 检查完分支后，它移到根的右侧节点，然后尝试在所有子节点上向左移动，直到到达底\n",
    "部 When finished examing a branch, it moves to the node right of the root then tries to go left on all its children until it reaches the bottom.\n",
    "    * 最右边的节点最后被评估（所有祖先右边的节点）。 The right most node is evaluated last(the node that is right of all its ancestors)"
   ]
  },
  {
   "cell_type": "markdown",
   "metadata": {},
   "source": [
    "### 重点\n",
    "* 最适合搜索比宽更深的树 Optimal for searching a tree that is deeper than it is wide\n",
    "* 使用list将节点压入 Uses a stack to push nodes onto:\n",
    "    * 由于堆栈是LIFO，因此它不需要跟踪节点指针，因此与广度优先搜索相比，其内存密集度\n",
    "较低。Becase a stack is LIFO, it does not need to keep track of the nodes pointers and is thereforce less memory intensive than breath than BFS.\n",
    "    * 一旦无法继续前进，它将开始评估list里存储的值 Once it can't go further left it begins evaluating the stack.一旦无法继续前进，它将开始评估堆栈。"
   ]
  },
  {
   "cell_type": "markdown",
   "metadata": {},
   "source": [
    "### 复杂度\n",
    "* Search:  O(V + E) under the graph is represented by the adjacency list structure\n",
    "* Each edege is labeled twice. E is number of edges 边的数量\n",
    "* Each vertex is labeled twice. V is number of vertices 顶点的数量\n",
    "\n"
   ]
  },
  {
   "cell_type": "markdown",
   "metadata": {},
   "source": [
    "### BFS vs DFS\n",
    "* The simple answer to this question is that it depends on the size and shape of the tree.\n",
    "    * For wide, shallow tree use BFS 宽而浅\n",
    "    * For deep, narrow tree use DFS. 深而窄"
   ]
  },
  {
   "cell_type": "markdown",
   "metadata": {},
   "source": [
    "### 细微差别 Nuances \n",
    "* 因为BFS使用队列来存储有关节点及其子节点的信息，所以它使用的内存可能比计算机上可用的内存更多（这种情况很少存在）。Because BFS uses queue to store information about the node and its children, it could use more memory than is available on your computer.\n",
    "* 如果在非常深的树上使用DFS，则可能会不必要地深入搜索，就需要减枝操作。If using a DFS on a tree that is very deep, you might go unnecessarily deep in the search. \n",
    "* 宽度优先搜索往往是一种循环算法，即用while和for。BFS tends to be a **looping algorithm**.\n",
    "* 深度优先搜索往往是一种递归算法，即用递归算法。DFS tends to be a **recursive algorithm**."
   ]
  },
  {
   "cell_type": "markdown",
   "metadata": {},
   "source": [
    "\n",
    "# 比较排序 Comparsion Sorting Basic\n",
    "* 基本应用：排序类题目\n",
    "* 扩展应用：合并类题目（比较过程中，每个元素都遍历到了，故可以实现合并）\n",
    "* 至少需要 time complexity: O(NlogN)"
   ]
  },
  {
   "cell_type": "markdown",
   "metadata": {},
   "source": [
    "## 合并，快速，插入区别分析\n",
    "### 合并和快速的算法\n",
    "* 合并\n",
    "    * 分治思想，先处理小部分，再处理大部分\n",
    "    * 先分割，调用self.merge(L/R)进一步分割，再排序操作\n",
    "    * 排序操作中，读取LR实参的值，**直接对arr进行修改**，最终返回arr\n",
    "    * 故仅仅用self.merge(L/R)即可，可以不用 arr = self.merge(arr)\n",
    "* 快速\n",
    "    * 先处理大部分，再处理小部分\n",
    "    * 先排序，再调用self.quickMerge(arr)\n",
    "    * 排序操作中，读取LR实参的值，**未直接对arr进行修改**，最终返回arr。\n",
    "    * 故要使用arr = self.quickMerge(L/R)对arr进行修改\n",
    "* 总结：最大区别就是在排序过程中，有无对原arr的直接修改，若无，则self.sort需要返回赋值到arr上"
   ]
  },
  {
   "cell_type": "markdown",
   "metadata": {},
   "source": [
    "##  Merge sort 合并排序法"
   ]
  },
  {
   "cell_type": "markdown",
   "metadata": {},
   "source": [
    "### 定义 \n",
    "A comparison based sorting algorithm，流程如下  \n",
    "  * Divide entire dataset into groups of at most two\n",
    "  * Compares each number one at a time, moving the smallest number to left of the pair.\n",
    "  * Once all pairs sorted it, then compares left most elements of the two leftmost pairs to create sorted group of four with the smallest numbers on the left and the largest ones on the right.\n",
    "  * This process is repeated until there in only one set.\n",
    "  * 如图 Merge-Sort.png "
   ]
  },
  {
   "cell_type": "markdown",
   "metadata": {},
   "source": [
    "### 重点\n",
    "* This is one of most basic sorting algorithm.\n",
    "* Know that it divides all the data into small possible sets then compares them."
   ]
  },
  {
   "cell_type": "markdown",
   "metadata": {
    "pycharm": {
     "name": "#%% md\n"
    }
   },
   "source": [
    "### 复杂度\n",
    "* Time\n",
    "    * Relation: T(n) = 2T(n/2) + O(n)\n",
    "    * Best Case Sort: O(NlogN)\n",
    "    * Average Case Sort: O(NlogN)\n",
    "    * Worst Case Sort: O(NlogN)\n",
    "    * Prove the NlogN\n",
    "        * Recurrence Tree method:\n",
    "            T(n) = 2T(n/2) + O(n) = 2^2T(n/2^2) + 2O(n/2) + O(n) = 2^2T(n/2^2) + 2O(n) = 2^mT(n/2^m) + mO(n);\n",
    "            又因为n/2^m = 1时，m= log(2)n. 故 T(n) = nT(1) + log(2)n * O(n) = n + nlog(2)n = nlog2(n) = nlogn\n",
    "        * Master method\n",
    "            T(n) = 2T(n/2) + O(n)，故为nlogn \n",
    "* Space\n",
    "    * O(N)\n",
    "* 发挥性能的应用范围\n",
    "    * data is huge\n",
    "    * data is stored in external storage \n",
    "    * 链表\n",
    "* 稳定性\n",
    "    * 稳定 （同样大小的数值，保持其原有顺序）\n",
    "\n",
    "* 原地性 In-place\n",
    "    * 非原地性\n",
    "    * 原地算法定义：（in-place algorithm）基本上不需要 额外辅助的数据结构,然而,允许少量额外的辅助变量来转换数据的算法。当算法运行时，输入的数据通常会被要输出的部分覆盖掉\n",
    "    * 每次merged list，即新产生的arr，都不是原有的arr了，而是小规模的排序数组，故用到了额外辅助的数据结构，不属于原地算法\n"
   ]
  },
  {
   "cell_type": "markdown",
   "metadata": {},
   "source": [
    "### 方法核心\n",
    "* 把容器元素分拆成小单位，再依次比较、排列、合并 \n"
   ]
  },
  {
   "cell_type": "markdown",
   "metadata": {
    "pycharm": {
     "name": "#%% md\n"
    }
   },
   "source": [
    "### 代码模板"
   ]
  },
  {
   "cell_type": "code",
   "execution_count": 26,
   "metadata": {
    "ExecuteTime": {
     "end_time": "2019-12-26T06:10:12.948000Z",
     "start_time": "2019-12-26T06:10:12.929000Z"
    },
    "pycharm": {
     "name": "#%%\n"
    }
   },
   "outputs": [
    {
     "data": {
      "text/plain": [
       "[1, 2, 3, 4, 5, 6, 7, 8, 9]"
      ]
     },
     "execution_count": 26,
     "metadata": {},
     "output_type": "execute_result"
    }
   ],
   "source": [
    "'''\n",
    "Merge Sort temple/basic code\n",
    "edge case: list is None / only one element \n",
    "过程 :\n",
    "    MergeSort(arr[], l,  r)\n",
    "    If r > l\n",
    "    1. Find the middle point to divide the array into two halves:   \n",
    "         middle m = (l+r)/2\n",
    "    2. Call mergeSort for first half:   \n",
    "         Call mergeSort(arr, l, m)\n",
    "    3. Call mergeSort for second half:\n",
    "         Call mergeSort(arr, m+1, r)\n",
    "    4. Merge the two halves sorted in step 2 and 3:\n",
    "         Call merge(arr, l, m, r)\n",
    "易错点：\n",
    "    1. 在while里的arr是上层的L，不是整体的arr\n",
    "    2. while跳出之后，i，j,k都是多加完1的，故此时的L[i],R[j],arr[k]都没有使用过，故后面的if整体赋值从i,j,k开始\n",
    "'''\n",
    "\n",
    "class SortList:\n",
    "    # Merge sort\n",
    "    def mergeSort(self, arr):\n",
    "        if len(arr) == 0:\n",
    "            return None\n",
    "        if len(arr) == 1:\n",
    "            return arr\n",
    "        \n",
    "        \n",
    "        if len(arr) >= 2:\n",
    "            # 普通划分\n",
    "            mid = len(arr) // 2  # find the mid of the array\n",
    "            L = arr[:mid]  # divide the array elements\n",
    "            R = arr[mid:]  # into 2 haves\n",
    "            \n",
    "            # 递归划分\n",
    "            L = self.mergeSort(L)  # Sorting the first half\n",
    "            R = self.mergeSort(R)  # Sorting the second half\n",
    "\n",
    "            # 合并， input: 两个已排序的list，L，R.过程：对L，R进行合并排序。output：合并完成后的一个list\n",
    "            i = j = k = 0\n",
    "            while i < len(L) and j < len(R):  # copy data to temp arrays L and R\n",
    "                if L[i] < R[j]:\n",
    "                    arr[k] = L[i]\n",
    "                    i += 1\n",
    "                else:\n",
    "                    arr[k] = R[j]\n",
    "                    j += 1\n",
    "                k += 1\n",
    "\n",
    "            if i < len(L):\n",
    "                arr[k:] = L[i:]  # arr是含有原值的，此处是覆盖，所以不能是extend\n",
    "            \n",
    "            if j < len(R):\n",
    "                arr[k:] = R[j:]\n",
    "\n",
    "        return arr\n",
    "            \n",
    "x = SortList() \n",
    "x.mergeSort([9,8,7,4, 5, 6, 3, 2, 1])"
   ]
  },
  {
   "cell_type": "markdown",
   "metadata": {},
   "source": [
    "  \n",
    "##  自下而上排序法 Bottom-up Merge sort"
   ]
  },
  {
   "cell_type": "markdown",
   "metadata": {},
   "source": [
    "### 定义\n",
    "A comparison based sorting algorithm，\n",
    "  * first merges pairs of adjacent lists of 1 element\n",
    "  * Then merge pairs of adjacent lists of 2 elements\n",
    "  * And next merge pairs of adjacent lists of 4 elements\n",
    "  * And so on. Until the whole list is merged.  "
   ]
  },
  {
   "cell_type": "markdown",
   "metadata": {},
   "source": [
    "### 复杂度及属性\n",
    "* Time\n",
    "    * Relation: T(n) = 2T(n/2) + O(n)\n",
    "    * Best Case Sort: O(NlogN)\n",
    "    * Average Case Sort: O(NlogN)\n",
    "    * Worst Case Sort: O(NlogN)\n",
    "    * Prove the NlogN\n",
    "        * Recurrence Tree method:\n",
    "            T(n) = 2T(n/2) + O(n) = 2^2T(n/2^2) + 2O(n/2) + O(n) = 2^2T(n/2^2) + 2O(n) = 2^mT(n/2^m) + mO(n);\n",
    "            又因为n/2^m = 1时，m= log(2)n. 故 T(n) = nT(1) + log(2)n * O(n) = n + nlog(2)n = nlog2(n) = nlogn\n",
    "        * Master theorem\n",
    "            T(n) = 2T(n/2) + O(n)，故为nlogn \n",
    "* Space\n",
    "    * O(1) # 随是否新建存储结构而变化\n",
    "* 稳定性\n",
    "    * 稳定\n",
    "* 原地性\n",
    "    * 原地"
   ]
  },
  {
   "cell_type": "markdown",
   "metadata": {
    "pycharm": {
     "name": "#%% md\n"
    }
   },
   "source": [
    "### 代码模板"
   ]
  },
  {
   "cell_type": "code",
   "execution_count": 54,
   "metadata": {
    "ExecuteTime": {
     "end_time": "2019-12-26T06:10:12.961000Z",
     "start_time": "2019-12-26T06:10:12.949000Z"
    },
    "pycharm": {
     "name": "#%%\n"
    }
   },
   "outputs": [
    {
     "data": {
      "text/plain": [
       "[0, 1, 2, 3, 4]"
      ]
     },
     "execution_count": 54,
     "metadata": {},
     "output_type": "execute_result"
    }
   ],
   "source": [
    "# Bottom-up Merge Sort temple/basic code\n",
    "# edge case: list is None / only one element \n",
    "# 易错点：别忘记while interval < length，subsort求的是段，23.Merge k Sorted list求的是点\n",
    "# ！！由于list切片时，index的范围可以不在list的范围内，返回值是1，故不用担心划分的时候，arr[index1:index2] index2超过list的范围\n",
    "class SortList:\n",
    "    def mergeSort(self, arr):  # Merge sort by bottom-up merge sort\n",
    "        if len(arr) == 0 or len(arr) == 1:  # edge case\n",
    "            return arr\n",
    "\n",
    "        length = len(arr)\n",
    "        interval = 1\n",
    "        while interval < length:\n",
    "            for i in range(0, length, 2 * interval):  # bottom-up merge sort\n",
    "                arr[i: i + 2 * interval] = self.subsort(arr[i: i + interval], arr[i + interval: i + interval * 2])\n",
    "            interval = interval * 2\n",
    "        return arr\n",
    "\n",
    "    def subsort(self, list1, list2):  # sort two sorted list\n",
    "        if not list1:\n",
    "            return list2\n",
    "        if not list2:\n",
    "            return list1\n",
    "\n",
    "        new_list = []\n",
    "        left_len = len(list1)\n",
    "        right_len = len(list2)\n",
    "        i, j = 0, 0\n",
    "        while i < left_len and j < right_len:\n",
    "            if list1[i] < list2[j]:\n",
    "                new_list.append(list1[i])\n",
    "                i += 1\n",
    "            else:\n",
    "                new_list.append(list2[j])\n",
    "                j += 1\n",
    "\n",
    "        if i != left_len:\n",
    "            new_list.extend(list1[i:])\n",
    "        if j != right_len:\n",
    "            new_list.extend(list2[j:])\n",
    "        return new_list\n",
    "\n",
    "x = SortList() \n",
    "x.mergeSort([4,3,2,1,0])"
   ]
  },
  {
   "cell_type": "markdown",
   "metadata": {},
   "source": [
    "### 应用（合并排序及自上而下排序）"
   ]
  },
  {
   "cell_type": "markdown",
   "metadata": {},
   "source": [
    "#### 擅长的数据类型"
   ]
  },
  {
   "cell_type": "markdown",
   "metadata": {},
   "source": [
    "#### 总结\n",
    "* 链表的排序，包括常数空间，非常数空间\n",
    "* 需要两两比较的题目。e.g.求转置数数量\n",
    "* 合并类型题目。e.g.合并k链表/列表\n",
    "* 外置排序"
   ]
  },
  {
   "cell_type": "markdown",
   "metadata": {
    "pycharm": {
     "name": "#%% md\n"
    }
   },
   "source": [
    "#### 解决方案模板\n",
    "* 明确 基本结构与要求\n",
    "    * 输入 含有数个元素容器\n",
    "    * 输出 格式！！\n",
    "        * 原容器输出,即原容器保持维度不变的输出 e.g.list sort  -> 递归时直接 self.sort(L)\n",
    "        * 新参数输出,即新参数，或者原容器维度改变的输出 e.g. sort linklist, sort list[list] -> 递归时 sub_l = self.sort(L)\n",
    "    * 要求 合并方式排序元素等\n",
    "* 明确 题目类型\n",
    "* 确定 idea （解题算法）\n",
    "* 思考 不同之处\n",
    "* 修改 Method\n",
    "    \n",
    "#### 排序链表，且不要求space complexity - merge sort\n",
    "* 为什么用方法？ \n",
    "    * 合并排序\n",
    "    * 相对于快排，合并排序不需要太多的对链表节点的访问(access)。\n",
    "    （链表储存不是连续分块储存的(continuous block of memory)，不利于节点访问，与list相反）\n",
    "* 时间/空间复杂度\n",
    "    * O(NlogN) / O(N)\n",
    "* 例题： 148. Sort List (linked list).py\n",
    "    * 递归；递归部分返回头节点；每段的完整切割（要next=None）；先确定R头，再确定L尾\n",
    "    \n",
    "#### 排序链表，且using constant space complexity. - bottom-up merge sort\n",
    "* 为什么用这个方法？ \n",
    "    * using constant space complexity.\n",
    "* 时间/空间复杂度\n",
    "    * O(NlogN) / O(1)\n",
    "* 例题： 148. Sort List (linked list).py\n",
    "    * while interval < length + while head1 迭代；\n",
    "    * dummy,fake-tail的使用；\n",
    "    * 独立split函数，input->head,interval ; output -> next head\n",
    "    * 独立merge函数, input->head1,head2; output -> new head, new tail\n",
    "\n",
    "#### 计算转置数的数量 Inversion Count Problem\n",
    "* 为什么用方法？ \n",
    "    * 利用 inv_count = inv_count + (len(L) - i) 的性质\n",
    "* 时间/空间复杂度\n",
    "    * O(NlogN) / O(N)\n",
    "* 例题： \n",
    "    * 775\\. Global and Local Inversions.py\n",
    "    * 例题：Count Inversions in an array.py\n",
    "    \n",
    "#### 合并 K 个排序数组 Merge k sorted arrays\n",
    "\n",
    "#### 3-way Merge Sort\n",
    "\n",
    "#### 外置排序 External Sorting\n",
    "\n",
    "#### 合并链表题 \n",
    "* 为什么用merge sort？\n",
    "    * 要求合并，即排序的扩展 \n",
    "* 23\\. Merge k Sorted Lists.py - MergeSort method\n",
    "    * 基本结构与要求:\n",
    "        * 输入：含有数个元素为link list的head的容器\n",
    "        * 要求：合并并排序所有link list\n",
    "        * 输出：合并后的link list的head\n",
    "    * 明确题目类型： 大合并+小排序类\n",
    "    * idea: Merge Sort\n",
    "    * 不同之处：\n",
    "        * 合并：链表形式合并，生成新部分链表\n",
    "        * 输出：新生成的链表头，而不是原容器\n",
    "    * Method:\n",
    "        * divide lists into groups of at most two\n",
    "        * merge and sort linklist in every groups into one linklist\n",
    "        * merge and sort every two new linklist to create new linklist\n",
    "        * process is repeated until there in only one linklist\n",
    "        \n"
   ]
  },
  {
   "cell_type": "markdown",
   "metadata": {
    "pycharm": {
     "name": "#%% md\n"
    }
   },
   "source": [
    "## 快速排序 Quick sort "
   ]
  },
  {
   "cell_type": "markdown",
   "metadata": {},
   "source": [
    "### 定义\n",
    "* A comparision based sorting algorithm （与merge sort相同）\n",
    "    * Divides entire dataset in half by selecting the middle element and putting all smaller elements to the left of the element and larger ones to the right.\n",
    "    * It repeats this process on the left side until it is comparing only two elements at which point the left side is sorted.\n",
    "    * When the left side is finished sorting, it performs the same operation on the right side.  \n",
    "* Computer architecture favors the quick-sort process."
   ]
  },
  {
   "cell_type": "markdown",
   "metadata": {},
   "source": [
    "### 重点\n",
    "* While it has the same Big O as (or worse in the same cases) many other sorting algorithm, it is often faster in practice than many other sorting algorithms, such as merge sort. 虽然有相同或者更坏的时间复杂度，但是实际中，它要更快，比如比归并快\n",
    "* Know that it halves the data set by the average continuously until all the information is sorted."
   ]
  },
  {
   "cell_type": "markdown",
   "metadata": {
    "pycharm": {
     "name": "#%% md\n"
    }
   },
   "source": [
    "### 复杂度及属性\n",
    "* Time\n",
    "    * Best case: O(NlogN)\n",
    "        * when the partition process always picks the middle element as pivot.\n",
    "        * equal to T(n) = 2T(n/2) + O(n), can be proved by the Master theorem.\n",
    "    * Average case: O(NlogN)\n",
    "        * when partition puts O(n/9) elements in one set and O(9n/10) elements in other set.\n",
    "        *  T(n) = T(n/9) + T(9n/10) + O(n)\n",
    "    * Worst case: O(N2)\n",
    "        *  when the partition process always picks greatest or smallest element as pivot\n",
    "        * equal to T(n) = T(n-1) + O(n)\n",
    "    * Relation: T(n) = T(k) + T(n - k - 1) + O(n)\n",
    "        * T(k), T(n - k - 1) are for recursion calls\n",
    "        * O(n) is for partition process\n",
    "        * k is the number of elements which are smaller than pivot\n",
    "* Space\n",
    "    * O(N)\n",
    "* 发挥性能的应用范围\n",
    "    * most architechtures in most real-world data\n",
    "    * 数组\n",
    "    * implemented in different ways by changing the choice of pivot, so that the worst case rarely occurs for a given type of data.\n",
    "* 稳定性\n",
    "    * 不稳定\n",
    "    * 可以加入索引作为比较参数的之一，即既比较值大小，也比较索引，来实现稳定。\n",
    "* 原地性 In-place\n",
    "    * 属于原地算法 （直接修改输入数据而不是将输入数据复制一份处理之后再覆盖回去）\n",
    "    * 即不考虑递归的情况下，使用的空间为O(1)\n",
    "* 尾递归\n",
    "    * 为尾递归"
   ]
  },
  {
   "cell_type": "markdown",
   "metadata": {},
   "source": [
    "### 方法核心\n",
    "* 把容器元素比较、排列，再进一步在小部分里比较、排列"
   ]
  },
  {
   "cell_type": "markdown",
   "metadata": {
    "pycharm": {
     "name": "#%% md\n"
    }
   },
   "source": [
    "### 代码模板"
   ]
  },
  {
   "cell_type": "code",
   "execution_count": 27,
   "metadata": {
    "ExecuteTime": {
     "end_time": "2019-12-26T06:10:12.972000Z",
     "start_time": "2019-12-26T06:10:12.962000Z"
    },
    "pycharm": {
     "name": "#%%\n"
    }
   },
   "outputs": [
    {
     "name": "stdout",
     "output_type": "stream",
     "text": [
      "[0, 0, 1, 1, 2, 5]\n"
     ]
    }
   ],
   "source": [
    "'''\n",
    "QuickSort 代码模板\n",
    "思路：挖坑填数,从大规模到小规模排序，参见 https://blog.csdn.net/morewindows/article/details/6684558\n",
    "方法：\n",
    "    取一个数作为基准数\n",
    "    划分区间过程，小于基准数的数放到左区间，大于基准数的数放在右区间\n",
    "    再对左右区间重复第二步，直到左右区间只有一个数\n",
    "    \n",
    "    choose one value of nums as the pivot\n",
    "    put all smaller elem to the left of the pivot and larger ones to the right\n",
    "    repeat this process on the left and right side until left/right side one has one value \n",
    "\n",
    "易错点：\n",
    "    1. 由于nums有重复数值，故使用pivot < nums[j]，nums[i] <= pivot，其中使用“=”来覆盖所有大小关系，如没有重复数值，=可以去掉\n",
    "    2. R = nums[i + 1: r + 1], 因为跳过i，故从i+1开始，而不是i开始\n",
    "    4. pivot 与 arr[i/j]的判断，用的是while，因为需要扫描搜索一段\n",
    "    5.while i <j and pivot < arr[j], i < j 时刻不要忘记，pivot < arr[j]是符合大小排序的比较关系，若不成立，则跳出，变换值\n",
    "'''\n",
    "class Solution:\n",
    "    def quickSort(self, arr):\n",
    "        if len(arr) == 0 or len(arr) == 1:  # corner case\n",
    "            return arr\n",
    "\n",
    "        i = l = 0\n",
    "        j = r = len(arr) - 1\n",
    "        pivot = arr[i]\n",
    "\n",
    "        while i < j:\n",
    "            while i < j and pivot < arr[j]:  # 扫描一段去寻找合适的值, 循环条件是正常的顺序（pivot < arr[j]），若发现异常，则跳出更换i和j\n",
    "                j -= 1\n",
    "            arr[i] = arr[j]  # 搜寻一段之后，找到值，再替换\n",
    "            while i < j and arr[i] <= pivot:\n",
    "                i += 1\n",
    "            arr[j] = arr[i]\n",
    "        arr[i] = pivot  # i in center, give it pivot\n",
    "        L = arr[:i]\n",
    "        R = arr[i + 1:]\n",
    "        arr[:i] = self.quickSort(L)  # L part = arr[0:i] < pivot\n",
    "        arr[i + 1:] = self.quickSort(R)  # R part = arr[i + 1, j] > pivot\n",
    "        return arr\n",
    "\n",
    "\n",
    "x = Solution()\n",
    "print(x.quickSort([5,1,1,2,0,0]))"
   ]
  },
  {
   "cell_type": "markdown",
   "metadata": {},
   "source": [
    "### 应用"
   ]
  },
  {
   "cell_type": "markdown",
   "metadata": {},
   "source": [
    "#### 擅长的数据类型"
   ]
  },
  {
   "cell_type": "markdown",
   "metadata": {},
   "source": [
    "#### 总结\n",
    "* 分两类，并使用常数空间的题目。e.g.奇偶排序，稳定空间正负排序\n",
    "* 数组的排序"
   ]
  },
  {
   "cell_type": "markdown",
   "metadata": {},
   "source": [
    "#### 奇偶排序\n",
    "* 905. Sort Array By Parity / https://www.geeksforgeeks.org/segregate-even-odd-numbers-set-3/\n"
   ]
  },
  {
   "cell_type": "markdown",
   "metadata": {},
   "source": [
    "#### 稳定空间，正负排序\n",
    "* https://www.geeksforgeeks.org/move-negative-numbers-beginning-positive-end-constant-extra-space/"
   ]
  },
  {
   "cell_type": "markdown",
   "metadata": {},
   "source": [
    "#### 迭代法实现快排\n",
    "https://www.geeksforgeeks.org/iterative-quick-sort/"
   ]
  },
  {
   "cell_type": "markdown",
   "metadata": {},
   "source": [
    "#### 3-Way 快排"
   ]
  },
  {
   "cell_type": "markdown",
   "metadata": {},
   "source": [
    "#### 链表排序"
   ]
  },
  {
   "cell_type": "markdown",
   "metadata": {
    "pycharm": {
     "name": "#%% md\n"
    }
   },
   "source": [
    "## 气泡排序 Bubble sort"
   ]
  },
  {
   "cell_type": "markdown",
   "metadata": {},
   "source": [
    "### 定义\n",
    "* 基于比较的排序算法 A comparison based sorting algorithm\n",
    " * 从头至尾，依次比较arr[i]和arr[i+1], 将较小的元素向左移动 It iterates left to right comparing every couplet, moving the smaller element to the left.\n",
    " * 重复此过程，直到不再将元素移到左侧 It repeats this process until it no longer moves an element to the left."
   ]
  },
  {
   "cell_type": "markdown",
   "metadata": {},
   "source": [
    "### 重点\n",
    "* 尽管实现起来非常简单，但在这三种排序方法中效率最低。 While it is very simple to implement, it is the least efficient of these three sorting methods.\n",
    "* 知道它向右移动一个空间，一次比较两个元素，然后向左缩小将要比较的空间。Know that it moves one space to the right comparing two elements at a time and moving the\n",
    "smaller on to left."
   ]
  },
  {
   "cell_type": "markdown",
   "metadata": {},
   "source": [
    "### 复杂度及属性\n",
    "* Time\n",
    "    * Best case: O(N)\n",
    "    * Average case: O(N^2)\n",
    "    * Worst case: O(N^2)\n",
    "* Space\n",
    "    * O(1)\n",
    "* 稳定性\n",
    "    * 稳定：在排序过程中，元素两两交换时，相同元素的前后顺序并没有改变\n",
    "* 原地性 In-place\n",
    "    * 属于原地算法 （直接修改输入数据而不是将输入数据复制一份处理之后再覆盖回去）\n",
    "    * 使用的空间为O(1)"
   ]
  },
  {
   "cell_type": "markdown",
   "metadata": {
    "pycharm": {
     "name": "#%% md\n"
    }
   },
   "source": [
    "### 代码模板"
   ]
  },
  {
   "cell_type": "code",
   "execution_count": 2,
   "metadata": {
    "ExecuteTime": {
     "end_time": "2019-12-27T03:33:29.624000Z",
     "start_time": "2019-12-27T03:33:29.610000Z"
    },
    "pycharm": {
     "name": "#%%\n"
    }
   },
   "outputs": [
    {
     "name": "stdout",
     "output_type": "stream",
     "text": [
      "[1, 2, 3, 4, 5, 6, 7, 8, 9]\n"
     ]
    }
   ],
   "source": [
    "class Solution:\n",
    "    def bubbleSort(self, arr):\n",
    "        if len(arr) <= 1:\n",
    "            return arr\n",
    "         \n",
    "        for i in range(len(arr)):  # offer index to scale the size for sort\n",
    "            for j in range(len(arr) - i - 1):\n",
    "                if arr[j] > arr[j+1]:\n",
    "                    arr[j], arr[j+1] = arr[j+1], arr[j]  # smaller is ahead of bigger\n",
    "            \n",
    "        return arr\n",
    "x = Solution()\n",
    "print(x.bubbleSort([9, 8, 7, 6, 5, 4, 3, 2, 1]))\n",
    "            "
   ]
  },
  {
   "cell_type": "markdown",
   "metadata": {},
   "source": [
    "## Heap sort 堆排序"
   ]
  },
  {
   "cell_type": "markdown",
   "metadata": {},
   "source": [
    "## 插入排序"
   ]
  },
  {
   "cell_type": "markdown",
   "metadata": {},
   "source": [
    "### 定义\n",
    "* 基于比较的排序算法\n",
    "    1. 从第一个元素开始，该元素可以认为已经被排序\n",
    "    * 取出下一个元素，在已经排序的元素序列中从后向前扫描\n",
    "    * 如果新元素小于已排序元素，继续将新元素往前移动\n",
    "    * 重复步骤 3，直到新元素大于等于已排序的元素\n",
    "    * 将新元素插入到该位置后\n",
    "    * 重复步骤 2~5\n",
    "* 英语说法\n",
    "    1. set a marker for the sorted section after the first element 在第一个元素之后选择标记点\n",
    "    * repeat the following untill unsorted section is empty\n",
    "        * select the first unsorted element 选择第一个未排序元素\n",
    "        * swap other elements to the right to create the correct position and the shift the unsorted element 向前比较，把其他元素交换到未排序元素的右边，给未排序元素创造新的位置。把排过序的元素右移\n",
    "        * advance the marker to the right one element 推进marker到最右的元素\n",
    "### 重点\n",
    "\n",
    "### 复杂度及属性\n",
    "* Time\n",
    "    * Best case: O(N)\n",
    "    * Average case: O(N^2)\n",
    "    * Worst case: O(N^2)\n",
    "* Space\n",
    "    * O(1)\n",
    "* 稳定性\n",
    "    * 稳定：在排序过程中，元素两两交换时，相同元素的前后顺序并没有改变\n",
    "* 原地性 In-place\n",
    "    * 属于原地算法 （直接修改输入数据而不是将输入数据复制一份处理之后再覆盖回去）\n",
    "    * 使用的空间为O(1)\n",
    "    \n",
    "### 方法核心\n",
    "* 扫描，选定compare对象\n",
    "* compare与前面的从后往前逐个比较插入\n",
    "\n",
    "### 使用范围\n",
    "* 元素量较小\n",
    "* 数据接近完成排序，只有数个乱序\n",
    "\n",
    "### 代码"
   ]
  },
  {
   "cell_type": "code",
   "execution_count": 52,
   "metadata": {},
   "outputs": [
    {
     "name": "stdout",
     "output_type": "stream",
     "text": [
      "[5, 7, 8, 9]\n"
     ]
    }
   ],
   "source": [
    "# Function to do insertion sort \n",
    "# 我的实现方法\n",
    "# 易错点： basic[j - 1] <= compare < basic[j]的等于号\n",
    "def insertionSortOne(arr):\n",
    "    if len(arr) == 1:\n",
    "        return arr\n",
    "\n",
    "    for i in range(len(arr) - 1):\n",
    "        basic = arr[:i + 1]\n",
    "        compare = arr[i + 1]\n",
    "        for j in range(len(basic) - 1, -1, -1):\n",
    "            if j != 0 and basic[j - 1] <= compare < basic[j]:  # or arr[j]\n",
    "                arr[j:i + 2] = [compare] + basic[j:]\n",
    "                break\n",
    "            elif j == 0 and compare < basic[j]:\n",
    "                arr[:i + 2] = [compare] + basic\n",
    "                break\n",
    "    return arr\n",
    "\n",
    "# Geek的实现方法\n",
    "def insertionSortTwo(arr):\n",
    "    if len(arr) == 1:\n",
    "        return arr\n",
    "    \n",
    "    for i in range(1, len(arr)):\n",
    "        compare = arr[i]\n",
    "        j = i - 1  # the basic end index\n",
    "        while j >= 0 and compare < arr[j] :  # 此时compare = arr[j + 1]\n",
    "            arr[j], arr[j + 1]= compare, arr[j]   # 比较以后立马调换，即挨个调换\n",
    "            j -= 1\n",
    "    return arr\n",
    "\n",
    "# 记忆的方法\n",
    "def insertionSortThree(arr):\n",
    "    if len(arr) == 1:\n",
    "        return arr\n",
    "    \n",
    "    for i in range(1, len(arr)):\n",
    "        j = i - 1  # the basic end index\n",
    "        while j >= 0 and arr[i] < arr[j]:  # 从后往前进行比较排序\n",
    "            arr[j], arr[i]= arr[i], arr[j]   # 比较以后立马调换，即挨个调换\n",
    "            i -= 1\n",
    "            j -= 1\n",
    "            \n",
    "    return arr\n",
    "\n",
    "print(insertionSortThree([9,8,7,5]))\n",
    "        "
   ]
  },
  {
   "cell_type": "markdown",
   "metadata": {},
   "source": [
    "### 应用\n",
    "* 链表排序\n",
    "    1. Create an empty sorted (or result) list\n",
    "    * Traverse the given list, do following for every node.\n",
    "        * Insert current node in sorted way in sorted or result list.\n",
    "    * Change head of given linked list to head of sorted (or result) list."
   ]
  },
  {
   "cell_type": "markdown",
   "metadata": {},
   "source": [
    "## 选择排序\n",
    "https://ms2008.github.io/2017/03/19/lua-selection-sort/"
   ]
  },
  {
   "cell_type": "markdown",
   "metadata": {},
   "source": [
    "# 非比较基础排序 not comparison-based sort"
   ]
  },
  {
   "cell_type": "markdown",
   "metadata": {},
   "source": [
    "## 计数排序 Counting Sort"
   ]
  },
  {
   "cell_type": "markdown",
   "metadata": {},
   "source": [
    "### 基本步骤\n",
    "* 找出待排序的数组中最大和最小的元素\n",
    "* 统计数组中每个值为i的元素出现的次数，存入数组C的第i项\n",
    "* 对所有的计数累加（从C中的第一个元素开始，每一项和前一项相加）\n",
    "* 反向填充目标数组：将每个元素i放在新数组的第C(i)项，每放一个元素就将C(i)减去1"
   ]
  },
  {
   "cell_type": "markdown",
   "metadata": {},
   "source": [
    "### 特点\n",
    "* 只适非负整数排序,数比较小 \n",
    "* Time complexity: O(n), n is numbers of value\n",
    "* Space complexity: 0(k) k is kinds of value  - 线性时间排序"
   ]
  },
  {
   "cell_type": "markdown",
   "metadata": {},
   "source": [
    "## 桶排序 bucket sort"
   ]
  },
  {
   "cell_type": "markdown",
   "metadata": {},
   "source": [
    "### 基本步骤\n",
    "* 根据元素的值，把元素分散到各个桶里（每个桶能够容纳一定范围内的值）\n",
    "* 挨个把每个桶里的元素进行内部排序\n",
    "* 再把元素输出"
   ]
  },
  {
   "cell_type": "markdown",
   "metadata": {},
   "source": [
    "### 特点\n",
    "* Time complexity: O(n+k)，n是元素个数，k是桶个数\n",
    "* 桶可以是树 tree"
   ]
  },
  {
   "cell_type": "markdown",
   "metadata": {},
   "source": [
    "## 基数排序 radix sort"
   ]
  },
  {
   "cell_type": "markdown",
   "metadata": {},
   "source": [
    "### 基本步骤"
   ]
  },
  {
   "cell_type": "markdown",
   "metadata": {},
   "source": [
    "* 从低位到高位，轮流比较每个值的相同位数，没有位的补零，即同时比较几个数的个位，排序，再比较十位\n",
    "* 每个位数的排序是稳定的\n",
    "    * "
   ]
  },
  {
   "cell_type": "markdown",
   "metadata": {},
   "source": [
    "## 希尔排序 shell sort"
   ]
  },
  {
   "cell_type": "markdown",
   "metadata": {},
   "source": [
    "# 排序总结\n",
    "* 在无法进行快速排序的情况下，合并排序可能非常有用 -- >??什么情况下\n",
    "* 在特殊情况下，插入排序或基数排序要比\n",
    "通用的 QuickSort / MergeSort / HeapSort 答案好得多 In exceptional cases insertion-sort or radix-sort are much better than the generic quicksort / mergesort / heapsort answers."
   ]
  },
  {
   "cell_type": "markdown",
   "metadata": {},
   "source": [
    "# 基本算法类型 Basic Types of Algorithm"
   ]
  },
  {
   "cell_type": "markdown",
   "metadata": {},
   "source": [
    "* 整体思路：从上到下，或者从下到上 –> 进一步明确这个概念\n",
    "    * top-down 自上而下\n",
    "        * 定义：一开始就处理顶点或者开始划分 （处理即采取代码措施）\n",
    "        * e.g pre-order traversal of tree\n",
    "    * bottom-up 自下而上\n",
    "        * 定义：先处理基层，再处理上层的\n",
    "        * e.g. \n",
    "            * DP, 先dp[1] dp[2], 后dp[n]\n",
    "            * bottom-up merge\n",
    "            * 判断balance of tree, 先判断子树的，再判断子树的parent的\n",
    "            * post-order traveral of tree"
   ]
  },
  {
   "cell_type": "markdown",
   "metadata": {},
   "source": [
    "## 递归算法 Recursive/Recurse Algorithms"
   ]
  },
  {
   "cell_type": "markdown",
   "metadata": {},
   "source": [
    "### 基本概念"
   ]
  },
  {
   "cell_type": "markdown",
   "metadata": {},
   "source": [
    "#### 定义\n",
    "* 在其定义中，调用自身的算法。An algorithm that calls itself in its definition.\n",
    "    * 基本情况时,条件语句用于**中断递归** **Base case** a conditional statement that is used to break the recursion.\n",
    "    * 递归情况时,条件语句用于**触发递归** **Recusive case** a conditional statement that is used to trigger the recursion. \n",
    "    \n",
    "#### 意义\n",
    "   * 将问题的规模缩小，并且缩小后问题并没有发生变化，这样就可以继续调用自身来完成接下来的任务"
   ]
  },
  {
   "cell_type": "markdown",
   "metadata": {},
   "source": [
    "#### 重点\n",
    "* 堆栈级别太深/堆栈溢出 **Stack level too deep** and **stack overflow**\n",
    "    * 如果从递归算法中看到这两种情况，那么就搞砸了。\n",
    "    * 这意味着基本情况永远不会被触发，因为递归有缺陷，或者实例/问题如此之大，以至于耗尽了所有内存\n",
    "    * 正确是使用递归的必要条件:是否会遇到基本条件\n",
    "    * 经常在DFS中出现"
   ]
  },
  {
   "cell_type": "markdown",
   "metadata": {},
   "source": [
    "#### 使用技巧\n",
    "* 递归函数的输入输出值变化\n",
    "    * L = [], a = 0, self.recursion(self, L, a) -> L会得到新值，a依旧是0\n",
    "    * "
   ]
  },
  {
   "cell_type": "markdown",
   "metadata": {},
   "source": [
    "#### 书写方法\n",
    "* 步骤:\n",
    "    1. 判断是否需要Hepler()\n",
    "        * 不需要：只有返回出函数的值是新的变量(子递归的返回值也是结果值) -> 直接返回新变量 -> def depth(self，输入量)\n",
    "        * 需要: \n",
    "            * 情况1：除了返回出函数的值，还有中间变量，此中间变量参与返回值的合成或计算\n",
    "                * def depth(self, 输入量+ 中间变量， e.g [] + 输出量)\n",
    "            * 情况2：函数需要一个递归函数处理新的问题，在递归过程中的中间值是函数最终要求的值。\n",
    "                * def \\_\\_init\\_\\_(self): \n",
    "                    * self.输出量 = 0; \n",
    "                * def main(): \n",
    "                    * self.helper()\n",
    "                    * return self.输出量\n",
    "                * def helper():\n",
    "                    * self.输出量计算\n",
    "    * 输出值：\n",
    "        * 正常情况下，返回A；如失败，返回B\n",
    "        * 不需要helper()\n",
    "            * type1: 结果必须返回出去，外面才能接收到\n",
    "                * 即 return output\n",
    "                * def depth(root): # output: height\n",
    "                * 递归调用语句必须有返回值\n",
    "                    * e.g. l = self.depth(root.left),\n",
    "        * 需要helper()\n",
    "            * type1: 结果必须返回出去，外面才能接收到\n",
    "                * 即 return output\n",
    "                * def depth(root): # output: height\n",
    "                * 递归调用语句必须有返回值\n",
    "                    * e.g. l = self.depth(root.left)\n",
    "            * type2: 结果不必返回出去（结果保存在输入参数list等中，）\n",
    "                * 即 return\n",
    "                * def path(root, level, dic):  # output: dic\n",
    "                * 递归调用语句不必有返回值\n",
    "                    * e.g. self.depth(root.left， level + 1, dic)"
   ]
  },
  {
   "cell_type": "markdown",
   "metadata": {},
   "source": [
    "1. 基准情况\n",
    "    * 即递归的终止条件\n",
    "        * 在终止条件之前，考虑到中间变量的初始化\n",
    "        * e.g.在二分查找中，终止条件就是找到了我们想要的数或者搜索完了整个数组(查找失败)。\n",
    "            * if start > end: return -1 else if target == arr[middle]: return middle\n",
    "2. 不断演进\n",
    "    * 即我们思考的过程，即不断缩小取值范围的过程\n",
    "        * 对于type 1\n",
    "            * **返回值 = 递归函数(缩小范围)**\n",
    "            * e.g. l = self.depth(root.left)\n",
    "        * 对于type 2\n",
    "            * 递归函数(缩小范围)\n",
    "            * self.path(root.left, level + 1, dic)\n",
    "        * e.g. 二分查找中，就是继续查找剩下的一半数组\n",
    "            * if target > arr[middle]: index = self.binary_search(arr, middle + 1, end, target)\n",
    "            * else: index = self.binary_search(arr, start, middle - 1, target)\n",
    "* 补充其余部分\n",
    "    * 补充1之前的参数定义\n",
    "        * e.g. middle = (end - start) // 2\n",
    "    * 补充2之后的返回值\n",
    "        * type 1：return output\n",
    "        * type 2: return \n",
    "* 用人的思考方式设计\n",
    "    * 只需要前两条法则就够\n",
    "    * 不需要用大脑模拟电脑执行每一条语句，从而确定编码的正确性\n",
    "* 不要做重复的事情\n",
    "    * 不要‘重复多次地调用自身，又不缩小问题的规模’"
   ]
  },
  {
   "cell_type": "markdown",
   "metadata": {},
   "source": [
    "### 回溯法 Backtracking (DFS 思想)"
   ]
  },
  {
   "cell_type": "markdown",
   "metadata": {},
   "source": [
    "#### 概念"
   ]
  },
  {
   "cell_type": "markdown",
   "metadata": {},
   "source": [
    "* 回溯法又称试探法，当探索到某一步时，发现原先的选择达不到目标，就退回一步重新选择，这种走不通就退回再走的技术为回溯法。"
   ]
  },
  {
   "cell_type": "markdown",
   "metadata": {},
   "source": [
    "* 回溯法是一种选优搜索法，按选优条件向前搜索，以达到目标。但当探索到某一步时，发现原先选择并不优或达不到目标，就退回一步重新选择，这种走不通就退回再走的技术为回溯法，而满足回溯条件的某个状态的点称为“回溯点”"
   ]
  },
  {
   "cell_type": "markdown",
   "metadata": {},
   "source": [
    "#### 基本思想"
   ]
  },
  {
   "cell_type": "markdown",
   "metadata": {},
   "source": [
    "* 在包含问题的所有解的解空间树中，按照深度优先搜索的策略，从根节点出发深度探索解空间树。当探索到某一结点时，要先判断该节点是否包含问题的解，如果包含，就从该结点出发继续探索下去，如果该节点不包含问题的解，则逐层向其祖先节点回溯。（其实回溯法就是对隐式图的深度优先搜索算法）\n",
    "* 若用回溯法求问题的所有解时，要回溯到根，且根节点的所有可行的子树都要被搜素一遍才结束。\n",
    "* 若使用回溯法求任一个解时，只要搜索到问题的一个解就可以结束。"
   ]
  },
  {
   "cell_type": "markdown",
   "metadata": {},
   "source": [
    "#### 基本步骤\n",
    "1. 针对所给问题，确定问题的解空间：首先应明确定义问题的解空间，问题的解空间至少包含问题的一个最优解\n",
    "* 确定结点的扩展搜索规则\n",
    "* 以 深度优先 方式搜索解空间，并在搜索过程中用剪枝函数避免无效搜索。"
   ]
  },
  {
   "cell_type": "markdown",
   "metadata": {},
   "source": [
    "### 分治法 Divide-conquer algorithm"
   ]
  },
  {
   "cell_type": "markdown",
   "metadata": {},
   "source": [
    "#### 基本概念\n",
    "将一个规模为N的问题分解为K个规模较小的子问题，这些子问题相互独立，且与原问题性质相同。求出子问题的解后进行合并，就可以得到原问题的解。"
   ]
  },
  {
   "cell_type": "markdown",
   "metadata": {},
   "source": [
    "#### 适用情况的特征\n",
    "1. 该问题的规模缩小到一定的程度就可以容易的解决\n",
    " * e.g. 排序规模越小，越容易解决\n",
    "* 可以分解为若干个规模较小的相同问题，即各子问题具有最优解，就能求出整个问题的最优解\n",
    " * 应用分治法的前提，也反映了递归思想的应用\n",
    " * e.g.归并排序把整个分成小部分\n",
    "* 利用该问题分解出的子问题的解可以通过某种固定方式合并为该问题的解\n",
    " * 确定使用分治的判断条件，若不成立，则考虑贪心或DP\n",
    " * e.g.归并排序，两个有序子序列再次合并\n",
    "* 该问题分解出的各个子问题是相互独立的，即子问题之间不包含公共的子子问题\n",
    " * 涉及到分治法的效率，如果子问题不独立，则分治法需要做许多不必要的工作，重复解公共子问题。\n",
    " * 若不满足，则用DP比较好\n",
    " * e.g. DP抢劫问题，dp[i] = max(dp[i-2] + arr[i], dp[i-1])，故子问题不独立，用DP比较好"
   ]
  },
  {
   "cell_type": "markdown",
   "metadata": {},
   "source": [
    "#### 一般步骤\n",
    "* 分解：将要解决的问题划分成若干规模较小的同类问题\n",
    "* 求解：当问题划分得足够小时，用较简单的方法解决，否则递归地解各个子问题\n",
    "* 合并：按原问题的要求，将子问题逐层合并构成原问题的解"
   ]
  },
  {
   "cell_type": "markdown",
   "metadata": {},
   "source": [
    "#### 经典问题\n",
    "1. 二分搜索\n",
    "* 大数整除法\n",
    "* Strassen矩阵乘法\n",
    "* 棋盘覆盖\n",
    "* 归并排序\n",
    "* 快速排序\n",
    "* 线性时间选择\n",
    "* 最接近点对问题\n",
    "* 汉诺塔"
   ]
  },
  {
   "cell_type": "markdown",
   "metadata": {},
   "source": [
    "### 回溯法和分治法的区别\n",
    "* 思想上：\n",
    "    * 回溯：线性递进思想，一步一步走向更多的实例，比如从list的index=0到index=end\n",
    "    * 分治：从整体到局部思想。\n",
    "* 实现上：\n",
    "    * 回溯：\n",
    "        * 结束条件-> i = len(s),即遍历到最后一个数\n",
    "    * 分治：\n",
    "        * 结束条件-> len(arr) == 0/1, 即划分的部分为1个元素或者无元素\n",
    "* 应用范围：\n",
    "    * 回溯：找各种可能性\n",
    "    * 分治：排序"
   ]
  },
  {
   "cell_type": "markdown",
   "metadata": {},
   "source": [
    "## 迭代算法 Iterative algrithom/ Iterate"
   ]
  },
  {
   "cell_type": "markdown",
   "metadata": {},
   "source": [
    "### 定义\n",
    "* 一种算法，被重复且次数有限的调用，每次都是一次迭代。An algorithm is called repeatedly but for a finite number of times, each time being a single iteraton.\n",
    "    * 通常用于数据集的增量移动 move incrementally through a data set."
   ]
  },
  {
   "cell_type": "markdown",
   "metadata": {},
   "source": [
    "## 贪心算法 Greedy Algorithm"
   ]
  },
  {
   "cell_type": "markdown",
   "metadata": {},
   "source": [
    "### 定义 \n",
    "* An algorithm that, while excuting, selects only the information that meets a certain criteria.\n",
    "* The general five components, from Wiki:\n",
    "    * A candidate set, from which a solution created.\n",
    "    * A selection funtion, which chooses the best candidate to be added to the solution.\n",
    "    * A feasibility function(可行性), that is used to determine if a candidate can be used to contribute to a solution.\n",
    "    * An objective function, which will assign a value to a soluction, or a partial soluction.\n",
    "    * A soluction fucntion, which will indicate when we have discouvered a complete solution.\n",
    "* Key"
   ]
  },
  {
   "cell_type": "markdown",
   "metadata": {},
   "source": [
    "### 基本概念\n",
    "* 在对问题求解时，总是做出在当前看来最好的选择。即 不从整体上最优加以考虑，它所做出的仅是在某种意义上的局部最优解。  \n",
    "* 贪心算法只对部分问题才能得到整体最优解，选择的贪心策略必须具备无后效性。\n",
    "    * 无后效性：状态 受前不受后"
   ]
  },
  {
   "cell_type": "markdown",
   "metadata": {},
   "source": [
    "### 适用前提\n",
    "* 使用局部最优策略能产生全局最优解的问题\n",
    "* 实际上，贪心算法适用的情况很少。针对问题时，可以先选择该问题下的几个实际数据进行分析，就可以做出判断。"
   ]
  },
  {
   "cell_type": "markdown",
   "metadata": {},
   "source": [
    "### 基本步骤\n",
    "1. 建立数学模型来描述问题 （找规律？）\n",
    "* 把求解的问题分成若干个子问题 （减少问题规模，设想只有1个，只有2个的情况）\n",
    "* 对每一个子问题求解，得到子问题的局部最优解\n",
    "* 把子问题的局部最优解合成原来解问题的一个解"
   ]
  },
  {
   "cell_type": "markdown",
   "metadata": {},
   "source": [
    "### 实现框架"
   ]
  },
  {
   "cell_type": "markdown",
   "metadata": {},
   "source": [
    "class Solution:  # 以纸币问题举例  \n",
    "    * def Greedy(self, coin, target):\n",
    "        * 寻找最大的可用纸币 # 从问题的某一初始解出发\n",
    "        * while money < target: # 朝给定总目标前进一步\n",
    "            * 求次大纸币可以用几张 # 利用可行的决策，求出可行解的一个解元素\n",
    "        * 统计所有面值的纸币的数量和，返回  # 由所有解元素合成问题的一个可行解  "
   ]
  },
  {
   "cell_type": "markdown",
   "metadata": {},
   "source": [
    "## 动态规划 dynamic plannig"
   ]
  },
  {
   "cell_type": "markdown",
   "metadata": {},
   "source": [
    "### 基本概念\n",
    "将一个问题分解成若干个子问题（阶段），按顺序求解子阶段，前一子问题的解，为后一子问题的求解提供了有用的信息。在求解任一子问题时，列出各种可能的局部解，通过决策保留那些有可能达到最优的局部解，丢弃其他局部解。依次解决各子问题，最后一个子问题就是初始问题的解。"
   ]
  },
  {
   "cell_type": "markdown",
   "metadata": {
    "pycharm": {
     "name": "#%% md\n"
    }
   },
   "source": [
    "### 与分治法的差别\n",
    "适合于用动态规划法求解的问题，经分解后得到的子问题往往不是互相独立的（即下一个子阶段的求解是建立在上一个子阶段的解的基础上，进行进一步的求解）。"
   ]
  },
  {
   "cell_type": "markdown",
   "metadata": {},
   "source": [
    "### 适用情况的特征\n",
    "需要满足如下三个特征：\n",
    "1. 最优化原理：问题的最优解所包含的子问题的解也是最优的（称该问题具有最优子结构）。\n",
    " * 贪心，分治也满足\n",
    "* 无后效性：状态 受前不受后\n",
    " * 贪心满足，分治无关\n",
    "* 有重叠子问题：子问题之间不独立，一个子问题在下个阶段决策中可能被多次使用到。\n",
    " * 不是适用的必要条件，但若不具有，则DP不具有优势。\n",
    " * 贪心没有子问题，分治法各个子问题独立"
   ]
  },
  {
   "cell_type": "markdown",
   "metadata": {},
   "source": [
    "### 基本步骤"
   ]
  },
  {
   "cell_type": "markdown",
   "metadata": {},
   "source": [
    "#### 设计步骤\n",
    "初始状态 -> 决策1 -> 决策2 -> ... -> 决策n -> 结束状态\n",
    "1. 划分阶段：按照原问题的时间或空间特征，把原问题分为若干个阶段（子问题）。在划分阶段时，注意划分后的阶段（子问题）一定是要有序的或者是可排序的，否则问题就无法求解。\n",
    " * e.g. 原问题为求n阶台阶的所有走法的数量，子问题是求1阶、2阶台阶、...、n-1阶台阶的走法\n",
    "2. 确定状态和状态变量：将问题发展到各个阶段时所处于的各种客观情况用不同的状态表示出来。当然，状态的选择要满足无后效性。\n",
    " * 无后效性：如果在某个阶段上过程的状态已知，则从此阶段以后过程的发展变化仅与此阶段的状态有关，而与过程在此阶段以前的阶段所经历过的状态无关。\n",
    " * e.g. 第i个状态即为i阶台阶的所有走法数量。\n",
    "3. 确定决策并写出状态转移方程：根据相邻两个阶段的状态之间的关系来确定决策方法和状态转移方程。\n",
    " * e.g. dp[i] = dp[i-1] + dp[i-2] (i >= 3)\n",
    "4. 寻找边界条件：给出的状态转移方程是一个递推式，需要一个递推的终止条件或边界条件\n",
    " * e.g. 1阶台阶与2阶台阶的走法。1阶台阶有一种走法，2阶台阶有两种走法，即dp[1] = 1,dp[2] = 2"
   ]
  },
  {
   "cell_type": "markdown",
   "metadata": {
    "pycharm": {
     "name": "#%% md\n"
    }
   },
   "source": [
    "#### 简化步骤\n",
    "1. 分析最优解的性质，并刻画其结构特征\n",
    " * e.g. 抢劫问题，dp[i]的最优解是有两个结构构成的，dp[i-1]和dp[i-2] + arr[i]\n",
    "* 递归的定义最优解（迭代也行？）\n",
    " * e.g. for i in range(len(arr))\n",
    "* 以自底而上，或自顶而下的记忆化方式，计算出最优值\n",
    " * 自底而上,即DP法：建立一个表格，从最小的子问题开始向上求解较大的子问题，把每一个子问题的解全部填入表格中，直到表格中出现原问题的解为止\n",
    " * 自顶而下的记忆化方式，即备忘录法：将递归遇到的子问题的解保存在一个表中，以便下一个递归遇到同样的子问题时快速求解。\n",
    " * 当一个问题的所有子问题都至少要解一次时，用动态规划比用备忘录方法要好，此时，动态规划算法没有任何多余的计算。当子问题空间中的部分问题可不必求解时，用备忘录方法较有利，因为从其控制结构可以看出，该方法只解那些确实需要求解的子问题。\n",
    " * e.g.迭代for完全，求出最优值\n",
    "* 根据计算最优值时得到的信息，构造问题的最优解\n",
    " * e.g. dp[len(arr)-1]的最优值就是问题的最优解？"
   ]
  },
  {
   "cell_type": "markdown",
   "metadata": {},
   "source": [
    "#### 动态规划三要素及决策表\n",
    " 1. 问题的阶段（原问题和子问题）\n",
    " * 每个阶段的状态 (第i个状态代表什么)\n",
    " * 从前一个阶段到后一个阶段之间的递推关系（转移方程）\n",
    "  * 递推关系必须是从次小的问题开始到较大的问题之间的转化\n",
    "  * 整个求解过程就可以用一个最优决策表来描述，最优决策表是一个二维表，其中行表示决策的阶段，列表示问题状态，表格需要填写的数据一般对应此问题的在某个阶段某个状态下的最优值（如最短路径，最长公共子序列，最大价值等），填表的过程就是根据递推关系，从1行1列开始，以行或者列优先的顺序，依次填写表格，最后根据整个表格的数据通过简单的取舍或者运算求得问题的最优解。  f(n,m)=max{f(n-1,m), f(n-1,m-w[n])+P(n,m)}\n",
    "  "
   ]
  },
  {
   "cell_type": "markdown",
   "metadata": {
    "pycharm": {
     "name": "#%% md\n"
    }
   },
   "source": [
    "### 基本框架"
   ]
  },
  {
   "cell_type": "code",
   "execution_count": null,
   "metadata": {
    "pycharm": {
     "name": "#%%\n"
    }
   },
   "outputs": [],
   "source": [
    "class Solution:  # 以楼梯问题举例\n",
    "    def findbest(self, n):\n",
    "        dp = [0]*(n + 1)  # 建立空的dp阵\n",
    "        \n",
    "        for j in range(1, m): # 第一个阶段，e.g. 第1，第2阶的上法\n",
    "            dp[j] = 初始值\n",
    "        \n",
    "        for i in range(3,n):  # 转移方程的转化\n",
    "            dp[i] = dp[i-1] + dp[i-2]\n",
    "        \n",
    "        return dp[n]"
   ]
  },
  {
   "cell_type": "markdown",
   "metadata": {},
   "source": [
    "### 复杂度\n",
    "* time complexity: O(N)\n",
    "* space complexity: O(N)"
   ]
  },
  {
   "cell_type": "markdown",
   "metadata": {},
   "source": [
    "## 分支限界法 （BFS思想）"
   ]
  },
  {
   "cell_type": "markdown",
   "metadata": {},
   "source": [
    "### 基本概念\n",
    "* 分支限界法的求解目标：找出满足约束条件的一个解，或者在满足约束条件的解中找出使某一目标函数值达到极大或极小的解，即在某种意义下的最优解\n",
    "    * 回溯法的求解目标：找出T中满足约束条件的所有解"
   ]
  },
  {
   "cell_type": "markdown",
   "metadata": {},
   "source": [
    "### 分支搜索算法\n",
    "* 所谓‘分支’就是采用 广度优先 BFS 的策略，依次搜索E-结点的所有分支，也就是所有相邻节点，抛弃不满足约束条件的结点，其余结点加入活节点表。\n",
    "* 然后从表中选择一个结点作为下一个E-结点，继续搜索。选择下一个E-结点的方式不同，则会有几种不同的分支搜索方式\n",
    " 1. FIFO搜索：即先进先出搜索，用队列deque实现\n",
    " * LIFO搜索：即后进先出搜索，用栈（列表）list实现\n",
    " * 优先队列式搜索：即最小值一直在顶端，用优先队列（堆）priority queue/heap 实现"
   ]
  },
  {
   "cell_type": "markdown",
   "metadata": {},
   "source": [
    "### 分支限界搜索算法"
   ]
  },
  {
   "cell_type": "markdown",
   "metadata": {},
   "source": [
    "### 分支限界法（BFS）和 回溯法（DFS）的一些区别\n",
    "* 方法对解空间树的搜索方式\n",
    " * 分支限界法：BFS Breath First Search\n",
    " * 回溯法：DFS Deepth First Search\n",
    "* 存储结点的常用数据结构\n",
    " * 分支限界法：deque\n",
    " * 回溯法：list\n",
    "* 结点存储特性\n",
    " * 分支限界法：每个节点只有一次被遍历的机会，然后找出满足约束条件的一个解或者特定意义下的最优解\n",
    " * 回溯法：所有可行子节点被遍历，放入list中，进行筛选\n",
    "* 常用应用\n",
    " * 分支限界法：\n",
    " * 回溯法："
   ]
  },
  {
   "cell_type": "markdown",
   "metadata": {},
   "source": [
    "# Big-O 表示法\n",
    "* 了解Big-O表示法\n",
    "* 准备讨论更复杂的算法，比如 Dijkstra 和 A* search algorithm。--> 知道这两个算法的都是查找最短路径的，工作原理，复杂度。不用应用。！！！\n",
    "* 清楚优化的路线\n",
    "    * 最常见的情况是你的解决方案很慢，面试官要求你对其进行优化。\n",
    "    * 假设你有一个 O(n^2) 的方法，为了让它更快，我们可以这样想：  \n",
    "        一般来说，为了提高速度，我们可以选择更好的数据结构/算法，或者使用更多的内存。  \n",
    "        如果我们想使它成为 O(nlogn) ，有几种可用的工具：二分搜索，排序，BST 等等。也许你应该尝试对数组排序，  hash/dic散列是一个选项。另外，DP 是优化递归的好方法。"
   ]
  },
  {
   "cell_type": "markdown",
   "metadata": {},
   "source": [
    "# 数学"
   ]
  },
  {
   "cell_type": "markdown",
   "metadata": {},
   "source": [
    "## 数学基础"
   ]
  },
  {
   "cell_type": "markdown",
   "metadata": {},
   "source": [
    "* non-negative integer -> x >= 0\n",
    "* 表示正负无穷大\n",
    "    * 正无穷 res = float('inf')\n",
    "    * 负无穷 res = float('-inf')\n",
    "* **求次方： a\\*\\*b， a的b次方**\n",
    "    * 求平方根 a\\*\\*0.5, 注意结果会是float，故要int(a\\*\\*0.5)\n",
    "        * 1362. Closest Divisors\n",
    "* 求平方\n",
    "    * a\\*a\n",
    "    * 不存在a^2\n",
    "* 绝对值：abs(a)， a的绝对值\n",
    "* dividend 被除数，divisor 除数，quotient 商\n",
    "* 求模（除数）和余数 i, j = divmod(x, y)\n",
    "    * i\\*y + j = x\n",
    "    * 3, 1 = divmod(7, 2)\n",
    "    * 符号相除，是往绝对值结果大的算，再找补回来\n",
    "        * -4, -1 = divmod(7, -2)\n",
    "        * -4, 1 = divmod(-7, 2)"
   ]
  },
  {
   "cell_type": "markdown",
   "metadata": {},
   "source": [
    "## 离散数学\n",
    "* “负责的说，绝对不需要。 尤其对于转专业，目标是找工作的人，坚决要抵制离散数学。把宝贵的时间浪费在那上面必然后悔啊。图论的话，看算法书上的就足够了。”"
   ]
  },
  {
   "cell_type": "markdown",
   "metadata": {},
   "source": [
    "## 排列组合\n",
    "* 代码的实现\n",
    "* https://python3-cookbook.readthedocs.io/zh_CN/latest/c04/p09_iterate_over_combination_or_permutation.html\n",
    "* https://www.youtube.com/watch?v=Hmld7MhFUDk"
   ]
  },
  {
   "cell_type": "markdown",
   "metadata": {},
   "source": [
    "### 两组数的组合\n",
    "* m个a, n个b,求(a,b)有多少种组合.\n",
    "    * m * n 个可能性"
   ]
  },
  {
   "cell_type": "markdown",
   "metadata": {},
   "source": [
    "### 放回抽取\n",
    "* product('ABCD', repeat=2)\n",
    "* AA AB AC AD BA BB BC BD CA CB CC CD DA DB DC DD"
   ]
  },
  {
   "cell_type": "markdown",
   "metadata": {
    "pycharm": {
     "name": "#%% md\n"
    }
   },
   "source": [
    "### 放回不重复抽取\n",
    "* m中取n个,取后放回再取的数量\n",
    "* itertools.combinations_with_replacement() 允许同一个元素被选择多次"
   ]
  },
  {
   "cell_type": "code",
   "execution_count": 1,
   "metadata": {
    "pycharm": {
     "name": "#%%\n"
    }
   },
   "outputs": [
    {
     "name": "stdout",
     "output_type": "stream",
     "text": [
      "All possible Combination:  (1, 1)\n",
      "All possible Combination:  (1, 2)\n",
      "All possible Combination:  (1, 3)\n",
      "All possible Combination:  (2, 2)\n",
      "All possible Combination:  (2, 3)\n",
      "All possible Combination:  (3, 3)\n"
     ]
    }
   ],
   "source": [
    "# 输出重复的组合\n",
    "from itertools import combinations_with_replacement\n",
    "class arr:\n",
    "    def findCombRe(self, array):\n",
    "        for elem in combinations_with_replacement(array, 2):\n",
    "            print('All possible Combination: ', elem)\n",
    "\n",
    "x = arr()\n",
    "x.findCombRe([1, 2, 3])"
   ]
  },
  {
   "cell_type": "markdown",
   "metadata": {},
   "source": [
    "### 不放回抽取（排列）"
   ]
  },
  {
   "cell_type": "markdown",
   "metadata": {
    "pycharm": {
     "name": "#%% md\n"
    }
   },
   "source": [
    "* An(m)，n中取m个，排成一列 = n*(n-1)*(n-2)...(n-m+1) = n!/(n-m)!\n",
    "* itertools.permutations(arr,numb)，通过打乱集合中元素排列顺序生成一个元组,元组之间数值可以重复，但顺序不重复\n",
    "* numb可省略"
   ]
  },
  {
   "cell_type": "code",
   "execution_count": 13,
   "metadata": {
    "pycharm": {
     "name": "#%%\n"
    }
   },
   "outputs": [
    {
     "name": "stdout",
     "output_type": "stream",
     "text": [
      "choose 2 value from arry:  (1, 2)\n",
      "choose 2 value from arry:  (1, 3)\n",
      "choose 2 value from arry:  (2, 1)\n",
      "choose 2 value from arry:  (2, 3)\n",
      "choose 2 value from arry:  (3, 1)\n",
      "choose 2 value from arry:  (3, 2)\n",
      "choose all value from arr:  (1, 2, 3)\n",
      "choose all value from arr:  (1, 3, 2)\n",
      "choose all value from arr:  (2, 1, 3)\n",
      "choose all value from arr:  (2, 3, 1)\n",
      "choose all value from arr:  (3, 1, 2)\n",
      "choose all value from arr:  (3, 2, 1)\n"
     ]
    }
   ],
   "source": [
    "# 挨个输出'排列'组合\n",
    "from itertools import permutations\n",
    "class arr:\n",
    "    def findCombination(self,array): # outp: all permutations of arr\n",
    "        for elem in permutations(array,2):\n",
    "            print('choose 2 value from arry: ', elem)\n",
    "        \n",
    "        for elem in permutations(array):\n",
    "            print('choose all value from arr: ', elem)\n",
    "    \n",
    "x = arr()\n",
    "x.findCombination([1,2,3])"
   ]
  },
  {
   "cell_type": "markdown",
   "metadata": {},
   "source": [
    "### 不放回不重复抽取（组合）"
   ]
  },
  {
   "cell_type": "markdown",
   "metadata": {
    "pycharm": {
     "name": "#%% md\n"
    }
   },
   "source": [
    "* Cn(m), m中取n个，并成一组 = n!/m!(n-m)!\n",
    "* 使用 itertools.combinations(arr, numb) 可得到输入集合中元素的所有的组合\n",
    "* numb不可省略\n",
    "* 对于 combinations() 来讲，元组之间，数字不重复，顺序也不重复。 也就是说，组合 ('a', 'b') 跟 ('b', 'a') 其实是一样的(最终只会输出其中一个)"
   ]
  },
  {
   "cell_type": "code",
   "execution_count": 12,
   "metadata": {
    "pycharm": {
     "name": "#%%\n"
    }
   },
   "outputs": [
    {
     "name": "stdout",
     "output_type": "stream",
     "text": [
      "No repeated combimation (1, 2, 3)\n",
      "No repeated 2 value combination (1, 2)\n",
      "No repeated 2 value combination (1, 3)\n",
      "No repeated 2 value combination (2, 3)\n"
     ]
    }
   ],
   "source": [
    "# 输出不重复的组合\n",
    "from itertools import combinations\n",
    "class arr:\n",
    "    def findAllComb(self, array):\n",
    "        for elem in combinations(array, 3):\n",
    "            print('No repeated combimation', elem)\n",
    "        \n",
    "        for elem in combinations(array, 2):\n",
    "            print('No repeated 2 value combination', elem)\n",
    "\n",
    "x = arr()\n",
    "x.findAllComb([1, 2, 3])"
   ]
  },
  {
   "cell_type": "markdown",
   "metadata": {},
   "source": []
  },
  {
   "cell_type": "markdown",
   "metadata": {},
   "source": []
  },
  {
   "cell_type": "markdown",
   "metadata": {},
   "source": [
    "## 概率题"
   ]
  },
  {
   "cell_type": "markdown",
   "metadata": {},
   "source": [
    "## 计数问题"
   ]
  },
  {
   "cell_type": "markdown",
   "metadata": {},
   "source": [
    "## n-choose-k problems\n",
    "* https://medium.com/knerd/why-n-choose-k-a810ebee76d4"
   ]
  },
  {
   "cell_type": "markdown",
   "metadata": {},
   "source": [
    "# 多进制"
   ]
  },
  {
   "cell_type": "markdown",
   "metadata": {},
   "source": [
    "## 数与26个字符的转化\n",
    "* chr(number): chr(97) = a \n",
    "* ord(string): ord('a') = 97"
   ]
  },
  {
   "cell_type": "markdown",
   "metadata": {},
   "source": [
    "## 多进制\n",
    "* 二进制: bin(number) -> string\n",
    "    * bin(2) = 0b10\n",
    "    * 正数\n",
    "        * 二进制表示 bin(8) = 0b1000\n",
    "        * 计算机储存形式/计算形式：补码\n",
    "    * 负数\n",
    "        * 二进制表示 bin(-8) = -0b1000\n",
    "        * 计算机储存形式/计算形式：补码\n",
    "* 八进制：数值前面要加上一个前缀“0”\n",
    "    * a = 017\n",
    "* 十六进制: 数字前面要加上前缀0X或0x\n",
    "    * b = 0xf\n",
    "    * 十进制转十六进制 output = hex(input)"
   ]
  },
  {
   "cell_type": "markdown",
   "metadata": {},
   "source": [
    "## 多进制转化为十进制\n",
    "* a = int(string, base = 2/8/...) 把base进制的string转化为十进制\n",
    "    * eg. a = int(bin(2)[2:], 2) -> a = 2.[2:] **去掉前面的Ob**"
   ]
  },
  {
   "cell_type": "markdown",
   "metadata": {},
   "source": [
    "# 二进制位运算 "
   ]
  },
  {
   "cell_type": "markdown",
   "metadata": {},
   "source": [
    "## 数字的二进制表示\n",
    "* python中 int的取值范围\n",
    "    * 32位计算机 **[-2 ** 31, 2 ** 31 - 1] = [ - （1 << 31), 1 << 31 - 1] = [-2147483648, 2147483647（十位数）]**\n",
    "    * 64位计算机 -2 ** 63 - 2 ** 63 -1 = [ - （1 << 63), 1 << 63 - 1]\n",
    "    * 题目通常设定范围为  -2 ** 31 - 2 ** 31 - 1\n",
    "    * 超过范围时,自动转化为长整型,故实际上整数是无上限的\n",
    "\n",
    "* 题目常见定义\n",
    "    * 32-bit signed integers ：32位计算机的int取值范围\n",
    "    * 32 bits unsigned integer无符号整数: C/C++的特性,但整数的内部二进制表示形式（无论有符号还是无符号）都是相同的。\n",
    "        * \\>> 操作时,无需担心前面的符号位,不影响补位等操作\n",
    "            * 涉及内部二进制,故有无符号都一致\n",
    "        * bin操作时,依旧有0b的影响,需要去除\n",
    "            * 设计外部显示的二进制,故有无符号不一致\n",
    "    * 10 ** 9：在2 ** 29到2 ** 30之间。即可以用 >> 0-31&１遍历完毕"
   ]
  },
  {
   "cell_type": "markdown",
   "metadata": {},
   "source": [
    "## 基本运算\n",
    "* 位运算的优先级较低，低于加减乘除，高于赋值，故需要随时带括号"
   ]
  },
  {
   "cell_type": "markdown",
   "metadata": {},
   "source": [
    "### 原码True form，反码One's complement，补码Two's complement\n",
    "* 原码：符号位+数字\n",
    "    * 符号位 0-整数，1-负数\n",
    "    * +7 00000111\n",
    "    * -7 10000111\n",
    "* 反码:\n",
    "    * 正数：原码相同\n",
    "    * 负数：原符号位+原码各位取反\n",
    "    * 获得：~a\n",
    "* 补码\n",
    "    * 正数：与原码相同\n",
    "    * 负数：原符号位 + 原码各位取反 + 末位加1, \n",
    "    * 计算机的储存方法\n",
    "    * 从补码获得原码：补码的补码\n",
    "* 总结\n",
    "    * 由于负数补码较复杂，leetcode的位运算题目都是基于正数的补码"
   ]
  },
  {
   "cell_type": "markdown",
   "metadata": {},
   "source": [
    "### \\<<  左移\n",
    "* n << k, n向左移动k位\n",
    "    * 0b1010 << 2 = 0b101000 = 40  0b1 << 4 = 0b10000 = 16\n",
    "    * 右操作数必须是非负值，其右边空出的位用0填补，高位左移溢出则舍弃该高位\n",
    "* 数学关系：左移相当于*2，只是要注意边界问题\n",
    "    * a << b 相当于 a * 2**b\n",
    "        * **2**5 = 1 << 5**\n",
    "    * 2 = 0b10 << 1 -> 0b100 = 4"
   ]
  },
  {
   "cell_type": "markdown",
   "metadata": {},
   "source": [
    "### \\>>   右移\n",
    "* n >> k，n向右移动k位\n",
    "    * 0b111111 >> 3 = 0b111 = 7  0b1111 >> 1 = 0b111 = 7\n",
    "* 数学关系：右移相当于除以2，只是要注意移位比较多的时候结果会趋近去一个非常小的数，如上面结果中的-1，0。\n",
    "    * 6 = 0b110 >> 1 = 0b11 = 3\n",
    "* 功能\n",
    "    * **取符号位判断正负：a >> 31, 为0，则正数；为-1，则负数**\n",
    "        * 理由：a>>31为a除以2^31，若a为正，结果约等于0，若a为负，结果约等于-1"
   ]
  },
  {
   "cell_type": "markdown",
   "metadata": {},
   "source": [
    "### &  与\n",
    "* 如果两个相应的二进制位都为1，则该位的结果值为1，否则为0\n",
    "* 功能\n",
    "    * 把第n位设0：&n个0\n",
    "        * 把倒数第n位（0开始）变为0；a = b | 0+ （n-1) * 1 = b | ～(1+ (n-1)*0) = b | ~(1 << n)\n",
    "        * 使最后一位为0：a & ~ 1,~ 1 = 111111110 \n",
    "    * 保留n位原值：&n个1，相当于0b0001\n",
    "        * **取最后一位：a >> 0 & 1**\n",
    "        * **取指定后第n位：a >> n - 1 & 1， 记住是n - 1**\n",
    "        * **循环取a的所有位（补码）： for i in range(32): b = a >> i, return b & 1 . 结果从最低1位开始，到第32位**\n",
    "    * 判断某位为0或1：&1\n",
    "         * 若1，为1\n",
    "         * 若0，为0\n",
    "    * **消掉最后一位有效的1： n & n - 1**"
   ]
  },
  {
   "cell_type": "markdown",
   "metadata": {},
   "source": [
    "### |   或 \n",
    "* 两个相应的二进制位中只要有一个为1，该位的结果值为1\n",
    "* 功能\n",
    "    * 把第n位设1 |n个1\n",
    "        * 把倒数第n位（0开始）变为1：a = b|(1+ (n-1)*0) = b\\ 2的n次方 = b \\ 1 << n\n",
    "        * eg. a = b | 10，a的倒数第二位变为1\n",
    "    * 保留n位原值：|n个0"
   ]
  },
  {
   "cell_type": "markdown",
   "metadata": {},
   "source": [
    "### ^   异或 XOR\n",
    "* 若参加运算的两个二进制位值不同为1，相同为0\n",
    "* 结合律 x^y^z = (x^y)^z = x^(y^z)\n",
    "* 交换律 x^y = y^x\n",
    "* 对于任何数 x^x = 0, x^0 = x\n",
    "* **自反性 x^y^y = x^0 = x**\n",
    "    * 实现交换两个值(不常用) a = a ^ b;b = a ^ b;a = a ^ b; -> a = b\n",
    "* 功能\n",
    "    * 保留n位原值：^n个0\n",
    "    * **取反** n位：^n个1\n",
    "    * 判断两数是否相等: a^b = 0则相等\n",
    "    * x^y = z，已知x，z，求y\n",
    "        * x^x^y = y = x^z"
   ]
  },
  {
   "cell_type": "markdown",
   "metadata": {},
   "source": [
    "### ~   取反\n",
    "* 0变1，1变0\n",
    "    * 对数字的补码（计算机中的储存形式）形式进行取反\n",
    "    * 不是对数字的二进制形式进行取反\n",
    "* ~n = -n-1\n",
    "* 15 = 0001111 -> ~15 = 111000 = -16"
   ]
  },
  {
   "cell_type": "markdown",
   "metadata": {},
   "source": [
    "### 运算优先级\n",
    "* 取反 > 乘除 > 加减 > 左移/右移 > 并 > 或/异或 > 比较大小\n",
    "* 分不清就及时加括号"
   ]
  },
  {
   "cell_type": "markdown",
   "metadata": {},
   "source": [
    "## 算法总结"
   ]
  },
  {
   "cell_type": "markdown",
   "metadata": {},
   "source": [
    "### 技巧和算法"
   ]
  },
  {
   "cell_type": "markdown",
   "metadata": {},
   "source": [
    "* 优点\n",
    "    * 时间复杂度低\n",
    "        * 全部遍历32bit 只要 **tO(32) = O(1)**\n",
    "    * 空间复杂度低\n",
    "        * 运算是数数运算，只要 **sO(1)**"
   ]
  },
  {
   "cell_type": "markdown",
   "metadata": {},
   "source": [
    "* 加法\n",
    "    * 不进位情况下, a + b = XOR a^b \n",
    "    * 进位情况下，a + b =( a & b ) << 1\n",
    "* 求数\n",
    "    * 求01有关数\n",
    "        * 求全1(1的最长值)\n",
    "            * (1 << 31) - 1\n",
    "        * 求左边全为0，右边n个1（求长度为n的全1数）\n",
    "            * 渐进式或置1式\n",
    "            * mask = 1 基底0 res = 0\n",
    "            * for _ range(n): \n",
    "                * res = res | mask # 第二个res是n-1位全是1的数，mask是n位首位为1的数，第1个res是n位全是1的数\n",
    "                * mask = mask << 1\n",
    "            * return res\n",
    "        * 求第右i位为1的数\n",
    "            * 1 << i\n",
    "        * 修改右i位为1 （或置1式）\n",
    "            * 修改res,res = res | 1 << i\n",
    "        * 求左边全为1 右边i个0的数\n",
    "            * 法1：求全1的最大值,再 m << i,来调整右边为i个0的数量\n",
    "            * 法2：~(左边全为0，右边i个1)\n",
    "\n",
    "    * 求某位数\n",
    "        * 求某i位数\n",
    "            * **a >> i & 1**，不是a >> i\n",
    "        * 求最后一位数 \n",
    "            * a & 1\n",
    "        * 取所有位\n",
    "            * 左移循环 for i in range(32): n >> i & 1\n",
    "    * 求补法（异或01互转）\n",
    "        * ^(n*1)异或求补，即01互转   \n",
    "    * 求绝对值\n",
    "        * 取符号位判断正负 i = a >> 31, i为0，正数；i为-1，负数\n",
    "        * 返回 (a^i) - i\n",
    "            * 若正数，a^i = a，i = 0, 故返回a\n",
    "            * 若负数，a^i = a^(-1) = ~a, ~a - i = ~a - (-1) = ~a + 1\n",
    "* 判断\n",
    "    * 判断奇偶：\n",
    "        * 只需根据最后位是0还是1来决定，0偶数，1奇数\n",
    "        * &1，为1则是1，为奇数，为0则是0，为偶数\n",
    "        * |0，为1则是1，为奇数，为0则是0，为偶数\n",
    "        * ^0，为1则是1，为奇数，为0则是0，为偶数\n",
    "        * ^1, 为0则是1，为奇数，为1则是0，为偶数\n",
    "    * 判断正负\n",
    "        * a>>31， 若0，为正，若-1，为负\n",
    "    * 判断右侧n个是否全为1\n",
    "        * 进一位求交 a & (a + 1)\n",
    "            * 进一位后，n个1变为1 + n个0，此时求交即可\n",
    "            * if == 0，true，全是1\n",
    "            * if != 0, Fasle, 不全是1\n",
    "    * 判断两数不等\n",
    "        * 异或^不为0\n",
    "            * 区分两数：异或结果的二进制位中至少1位是1,设此位为i, 两数的第i位上,一个为1,一个为0,由此区分两个数\n",
    "    * 判断数字a, b的哪些前几位是否相同\n",
    "        * 先获得最长的全为1的数 mask = (1 << 31) - 1\n",
    "        * 再 mask << i,来调整右边为i个0的数量的同时，比较a & mask 和b & mask是否相同。--》 从右到左观察，改变a和b右边i个为0，观察左边31-i个是否相同 -> 若相同，则输出i\n",
    "        * 输出的结果是：i，即右边i个不同，左边31-i个相同；mask为左边31-i个1，右边i个0\n",
    "                mask = (1 << 31) - 1\n",
    "            while (m & mask) != (n & mask):\n",
    "                mask = mask << 1\n",
    "* 消除\n",
    "    * 消偶数次的数, 即求出现奇数次的数值\n",
    "        * 解释：一组数，只有一个值出现奇数次，其余的数出现偶数次，求该数字\n",
    "        * 做法：挨个异或^,输出剩下的结果\n",
    "     * 消去最右1: n & n - 1\n",
    "* 改变\n",
    "    * 交换两数，不用额外变量\n",
    "        * a = a^b, b = a^b, a = a^b -> a = b\n",
    "    * 变换符号：正数变负数，负数变正数\n",
    "        * 取反加1\n",
    "        * a = 5，b = ~a + 1，b = -5\n",
    "    * bin修改\n",
    "        * 基本流程\n",
    "            1. 去掉前面的0b：bin(n)[2:]\n",
    "            * 对剩下的进行操作\n",
    "            * 转回二进制：int(string, 2)\n",
    "* 其他\n",
    "    * 二进制数分布法\n",
    "        * 从0到n的二进制数的01分布跟是否放回的全部子集情况相同\n",
    "        * 故通过该二进制数位是否为一来确定是否放数"
   ]
  },
  {
   "cell_type": "markdown",
   "metadata": {},
   "source": [
    "### 注意要点\n",
    "* 位运算比/运算快，所以可对以下代码进行优化: x=x/2; -> x=x>>1;"
   ]
  },
  {
   "cell_type": "markdown",
   "metadata": {},
   "source": [
    "## 题目类型"
   ]
  },
  {
   "cell_type": "markdown",
   "metadata": {},
   "source": [
    "* 汉明权重\\距离 Hamming Weight\\Distance\n",
    "    * 汉明权重：本字符串中与所用字母的零符号不同的符号数。因此，它等于到相同长度的全零字符串的汉明距离。\n",
    "    * 汉明距离：两个字符串，对应位置不一样的个数\n",
    "    * 在无符号整数中,求1个数 191. Number of 1 Bits.py\n",
    "        * bin(n).count('1') \n",
    "            * 无符号, 故没有前面的0b\n",
    "        * 左移循环取所有位,判断1,累加1次数\n",
    "            * 可以添加 左移结果是否为0的判断,提前终止循环\n",
    "        * 消去最右1,判断结果是否为0, 累计消去次数\n",
    "    * 两个数的汉明距离 461. Hamming Distance.py\n",
    "         * 左移循环取所有位,并比较\n",
    "         * 异或,求1个数(191题)\n",
    "    * !求一组数中，两两个数中的汉明距离的和 477. Total Hamming Distance.py\n",
    "         * 两两求汉明距离,再求和 tO(N**\\2)\n",
    "         * 左移循环取所有位,循环求0个数a和1个数b,a和b的组合数a*b即结果"
   ]
  },
  {
   "cell_type": "markdown",
   "metadata": {},
   "source": [
    "* 只出现一次的数字\n",
    "    * 一组数,一个数只出现1次,其余的数都出现2次,求这个数 136. Single Number.py\n",
    "        * dic保存法 sO(N)\n",
    "        * 异或消偶数次法 sO(1)\n",
    "    * ! 一组数,一个数只出现1次，其余的数都出现**3**次，求这个数 137. Single Number II.py\n",
    "        * dic保存法 sO(N)\n",
    "        * 状态机处理3次的数 sO(1)\n",
    "            * for elem in nums: b = (b ^ elem) & ~a, a = (a ^ elem) & ~b, return b\n",
    "    * !一组数,两个数只出现1次，其余的数都出现2次，求这两个数 260. Single Number III.py\n",
    "        * dic保存法 sO(N)\n",
    "        * 异或消偶数次法,两数不等性质得到i,分两组,分开求两组中的1次数 s(1)"
   ]
  },
  {
   "cell_type": "markdown",
   "metadata": {},
   "source": [
    "* 反转相关问题\n",
    "    * !转置数字的二进制表示 190. Reverse Bits.py\n",
    "        * bin修改, zfill(32)左补零, int转十进制\n",
    "        * 基底0,扫描n,i位1,修改右31-i位为1\n",
    "    * ！求二进制数的补，没有前导0 476. Number Complement.py\n",
    "        * bin修改，01互转\n",
    "        * 异或求补法，渐进式或置1式求n*1\n",
    "* 判断二进制数结构\n",
    "    * ！判断一个数的二进制形式，是不是01相间 693. Binary Number with Alternating Bits.py\n",
    "        * bin修改，判断01相间\n",
    "        * a = n^(n>>1),判断右侧n个是否全为1\n",
    "* 全组合问题\n",
    "    * 求数组中所有可能性的组合 78. Subsets.py\n",
    "        * 回溯法 t(O(N*2**N)) sO(2**N)\n",
    "        * 二进制数分布法 t(O(N*2**N)) sO(2**N)\n",
    "* 数学相关问题\n",
    "    * ！ 不用乘除mod计算商 29. Divide Two Integers.py\n",
    "        * 判断正负号，求abs，计算除数\n",
    "    * ！不用加减计算和 371. Sum of Two Integers.py\n",
    "        * 拆成无进位和进位结果\n",
    "        * 无进位用 sum = a^b\n",
    "        * 进位用 carry = (a & b) << 1\n",
    "        * a = sum % (1 << 32), b = carry % (1 << 32)\n",
    "    * ！&范围内[m, n]的数 201. Bitwise AND of Numbers Range.py\n",
    "        * 逐个&，tO(N)\n",
    "        * 求全1最长值，从低位到高位判断从哪一位开始m和n相同，即求&结果 tO(1)\n",
    "            * 从低位到高位的判断：求左边全为1 右边i个0的数，再与m和n求交判断"
   ]
  },
  {
   "cell_type": "markdown",
   "metadata": {},
   "source": [
    "\n",
    "# 操作系统\n",
    "* 了解流程，线程和并发问题。 \n",
    "* 了解锁，互斥，信号量和监视器以及它们如何工作。\n",
    "* 了解死锁和活锁以及如何避免死锁。 \n",
    "* 知道进程需要什么资源，线程需要什么，上下文切换如何工作，以及操作系统和底层硬件如何启动它。 \n",
    "* 了解有关调度的知识。 https://www.tutorialspoint.com/operating_system/os_process_scheduling_algorithms.htm\n",
    "* 世界正迅速向多核迈进，因此请了解“现代”并发构造的基础。"
   ]
  },
  {
   "cell_type": "markdown",
   "metadata": {},
   "source": [
    "# APIs, OOD"
   ]
  },
  {
   "cell_type": "markdown",
   "metadata": {},
   "source": [
    "* 求二进制某i位数\n",
    "    * **a >> i & 1**，不是a >> i\n",
    "    * 求最后一位数 a & 1"
   ]
  },
  {
   "cell_type": "markdown",
   "metadata": {},
   "source": [
    "* 求出现奇数次的数值\n",
    "    * 解释：一组数，只有一个值出现奇数次，其余的数出现偶数次，求该数字\n",
    "    * 做法：挨个异或^,输出剩下的结果"
   ]
  },
  {
   "cell_type": "markdown",
   "metadata": {},
   "source": [
    "### 作用\n",
    "* 位运算比/运算快，所以可对以下代码进行优化: x=x/2; -> x=x>>1;\n",
    "* 还可利用右移运算符计算a的第b个二进制位是什么: (a>>b)&1;\n",
    "* "
   ]
  },
  {
   "cell_type": "markdown",
   "metadata": {},
   "source": [
    "## 题目类型"
   ]
  },
  {
   "cell_type": "markdown",
   "metadata": {},
   "source": [
    "* 汉明权重\\距离 Hamming Weight\\Distance\n",
    "    * 汉明权重：本字符串中与所用字母的零符号不同的符号数。因此，它等于到相同长度的全零字符串的汉明距离。\n",
    "    * 汉明距离：两个字符串，对应位置不一样的个数"
   ]
  },
  {
   "cell_type": "markdown",
   "metadata": {},
   "source": [
    "\n",
    "# 操作系统\n",
    "* 了解流程，线程和并发问题。 \n",
    "* 了解锁，互斥，信号量和监视器以及它们如何工作。\n",
    "* 了解死锁和活锁以及如何避免死锁。 \n",
    "* 知道进程需要什么资源，线程需要什么，上下文切换如何工作，以及操作系统和底层硬件如何启动它。 \n",
    "* 了解有关调度的知识。 https://www.tutorialspoint.com/operating_system/os_process_scheduling_algorithms.htm\n",
    "* 世界正迅速向多核迈进，因此请了解“现代”并发构造的基础。"
   ]
  },
  {
   "cell_type": "markdown",
   "metadata": {},
   "source": [
    "# APIs, OOD"
   ]
  },
  {
   "cell_type": "markdown",
   "metadata": {},
   "source": [
    "# Google面试官方指南"
   ]
  },
  {
   "cell_type": "markdown",
   "metadata": {},
   "source": [
    "## 电面\n",
    "* 与潜在的同僚或上司面，即专业面试\n",
    "* 持续30-60mins\n",
    "* 使用Google Doc,并建议使用扩音器或者耳机\n",
    "* 面试内容是数据结构和算法\n",
    " * 开放式问题，我来明确问题，设计要求 \n",
    " * 用一种算法来解释这个问题\n",
    " * 写代码.\n",
    "  * 能写多少写多少，先写大框架，然后再完善 ？(write what comes and but then refine it later)\n",
    "  * 需要考虑corner case(和 edge case，二者不同)\n",
    "  * 考虑生产就绪(prodcuton ready) --> 很稳定，可维护的(用类？)，可扩展的（用类？），有记录（注释？）\n",
    " * 优化代码，然后测试并寻找bugs  --> 没有follow up题目？"
   ]
  },
  {
   "cell_type": "markdown",
   "metadata": {},
   "source": [
    "## 现场面试"
   ]
  },
  {
   "cell_type": "markdown",
   "metadata": {},
   "source": [
    "### BQ\n",
    "* 见BQ总结"
   ]
  },
  {
   "cell_type": "markdown",
   "metadata": {},
   "source": [
    "### 写代码"
   ]
  },
  {
   "cell_type": "markdown",
   "metadata": {},
   "source": [
    "#### 内容\n",
    "* 代码技巧\n",
    "* 科技领域的专业知识\n",
    " * 关于工具的知识，关于编程语言的知识 --> ML框架如何使用？Python语言的特性？！！！\n",
    " * 会进行来回讨论，而不是固定某一种想法 --> 交流思路，不仅听面试官的思路，也阐述自己的 ！！！\n",
    " * 会深度的讨论我的方法 --> 思考问题的时候，要深入，找到最优的办法 ！！！"
   ]
  },
  {
   "cell_type": "markdown",
   "metadata": {},
   "source": [
    "#### 过程\n",
    "* 整个过程中，都要无拘束的问面试官问题，来保证完全理解了他们的问题 ！！！\n",
    "* 我们问问题时，也可以自由发问。内容可以包括：团队，文化等。这样利于判断这个工作是否适合我。！！！"
   ]
  },
  {
   "cell_type": "markdown",
   "metadata": {},
   "source": [
    "## BQ准备方法"
   ]
  },
  {
   "cell_type": "markdown",
   "metadata": {},
   "source": [
    "* 可以预测百分之九十的问题, Google 'most common interview question',并列出前20个问题！！！\n",
    "  * 参考 27 Most Common Job Interview Questions and Answers _ Inc.com.pdf\n",
    "* 写答案并熟记：针对列出的每个问题，写出答案，并熟记，能够快速的回答出来。！！！\n",
    "* 有备份方案：针对每个问题，写出三个答案！！！\n",
    " * 针对一个问题，需要不同的，同样优质的答案，这个可以保证第一个面试官不喜欢的时候，第二个可以听到不同的答案。\n",
    "* 针对coding -- 充分的解释：为了让他们理解我的思维过程，故解释我的思路和决定。 -- 针对coding\n",
    " * Google不仅评价技术能力，而且评价我们思考问题和试图解决问题的能力。！！\n",
    " * 要清晰的陈述和确认问题的假设，去明确问题是合理的 --> 即确认问题的corner case等\n",
    "* 事实支持：每一个问题的回答都要有故事/具体做了什么来进行论证。"
   ]
  },
  {
   "cell_type": "markdown",
   "metadata": {},
   "source": [
    "* 针对coding -- 细化并确认问题。\n",
    " * 大部分的问题是开放式的，目的是了解我们对问题的类别和信息了解多少 --> 熟悉DS和算法类别，熟悉题型。\n",
    " * 考察思考思考问题和解决问题的主要方法 --> 把思考问题的过程说出来（idea和method中），并大胆的去问考官来确认问题！！！"
   ]
  },
  {
   "cell_type": "markdown",
   "metadata": {},
   "source": [
    "* 针对coding -- 改进答案过程\n",
    " * 先brute force，后优化方法，并且解释在做什么和为什么这么做 --> 做什么：method，为什么：降低time/space complexity！！！\n",
    " * 大声思考对问题的最初想法 --> 考察对DS和算法的掌握，e.g.某某是一类问题，通常用...来解决"
   ]
  },
  {
   "cell_type": "markdown",
   "metadata": {},
   "source": [
    "* 练习：大声练习面试答案，直到您可以清楚简洁地讲出每个故事"
   ]
  },
  {
   "cell_type": "markdown",
   "metadata": {},
   "source": [
    "## coding的准备方法"
   ]
  },
  {
   "cell_type": "markdown",
   "metadata": {},
   "source": [
    "### Coding练习\n",
    " * 问HR用白板还是Chromebook\n",
    " * 不要太看重小的语法问题，告诉面试官即可 "
   ]
  },
  {
   "cell_type": "markdown",
   "metadata": {},
   "source": [
    "###  Coding\n",
    " * 起码掌握一种编程语言\n",
    " * 知道APIs，OOD(Object Orientated Design),编程。知道如何测试code，想出合适的corner case（包含edge case）！！"
   ]
  },
  {
   "cell_type": "markdown",
   "metadata": {},
   "source": [
    "### 算法\n",
    " * 整体思路：从上到下，或者从下到上 --> 进一步明确这个概念\n",
    "     * 自上而下：递归，分治等\n",
    "     * 自下而上：DP等\n",
    " * 知道复杂度，并知道如何优化，改变（变的更大？同级改变）\n",
    " * 类别\n",
    "    * 排序，搜索，二分搜索 sorting (plus searching, and binary search)\n",
    "    * 分治法 divide-and-conquer\n",
    "    * 动态规划/记忆，简而言之就是动态规划\n",
    "        * Memoization is a term describing an optimization technique where you cache previously computed results, and return the cached result when the same computation is needed again.\n",
    "        * Dynamic programming is a technique for solving problems of recursive nature, iteratively and is applicable when the computations of the subproblems overlap.\n",
    "        * Dynamic programming is typically implemented using tabulation, but can also be implemented using memoization. So as you can see, neither one is a \"subset\" of the other.\n",
    "    * 贪心\n",
    "    * 递归\n",
    "    * 有关特殊数据结构的算法\n",
    "        * 比如链表的特殊算法，slow-fast pointer法等\n",
    " * 了解Big-O表示法，并准备讨论复杂的算法，比如 Dijkstra 和 A* search algorithm。--> 知道这两个算法的都是查找最短路径的，工作原理，复杂度。不用应用。！！！\n",
    " * 在编写代码之前讨论或概述要考虑的算法 --> 与mock的过程一致"
   ]
  },
  {
   "cell_type": "markdown",
   "metadata": {},
   "source": [
    "### 排序\n",
    " * 熟悉常见的排序函数和其擅长的数据输入类型！！！\n",
    "  * 了解每种排序方法的时间/空间复杂度，e.g. 例如，在特殊情况下，插入排序或基数排序要比通用的QuickSort / MergeSort / HeapSort答案好得多。"
   ]
  },
  {
   "cell_type": "markdown",
   "metadata": {},
   "source": [
    "### 数据结构\n",
    " * 掌握尽可能多的数据结构，最常用的如下\n",
    "  * list\n",
    "  * 链表\n",
    "  * stacks 堆栈\n",
    "  * queue 队列\n",
    "  * 哈希集，哈希图，哈希表，字典\n",
    "  * tree/ binary tree\n",
    "  * heap\n",
    "  * graph 图\n",
    " * 您应该了解内在的数据结构，以及每种数据结构倾向于使用哪些算法 ！！！ --> 了解每种数据结构增删查并改的复杂度，和每种数据结构倾向于使用哪种算法。"
   ]
  },
  {
   "cell_type": "markdown",
   "metadata": {},
   "source": [
    "### 数学 ！！！\n",
    " * 一些面试官会问离散数学问题 basic discrete math\n",
    "  * 这个在谷歌很流行，因为counting problem，probability，and other Discrete Math 101 situation surround us.\n",
    " * 在面试之前，花一些时间学习 the essentials of elementary probability theory and combinatorics. \n",
    " * 熟悉 n-choose-k problems and their ilk.熟悉n-choose-k问题及同类的问题。 "
   ]
  },
  {
   "cell_type": "markdown",
   "metadata": {},
   "source": [
    "### 图！！！\n",
    " * 考虑一个问题是否可以用图算法解决\n",
    "  * 例如 距离问题，搜索问题，联通性问题，环探测问题。 distance, search, connectivity, cycle-detection, etc\n",
    " * 表示一个图有三种方法，objects and pointers, matrix, adjacency list 对象和指针，矩阵，邻接表\n",
    "  * 熟悉每种的表示方法 each representation\n",
    "  * 熟悉每种的优缺点 its pros and cons\n",
    " * 知道基本的图遍历方法:DFS 和 BFS\n",
    "  * 知道计算复杂度，及时空权衡 computational complexity, their tradeoffs\n",
    "   * 可以降低算法的时间复杂度以换取更大的空间，或减少消耗的空间以换取较慢的执行\n",
    "  * 知道如何在代码中实现"
   ]
  },
  {
   "cell_type": "markdown",
   "metadata": {},
   "source": [
    "### 递归\n",
    " * 很多问题涉及到递归思想和潜在递归解法\n",
    "  * 使用递归去找到比迭代更优雅的解法。"
   ]
  },
  {
   "cell_type": "markdown",
   "metadata": {},
   "source": [
    "# 面试准备技巧 Interview Preparation Tips"
   ]
  },
  {
   "cell_type": "markdown",
   "metadata": {},
   "source": [
    "## 成功的关键\n",
    "* 在谷歌，我们坚信合作和分享思想。最重要的是：你需要从面试官那得到更多的信息，从而全面的分析和回答问题。"
   ]
  },
  {
   "cell_type": "markdown",
   "metadata": {},
   "source": [
    "## 技巧"
   ]
  },
  {
   "cell_type": "markdown",
   "metadata": {},
   "source": [
    "* 可以问面试官问题\n",
    "* 当被要求给出解决方案时，首先定义问题，及划定范围\n",
    "* 如果不理解，请寻求帮助，或者要求进一步要求细化问题。\n",
    "* 如果需要假设什么，需要检查这个假设是否成立！\n",
    "* 描述解决方案的细节，问题的每个部分都是如何解决的\n",
    "* 总是让面试官知道你在想什么，因为他/她对你的思考过程和解决方案同样会感兴趣。另外，如果你被困住了，他们可能会在他们知道你在做什么时提供提示。\n",
    "* 最后，注意聆听，如果你的面试官试图帮助你，不要错过任何提示！"
   ]
  },
  {
   "cell_type": "markdown",
   "metadata": {},
   "source": [
    "## 技术要求"
   ]
  },
  {
   "cell_type": "markdown",
   "metadata": {},
   "source": [
    "### 总体排序\n",
    "1. Graph/Tree 29.8%\n",
    "* System Design: 22.6%\n",
    "* Array/String Processing:20.2%\n",
    "* Recursion: 9.5%\n",
    "* Dynamic Programming： 9.5%\n",
    "* Geometry/Math 8.3%"
   ]
  },
  {
   "cell_type": "markdown",
   "metadata": {},
   "source": [
    "### 算法复杂度\n",
    "* 了解大O"
   ]
  },
  {
   "cell_type": "markdown",
   "metadata": {},
   "source": [
    "### 排序\n",
    "* 知道如何排序\n",
    "* 不做泡沫排序\n",
    "* 知道至少一种nlogn排序算法的细节，最好是两种（例如，快速排序和合并排序）。在无法进行快速排序的情况下，合并排序可能非常有用，因此请查看一下。"
   ]
  },
  {
   "cell_type": "markdown",
   "metadata": {},
   "source": [
    "### 哈希表系列\n",
    "* 可以说是人类已知的最重要的单一数据结构。绝对应该知道它们的工作方式。\n",
    "* 能够在面试中使用哈希表--> 使用dic，以及hash()函数"
   ]
  },
  {
   "cell_type": "markdown",
   "metadata": {},
   "source": [
    "### Tree\n",
    "* 实现基本的树的构造，遍历和操作算法\n",
    "* 熟悉二叉树，n元树和trie树\n",
    "* 熟悉至少一种类型的平衡二叉树，无论是红色/黑色树，splay树还是AVL树，并了解其实现方式。\n",
    "* 了解树遍历算法：BFS和DFS，并了解有序，后序和中序之间的区别。"
   ]
  },
  {
   "cell_type": "markdown",
   "metadata": {},
   "source": [
    "### Graph\n",
    "* 图对Google很重要\n",
    "* 熟悉如何在内存中表示图，基本图的遍历方法"
   ]
  },
  {
   "cell_type": "markdown",
   "metadata": {},
   "source": [
    "### 其他数据结构\n",
    "* 您应该特别了解最著名的NP完全问题类别，例如旅行推销员和背包问题，并且当面试官变相询问您时能够识别它们。找出NP-complete的含义。"
   ]
  },
  {
   "cell_type": "markdown",
   "metadata": {},
   "source": [
    "### 数学\n",
    "* 一些面试官提出基本的离散数学问题。比如组合和概率问题，n-choose-k问题。"
   ]
  },
  {
   "cell_type": "markdown",
   "metadata": {},
   "source": [
    "### 操作系统\n",
    "* 了解流程，线程和并发问题。 \n",
    "* 了解锁，互斥，信号量和监视器以及它们如何工作。\n",
    "* 了解死锁和活锁以及如何避免死锁。 \n",
    "* 知道进程需要什么资源，线程需要什么，上下文切换如何工作，以及操作系统和底层硬件如何启动它。 \n",
    "* 了解有关调度的知识。 https://www.tutorialspoint.com/operating_system/os_process_scheduling_algorithms.htm\n",
    "* 世界正迅速向多核迈进，因此请了解“现代”并发构造的基础。"
   ]
  },
  {
   "cell_type": "markdown",
   "metadata": {},
   "source": [
    "# Google面试准备完全指南 Google Interview Preparation For Software Engineer – A Complete Guide"
   ]
  },
  {
   "cell_type": "markdown",
   "metadata": {},
   "source": [
    "## 重点\n",
    "* 问题解决和编程技巧（DS和算法），Googlyness（包含了对技术的热情，好奇心，道德，友善，良好的素质等等）是必备的\n",
    "*  软件工程师或SWE-II（L3）是入门级的全职软件工程师。 在这个级别上，有4或5个现场回合，他们可能会提出设计问题，但通常不会。\n",
    "* 检查Google教育团队发布的技能列表，他们期望潜在的工程师\n",
    "    * https://techdevguide.withgoogle.com/\n",
    "* 面试官受过训练，不会对您的答案做出反应，因此不要期望回答是或否。因此请准备好自己，看看冷酷的面孔。"
   ]
  },
  {
   "cell_type": "markdown",
   "metadata": {},
   "source": [
    "## 让Google注意自己"
   ]
  },
  {
   "cell_type": "markdown",
   "metadata": {},
   "source": [
    "* 单页简历，只包括相关工作。尽可能简短，精确。不要做假。提到项目时，要提到项目的复杂度。\n",
    "    * https://www.geeksforgeeks.org/resume-building-resources-and-tips/\n",
    "* 可以参与 Google Kickstart or Google Code Jam，如果在Google Code Jam中，到达第二轮，可能会被Google Hr练习\n",
    "* 保持Linkedin, Github的更新。\n",
    "    * https://www.youtube.com/watch?v=BYUy1yvjHxE&t=69s"
   ]
  },
  {
   "cell_type": "markdown",
   "metadata": {},
   "source": [
    "## 电面"
   ]
  },
  {
   "cell_type": "markdown",
   "metadata": {},
   "source": [
    "* 平均是两轮\n",
    "* 可能会有两题，写完起码一题\n",
    "* 先brute force，后优化，并考虑时空复杂度\n",
    "* 在 Google Doc上练习，无indentation,syntax highlight and auto-completion.\n",
    "* 大声说出自己的想法，吐字清晰（困难点），告诉idea和method"
   ]
  },
  {
   "cell_type": "markdown",
   "metadata": {},
   "source": [
    "## 现场面试"
   ]
  },
  {
   "cell_type": "markdown",
   "metadata": {},
   "source": [
    "* 4-6轮，包括lunch interviews, lunch不是真正的面试，仅仅是与Google的接触\n",
    "* 每轮持续45min到1hour\n",
    "* 面试内容两种类型：1.技术编程/一般分析问题。2.BQ"
   ]
  },
  {
   "cell_type": "markdown",
   "metadata": {},
   "source": [
    "### 技术编程/一般分析问题 Technical Coding and General Analysis Question"
   ]
  },
  {
   "cell_type": "markdown",
   "metadata": {},
   "source": [
    "* 技术编程是指编程问题，考察使用DS和算法解决真实问题的能力。期待到达最优解\n",
    "* 一般分析问题是指数学、设计、基于观点的问题，目的是考察思维过程和作为员工的工作方式\n",
    "* 建议使用Cracking the Coding Interview，并在如下网站练习\n",
    "    * https://practice.geeksforgeeks.org/explore/?company%5B%5D=Google&page=1\n",
    "    * https://careercup.com/\n",
    "* 其余参考《面试准备技巧-技术要求》"
   ]
  },
  {
   "cell_type": "markdown",
   "metadata": {},
   "source": [
    "### 系统设计问题"
   ]
  },
  {
   "cell_type": "markdown",
   "metadata": {},
   "source": [
    "* 测试您设计和扩展基于技术的系统（例如设计Gmail，youtube，uber等）的整体能力。\n",
    "* 参考 http://blog.gainlo.co/index.php/category/system-design-interview-questions/\n",
    "* 参考 《Gainlo 面试指南》\n",
    "* L4/L3 OO design quesion 和 系统设计相关的问题。\n",
    "* 在Google中，可扩展性始终很重要。 因此，期望设计问题对于大型系统将是一个模棱两可的现实世界问题。 他们正在寻找思考的过程，以及如何分解事物以最终获得过于富有创意和可扩展性的解决方案。"
   ]
  },
  {
   "cell_type": "markdown",
   "metadata": {},
   "source": [
    "## 程序员要求"
   ]
  },
  {
   "cell_type": "markdown",
   "metadata": {},
   "source": [
    "* “我们不单单寻找解决已知问题的程序员，我们更感兴趣能够解决未知问题的程序员”"
   ]
  },
  {
   "cell_type": "markdown",
   "metadata": {},
   "source": [
    "### 重点\n",
    "* 面试官在接受面试时通常会有一种心态，即如果他/她可以与应聘者一起每天工作，那么请不要在面试时表现出傲慢或自我的迹象。\n",
    "* 面试官将在实施代码时检查您是否使用了合适的数据结构和算法。\n",
    "* 面试官将注意到您如何优化解决方案，有关编程语言选择的知识，编码速度，错过的任何极端情况以及如何分析时间和空间复杂性的方法。\n",
    "* 他们将检查您如何传达您的思维过程以逻辑方式解决特定问题。 \n",
    "* 他们还将检查您是否能够抓住提示并能够继续解决问题。\n",
    "* 候选人是否愿意接受新想法？ 候选人在解决方案上是否灵活？"
   ]
  },
  {
   "cell_type": "markdown",
   "metadata": {},
   "source": [
    "### 面试评估标准\n",
    "* 面试后，所有反馈都是从不同的面试官那里收集的，然后您在一系列不同类别中的评分为1-4，其中包括您的编码经验和分析能力。然后，将此反馈发送给招聘委员会以做出最终决定。"
   ]
  },
  {
   "cell_type": "markdown",
   "metadata": {},
   "source": [
    "### 提示\n",
    "* 在整个面试中学习“大声思考”，否则面试官将不知道您在想什么。向面试官展示您对问题的思考过程以及解决问题所要遵循的方法。\n",
    "* 通过在纸或白板上编写代码进行练习。它会在面试过程中真正为您提供帮助。\n",
    "* 永远不要说你做不到。即使存在您之前从未解决过的问题，或者似乎无法解决的问题，请从不同的角度来不断解决问题，面试官会给您提示。但是，如果您说无法解决问题，那将是一个很大的危险信号，并且您最终可能会被拒绝。\n",
    "* 在跳转到解决方案之前，请务必提出相关问题，以使其更加清晰。在前往解决方案之前，请务必与面试官核对您的假设并清除所有疑问。\n",
    "* 我们强烈建议您不要编写伪代码来设计代码。在45分钟的采访中，您没有时间这样做。"
   ]
  },
  {
   "cell_type": "markdown",
   "metadata": {},
   "source": [
    "### 有用的链接\n",
    "* Google面试准备题目 https://www.geeksforgeeks.org/google-interview-preparation/\n",
    "* 面试经验 https://www.geeksforgeeks.org/tag/google/\n",
    "* code练习 https://www.geeksforgeeks.org/practice-for-cracking-any-coding-interview/"
   ]
  },
  {
   "cell_type": "markdown",
   "metadata": {},
   "source": [
    "# Gainlo 面试指南"
   ]
  },
  {
   "cell_type": "markdown",
   "metadata": {},
   "source": [
    "## 获得面试机会"
   ]
  },
  {
   "cell_type": "markdown",
   "metadata": {},
   "source": [
    "* 时间点很重要\n",
    "* 推荐是关键\n",
    "* 简历：简洁和易懂 - 描述清楚，同时给人们一些复杂的印象"
   ]
  },
  {
   "cell_type": "markdown",
   "metadata": {},
   "source": [
    "## 构建扎实的基础"
   ]
  },
  {
   "cell_type": "markdown",
   "metadata": {},
   "source": [
    "### 最短路径\n",
    "* 把重点放在计算机科学的基础上\n",
    "* 做长远规划\n",
    "* 清晰理解基础知识之后，再尝试面试问题"
   ]
  },
  {
   "cell_type": "markdown",
   "metadata": {},
   "source": [
    "### DS和算法的定义\n",
    "* 清楚每个基本数据结构和算法的定义\n",
    "* 理清概念。e.g.DP与递归之间的区别，stack栈和heap堆之间的区别。\n",
    "* 实现算法。e.g.快速排序，用堆实现找k个最大的数字，BFS/DFS"
   ]
  },
  {
   "cell_type": "markdown",
   "metadata": {},
   "source": [
    "### 优缺点\n",
    "* 清楚每种DS和算法的优缺点，熟悉他们的特征\n",
    "* 针对每个DS和算法，应该问自己：有什么优缺点？我什么时候可以使用它？"
   ]
  },
  {
   "cell_type": "markdown",
   "metadata": {},
   "source": [
    "### 复杂度\n",
    "* 清楚每种DS和算法的复杂度\n",
    "* 清楚优化的路线\n",
    "    * 最常见的情况是你的解决方案很慢，面试官要求你对其进行优化。\n",
    "    * 假设你有一个 O(n^2) 的方法，为了让它更快，我们可以这样想：  \n",
    "        一般来说，为了提高速度，我们可以选择更好的数据结构/算法，或者使用更多的内存。  \n",
    "        如果我们想使它成为 O(nlogn) ，有几种可用的工具：二分搜索，排序，BST 等等。也许你应该尝试对数组排序，  hash/dic散列是一个选项。另外，DP 是优化递归的好方法。"
   ]
  },
  {
   "cell_type": "markdown",
   "metadata": {},
   "source": [
    "### 总结\n",
    "* 我会建议人们逐个查阅所有基本的数据结构/算法。 了解这个概念，弄清楚利弊，并自己实现。 在这一步完成之前，不要急于练习编程问题。"
   ]
  },
  {
   "cell_type": "markdown",
   "metadata": {},
   "source": [
    "## 练习编程问题"
   ]
  },
  {
   "cell_type": "markdown",
   "metadata": {},
   "source": [
    "### 什么时候\n",
    "* 我必须在这里强调多次：在熟悉基本的数据结构/算法之前开始练习编程问题是没有意义的。\n",
    "* 这个想法是，你不需要完成你在网上看到的每一个问题，也不需要浏览所有这些在线资源。80/20 规则说 80% 的结果来自 20% 的原因。 我想帮助你确定你需要关注的 20%。"
   ]
  },
  {
   "cell_type": "markdown",
   "metadata": {},
   "source": [
    "### 提示1：编写足够的代码"
   ]
  },
  {
   "cell_type": "markdown",
   "metadata": {},
   "source": [
    "### 提示2：把想法说出来\n",
    "* 强烈建议把想法说出来，好处是：\n",
    "    * 展示沟通技巧\n",
    "    * 如果你不在正确的路线上，面试官更有可能纠正你\n",
    "    * 这可以帮助你更清楚地理解你的想法，并防止你在想法足够具体之前编写代码"
   ]
  },
  {
   "cell_type": "markdown",
   "metadata": {},
   "source": [
    "### 提示3：控制时间\n",
    "* 在练习编码问题时，有多少人注意速度？很少\n",
    "* 当每个人第一次跟踪时间的时候，它们都会对速度有多慢感到惊讶。人类不善于估计时间\n",
    "* 对于谷歌编程面试，每一个正好 45 分钟。你会打个招呼，并在第一个 5 分钟内介绍自己，最后，你可以再花 5 分钟提问。在剩余的 35 分钟内，你需要完成 2 个编程问题，其中至少有一个需要编写代码\n",
    "    * 在头脑清晰之后编写代码\n",
    "    * 在完成brute force之后，才进行优化\n",
    "    * 不要从头造轮子。比如能用sort()，就不用全部写出sort的代码\n",
    "* 找出速度慢的瓶颈\n",
    "    * 提出正确的方法：如果您提供解决方案的速度很慢，则很可能是您没有足够的练习。\n",
    "    * 编写可靠的代码：如果您发现自己完成编码的速度很慢，那么您应该为每个练习的问题编写可靠的代码。\n",
    "* 与计时器练习\n",
    "* 天真的解决方案优先"
   ]
  },
  {
   "cell_type": "markdown",
   "metadata": {},
   "source": [
    "### 返回到基础知识\n",
    "* 不管你多努力，总是会有更多的无法准备的问题。处理正确的问题是成功的关键。\n",
    "* 一开始，最好涵盖许多不同类型的问题（例如链表，递归，动态规划等） 。不过，以后你应该更专注\n",
    "* 如果你发现自己的弱点是一个特定的领域，例如树问题。通常有两种情况：\n",
    "    * 你的基础不够牢固。换句话说，你对基本的数据结构/算法没有清晰的认识。在这种情况下，不管你练习了多少个问题，你的问题总是在那里。你应该做的，是回顾你的教科书，并解决根本问题。\n",
    "    * 有时候，你只需要多练习。去寻找更多相同类型的问题，并把重点放在这个领域一段时间。这是一个比漫无目的的更有效的方法。"
   ]
  },
  {
   "cell_type": "markdown",
   "metadata": {},
   "source": [
    "### 总结\n",
    "* 你应该挑选在线资源，并在实践中聪明一些\n",
    "* 清楚自己的实力/弱点并做相应的准备。了解你自己而不是漫无目的地工作，这很重要。\n",
    "* 如果我希望从本章中得到一件事情，那就是确定你的 20% 的努力，并尽可能多地关注它"
   ]
  },
  {
   "cell_type": "markdown",
   "metadata": {},
   "source": [
    "## 资深工程师、应届生和实习生"
   ]
  },
  {
   "cell_type": "markdown",
   "metadata": {},
   "source": [
    "### 相似和不同\n",
    "* 实习生的系统设计通常是可选的。但是每个人都需要数据结构，算法和测试。\n",
    "    * 数据结构。候选人应该非常熟悉树，哈希表，栈/队列等所有基本数据结构。一个很好的例子是，如果你正在实现一个 BFS，你应该清楚使用哪个数据结构。\n",
    "    * 算法。如果面试官要求你逐层遍历树，你知道使用哪种算法吗？而且，许多人往往忽视的是时间和空间的复杂性。我想说，如果候选人在分析复杂性方面有困难，我很难给他/她一个好的分数\n",
    "    * 测试。确保代码能够正常工作是非常重要的。有些人甚至是 TDD 的铁杆粉丝。在练习编码问题时，总是问自己如何测试你的解决方案？你会提供哪些测试用例？作为一名面试官，我通常会寻找能够覆盖这些角落案例的候选人，并且能够将代码模块化以便于测试。\n",
    "    * 系统设计。这是高级和低级工程师之间的一大区别。设计一个可扩展和健壮的系统并不是一件容易的事情。我们很快就会在整个章节中讨论这个话题"
   ]
  },
  {
   "cell_type": "markdown",
   "metadata": {},
   "source": [
    "### 应届生和实习生\n",
    "* 专注于数据结构/算法：如果你精通基本的数据结构/算法，你至少完成了 80%。在这个领域花尽可能多的时间和精力\n",
    "* 项目和实习\n",
    "    * 做一些很酷的项目，那真的会很不一样。 如果是课程项目，个人项目或实习，也没有关系\n",
    "    * 花时间准备你的介绍。 找出你想突出显示的项目，并使你的语言清晰易懂。 不要以为面试官具有所有的背景。"
   ]
  },
  {
   "cell_type": "markdown",
   "metadata": {},
   "source": [
    "### 总结\n",
    "* 有时候，资深工程师和学生之间的差异完全在于心态。应届生/实习生对面试太害怕了，因为他们认为他们对软件构建一无所知。 但是，由于期望低，只需要有一个扎实的计算机科学基础"
   ]
  },
  {
   "cell_type": "markdown",
   "metadata": {},
   "source": [
    "## 系统设计面试"
   ]
  },
  {
   "cell_type": "markdown",
   "metadata": {},
   "source": [
    "## 电面"
   ]
  },
  {
   "cell_type": "markdown",
   "metadata": {},
   "source": [
    "### 把它当作现场面试\n",
    "* 有两种类型的电话面试 - 非技术面试和技术面试。非技术性面试通常由人力资源部门进行。谈话主要是关于你的背景和激情\n",
    "* 技术面试是本章我们所关注的内容。除了不是面对面的交流之外，你可以期望它和现场面试完全一样。\n",
    "* 以 Google 电话面试为例。 这大概是 45 分钟，通常会问两个问题。 你一定会为其中的至少一个编写代码。\n",
    "* 在电话面试中不太可能有系统设计问题，所以我的建议只是把它当作现场编程面试。\n",
    "* 如果你认为电话面试技术性较差且较容易，你可能需要调整你的期望。 准备好接受技术性的电话面试。 即使事情变得比预期更容易，这实际上是一件好事。"
   ]
  },
  {
   "cell_type": "markdown",
   "metadata": {},
   "source": [
    "### 熟悉Google Doc/其他代码共享工具\n",
    "* 搜索 Google 或 Glassdoor，或只是询问招聘人员。你也应该检查是否需要编译。经验法则是去除尽可能多的意想不到的事情\n",
    "* 像往常一样练习编程问题，但在特定工具上编写代码。有时可能需要一些时间才能适应，例如谷歌面试官喜欢分享 Google Doc，没有缩进，自动不全或高亮显示。\n",
    "* 细节真的很重要。干净而易读的代码可以真正令面试官感到震惊。"
   ]
  },
  {
   "cell_type": "markdown",
   "metadata": {},
   "source": [
    "### 把想法说出来\n",
    "* 在电话面试中，把想法说出来更为重要。 每个人都知道手机屏幕上的沟通不太顺畅，但是很少有人真正做出改进。\n",
    "* 最大的好处就是减少不必要的误会。如果我知道他在想什么，当事情不正确时，我一定会提供帮助。另外，最终的代码只是我们评估的一部分，讨论过程和候选人如何分析问题同样重要。\n",
    "* 谈论的几个方面：\n",
    "    * 谈谈你的整体策略。 你想从一些例子开始吗？ 你是否正在解决问题的一个简单版本？ 你打算使用动态规划吗？--》Idea + Method\n",
    "    * 你关心什么？ 你是否担心使用太多的内存或算法太慢？--> 优化Time or Space\n",
    "    * 你将在以后解决什么问题？ 例如，你知道当前的算法不处理一个特定的情况，提前提到这一点。--> 目前算法的缺点！！！\n",
    "    * 你卡在什么上了？ 当你发现自己没有取得进展时，说清楚你的问题。--> 说出自己的困难"
   ]
  },
  {
   "cell_type": "markdown",
   "metadata": {},
   "source": [
    "### 沟通技巧\n",
    "* 慢慢说，说清楚。！！！\n",
    "    * 当人们紧张时，人们倾向于说得更快，因为这通常是第一次技术性面试。通常，当我难以理解候选人的时候，给我的印象是他脑子里不清楚。只要放慢速度，不要急于求成。 这也可以让你听起来更有信心。\n",
    "* 使用速记来帮助。\n",
    "    * 这是一个面对面讨论的“技巧”。突出重点。例如，如果你的解决方案包含三个步骤，只需列出概要。实际上，用一些文字来减少不必要的来回讨论，最终可以节省你的时间\n",
    "* 找一个安静的环境。\n",
    "    * 你会惊讶于有多少人在恶劣的环境中进行了电话面试。背景噪音，信号差和意外中断是我遇到的三件事情。有时候会让我发疯。\n",
    "* 每天练习这些技巧"
   ]
  },
  {
   "cell_type": "markdown",
   "metadata": {},
   "source": [
    "### 不要作弊\n",
    "* 面试官能够比预期更容易发现作弊行为"
   ]
  },
  {
   "cell_type": "markdown",
   "metadata": {},
   "source": [
    "### 总结\n",
    "* 尽早练习沟通"
   ]
  },
  {
   "cell_type": "markdown",
   "metadata": {},
   "source": [
    "## 现场面试"
   ]
  },
  {
   "cell_type": "markdown",
   "metadata": {},
   "source": [
    "### 现场面试流程\n",
    "* 总共进行四次技术性面试（通常是上午两个，下午两个）。在午餐时间有一个“午餐面试”，但这不是一个真正的面试，因为你没有被评估，这只是一个与 Google 员工聚会的机会\n",
    "* 四个编程面试中，至少有一个是系统设计面试\n",
    "* 面试结束后，每位面试官都会写下一份报告，其中包含了 45 分钟的所有细节和讨论，包括你的代码。该报告可以非常详细地说明，在每个部分花费了多少时间，并且在提示之后你的反应将被包括在内。招聘委员会将根据所有这些报告进行招聘决策"
   ]
  },
  {
   "cell_type": "markdown",
   "metadata": {},
   "source": [
    "### 电话面试 VS 现场面试\n",
    "* 面对面交流意味着整个过程可以更加顺畅，但同时很多人更容易紧张。\n",
    "* 问题稍微困难一些。"
   ]
  },
  {
   "cell_type": "markdown",
   "metadata": {},
   "source": [
    "### “问题比我想象的要容易得多”\n",
    "* 总的来说，onsite只是稍微困难一点。 许多面试官仍然会问如 2-sum 的问题，来获得候选人的最初想法\n",
    "* 谷歌面试中最困难的部分（与其他公司一样） 不是提出解决方案。 很多人可以在一定程度上解决这个问题。 但要获得好成绩，你需要：\n",
    "    1. 拿出最佳的解决方案\n",
    "    * 编程干净和无错的代码\n",
    "    * 在时间限制下完成这两件事情\n",
    "* 第二点和第三点是最具挑战性的部分，大多数候选人由于这两个原因而失败。 许多人声称问题比他们想象的要容易得多，但他们仍然没有快速地提供无错代码。\n",
    "* 从面试官的角度来看，提出没有人能解决的问题是没有意义的。 为了评估候选人，我们需要看到分析过程，代码以及他/她能够多快解决问题。\n",
    "* 我的任务：\n",
    "    * 更多关注“基本”问题而不是超级难题。\n",
    "        * 只要在 Glassdoor 上对 Uber 面试问题进行一点搜索，就可以了解哪些类型的问题很受欢迎。 你很快就会意识到，他们并不像大多数人所想的那样艰难\n",
    "    * 练习时要特别注意编程。 为每个问题写下可靠的代码并跟踪时间。！！！"
   ]
  },
  {
   "cell_type": "markdown",
   "metadata": {},
   "source": [
    "### 白板\n",
    "* 写之前要仔细考虑。事先要有清醒的想法。\n",
    "* 工整的写作。"
   ]
  },
  {
   "cell_type": "markdown",
   "metadata": {},
   "source": [
    "### 沟通\n",
    "* 整个面试是一个讨论过程，在现场面试中更是如此。\n",
    "    * 这与考试完全不同，因为你需要与面试官保持沟通。把这个过程当作一个正常的讨论，与你们的同事在一起讨论同样的问题。\n",
    "* 把想法说出来。谈论你脑海中的任何事情，在讨论之前你不需要有任何具体的想法。--> 有什么说什么，idea + method\n",
    "* 随意谈谈你卡在了什么地方。\n",
    "    * 面试官真的很乐意通过给你提示或告诉你你不是在正确的方向来帮助你。不要担心暴露你的弱点，即使你不承认也不会有任何进展。相反，放宽心态，面试过程将会更加愉快。"
   ]
  },
  {
   "cell_type": "markdown",
   "metadata": {},
   "source": [
    "### 总结\n",
    "* 面试前你一定需要很多练习"
   ]
  },
  {
   "cell_type": "markdown",
   "metadata": {},
   "source": [
    "## 非技术问题\n",
    "* 一般来说，非技术性问题只占面试的一小部分。 然而，如果面试官抓住任何危险信号，它可以“杀掉”你。 一个例子是文化适应。"
   ]
  },
  {
   "cell_type": "markdown",
   "metadata": {},
   "source": [
    "### 面试官在寻找什么\n",
    "* 总体印象\n",
    "    * 我想和这个人一起工作吗？这确实是一个非常主观的问题，但通过与候选人交谈和讨论，面试官可以得到一些想法。\n",
    "* 文化适应\n",
    "    * 每个公司都有自己的文化，评估候选人是否合适是非常重要的。每种文化都有其优点和缺点，因此都是关于匹配（就像约会一样）。\n",
    "* 加分和危险信号\n",
    "    * 编程问题永远不能涵盖一个人的每一个方面。通过讨论过去的经验，候选人感兴趣的领域，面试官实际上是寻找任何加分或危险信号。"
   ]
  },
  {
   "cell_type": "markdown",
   "metadata": {},
   "source": [
    "### 自我介绍\n",
    "* “介绍你自己”可能是唯一确定的问题，没有理由不准备。\n",
    "    * 在好的和不好的介绍之间没有明确的界限，但事先做好一些准备工作肯定会对你有好处。事实上，这不会占用你太多的时间。\n",
    "* 黄金法则是清晰简明。\n",
    "    * 首先，列出你真正想要在你的介绍中突出显示的几点（少于三点）。这可能是你过去的项目之一，或者你赢得的一些编程比赛。其次，在 1-2 分钟内压缩所有这些\n",
    "    * 不需要覆盖尽可能多的细节。如果面试官想知道更多，他们会问。一个常见的错误是过度推销自己。长时间的介绍不仅会让面试官厌烦，而且会缩短你的编程问题的时间\n",
    "* 常见的错误是我所说的“太模糊”。\n",
    "    * 往往不是因为候选人沟通不好，而是因为介绍有很多细节，没有相关的背景的人不能理解。找到一个对你的工作不太了解的工程师朋友，测试他/她是否能理解你的介绍。\n",
    "* 相关性。\n",
    "    * 强烈建议对每个公司有不同的介绍。你想表明你能胜任这个职位，因为你有相关的经验。这绝对不是必需的，但是如果你有的话会是一个加分。如果你以前的所有项目都是完全不相关的（例如，你在硬件上工作，但是在寻找一个软件的职位） ，那么就把它保持简洁。"
   ]
  },
  {
   "cell_type": "markdown",
   "metadata": {},
   "source": [
    "### 文化适应\n",
    "* 每个公司，无论多大，都有一定的规范和信念，每个人都遵循。这不是一个强迫人们以同样的方式行事的具体规则，也不是人们从不行动的口号。这就是为什么文化是定义它的最好的术语\n",
    "    *  Facebook 的“行动迅速和打破常规”。核心的信念是尽早测试，来避免过度工程。你可以通过 Google 深入了解这一点。\n",
    "* 关键在于面试官有责任评估候选人是否真正符合这种文化。这并不容易，但从所有的讨论中，人们仍然可以得到一些想法。\n",
    "    * 例如，在系统设计面试中，面试官肯定知道你是否倾向于过度工程\n",
    "    * Airbnb。通常情况下，你将有一个完全集中于文化适应的简短面试。你会被问到你的产品经验，为什么你想加入 Airbnb，你也可以谈论你的职业目标。如果你不是真的相信 Airbnb 的使命，只是瞄准加薪，我怀疑你是否会得到录用。"
   ]
  },
  {
   "cell_type": "markdown",
   "metadata": {},
   "source": [
    "### 双向选择\n",
    "* 你不需要适应文化，你应该评估文化\n",
    "    * 最大的误解是认为面试是考试。但是，我认为这是一个双向的选择。面试过程中，考生应同时对面试官和公司进行评估。在与公司工作的人交谈之后，你可能会有完全不同的印象。\n",
    "* 在文化适应方面，我认为更好的解释是评估公司是否真的适合你。\n",
    "    * 如果你不相信它的价值，你不需要显着地调整自己来适应公司。但是，你至少应该调查和了解它的文化。\n",
    "* 很多人不了解他们正在面试的公司。\n",
    "    * 对我来说，就像你在和一个女孩约会而不知道她的背景。这就是“为什么加入我们”应该是一个非常简单而直接的问题。如果你知道公司是否适合你，你应该可以在几秒钟内回答。如果你不相信公司的使命，也许你本来不应该申请。"
   ]
  },
  {
   "cell_type": "markdown",
   "metadata": {},
   "source": [
    "### 给面试官的问题\n",
    "* 建议问一下。 好处是你会更加了解面试官和公司。而且，向公司展示你的兴趣总是一个好兆头\n",
    "* 不要认为这个过程是增加机会的一种方式，尽管可能是。 一个更好的方法就是询问你脑海中关于公司的任何问题，而且把其他事情考虑好\n",
    "* 不要问你的面试表现/结果。"
   ]
  },
  {
   "cell_type": "markdown",
   "metadata": {},
   "source": [
    "### 总结\n",
    "* 尽管非技术性问题可能成为面试的重要部分，但事实是，大多数人往往会过度担心。\n",
    "* 大多数时候，你只需要做你自己。 如果他们觉得你在文化方面不太合适，那可能不是什么坏事，因为它比加入公司好得多，一切都不像你想象的那样。\n",
    "* 在面试之前，你绝对可以准备好非技术性的问题，但是要专注于技术性问题，这是面试的核心"
   ]
  },
  {
   "cell_type": "markdown",
   "metadata": {},
   "source": [
    "## 非谷歌的面试"
   ]
  },
  {
   "cell_type": "markdown",
   "metadata": {},
   "source": [
    "### 惊人的相似\n",
    "* “Google 风格面试”是迄今为止的最佳解决方案"
   ]
  },
  {
   "cell_type": "markdown",
   "metadata": {},
   "source": [
    "### 扎实的基础\n",
    "* 具有类似的面试流程意味着扎实的基础比以往更重要。\n",
    "* 完全错误的策略是在第一天跳进编程问题。 \n",
    "* 另一方面，如果你从一开始就把注意力集中在基础上，无论你正在准备哪家公司，你都会处于有利地位。 这种复合效应不能再重要"
   ]
  },
  {
   "cell_type": "markdown",
   "metadata": {},
   "source": [
    "### 持之以恒\n",
    "* 尽早开始准备，并把整个过程当做自我提升而不是通过测试的一种方法。"
   ]
  },
  {
   "cell_type": "markdown",
   "metadata": {},
   "source": [
    "### 公司特定的准备\n",
    "* 公司可能仍然有一些特定类型的面试。一个例子就是亚马逊在第一轮面试中通常会有一个编程测试。我的建议很简单 - 不要太担心。\n",
    "* 我建议人们仍然按照他们的初步准备计划。总是需要着重于基础和练习编程问题。如果没有掌握基本的数据结构和算法，你将无法通过在线编程测试。\n",
    "* 在面试之前（也许提前一周） ，你可以做一些公司特定的准备。强烈建议使用 Glassdoor，你可以找到目标公司最近提出的大量问题。换句话说，你应该在准备的最后一步做这个，或多或少你会发现公司之间的差异。"
   ]
  },
  {
   "cell_type": "markdown",
   "metadata": {},
   "source": [
    "### 总结\n",
    "* 一定是专注于“基础”。 大多数人往往目光短浅，大部分时间花在“细枝末节”上。 如果没有扎实的基础，你或许能够偶然地解决一个问题，但是你永远无法解决所有问题"
   ]
  }
 ],
 "metadata": {
  "kernelspec": {
   "display_name": "Python 3",
   "language": "python",
   "name": "python3"
  },
  "language_info": {
   "codemirror_mode": {
    "name": "ipython",
    "version": 3
   },
   "file_extension": ".py",
   "mimetype": "text/x-python",
   "name": "python",
   "nbconvert_exporter": "python",
   "pygments_lexer": "ipython3",
   "version": "3.7.5"
  },
  "pycharm": {
   "stem_cell": {
    "cell_type": "raw",
    "metadata": {
     "collapsed": false
    },
    "source": []
   }
  },
  "toc": {
   "base_numbering": 1,
   "nav_menu": {},
   "number_sections": true,
   "sideBar": true,
   "skip_h1_title": false,
   "title_cell": "Table of Contents",
   "title_sidebar": "Contents",
   "toc_cell": false,
   "toc_position": {
    "height": "787px",
    "left": "260px",
    "top": "134px",
    "width": "270.4px"
   },
   "toc_section_display": true,
   "toc_window_display": true
  }
 },
 "nbformat": 4,
 "nbformat_minor": 1
}
