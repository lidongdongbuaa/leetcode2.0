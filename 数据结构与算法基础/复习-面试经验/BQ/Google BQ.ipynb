{
 "cells": [
  {
   "cell_type": "markdown",
   "metadata": {},
   "source": [
    "# 流程\n",
    "* 四轮算法\n",
    "* 一轮BQ：会写review feedback"
   ]
  },
  {
   "cell_type": "markdown",
   "metadata": {},
   "source": [
    "# 问题类型\n",
    "* BQ(behavior question):有关真实发生在自身经历的问题\n",
    "    * e.g. 讲一个和上司有争执的经历\n",
    "* HQ(hypothetical question):问如果碰到某个场景，会怎么做\n",
    "    * 如果组里有人请假，但是他做的东西就要launch, 如果我们是Project Leader的话怎么办。"
   ]
  },
  {
   "cell_type": "markdown",
   "metadata": {},
   "source": [
    "# 考点"
   ]
  },
  {
   "cell_type": "markdown",
   "metadata": {},
   "source": [
    "## 程序员素质 General cognitive ability.(G)\n",
    "* 处理不清晰问题的能力和学习的能力：衡量面试者能否通过尽量少的给定的需求，设计出清晰的架构，然后实现自己的设计。Google wants smart people who can learn and adapt to new situations. This is about understanding how candidates solve hard problems in real life and how they learn, not about GPAs or SAT scores."
   ]
  },
  {
   "cell_type": "markdown",
   "metadata": {},
   "source": [
    "## 领导力素质 Leadership (L) \n",
    "    不是普通的领导力，而是称为‘紧急领导力’。是一种不在正式指定的情况下的领导形式。不同的团队成员可能都将需要担当领导角色，做出贡献。同样重要的是，在角色完成之后，可以退出领导角色。Google looks for a particular type of leadership called “emergent leadership.” This is a form of leadership that ignores formal designations. At Google, different team members will need to step into leadership roles, contribute, and — just as importantly — step back once the need for their specific skills has passed."
   ]
  },
  {
   "cell_type": "markdown",
   "metadata": {},
   "source": [
    "1. 项目管理能力：面试者能否在各种限制条件下（时间限制，dependency限制，原先环境变化），规划一个复杂的项目\n",
    "* 完成项目的能力：面试者能够尽快的把最主要的活干完\n",
    "    * 这个跟FB挺像的\n",
    "    * 这一条的反面就是搞不定简单的问题，或者虽然搞定了但是需要太多的外界帮助\n",
    "* 团队合作能力：主动的合作/交流...\n",
    "* 致力于个人的提升：通过各种办法提到自己的缺点和不足"
   ]
  },
  {
   "cell_type": "markdown",
   "metadata": {},
   "source": [
    "## Googleyness\n",
    "    Share how you work individually and on a team, how you help others, how you navigate ambiguity, and how you push yourself to grow outside of your comfort zone.\n",
    "* 与他人合作 \n",
    "* 不仅局限于本领域，也关心更高范围内的事情\n",
    "* 从不同的有趣角度处理问题，并在盒子外面思考\n",
    "* 记住：独特的古怪之处可以让我们与众不同。（因为每个人都是不同的，接受并保持自己的独特性，尊重其他人的独特性）\n",
    "* 保持热情.\n",
    "* 渴望提升自己，并从错误中学习\n",
    "* 总之，不作恶"
   ]
  },
  {
   "cell_type": "markdown",
   "metadata": {},
   "source": [
    "## 角色相关的知识 Role-related knowledge\n",
    "    We’re interested in how your individual strengths combine with your experience to drive impact. We don’t just look for how you can contribute today, but how you can grow into different roles—including ones that haven’t even been invented yet.\n",
    "* 候选人具有充分的经验，背景和技能，从而确保他们成功 Google wants to make sure that the candidate has the experience, background, and skills that will set them up for success."
   ]
  },
  {
   "cell_type": "markdown",
   "metadata": {},
   "source": [
    "## 例子"
   ]
  },
  {
   "cell_type": "markdown",
   "metadata": {},
   "source": [
    "### BQ"
   ]
  },
  {
   "cell_type": "markdown",
   "metadata": {},
   "source": [
    "### HQ"
   ]
  },
  {
   "cell_type": "markdown",
   "metadata": {},
   "source": [
    "* 如果组里有人请假，但是他做的东西就要launch, 如果我们是Project Leader的话怎么办？  \n",
    "    1. 重新管理这个项目，并假设这个项目不需要与别的组合作。Re-manage the project(L1). Assume we don't need to collaborate with others for this project\n",
    "    * 主动组织团队，初步研究设计文件及代码的框架。确认已经深入了解项目。Orginze the team (L3) to explore design document in first level, and code framework. Confirm to understand the project in high level\n",
    "    * 确认项目的难点，只要要部署的话起码要干什么。制定优先级，什么可以做什么可以放一放。Confirm the difficulties, the basic requirment to launch the project. Make a priority list, what must do, what can do in future.(L2)\n",
    "    * 组内重新分配工作，保证每个人做自己感兴趣想学，并且也能做完的事情。Re-assign the work, make sure that everyone can do what they have interst and can complete in time.(L3/L4)\n",
    "     \n"
   ]
  },
  {
   "cell_type": "code",
   "execution_count": null,
   "metadata": {},
   "outputs": [],
   "source": []
  },
  {
   "cell_type": "code",
   "execution_count": null,
   "metadata": {},
   "outputs": [],
   "source": []
  }
 ],
 "metadata": {
  "kernelspec": {
   "display_name": "Python 3",
   "language": "python",
   "name": "python3"
  },
  "language_info": {
   "codemirror_mode": {
    "name": "ipython",
    "version": 3
   },
   "file_extension": ".py",
   "mimetype": "text/x-python",
   "name": "python",
   "nbconvert_exporter": "python",
   "pygments_lexer": "ipython3",
   "version": "3.7.5"
  },
  "toc": {
   "base_numbering": 1,
   "nav_menu": {},
   "number_sections": true,
   "sideBar": true,
   "skip_h1_title": false,
   "title_cell": "Table of Contents",
   "title_sidebar": "Contents",
   "toc_cell": false,
   "toc_position": {},
   "toc_section_display": true,
   "toc_window_display": false
  }
 },
 "nbformat": 4,
 "nbformat_minor": 2
}
