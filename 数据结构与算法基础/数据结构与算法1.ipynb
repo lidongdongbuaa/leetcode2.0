{
 "cells": [
  {
   "cell_type": "markdown",
   "metadata": {},
   "source": [
    "# 时间复杂度与空间复杂度\n",
    "* 空间复杂度\n",
    "    * 只记录计算过程中调用的临时变量空间，不计入输入输出的空间\n",
    "    * 在递归中，调用了多少次，就有多少空间被使用"
   ]
  },
  {
   "cell_type": "markdown",
   "metadata": {},
   "source": [
    "# Python基础"
   ]
  },
  {
   "cell_type": "markdown",
   "metadata": {},
   "source": [
    "* python中，赋值=赋的是地址，故对于数据结构，比如TreeNode，ListNode,赋值的都是地址\n",
    "* 多种数据同时迭代 zip\n",
    "    * for (x, y), val in **zip**(paires, values)\n",
    "    * [m + n for m, n in zip('ABC', 'XYZ')] -> ['AX', 'BY', 'CZ']\n",
    "* 迭代字符串\n",
    "    * for s in string\n",
    "* 全排列\n",
    "    * [x + y for x in A for y in B]\n",
    "    * [m + n for m in 'ABC' for n in 'XYZ'] -> ['AX', 'AY', 'AZ', 'BX', 'BY', 'BZ', 'CX', 'CY', 'CZ']\n",
    "* 生成器 generator\n",
    "    * 定义：在循环中，不断按照某种算法计算出后面的元素 - 即生成元素的东西\n",
    "    * 创建\n",
    "        * 方法1：把列表生成式的[]改为()\n",
    "        * 方法2：在函数中加入yield\n",
    "    * 输出方法：\n",
    "        * 方法1：next() 挨个元素输出\n",
    "            * **next(generator)** 运行一次，输出一个元素\n",
    "        * 方法2：for循环 输出 - 更常见\n",
    "            * for n in g:\n",
    "        * 既是可迭代对象，也是迭代器\n",
    "* 可迭代对象Iterable 和 迭代器 Iterator\n",
    "    * 可迭代对象Iterable\n",
    "        * 定义：（可以迭代的东西，被for迭代）直接作用于for循环的对象统称为可迭代对象\n",
    "        * 创建 （保持东西的原样）\n",
    "            * 集合数据类型，如list、tuple、dict、set、str等\n",
    "            * generator 生成器\n",
    "    * 迭代器\n",
    "        * 定义：（可以主动产生迭代的东西，用next产生）可以被next()函数调用并不断返回下一个值的对象\n",
    "        * 创建（让可迭代对象产生东西）\n",
    "            * 转换list/dict/str等iterable对象\n",
    "                * iter()函数\n",
    "                * e.g. iter('abc')\n",
    "            * generator 生成器\n",
    "                * e.g. (x for x in range(10))"
   ]
  },
  {
   "cell_type": "markdown",
   "metadata": {},
   "source": [
    "## 内部嵌套函数\n",
    "* 内部嵌套函数：函数里面套函数\n",
    "* 内部嵌套函数只在本函数中有效，故**在母函数内、子函数外定义的变量，对于子函数来说相当于全局变量，所以无法直接修改子函数的“全局变量”**\n",
    "* 修改方法如下\n",
    "    * 使用容器类型的数据，对容器类型的数据进行修改，例如list等\n",
    "    * 加上nonlocal关键字"
   ]
  },
  {
   "cell_type": "code",
   "execution_count": 1,
   "metadata": {},
   "outputs": [],
   "source": [
    "def fun111():\n",
    "    x=7\n",
    "    def fun222():\n",
    "        nonlocal x\n",
    "        x *= x\n",
    "        return x\n",
    "    return fun222()"
   ]
  },
  {
   "cell_type": "markdown",
   "metadata": {},
   "source": [
    "# 常用内建模块\n",
    "## datatime\n",
    "* from datetime import datetime\n",
    "* 当前时间\n",
    "    * datetime.now()\n",
    "* str转化为datetime\n",
    "    * cday = datetime.strptime('2015-6-1 18:19:59', '%Y-%m-%d %H:%M:%S')\n",
    "    * aday = datetime.strptime('18 19', '%H %M')\n",
    "* datatime 转化为 str\n",
    "    * string = datetime.strftime('%a, %b %d %H:%M')\n",
    "* datetime加减\n",
    "    * (datetime1 - datetime2).days 用天表示结果\n",
    "        * 0 <= microseconds < 1000000\n",
    "        * 0 <= seconds < 3600\\*24 (一天的秒数)\n",
    "        * -999999999 <= days <= 999999999\n",
    "    * datetime_new = datetime + timedelta(days=2, hours=12)\n",
    "* timestamp 无关时区的值"
   ]
  },
  {
   "cell_type": "markdown",
   "metadata": {},
   "source": [
    "## collections\n",
    "### defaultdict\n",
    "* from collections import defaultdic\n",
    "* group = defaultdict() 默认是字典\n",
    "* group = defaultdict(int/list/set) 其他的选项"
   ]
  },
  {
   "cell_type": "markdown",
   "metadata": {},
   "source": [
    "### counter 计数器\n",
    "* from collections import Counter\n",
    "* Counter({elem:times}) = Counter(iterable, list, .../关键字参数)\n",
    "* 数学集合操作\n",
    "    * a + b 相加\n",
    "        * 相同的key的value相加\n",
    "    * a - b 相减\n",
    "        * 相同的key的value相减，只保留正值的value\n",
    "    * a.subtract(b) 相减\n",
    "        * 相同的key的value相减，全部保留\n",
    "    * a & b 交集\n",
    "        * 取两者都有的key,value取小的那一个\n",
    "    * a | b 并集\n",
    "        * 汇聚所有的key, key相同的情况下，取大的value\n",
    "* 常见做法\n",
    "    * list(c) 返回key组成的list\n",
    "    * set(c) 返回key组成的set\n",
    "    * dict(c) 转化成字典\n",
    "    * c.items() 转化成(元素，计数值)组成的列表\n",
    "    * Counter(dict(list_of_pairs)) 从(元素，计数值)组成的列表转化成Counter\n",
    "    * sum(c.values()) 继承自字典的.values()方法返回values的列表，再求和\n",
    "    * **c += Counter() 利用counter的相加来去除times为0或负的值**"
   ]
  },
  {
   "cell_type": "markdown",
   "metadata": {},
   "source": [
    "# 数据结构基础"
   ]
  },
  {
   "cell_type": "markdown",
   "metadata": {},
   "source": [
    "## list/set/dict/string 综合技巧\n",
    "* 计数\n",
    "    * 求每个字母在每个位置上出现的次数（在多个包含此元素的elem中）\n",
    "        * 关键参数：位置，字母\n",
    "        * 思路1： 位置上看字母\n",
    "            * 扫描多个elem的第一个位置，记录元素种类及次数；扫描第二个位置，记录元素种类及次数...\n",
    "        * 思路2：字母上看位置\n",
    "            * 针对每个字母，统计其在各个位置上的分布。e.g. a：[0:1, 1:3, 2:6], a字母在0位置上出现1次...\n",
    "        * 1366. Rank Teams by Votes\n",
    "* 排序\n",
    "    * 按字母序排序时，两种方案\n",
    "        * 简单法: sort 字母\n",
    "        * 按照转换成的26个数字序：sorted(list, key = lambda x: ord(x)) # 正逆序用 ord(x)/-ord(x)来设定\n",
    "    * 复杂排序\n",
    "        * 排序a里的字母，可以通过b里的关于a字母的字典集进行排序 sorted(a, key = lambda x : b[x])\n",
    "    * 根据elem的长度排序\n",
    "        * newW = sorted(words, key=lambda x: len(x))\n",
    "* 遍历方法\n",
    "    * 新型遍历比较方法：遍历nums，比较elem和它之前遍历过的数\n",
    "* 去重\n",
    "    * 方案1：set\n",
    "        * 注意：set里不能是list，要变为tuple\n",
    "    * 方案2：sublist in list\n",
    "        * 注意：sublist可能出现元素顺序颠倒，但是元素数量一致的情况，e.g [1, 4, 4] <-> [4,1,4]\n",
    "        * 此时可以对原nums进行排序，再抽取sublist"
   ]
  },
  {
   "cell_type": "markdown",
   "metadata": {},
   "source": [
    "## python函数\n",
    "* any(iterable)\n",
    "    * 判断给定的可迭代参数 iterable 是否全部为 False，则返回 False，如果有一个为 True，则返回 True\n",
    "    * 元素除了是 0、空、FALSE 外都算 TRUE\n",
    "    * 若iterable = [[0, 0], 0]，返回True，因为[0, 0]视为True\n",
    "* all(iterable) \n",
    "    * 函数用于判断给定的可迭代参数 iterable 中的所有元素是否都为 TRUE，如果是返回 True，否则返回 False\n",
    "    * * 元素除了是 0、空、FALSE 外都算 TRUE"
   ]
  },
  {
   "cell_type": "markdown",
   "metadata": {},
   "source": [
    "## 列表/栈 List/Stack"
   ]
  },
  {
   "cell_type": "markdown",
   "metadata": {},
   "source": [
    "### 常用操作\n",
    "* 增 \n",
    "    * list.append(obj) O(1)\n",
    "        * append操作是没有返回值的\n",
    "        * 求a添加b后的list：a.append(b), return a\n",
    "    * **listA + listB** O(len(listB)) 用B扩展A\n",
    "        * = list.extend(seq) O(len(seq)) 用新列表扩展原来的列表\n",
    "    * list.insert(**index, obj**) O(index)\n",
    "* 删 \n",
    "    * b = list.pop()  O(1)\n",
    "    * b = list.pop(i) O(N), O(N-i): list.pop(0):O(N) \n",
    "        * = del list[i]/del list, O(N) depends on i; O(N) in worst case i都为0开始的正序，但pop有返回值，del没有返回值\n",
    "    * list.remove(obj) O(N) 移除列表中某个值的第一个匹配项\n",
    "    * **list.clear() O(1)** 清空列表\n",
    "* 改 \n",
    "    * list[i] = newValue O(1)\n",
    "* 查\n",
    "    * list[i] O(1)\n",
    "    * list[a:b] O(b-a)\n",
    "        * **a和b可以超过list index的范围**, e.g bottom-up merge sort\n",
    "        * **切片操作相当于复制个新的list，故若修改切片，则原list无变化**\n",
    "    * list.index(obj) O(N) 从列表中找出某个值第一个匹配项的索引位置 \n",
    "* 排\n",
    "    * list.sort( key=None, **reverse=False**) O(NlogN)  **无返回值**\n",
    "    * new = sorted(list)  **有返回值**\n",
    "    * list.reverse() O(N) 转置\n",
    "    * a = list[::-1] O(N) 转置"
   ]
  },
  {
   "cell_type": "markdown",
   "metadata": {},
   "source": [
    "* 其他\n",
    "    * 计数 list.count(obj) O(N) 统计某个元素在列表中出现的次数\n",
    "    * 长度 len(list) **O(1)**\n",
    "    * 构造 list(string or ...) O(len(,,,))\n",
    "    * **判断 check ==, != O(N)**\n",
    "    * 包含 x in/not in list O(N)\n",
    "    * 极值 max(list) / min(list) O(N)\n",
    "    * 迭代 for v in l:  O(N) \n",
    "    * 乘 \n",
    "        * k * list  O(k N)\n",
    "        * 5 * list  O(N)\n",
    "        * len(list) * list  O(N**2)\n",
    "        * 乘的是括号里面的数，再外套括号\n",
    "            * a = [1, 3, 4], b = a * 2, b = [1, 3, 4, 1, 3, 4]\n",
    "            * a = a = [[1,3,4], [2,3,4]], b = [a[0]]* 2, b = [[1, 3, 4], [1, 3, 4]]\n",
    "    * **复制**\n",
    "        * 浅复制\n",
    "            * b = list.copy() O(N) \n",
    "            * 最方便 b = list[:]  O(N)\n",
    "            * from copy import copy a = copy(A) O(N)\n",
    "        * 深复制\n",
    "             * a = deepcopy(A) O(N)\n",
    "* 总结：需要对list中每一个元素都需要进行的操作是O(N)\n",
    "\n",
    "* **特别**\n",
    "    * list.sort( key=None, **reverse=False**) \n",
    "        * reverse = False(默认，小到大)/True(大到小)\n",
    "        * key=lambda y: y[1] \n",
    "            * y代表list的元素\n",
    "            * y[1]代表以元素的1st值作为排序标准\n",
    "            * 备注：这里y可以是任意字母，等同key=lambda x: x[1]\n",
    "        * key = lambda x: (x[1], x[0])\n",
    "            * 以x[1], x[0]为排序标准，以x[1]为优先准则，x[1]相等下，按照x[0]排序\n",
    "    * new_list = [elem[0] for elem in list] 生成器\n",
    "         * 用list里的元素elem的elem[0]作为new_list的元素\n",
    "* **矩阵**\n",
    "    * 求矩阵的某i列,只能用列表生成式\n",
    "        * [elem[i] for elem in matrix] "
   ]
  },
  {
   "cell_type": "markdown",
   "metadata": {},
   "source": [
    "### 题目总结"
   ]
  },
  {
   "cell_type": "markdown",
   "metadata": {},
   "source": [
    "#### Stack类题目\n",
    "* 做题套路\n",
    "    * 先建立stack，循环的把input放入，然后再循环中进一步操作，例如比对和pop\n",
    "    \n",
    "* 易错点\n",
    "    * 随时判断stack是否为空\n",
    "    * test case时，可以移动角标法"
   ]
  },
  {
   "cell_type": "markdown",
   "metadata": {},
   "source": [
    "#### List类题目\n",
    "* 存储 序号和元素属性\n",
    "    * 套嵌列表 [[index, sum],...]\n",
    "        * 可排序\n",
    "    * dic存储\n",
    "        * 可排序 new = dic.sorted(dic.items(), key = lambda item : item[0/1])\n",
    "* **求最大/最小值**\n",
    "    * 最优方法\n",
    "        * 先定义最大/最小值 res =float('inf')/float('-inf'),再比较\n",
    "    * 普通方法\n",
    "        * 先建立list存储\n",
    "        * 再res = max(list)"
   ]
  },
  {
   "cell_type": "markdown",
   "metadata": {},
   "source": [
    "## Tuple 元组"
   ]
  },
  {
   "cell_type": "markdown",
   "metadata": {},
   "source": [
    "### 定义\n",
    "* 不能修改的list, immutable\n",
    "* 空 t = ()\n",
    "* 单个元素 t = **(1,)**\n",
    "* t = (1, 2, 3, 4, 5)"
   ]
  },
  {
   "cell_type": "markdown",
   "metadata": {},
   "source": [
    "## Queue 队列\n",
    "### 定义\n",
    "* First-In-First-Out (FIFO) principle \n",
    "* 双端队列deque(double-end-queue) "
   ]
  },
  {
   "cell_type": "code",
   "execution_count": 3,
   "metadata": {},
   "outputs": [
    {
     "name": "stdout",
     "output_type": "stream",
     "text": [
      "deque(['c', 'e'])\n",
      "deque(['e', 'c'])\n"
     ]
    }
   ],
   "source": [
    "# Queue (deque) 队列\n",
    "from collections import deque\n",
    "B = 'desk'  # iterable\n",
    "d = deque(B) # 转化B为队列d\n",
    "d = deque()  # 建立新队列d\n",
    "d.append('c')\n",
    "d.appendleft('e')  # 'edeskc'\n",
    "d.extend('a')\n",
    "d.extendleft('a')  # 扩展最左边\n",
    "x = d.pop() # 注意！没有i参数（list有i参数）\n",
    "d.popleft() #删除最左边的，即先“进”的，无(i)\n",
    "d.reverse() # 转置\n",
    "print(d)\n",
    "d.rotate(1) # 向右循环移动 n 步。 如果 n 是负数，就向左循环。e.g把倒数第1个调换到前面\n",
    "print(d)"
   ]
  },
  {
   "cell_type": "markdown",
   "metadata": {
    "pycharm": {
     "name": "#%% md\n"
    }
   },
   "source": [
    "## Dict 字典"
   ]
  },
  {
   "cell_type": "markdown",
   "metadata": {},
   "source": [
    "### 常用操作\n",
    "* 增： d[k] = v O(1)\n",
    "* 删\n",
    "    * 删除某一个 \n",
    "        * **d.pop(k)** O(1) 删除key对应的pair，并返回value \n",
    "        * del d[k]\n",
    "    * 删除最后一个\n",
    "        * **d.popitem()** O(1)\n",
    "        * 删除并返回最后一个pair\n",
    "* 查: \n",
    "    *  d[k] O(1)\n",
    "    * dict.get(k)\n",
    "* 其他\n",
    "    * 判断key存在\n",
    "        * xx in dict\n",
    "        * dict.get(xx)\n",
    "            * if false, turn None\n",
    "    * 求长度\n",
    "        * len(dict)\n",
    "    * 排序"
   ]
  },
  {
   "cell_type": "code",
   "execution_count": 2,
   "metadata": {},
   "outputs": [
    {
     "name": "stdout",
     "output_type": "stream",
     "text": [
      "['e', 'd', 'c', 'b', 'a']\n"
     ]
    }
   ],
   "source": [
    "# dict 排序\n",
    "dic = {'a':4, 'b':3, 'c':2, 'd':1, 'e':0}\n",
    "\n",
    "# 基于key排序\n",
    "## 返回key\n",
    "a = sorted(dic)\n",
    "a = sorted(dic.keys())\n",
    "## 返回value\n",
    "a = sorted(dic)  # 先排key\n",
    "b = [dic[x] for x in a]\n",
    "## 返回整体\n",
    "new = sorted(dic.items(), key = lambda x: x[0])  # [('a', 4), ('b', 3), ('c', 2), ('d', 1), ('e', 0)]\n",
    "\n",
    "# 基于value排序\n",
    "## 返回key\n",
    "a = sorted(dic, key = lambda x:dic[x])\n",
    "print(a)\n",
    "## 返回value\n",
    "a = sorted(dic.values())\n",
    "## 返回整体\n",
    "new = sorted(dic.items(), key = lambda x: x[1])  # [('e', 0), ('d', 1), ('c', 2), ('b', 3), ('a', 4)]\n",
    "\n",
    "\n",
    "## 先根据value值排序，再根据key值排序\n",
    "new = sorted(dic.items(), key = lambda x : (x[1], x[0]))  # [('e', 0), ('d', 1), ('c', 2), ('b', 3), ('a', 4)]\n",
    "## 先根据value值逆排序，再根据key值的顺序排序\n",
    "new = sorted(dic.items(), key = lambda x : (-x[1], x[0]))"
   ]
  },
  {
   "cell_type": "markdown",
   "metadata": {},
   "source": [
    "### 注意要点\n",
    "* dict内部存放的顺序 = key放入的顺序，而set是不同的 (Python 3.6新特征，廖雪峰的论述不对)\n",
    "* dic的key必须是不可变对象，例如int，str等"
   ]
  },
  {
   "cell_type": "markdown",
   "metadata": {},
   "source": [
    "## Set 集合"
   ]
  },
  {
   "cell_type": "markdown",
   "metadata": {},
   "source": [
    "### 常用操作\n",
    "* 创\n",
    "    * a = set()\n",
    "    * a = set([b, c, d, ...])\n",
    "* 增\n",
    "    * a.add(key)\n",
    "* 删\n",
    "    * a.remove(key)\n",
    "* 查\n",
    "    * **a in set  # tO(1)**\n",
    "* 交并集\n",
    "    * **tO(1)**\n",
    "    * set可以看作数学意义上，无序和无重复元素的集合，故可以做数学意义上的交并集\n",
    "    * s1 = set([1, 2, 3])， s2 = set([2, 3, 4])\n",
    "    * s1 & s2 -> {2, 3}\n",
    "    * s1 | s2 -> {1, 2, 3, 4}\n",
    "    * list不支持\n",
    "* **去重**\n",
    "    * set(list), list里面只能是元素，int, string等，不能包含子list\n",
    "    * set(tuple)，tuple里可以包含子tuple"
   ]
  },
  {
   "cell_type": "markdown",
   "metadata": {},
   "source": [
    "### 注意要点\n",
    "* 与tuple的区别\n",
    "    * tuple：\n",
    "        * 不可变的list -> 元素可以重复\n",
    "        * 可以不变中带可变，即可以 (1, 2, [1, 2])\n",
    "    * set\n",
    "        * 仅有key的dic -> 元素不能重复\n",
    "        * **必须从里到外全部不可变，即不可以{1, 2, [1, 2]} -> 不可以包含[1,2]**"
   ]
  },
  {
   "cell_type": "markdown",
   "metadata": {},
   "source": [
    "## String 字符串"
   ]
  },
  {
   "cell_type": "markdown",
   "metadata": {},
   "source": [
    "### 定义\n",
    "* subsequence 可以**不连续**且有序的子序列 \n",
    "* substring **连续**但有序的子序列\n",
    "* the length of the longest palindromes that can be built with those letters 可以不连续，可以无序的子序列"
   ]
  },
  {
   "cell_type": "markdown",
   "metadata": {},
   "source": [
    "### 常用操作\n",
    "* 提取性质\n",
    "    * 计数 string.count()\n",
    "* 修改操作\n",
    "    * **转置**\n",
    "        * str = str[::-1]\n",
    "    * **修改某段代码**\n",
    "        * b = strA.replace(strOld, strNew(, max = k))\n",
    "        * strA其实没变，是复制一份\n",
    "        * 用new替换old k次\n",
    "* 增减操作\n",
    "    * 前部填充0 str.zfill(width) \n",
    "        * 返回指定长度的字符串，原字符串右对齐，前面填充0 \n",
    "        * 用于位运算填充bin()结果前面的0\n",
    "    * 删除\n",
    "        * 删除头尾\n",
    "            * chars str = str.strip([chars]). 默认是空格\n",
    "        * 删除头\n",
    "            * chars str = str.lstrip([chars]). 默认是空格\n",
    "        * 删除尾\n",
    "            * chars str = str.rstrip([chars]). 默认是空格\n",
    "* 合并序列里的元素\n",
    "    * str.join(sequence) 将序列中的元素（元组、列表、字典、字符串）以指定的字符str连接生成一个新的字符串\n",
    "    * '->'.join(['a', 'b', 'c']) -> 'a->b->c'\n",
    "    * **序列中的元素的元素必须也是字符串**\n",
    "* 判断在不在\n",
    "    * a in string\n",
    "* 大小写\n",
    "    * 转换\n",
    "        * 转换为大写 str.upper()\n",
    "        * 转换为小写 str.lower()\n",
    "    * 判断\n",
    "        * 判断为大写 str.isupper()\n",
    "        * 判断为小写 str.islower()"
   ]
  },
  {
   "cell_type": "markdown",
   "metadata": {},
   "source": [
    "### 注意要点\n",
    "* **表示单引号，用双引号套单引号 -> \"'\"**\n",
    "* 表示双引号，用单引号套双引号 -> '\"'\n",
    "* string不支持s[i] = 's'的替换操作\n",
    "* string操作时,如果数据再用,需要及时等于返回值, 因为原始值是不变的\n",
    "    * tmp = tmp.rstrip()\n",
    "* **比较str数字**时\n",
    "    * 在0-9范围内，可以直接使用'numb'进行比较，没必要转化为int\n",
    "        * e.g if '1' < '2': return True\n",
    "    * 除此之外，必须转化为int进行比较"
   ]
  },
  {
   "cell_type": "markdown",
   "metadata": {},
   "source": [
    "# 堆 Heap"
   ]
  },
  {
   "cell_type": "markdown",
   "metadata": {},
   "source": [
    "## 定义\n",
    "* 堆是完全二叉树或者近似二叉树，它的各个节点的键值都有固定对应的的数字，根节点（即root,最上面起始位置）是0，若父节点为heap[k]，则子节点为heap[2k+1]和heap[2k+2]。\n",
    "    * **最小堆**：父节点对应的值总是小于或者等于子节点\n",
    "    * **最大堆** 父节点的值总是大于或者等于子节点，称为最大堆\n",
    "* heapq模块是python的一个标准库，它实现了一个堆数据结构\n",
    "    * 在heapq中，默认是**最小堆**\n",
    "    * **实现最大堆方法**\n",
    "        * 生成：对每个数取负，加入heap，\n",
    "        * 弹出top：对heappop()的数取负"
   ]
  },
  {
   "cell_type": "markdown",
   "metadata": {},
   "source": [
    "## 常用操作\n",
    "* 引入模块\n",
    "    * from heapq import heapify, heappop, heappush, heappushpop, heapreplace, nlargest, nsmallest\n",
    "    * from heapq import *\n",
    "* 创建 \n",
    "    * 方法1： heap = []\n",
    "    * 方法2： **heapify(list)**  # tO(N),N is length of list\n",
    "* 增\n",
    "    * heapq.heappush(heap, item)\n",
    "        * 把item添加到heap这个list中, item可以为tuple等，(x, y), 按照x来排序\n",
    "        * tO(logN),N是目前含有的元素的数量\n",
    "* 删\n",
    "    * heapq.heappop(heap)把堆顶元素弹出\n",
    "        * 把堆顶元素弹出\n",
    "        * tO(logN)\n",
    "* 增删混合\n",
    "    * heappushpop(C, 2)  # 先添加，再删除顶端的 -> 保持顶端的elem永远是最小的\n",
    "    * heapreplace(C, 5)  # 先删除顶端的，再添加 -> 顶端的不一定是最小的\n",
    "* 查\n",
    "    * list = nlargest(k, input - iterable, key=None)\n",
    "        * 返回input中前k个符合k条件的最大值\n",
    "        * tO(nlogk), n is length of input\n",
    "        * e.g.nlargest(k,dic,key = lambda x:dic[x]), 与sort的写法一致\n",
    "    * list = nsmallest(k, input - iterable, key=None) \n",
    "        * 返回input中前k个最小值"
   ]
  },
  {
   "cell_type": "markdown",
   "metadata": {},
   "source": [
    "## 题目总结\n",
    "* 求第k个最大最小的数 kth smallest/biggest element\n",
    "    * 从arr中生成size = k的**最小堆** -> 堆中k个值是arr中**最大的k个值**，堆顶的值是arr中**第kth大的值**\n",
    "    * 从arr中生成size = k的**最大堆** -> 堆中k个值是arr中**最小的k个值**，堆顶的值是arr中**第kth小的值**\n",
    "    * 即 用最小堆求最大kth值\n",
    "    * 即 用最大堆求最小kth值\n",
    "* 求第k个不同的最大最小数 **kth distinct element**\n",
    "    * 先set去重，再用heap"
   ]
  },
  {
   "cell_type": "markdown",
   "metadata": {},
   "source": [
    "# 链表"
   ]
  },
  {
   "cell_type": "markdown",
   "metadata": {},
   "source": [
    "## 定义\n",
    "* 链表由一系列结点（链表中每一个元素称为结点）组成，结点可以在运行时动态生成。 每个结点包括两个部分：一个是存储数据元素的数据域，另一个是存储下一个结点地址的指针域。 "
   ]
  },
  {
   "cell_type": "markdown",
   "metadata": {},
   "source": [
    "## 模板\n",
    "* 转置\n",
    "* 找中点"
   ]
  },
  {
   "cell_type": "code",
   "execution_count": 2,
   "metadata": {},
   "outputs": [],
   "source": [
    "class ListNode:\n",
    "    def __init__(self, value):\n",
    "        self.val = value\n",
    "        self.next = None\n",
    "        \n",
    "class Linklist:\n",
    "    def reverse(self, head):  # reverse the linkedlist,and return new head\n",
    "        if not head:\n",
    "            return head\n",
    "        \n",
    "        curr = None\n",
    "        while head:\n",
    "            nextHead = head.next\n",
    "            head.next = curr\n",
    "            curr = head\n",
    "            head = nextHead\n",
    "        return curr\n",
    "    \n",
    "    # 链表转数字，注意链表和数字位数的对应关系，是不是逆序\n",
    "    def transferInteger(self, head):  # transfer 1->2->3 to 321\n",
    "        if not head:\n",
    "            return 0\n",
    "        \n",
    "        res = 0\n",
    "        times = 1\n",
    "        while head:\n",
    "            res = res + head.val * times\n",
    "            times *= 10\n",
    "        return res\n",
    "    \n",
    "    # 数字转链表，采用str转化数字，注意位数的对应关系；single digit个位，tens digit十位\n",
    "    def transferLinklist(self, numb):  # transfer numb to linkedlist, 321 -> 1 ->2 ->3\n",
    "        dummy = curr = ListNode(-1)\n",
    "        for val in str(numb)[::-1]:\n",
    "            curr.next = ListNode(int(val))\n",
    "            curr = curr.next\n",
    "        return dummy.next    "
   ]
  },
  {
   "cell_type": "markdown",
   "metadata": {},
   "source": [
    "## 题目类型"
   ]
  },
  {
   "cell_type": "markdown",
   "metadata": {},
   "source": [
    "### 方法\n",
    "* 建立头节点\n",
    "    * 目的：head可能成为处理的对象，不影响head的判断，可以直接跳过head\n",
    "* 快慢指针法\n",
    "    * 判断/寻找环\n",
    "    * 前后段对比\n",
    "    * 数值是否重复\n",
    "    * 数值比较大小\n",
    "    * 寻找中点\n",
    "    * 寻找负nth点 + dummy, 注意while f.next       \n",
    "* 分离双指针法   \n",
    "    * 两个链表的处理\n",
    "* 转置法\n",
    "    * 加和\n",
    "    * 回文判断\n",
    "    * 交叉合并\n",
    "    * 易错点\n",
    "        * head位置容易乱\n",
    "* 转list/set/dic/数字法\n",
    "    * 转成list，利用list的性质，对元素进行操作\n",
    "        * 优点：方便，简单\n",
    "        * 缺点：\n",
    "            * 占据空间，空间复杂度为O(N)\n",
    "            * a in list，时间复杂度为O(N)\n",
    "    * 转成set\n",
    "        * 优点：a in set，时间复杂度为O(1)\n",
    "        * 缺点：set.add()，之后set里元素顺序并不是添加顺序\n",
    "    * 转成dic\n",
    "        * 优点：\n",
    "            * a in dic，时间复杂度为O(1)\n",
    "            * 记录node出现次数\n",
    "            * 记录复杂链表的对应关系\n",
    "        * 缺点\n",
    "            * 无切片等操作\n",
    "     * 转成数字\n",
    "         * 优点：算数运算方便\n",
    "         * 缺点：链表和数字相互转换，时间复杂度为O(N)"
   ]
  },
  {
   "cell_type": "markdown",
   "metadata": {},
   "source": [
    "### 题目总结"
   ]
  },
  {
   "cell_type": "markdown",
   "metadata": {},
   "source": [
    "#### 链表子序列/双链表\n",
    "* 判断是否回文 234. Palindrome Linked List.py\n",
    "    * 快慢指针\n",
    "* 判断两链表\n",
    "    * list的subsequence是否是链表里的subset, 返回数量 817. Linked List Components.py\n",
    "        * 双指针 + set\n",
    "    * 两链表找出交点 160. Intersection of Two Linked Lists.py\n",
    "        * 求长度，head到公共长度部分，同时递进，判断nod3 tO(max(len(a,b))) sO(1)\n",
    "        \n",
    "#### 合并与插入\n",
    "* 模板 - 两个链表相加\n",
    "* 链表值相加\n",
    "    * 两链表值表现为数字逆序相加 2.Add Two Numbers.py\n",
    "    * 两链表值表现为数字正序相加 - 把上文转置后，再相加，再转置\n",
    "    * 加1到链表值上 369. Plus One Linked List.py\n",
    "* 合并链表 - 3.21\n",
    "    * 21. Merge Two Sorted Lists.py - while a and b\n",
    "    * 23. Merge k Sorted Lists.py\n",
    "        * 从前到后顺序合并 tO(Nk),sO(1)\n",
    "        * 转list,合并 tO(NlogN),N是总node数,sO(N)\n",
    "        * mergeSort tO(Nlogk),s(N)\n",
    "        * 自下而上mergeSort tO(Nlogk),s(1)\n",
    "        * 堆\n",
    "        \n",
    "#### 复制\n",
    "* 复杂链表的复制 138. Copy List with Random Pointer.py\n",
    "\n",
    "#### 删除\n",
    "* 删除指定-值-节点 203. Remove Linked List Elements.py\n",
    "    * 快慢指针\n",
    "* 删除指定节点\n",
    "    * 删除倒数第n个节点 19. Remove Nth Node From End of List.py\n",
    "        * 转置法：head到n，删除n，再转置 \n",
    "        * 快慢指针\n",
    "    * 直接指向要删除的节点，无返回 237. Delete Node in a Linked List.py\n",
    "        * 下个节点值赋给本节点，next跳到下下个节点\n",
    "* 删除重复节点\n",
    "    * 保留本值 83. Remove Duplicates from Sorted List.py\n",
    "        * 快慢指针\n",
    "    * 不保留本值 82. Remove Duplicates from Sorted List II.py\n",
    "        * 转dic，取value为1的构建\n",
    "        * 快慢指针\n",
    "        \n",
    "#### 排列与拆分\n",
    "* 排序\n",
    "    * 插入排序 147. Insertion Sort List.py\n",
    "        * insertion sort \n",
    "    * O(NlogN)排序 148. Sort List (linked list).py\n",
    "        * merge sort 自下而上 sO(1)\n",
    "            1. 用while head 替换 for\n",
    "            2. 每轮 merge之前，每次更新fake_tail和head\n",
    "            3. 每轮 merge中，先cut，后merge，再链接merged linklist，最后更新fake_tail和head\n",
    "* 旋转\n",
    "    * 后面k位调到前面,保持原顺序(k会大于length) 61. Rotate List.py\n",
    "        * 快慢指针法\n",
    "* 全转置\n",
    "    * 206. Reverse Linked List.py\n",
    "        * 转置法\n",
    "* 部分转置\n",
    "    * 两两转置 24. Swap Nodes in Pairs.py\n",
    "        * 转置法，转置2次，分模块化 \n",
    "    * kk个转置 25. Reverse Nodes in k-Group.py\n",
    "        * 转置法，转置k次，分模块化\n",
    "    * 转置m到n一部分 92. Reverse Linked List II.py\n",
    "        * 转置法，转置n-m+1次\n",
    "    * 后部转置并交叉入前部中 143. Reorder List.py\n",
    "        * 转置法，后部转置，与前半部合并\n",
    "* 重构\n",
    "    * 小于x+大于x，保持稳定 86. Partition List.py\n",
    "        * 快慢指针\n",
    "    * 奇数位偶数位拆分 328. Odd Even Linked List.py\n",
    "        * 快慢指针\n",
    "* 拆分\n",
    "    * k组分割，组差最多为1 725. Split Linked List in Parts.py\n",
    "        * 快慢指针\n",
    "        \n",
    "#### 环\n",
    "* 判断有环 141. Linked List Cycle.py\n",
    "    * 快慢指针\n",
    "* 判断+输出环交点 142. Linked List Cycle II.py\n",
    "   * 转set/list\n",
    "   * 快慢指针，找相交，再从起始和相交处开始同时跑 sO(1)\n",
    "* 环链表中插入节点 708. Insert into a Cyclic Sorted List.py\n",
    "    * 转list，记录头位置，append，sort(),再重建 tO(NlogN) sO(N)\n",
    "    * 转list，判断节点位置，四种情况：== head ,< x <, > x <, < x > tO(N),sO(N)\n",
    "    * 转list，记录头位置，二分法插入，再重建 tO(logN) sO(N)\n",
    "    * 快慢指针, 四种情况 tO(N) sO(1)"
   ]
  },
  {
   "cell_type": "markdown",
   "metadata": {},
   "source": [
    "## 易错点\n",
    "* while遍历链表：首要记住！head = head.next不要漏了\n",
    "* 切割链表：记着首先备份上一段的结尾节点，while head: **before_tail = head**, head = head.next\n",
    "* 空间复杂度: 当增加头节点或临时节点时，增加的只是节点，不计后面的尾随节点，故sO(1)\n",
    "* 变量使用之前一定要初始化\n",
    "* 用while A or B + if 去处理两个链表的关系"
   ]
  },
  {
   "cell_type": "markdown",
   "metadata": {},
   "source": [
    "\n",
    "# 比较排序 Comparsion Sorting Basic"
   ]
  },
  {
   "cell_type": "markdown",
   "metadata": {},
   "source": [
    "## 总结\n",
    "### 基本应用：排序类题目\n",
    "* 扩展应用：合并类题目（比较过程中，每个元素都遍历到了，故可以实现合并）\n",
    "* 至少需要 time complexity: O(NlogN)\n",
    "\n",
    "### 合并和快速的算法区别\n",
    "* 合并\n",
    "    * 分治思想，先处理小部分，再处理大部分\n",
    "    * 先分割，调用self.merge(L/R)进一步分割，再排序操作\n",
    "    * 排序操作中，读取LR实参的值，**直接对arr进行修改**，最终返回arr\n",
    "    * 故仅仅用self.merge(L/R)即可，可以不用 arr = self.merge(arr)\n",
    "* 快速\n",
    "    * 先处理大部分，再处理小部分\n",
    "    * 先排序，再调用self.quickMerge(arr)\n",
    "    * 排序操作中，读取LR实参的值，**未直接对arr进行修改**，最终返回arr。\n",
    "    * 故要使用arr = self.quickMerge(L/R)对arr进行修改\n",
    "* 总结：最大区别就是在排序过程中，有无对原arr的直接修改，若无，则self.sort需要返回赋值到arr上\n",
    "\n",
    "### 其他\n",
    "* 在无法进行快速排序的情况下，合并排序可能非常有用\n",
    "* 在特殊情况下，插入排序或基数排序要比通用的 QuickSort / MergeSort / HeapSort 答案好得多 In exceptional cases insertion-sort or radix-sort are much better than the generic quicksort / mergesort / heapsort answers."
   ]
  },
  {
   "cell_type": "markdown",
   "metadata": {},
   "source": [
    "##  归并排序 Merge sort"
   ]
  },
  {
   "cell_type": "markdown",
   "metadata": {},
   "source": [
    "### 定义 \n",
    "* 基于比较的排序算法 \n",
    "* 最基础的排序算法之一"
   ]
  },
  {
   "cell_type": "markdown",
   "metadata": {
    "pycharm": {
     "name": "#%% md\n"
    }
   },
   "source": [
    "### 复杂度\n",
    "* Time\n",
    "    * Relation: T(n) = 2T(n/2) + O(n)\n",
    "    * Best Case Sort: O(NlogN)\n",
    "    * Average Case Sort: O(NlogN)\n",
    "    * Worst Case Sort: O(NlogN)\n",
    "    * Prove the NlogN\n",
    "        * Recurrence Tree method:\n",
    "            T(n) = 2T(n/2) + O(n) = 2^2T(n/2^2) + 2O(n/2) + O(n) = 2^2T(n/2^2) + 2O(n) = 2^mT(n/2^m) + mO(n);\n",
    "            又因为n/2^m = 1时，m= log(2)n. 故 T(n) = nT(1) + log(2)n * O(n) = n + nlog(2)n = nlog2(n) = nlogn\n",
    "        * Master method\n",
    "            T(n) = 2T(n/2) + O(n)，故为nlogn \n",
    "* Space\n",
    "    * O(N)\n",
    "* 发挥性能的应用范围\n",
    "    * 数据很大 data is huge\n",
    "    * 数据存储在外部空间 data is stored in external storage \n",
    "    * 链表\n",
    "* 稳定性\n",
    "    * 稳定 （同样大小的数值，保持其原有顺序）-> 关键在于归并的时候，L[i] = R[j]时，先放L[i]\n",
    "* 原地性 In-place\n",
    "    * 非原地性\n",
    "    * 原地算法定义：（in-place algorithm）基本上不需要 额外辅助的数据结构,然而,允许少量额外的辅助变量来转换数据的算法。当算法运行时，输入的数据通常会被要输出的部分覆盖掉\n",
    "    * 每次merged list，即新产生的arr，都不是原有的arr了，而是小规模的排序数组，故用到了额外辅助的数据结构，不属于原地算法"
   ]
  },
  {
   "cell_type": "markdown",
   "metadata": {},
   "source": [
    "### 步骤\n",
    "1. 把整个数据集分成最多两个元素的多组 Divide entire dataset into groups of at most two\n",
    "* 比较每个组内的元素，把小的数移到左边 Compares each number one at a time, moving the smallest number to left of the pair.\n",
    "* 等所有的多组都排序完毕，两两组进行合并排序，并合并成一个有四个元素的组 Once all pairs sorted it, then compares left most elements of the two leftmost pairs to create sorted group of four with the smallest numbers on the left and the largest ones on the right.\n",
    "* 重复2,3过程，直到最终合并成一个组 This process is repeated until there in only one set."
   ]
  },
  {
   "cell_type": "markdown",
   "metadata": {
    "pycharm": {
     "name": "#%% md\n"
    }
   },
   "source": [
    "### 模板\n",
    "* 核心：\n",
    "    1. 用划分成小部分\n",
    "        * 递归法\n",
    "        * 迭代法\n",
    "    2. 再比较合并\n",
    "        * 递归法：在回溯过程中比较归并\n",
    "        * 迭代法：在for循环里比较归并"
   ]
  },
  {
   "cell_type": "code",
   "execution_count": 7,
   "metadata": {
    "pycharm": {
     "name": "#%% md\n"
    }
   },
   "outputs": [
    {
     "name": "stdout",
     "output_type": "stream",
     "text": [
      "[1, 2, 3, 4, 5, 6, 7, 8, 9]\n"
     ]
    }
   ],
   "source": [
    "'''\n",
    "递归法\n",
    "edge case: list is None / only one element \n",
    "\n",
    "易错点：\n",
    "    1. 在while里的arr是上层的L，不是整体的arr\n",
    "    2. while跳出之后，i，j,k都是多加完1的，故此时的L[i],R[j],arr[k]都没有使用过，故后面的if整体赋值从i,j,k开始\n",
    "'''\n",
    "\n",
    "class SortList:\n",
    "    # Merge sort\n",
    "    def mergeSort(self, arr):\n",
    "        if len(arr) == 0:\n",
    "            return None\n",
    "        if len(arr) == 1:\n",
    "            return arr\n",
    "        \n",
    "        \n",
    "        if len(arr) >= 2:\n",
    "            # 普通划分\n",
    "            mid = len(arr) // 2  # find the mid of the array\n",
    "            L = arr[:mid]  # divide the array elements\n",
    "            R = arr[mid:]  # into 2 haves\n",
    "            \n",
    "            # 递归划分\n",
    "            L = self.mergeSort(L)  # Sorting the first half\n",
    "            R = self.mergeSort(R)  # Sorting the second half\n",
    "\n",
    "            # 合并， input: 两个已排序的list，L，R.过程：对L，R进行合并排序。output：合并完成后的一个list\n",
    "            i, j, k = 0, 0, 0\n",
    "            while i < len(L) and j < len(R):  # copy data to temp arrays L and R\n",
    "                if L[i] <= R[j]:\n",
    "                    arr[k] = L[i]\n",
    "                    i += 1\n",
    "                else:\n",
    "                    arr[k] = R[j]\n",
    "                    j += 1\n",
    "                k += 1\n",
    "\n",
    "            if i < len(L):\n",
    "                arr[k:] = L[i:]  # arr是含有原值的，此处是覆盖，所以不能是extend\n",
    "            \n",
    "            if j < len(R):\n",
    "                arr[k:] = R[j:]\n",
    "\n",
    "        return arr\n",
    "            \n",
    "'''\n",
    "迭代法\n",
    "input: list[int]\n",
    "output: sorted list[int]\n",
    "corner case: \n",
    "    nums is None, return None\n",
    "    nums is only one, return nums\n",
    "易错点：\n",
    "    1. 别忘记interval * 2\n",
    "    2. 切片操作的本质是复制，故切片修改后，要赋值要原list上\n",
    "'''\n",
    "class Sort:\n",
    "    def mergeSort(self, nums):  # return sorted nums\n",
    "        if not nums:\n",
    "            return None\n",
    "        if len(nums) == 1:\n",
    "            return nums\n",
    "\n",
    "        interval = 1\n",
    "        length = len(nums)\n",
    "\n",
    "        def subSort(nums1, nums2):  # merge and sort two sorted list nums1 and nums2\n",
    "            if not nums1:\n",
    "                return nums2\n",
    "            if not nums2:\n",
    "                return nums1\n",
    "\n",
    "            i, j = 0, 0\n",
    "            res = []\n",
    "            while i < len(nums1) and j < len(nums2):\n",
    "                if nums1[i] <= nums2[j]:\n",
    "                    res.append(nums1[i])\n",
    "                    i += 1\n",
    "                else:\n",
    "                    res.append(nums2[j])\n",
    "                    j += 1\n",
    "\n",
    "            if i < len(nums1):\n",
    "                res += nums1[i:]\n",
    "            if j < len(nums2):\n",
    "                res +=nums2[j:]\n",
    "            return res\n",
    "\n",
    "\n",
    "        while interval < length:\n",
    "            for i in range(0, length, 2 * interval):\n",
    "                nums[i:i + 2 * interval] = subSort(nums[i:i + interval], nums[i + interval: i + 2 * interval])\n",
    "            interval *=2\n",
    "        return nums\n",
    "\n",
    "X = Sort()\n",
    "print(X.mergeSort([9,8,7,4, 5, 6, 3, 2, 1]))"
   ]
  },
  {
   "cell_type": "markdown",
   "metadata": {},
   "source": [
    "### 题目总结"
   ]
  },
  {
   "cell_type": "markdown",
   "metadata": {
    "pycharm": {
     "name": "#%% md\n"
    }
   },
   "source": [
    "* 排序链表 148. Sort List (linked list).py\n",
    "    * merge sort\n",
    "* 排序链表, 使用常量空间 148. Sort List (linked list).py\n",
    "    * bottom-up merge sort\n",
    "* 计算转置数的数量 775. Global and Local Inversions.py / Count Inversions in an array.py\n",
    "    * 利用 inv_count = inv_count + (len(L) - i) 的性质\n",
    "* 合并 K 个排序数组 Merge k sorted arrays\n",
    "* 3-way Merge Sort\n",
    "* 外置排序 External Sorting\n",
    "* 合并链表 23. Merge k Sorted Lists.py"
   ]
  },
  {
   "cell_type": "markdown",
   "metadata": {
    "pycharm": {
     "name": "#%% md\n"
    }
   },
   "source": [
    "## 快速排序 Quick sort "
   ]
  },
  {
   "cell_type": "markdown",
   "metadata": {},
   "source": [
    "### 定义\n",
    "* 基于比较的排序算法\n",
    "* 计算机结构更倾向于快速排序 Computer architecture favors the quick-sort process.\n",
    "* 虽然有相同的时间复杂度，但是实际中，它要比归并排序更快"
   ]
  },
  {
   "cell_type": "markdown",
   "metadata": {
    "pycharm": {
     "name": "#%% md\n"
    }
   },
   "source": [
    "### 复杂度\n",
    "* Time\n",
    "    * Best case: O(NlogN)\n",
    "        * when the partition process always picks the middle element as pivot.\n",
    "        * equal to T(n) = 2T(n/2) + O(n), can be proved by the Master theorem.\n",
    "    * Average case: O(NlogN)\n",
    "        * when partition puts O(n/9) elements in one set and O(9n/10) elements in other set.\n",
    "    * Worst case: O(N2)\n",
    "        *  when the partition process always picks greatest or smallest element as pivot\n",
    "* Space\n",
    "    * O(N)\n",
    "* 发挥性能的应用范围\n",
    "    * 大多数现实世界数据的大多数数据情况\n",
    "    * 数组\n",
    "    * 因为有不同的pivot选择方式，故最坏的时间复杂度很少发生\n",
    "* 稳定性\n",
    "    * 不稳定\n",
    "        * 改进方式：可以加入索引作为比较参数的之一，即既比较值大小，也比较索引，来实现稳定。\n",
    "* 原地性 In-place\n",
    "    * 方法1不属于原地算法\n",
    "    * 方法2属于原地算法 （直接修改输入数据而不是将输入数据复制一份处理之后再覆盖回去）\n",
    "    * 即不考虑递归的情况下，使用的空间为O(1)"
   ]
  },
  {
   "cell_type": "markdown",
   "metadata": {},
   "source": [
    "### 步骤\n",
    "1. 选定pivot为第一个数\n",
    "2. 重新排列数组，形成 小于pivot数组 - pivot - 大于pivot的数组\n",
    "3. 再对小于pivot数组，大于pivot数组进行1，2两步\n",
    "* https://blog.csdn.net/morewindows/article/details/6684558"
   ]
  },
  {
   "cell_type": "markdown",
   "metadata": {
    "pycharm": {
     "name": "#%% md\n"
    }
   },
   "source": [
    "### 模板\n",
    "* 核心\n",
    "    * 选定pivot,分类剩下的"
   ]
  },
  {
   "cell_type": "code",
   "execution_count": 4,
   "metadata": {},
   "outputs": [
    {
     "name": "stdout",
     "output_type": "stream",
     "text": [
      "[0, 0, 1, 1, 2, 5]\n"
     ]
    }
   ],
   "source": [
    "'''\n",
    "方法1：非原地算法\n",
    "'''\n",
    "class Sort:\n",
    "    def quickSort(self, nums):  # return sorted nums\n",
    "        if not nums or len(nums) == 1:  # corner case\n",
    "            return nums\n",
    "\n",
    "        pivot = nums[0]\n",
    "        l = []\n",
    "        r = []\n",
    "        for elem in nums[1:]:\n",
    "            if elem < pivot:\n",
    "                l.append(elem)\n",
    "            else:\n",
    "                r.append(elem)\n",
    "        left = self.quickSort(l)\n",
    "        right = self.quickSort(r)\n",
    "        nums = left + [pivot] + right\n",
    "        return nums\n",
    "\n",
    "'''\n",
    "方法2：原地算法\n",
    "'''\n",
    "class Solution:\n",
    "    def quickSort(self, arr):\n",
    "        if len(arr) == 0 or len(arr) == 1:  # corner case\n",
    "            return arr\n",
    "\n",
    "        i = l = 0\n",
    "        j = r = len(arr) - 1\n",
    "        pivot = arr[i]\n",
    "\n",
    "        while i < j:\n",
    "            while i < j and pivot < arr[j]:  # 扫描一段去寻找合适的值, 循环条件是正常的顺序（pivot < arr[j]），若发现异常，则跳出更换i和j\n",
    "                j -= 1\n",
    "            arr[i] = arr[j]  # 搜寻一段之后，找到值，再替换\n",
    "            while i < j and arr[i] <= pivot:\n",
    "                i += 1\n",
    "            arr[j] = arr[i]\n",
    "        arr[i] = pivot  # i in center, give it pivot\n",
    "        L = arr[:i]\n",
    "        R = arr[i + 1:]\n",
    "        arr[:i] = self.quickSort(L)  # L part = arr[0:i] < pivot\n",
    "        arr[i + 1:] = self.quickSort(R)  # R part = arr[i + 1, j] > pivot\n",
    "        return arr\n",
    "\n",
    "\n",
    "x = Solution()\n",
    "print(x.quickSort([5,1,1,2,0,0]))"
   ]
  },
  {
   "cell_type": "markdown",
   "metadata": {},
   "source": [
    "### 题目总结"
   ]
  },
  {
   "cell_type": "markdown",
   "metadata": {},
   "source": [
    "* 奇偶排序\n",
    "    * 905. Sort Array By Parity / https://www.geeksforgeeks.org/segregate-even-odd-numbers-set-3/\n",
    "* 稳定空间，正负排序\n",
    "    * https://www.geeksforgeeks.org/move-negative-numbers-beginning-positive-end-constant-extra-space/\n",
    "* 迭代法实现快排\n",
    "    * https://www.geeksforgeeks.org/iterative-quick-sort/\n",
    "* 3-Way 快排\n",
    "* 链表排序"
   ]
  },
  {
   "cell_type": "markdown",
   "metadata": {
    "pycharm": {
     "name": "#%% md\n"
    }
   },
   "source": [
    "## 冒泡排序 Bubble sort"
   ]
  },
  {
   "cell_type": "markdown",
   "metadata": {},
   "source": [
    "### 定义\n",
    "* 基于比较的排序算法 A comparison based sorting algorithm\n",
    "* 尽管实现起来非常简单，但在效率比归并和快速排序都低"
   ]
  },
  {
   "cell_type": "markdown",
   "metadata": {},
   "source": [
    "### 复杂度\n",
    "* Time\n",
    "    * Best case: O(N)\n",
    "    * Average case: O(N^2)\n",
    "    * Worst case: O(N^2)\n",
    "* Space\n",
    "    * O(1)\n",
    "* 稳定性\n",
    "    * 稳定：在排序过程中，元素两两交换时，相同元素的前后顺序并没有改变\n",
    "* 原地性 In-place\n",
    "    * 属于原地算法 （直接修改输入数据而不是将输入数据复制一份处理之后再覆盖回去）\n",
    "    * 使用的空间为O(1)"
   ]
  },
  {
   "cell_type": "markdown",
   "metadata": {},
   "source": [
    "### 步骤\n",
    " * 在nums中把最大的数移动到最末尾\n",
    " * 在nums[:-1]中，把最大的数移动到末尾\n",
    " * 在nums[:-2]中，把最大的数移动到末尾\n",
    " * 重复此过程，直到nums[0]"
   ]
  },
  {
   "cell_type": "markdown",
   "metadata": {
    "pycharm": {
     "name": "#%% md\n"
    }
   },
   "source": [
    "### 模板\n",
    "* 核心\n",
    "    * 把大的元素往后调"
   ]
  },
  {
   "cell_type": "code",
   "execution_count": 5,
   "metadata": {},
   "outputs": [
    {
     "name": "stdout",
     "output_type": "stream",
     "text": [
      "[1, 2, 3, 4, 5, 6, 7, 8, 9]\n"
     ]
    }
   ],
   "source": [
    "class Sort:\n",
    "    def bubbleSort(self, nums):  # return sorted nums\n",
    "        if not nums or len(nums) == 1:\n",
    "            return nums\n",
    "\n",
    "        n = len(nums)\n",
    "        for i in range(n):\n",
    "            for j in range(n - i - 1):\n",
    "                if nums[j] > nums[j + 1]:\n",
    "                    nums[j], nums[j + 1] = nums[j + 1], nums[j]\n",
    "        return nums\n",
    "\n",
    "X = Sort()\n",
    "print(X.bubbleSort([9,8,7,6,5,4,3,2,1]))"
   ]
  },
  {
   "cell_type": "markdown",
   "metadata": {},
   "source": [
    "## 堆排序 Heap sort "
   ]
  },
  {
   "cell_type": "markdown",
   "metadata": {},
   "source": [
    "## 插入排序"
   ]
  },
  {
   "cell_type": "markdown",
   "metadata": {},
   "source": [
    "### 定义\n",
    "* 基于比较的排序算法\n",
    "* 适用于元素量较小情况，或数据接近完成排序，只有数个乱序情况\n",
    "\n",
    "### 复杂度\n",
    "* Time\n",
    "    * Best case: O(N)\n",
    "    * Average case: O(N^2)\n",
    "    * Worst case: O(N^2)\n",
    "* Space\n",
    "    * O(1)\n",
    "* 稳定性\n",
    "    * 稳定：在排序过程中，元素两两交换时，相同元素的前后顺序并没有改变\n",
    "* 原地性 In-place\n",
    "    * 属于原地算法 （直接修改输入数据而不是将输入数据复制一份处理之后再覆盖回去）\n",
    "    * 使用的空间为O(1)\n",
    "\n",
    "### 步骤\n",
    "1. 从第一个元素开始，该元素可以认为已经被排序\n",
    "* 取出下一个元素，在已经排序的元素序列中从后向前扫描\n",
    "* 如果新元素小于已排序元素，继续将新元素往前移动\n",
    "* 重复步骤 3，直到新元素大于等于已排序的元素\n",
    "* 将新元素插入到该位置后\n",
    "* 重复步骤 2~5\n",
    "\n",
    "### 模板\n",
    "* 核心\n",
    "    * 扫描，选定compare对象\n",
    "    * compare与前面的从后往前逐个比较替换"
   ]
  },
  {
   "cell_type": "code",
   "execution_count": 1,
   "metadata": {},
   "outputs": [
    {
     "name": "stdout",
     "output_type": "stream",
     "text": [
      "[1, 2, 3, 4, 4, 5, 6, 7, 8, 9]\n"
     ]
    }
   ],
   "source": [
    "class Sort:\n",
    "    def insertSort(self, nums):  # return sorted nums\n",
    "        if not nums or len(nums) == 1:\n",
    "            return nums\n",
    "\n",
    "        n = len(nums)\n",
    "        for i in range(1, n):\n",
    "            for j in range(i, 0, -1):\n",
    "                if nums[j - 1] > nums[j]:\n",
    "                    nums[j - 1], nums[j] = nums[j], nums[j - 1]\n",
    "        return nums\n",
    "\n",
    "X = Sort()\n",
    "print(X.insertSort([9,8,7,6,5,4,4,3,2,1]))     "
   ]
  },
  {
   "cell_type": "markdown",
   "metadata": {},
   "source": [
    "### 题目总结\n",
    "* 链表排序"
   ]
  },
  {
   "cell_type": "markdown",
   "metadata": {},
   "source": [
    "## 选择排序\n",
    "https://ms2008.github.io/2017/03/19/lua-selection-sort/"
   ]
  },
  {
   "cell_type": "markdown",
   "metadata": {},
   "source": [
    "# 非比较排序 not comparison-based sort"
   ]
  },
  {
   "cell_type": "markdown",
   "metadata": {},
   "source": [
    "## 计数排序 Counting Sort"
   ]
  },
  {
   "cell_type": "markdown",
   "metadata": {},
   "source": [
    "### 基本步骤\n",
    "* 找出待排序的数组中最大和最小的元素\n",
    "* 统计数组中每个值为i的元素出现的次数，存入数组C的第i项\n",
    "* 对所有的计数累加（从C中的第一个元素开始，每一项和前一项相加）\n",
    "* 反向填充目标数组：将每个元素i放在新数组的第C(i)项，每放一个元素就将C(i)减去1"
   ]
  },
  {
   "cell_type": "markdown",
   "metadata": {},
   "source": [
    "### 特点\n",
    "* 只适非负整数排序,数比较小 \n",
    "* Time complexity: O(n), n is numbers of value\n",
    "* Space complexity: 0(k) k is kinds of value  - 线性时间排序"
   ]
  },
  {
   "cell_type": "markdown",
   "metadata": {},
   "source": [
    "## 桶排序 bucket sort"
   ]
  },
  {
   "cell_type": "markdown",
   "metadata": {},
   "source": [
    "### 基本步骤\n",
    "* 根据元素的值，把元素分散到各个桶里（每个桶能够容纳一定范围内的值）\n",
    "* 挨个把每个桶里的元素进行内部排序\n",
    "* 再把元素输出"
   ]
  },
  {
   "cell_type": "markdown",
   "metadata": {},
   "source": [
    "### 特点\n",
    "* Time complexity: O(n+k)，n是元素个数，k是桶个数\n",
    "* 桶可以是树 tree"
   ]
  },
  {
   "cell_type": "markdown",
   "metadata": {},
   "source": [
    "## 基数排序 radix sort"
   ]
  },
  {
   "cell_type": "markdown",
   "metadata": {},
   "source": [
    "### 基本步骤\n",
    "* 从低位到高位，轮流比较每个值的相同位数，没有位的补零，即同时比较几个数的个位，排序，再比较十位\n",
    "* 每个位数的排序是稳定的"
   ]
  },
  {
   "cell_type": "markdown",
   "metadata": {},
   "source": [
    "## 希尔排序 shell sort"
   ]
  },
  {
   "cell_type": "markdown",
   "metadata": {},
   "source": [
    "# 数学"
   ]
  },
  {
   "cell_type": "markdown",
   "metadata": {},
   "source": [
    "## 题型总结\n",
    "### 整数操作\n",
    "* 第一种类型是最简单的， 就是对整数进行直接操作， 一般来说就是逐位操作， 比如反转， 比较等。\n",
    "\n",
    "### 算数运算\n",
    "* 第二种题型是算术运算的题目， 比如乘除法， 阶乘， 开方等， LeetCode中这类题目有Sqrt(x)， Pow(x, n)和Divide Two Integers\n",
    "* 主要方法\n",
    "    * 二分法\n",
    "    * 牛顿法\n",
    "    * 位移法\n",
    "\n",
    "### 解析几何\n",
    "* 第三种题目是解析几何的题目， 一般来说解析几何题目的模型都比较复杂， 而且实现细节比较多， 在面试中并不常见， LeetCode中也只有Max Points on a Line是属于这种题型。"
   ]
  },
  {
   "cell_type": "markdown",
   "metadata": {},
   "source": [
    "## 数学基础"
   ]
  },
  {
   "cell_type": "markdown",
   "metadata": {},
   "source": [
    "* 乘\n",
    "    * **求次方： a\\*\\*b， a的b次方**\n",
    "        * 求平方根 a\\*\\*0.5, 注意结果会是float，故要int(a\\*\\*0.5)\n",
    "            * 1362. Closest Divisors\n",
    "        * 求平方\n",
    "            * a\\*a\n",
    "            * 不能写成a^2\n",
    "* 除\n",
    "    * 求模（除数）和余数 i, j = divmod(x, y)\n",
    "        * i\\*y + j = x\n",
    "        * 3, 1 = divmod(7, 2)\n",
    "        * 符号相除，是往绝对值结果大的算，再找补回来\n",
    "            * -4, -1 = divmod(7, -2)\n",
    "            * -4, 1 = divmod(-7, 2)\n",
    "    * dividend 被除数，divisor 除数，quotient 商\n",
    "* 正负无穷大\n",
    "    * 正无穷 res = float('inf')\n",
    "    * 负无穷 res = float('-inf')\n",
    "* 绝对值\n",
    "    * abs(a)， a的绝对值"
   ]
  },
  {
   "cell_type": "markdown",
   "metadata": {},
   "source": [
    "## 排列组合\n",
    "* backtrack实现"
   ]
  },
  {
   "cell_type": "markdown",
   "metadata": {},
   "source": [
    "### 两组数的组合\n",
    "* m个a, n个b,求(a,b)有多少种组合.\n",
    "    * m * n 个可能性"
   ]
  },
  {
   "cell_type": "markdown",
   "metadata": {},
   "source": [
    "### 放回抽取\n",
    "* product('ABCD', repeat=2)\n",
    "* AA AB AC AD BA BB BC BD CA CB CC CD DA DB DC DD"
   ]
  },
  {
   "cell_type": "markdown",
   "metadata": {
    "pycharm": {
     "name": "#%% md\n"
    }
   },
   "source": [
    "### 放回不重复抽取\n",
    "* m中取n个,取后放回再取的数量\n",
    "* itertools.combinations_with_replacement() 允许同一个元素被选择多次"
   ]
  },
  {
   "cell_type": "code",
   "execution_count": 6,
   "metadata": {},
   "outputs": [
    {
     "name": "stdout",
     "output_type": "stream",
     "text": [
      "All possible Combination:  (1, 1)\n",
      "All possible Combination:  (1, 2)\n",
      "All possible Combination:  (1, 3)\n",
      "All possible Combination:  (2, 2)\n",
      "All possible Combination:  (2, 3)\n",
      "All possible Combination:  (3, 3)\n"
     ]
    }
   ],
   "source": [
    "# 输出重复的组合\n",
    "from itertools import combinations_with_replacement\n",
    "class arr:\n",
    "    def findCombRe(self, array):\n",
    "        for elem in combinations_with_replacement(array, 2):\n",
    "            print('All possible Combination: ', elem)\n",
    "\n",
    "x = arr()\n",
    "x.findCombRe([1, 2, 3])"
   ]
  },
  {
   "cell_type": "markdown",
   "metadata": {},
   "source": [
    "### 不放回抽取（排列）\n",
    "* An(m)，n中取m个，排成一列 = n*(n-1)*(n-2)...(n-m+1) = n!/(n-m)!\n",
    "* itertools.permutations(arr,numb)，通过打乱集合中元素排列顺序生成一个元组,元组之间数值可以重复，但顺序不重复\n",
    "* numb可省略"
   ]
  },
  {
   "cell_type": "code",
   "execution_count": 7,
   "metadata": {},
   "outputs": [
    {
     "name": "stdout",
     "output_type": "stream",
     "text": [
      "choose 2 value from arry:  (1, 2)\n",
      "choose 2 value from arry:  (1, 3)\n",
      "choose 2 value from arry:  (2, 1)\n",
      "choose 2 value from arry:  (2, 3)\n",
      "choose 2 value from arry:  (3, 1)\n",
      "choose 2 value from arry:  (3, 2)\n",
      "choose all value from arr:  (1, 2, 3)\n",
      "choose all value from arr:  (1, 3, 2)\n",
      "choose all value from arr:  (2, 1, 3)\n",
      "choose all value from arr:  (2, 3, 1)\n",
      "choose all value from arr:  (3, 1, 2)\n",
      "choose all value from arr:  (3, 2, 1)\n"
     ]
    }
   ],
   "source": [
    "# 挨个输出'排列'组合\n",
    "from itertools import permutations\n",
    "class arr:\n",
    "    def findCombination(self,array): # outp: all permutations of arr\n",
    "        for elem in permutations(array,2):\n",
    "            print('choose 2 value from arry: ', elem)\n",
    "        \n",
    "        for elem in permutations(array):\n",
    "            print('choose all value from arr: ', elem)\n",
    "    \n",
    "x = arr()\n",
    "x.findCombination([1,2,3])"
   ]
  },
  {
   "cell_type": "markdown",
   "metadata": {},
   "source": [
    "### 不放回不重复抽取（组合）\n",
    "* Cn(m), m中取n个，并成一组 = n!/m!(n-m)!\n",
    "* 使用 itertools.combinations(arr, numb) 可得到输入集合中元素的所有的组合\n",
    "* numb不可省略\n",
    "* 对于 combinations() 来讲，元组之间，数字不重复，顺序也不重复。 也就是说，组合 ('a', 'b') 跟 ('b', 'a') 其实是一样的(最终只会输出其中一个)"
   ]
  },
  {
   "cell_type": "code",
   "execution_count": 8,
   "metadata": {},
   "outputs": [
    {
     "name": "stdout",
     "output_type": "stream",
     "text": [
      "No repeated combimation (1, 2, 3)\n",
      "No repeated 2 value combination (1, 2)\n",
      "No repeated 2 value combination (1, 3)\n",
      "No repeated 2 value combination (2, 3)\n"
     ]
    }
   ],
   "source": [
    "# 输出不重复的组合\n",
    "from itertools import combinations\n",
    "class arr:\n",
    "    def findAllComb(self, array):\n",
    "        for elem in combinations(array, 3):\n",
    "            print('No repeated combimation', elem)\n",
    "        \n",
    "        for elem in combinations(array, 2):\n",
    "            print('No repeated 2 value combination', elem)\n",
    "\n",
    "x = arr()\n",
    "x.findAllComb([1, 2, 3])"
   ]
  },
  {
   "cell_type": "markdown",
   "metadata": {},
   "source": [
    "## 概率题"
   ]
  },
  {
   "cell_type": "markdown",
   "metadata": {},
   "source": [
    "## 计数问题"
   ]
  },
  {
   "cell_type": "markdown",
   "metadata": {},
   "source": [
    "# 多进制转换"
   ]
  },
  {
   "cell_type": "markdown",
   "metadata": {},
   "source": [
    "## 数 <-> 字符的转换\n",
    "* chr(number): chr(97) = 'a'\n",
    "* ord(string): ord('a') = 97"
   ]
  },
  {
   "cell_type": "markdown",
   "metadata": {},
   "source": [
    "## 十进制 -> 多进制\n",
    "* 十进制 -> 二进制\n",
    "    * string = bin(int)\n",
    "    * bin(-8): \"-0b1000\"\n",
    "* 十进制 -> 八进制\n",
    "    * string = oct(int)\n",
    "    * oct(3): '0o3', 数值前面要加上一个前缀“0”\n",
    "* 十进制 -> 十六进制\n",
    "    * sting = hex(int)\n",
    "    * hex(3): '0x3'"
   ]
  },
  {
   "cell_type": "markdown",
   "metadata": {},
   "source": [
    "## 多进制 -> 十进制\n",
    "* integer = int(string, base = 2/8/...)\n",
    "    * int(bin(2)[2:], 2):  2\n",
    "    * 注意：string是去掉多进制符号'0b'等的"
   ]
  },
  {
   "cell_type": "markdown",
   "metadata": {},
   "source": [
    "# 二进制位运算 "
   ]
  },
  {
   "cell_type": "markdown",
   "metadata": {},
   "source": [
    "## 定义\n",
    "* python中 int的取值范围\n",
    "    * 32位计算机 **[-2 ** 31, 2 ** 31 - 1] = [ - （1 << 31), 1 << 31 - 1] = [-2147483648, 2147483647（十位数）]**\n",
    "    * 64位计算机 -2 ** 63 - 2 ** 63 -1 = [ - （1 << 63), 1 << 63 - 1]\n",
    "    * 题目通常设定范围为  -2 ** 31 - 2 ** 31 - 1\n",
    "    * 超过范围时,自动转化为长整型,故实际上整数是无上限的\n",
    "\n",
    "* 题目常见定义\n",
    "    * 32-bit signed integers ：32位计算机的int取值范围\n",
    "    * 32 bits unsigned integer无符号整数: C/C++的特性,但整数的内部二进制表示形式（无论有符号还是无符号）都是相同的。\n",
    "        * \\>> 操作时,无需担心前面的符号位,不影响补位等操作\n",
    "            * 涉及内部二进制,故有无符号都一致\n",
    "        * bin操作时,依旧有0b的影响,需要去除\n",
    "            * 设计外部显示的二进制,故有无符号不一致\n",
    "    * 10 ** 9：在2 ** 29到2 ** 30之间。\n",
    "        * x即可以用 x>> 0-31&１遍历完毕"
   ]
  },
  {
   "cell_type": "markdown",
   "metadata": {},
   "source": [
    "## 原码/反码/补码\n",
    "* 原码True form，反码One's complement，补码Two's complement\n",
    "* 原码：符号位+数字\n",
    "    * 符号位 0-整数，1-负数\n",
    "    * +7 00000111\n",
    "    * -7 10000111\n",
    "* 反码:\n",
    "    * 正数：原码相同\n",
    "    * 负数：原符号位+原码各位取反\n",
    "    * 获得：~a\n",
    "* 补码\n",
    "    * 正数：与原码相同\n",
    "    * 负数：原符号位 + 原码各位取反 + 末位加1, \n",
    "    * 计算机的储存方法\n",
    "    * 从补码获得原码：补码的补码\n",
    "* 总结\n",
    "    * 由于负数补码较复杂，leetcode的位运算题目都是基于正数的补码"
   ]
  },
  {
   "cell_type": "markdown",
   "metadata": {},
   "source": [
    "## 基本运算\n",
    "### 注意要点\n",
    "* 位运算的优先级较低，低于加减乘除，高于赋值，故需要随时带括号"
   ]
  },
  {
   "cell_type": "markdown",
   "metadata": {},
   "source": [
    "### \\<<  左移\n",
    "* n << k, n向左移动k位\n",
    "    * k必须是非负值\n",
    "    * n右边空出的位用0填补，高位左移溢出则舍弃该高位\n",
    "* 数学关系：左移相当于\\*2，只是要注意边界问题\n",
    "    * a << b 相当于 a * (2**b)\n",
    "        * 2\\*\\*5 = 1 << 5"
   ]
  },
  {
   "cell_type": "markdown",
   "metadata": {},
   "source": [
    "### \\>>   右移\n",
    "* n >> k，n向右移动k位\n",
    "* 数学关系：右移相当于除以2，只是要注意移位比较多的时候结果会趋近去一个非常小的数\n",
    "    * 6 = 0b110 >> 1 = 0b11 = 3\n",
    "* 功能\n",
    "    * **取符号位判断正负：a >> 31, 为0，则正数；为-1，则负数**\n",
    "        * 理由：a>>31为a除以2^31，若a为正，结果约等于0，若a为负，结果约等于-1"
   ]
  },
  {
   "cell_type": "markdown",
   "metadata": {},
   "source": [
    "### & 与\n",
    "* 如果两个相应的二进制位都为1，则该位的结果值为1，否则为0\n",
    "* 功能\n",
    "    * 把第n位设0：&(n个0)\n",
    "        * 把倒数第n位（0-index）变为0\n",
    "            *  b & ~(1 << n): 含义是a = b & (0+ （n-1) * 1) = b & ～(1+ (n-1)\\*0)\n",
    "        * 使最后一位为0\\\n",
    "            * a & ~ 1,~ 1 = 111111110 \n",
    "    * 保留n位原值：&(n个1, 即0b0001)\n",
    "        * **取最后一位：a & 1**\n",
    "        * **取指定后第n位：a >> n - 1 & 1， 记住是n - 1**\n",
    "        * **循环取a的所有位（补码）： for i in range(32): b = a >> i, res = b & 1. 结果从最低1位开始，到第32位**\n",
    "    * 判断某位为0或1：&1\n",
    "         * 若1，为1\n",
    "         * 若0，为0\n",
    "    * **消掉n最后一位有效的1： n & n - 1**"
   ]
  },
  {
   "cell_type": "markdown",
   "metadata": {},
   "source": [
    "### | 或 \n",
    "* 两个相应的二进制位中只要有一个为1，该位的结果值为1\n",
    "* 功能\n",
    "    * 把第n位设1 |(n个1)\n",
    "        * 把倒数第n位（0开始）变为1\n",
    "        * b | (1 << n): 含义是a = b|(1+ (n-1)*0) = b\\ 2的n次方\n",
    "        * eg. a = b | 10，a的倒数第二位变为1"
   ]
  },
  {
   "cell_type": "markdown",
   "metadata": {},
   "source": [
    "### ^   异或 (XOR)\n",
    "* 若参加运算的两个二进制位值不同为1，相同为0\n",
    "* 结合律 x^y^z = (x^y)^z = x^(y^z)\n",
    "* 交换律 x^y = y^x\n",
    "* 对于任何数 x^x = 0, x^0 = x\n",
    "* **自反性 x^y^y = x^0 = x**\n",
    "* 功能\n",
    "    * 保留n位原值：^n个0\n",
    "    * **取反** n位：^n个1\n",
    "    * 判断两数是否相等: a^b = 0则相等\n",
    "    * x^y = z，已知x，z，求y\n",
    "        * x^x^y = y = x^z"
   ]
  },
  {
   "cell_type": "markdown",
   "metadata": {},
   "source": [
    "### ~   取反\n",
    "* 0变1，1变0\n",
    "    * 对数字的补码（计算机中的储存形式）形式进行取反\n",
    "    * 不是对数字的二进制形式进行取反\n",
    "* ~n = -n-1\n",
    "* 15 = 0001111 -> ~15 = 111000 = -16"
   ]
  },
  {
   "cell_type": "markdown",
   "metadata": {},
   "source": [
    "### 运算优先级\n",
    "* 取反 > 乘除 > 加减 > 左移/右移 > 并 > 或/异或 > 比较大小\n",
    "* 分不清就及时加括号"
   ]
  },
  {
   "cell_type": "markdown",
   "metadata": {},
   "source": [
    "## 算法总结"
   ]
  },
  {
   "cell_type": "markdown",
   "metadata": {},
   "source": [
    "### 技巧和算法"
   ]
  },
  {
   "cell_type": "markdown",
   "metadata": {},
   "source": [
    "* 优点\n",
    "    * 时间复杂度低\n",
    "        * 全部遍历32bit 只要 **tO(32) = O(1)**\n",
    "    * 空间复杂度低\n",
    "        * 运算是数数运算，只要 **sO(1)**"
   ]
  },
  {
   "cell_type": "markdown",
   "metadata": {},
   "source": [
    "* 加法\n",
    "    * 不进位情况下, a + b = a^b \n",
    "    * 进位情况下，a + b =( a & b ) << 1\n",
    "* 求数\n",
    "    * 求01有关数\n",
    "        * 求全1(1的最长值)\n",
    "            * (1 << 31) - 1\n",
    "        * 求左边全为0，右边n个1（求长度为n的全1数）\n",
    "            * 渐进式或置1式\n",
    "            * mask = 1 基底0 res = 0\n",
    "            * for _ range(n): \n",
    "                * res = res | mask # 第二个res是n-1位全是1的数，mask是n位首位为1的数，第1个res是n位全是1的数\n",
    "                * mask = mask << 1\n",
    "            * return res\n",
    "        * 求第右i位为1的数\n",
    "            * 1 << i\n",
    "        * 修改右i位为1 （或置1式）\n",
    "            * 修改res,res = res | 1 << i\n",
    "        * 求左边全为1 右边i个0的数\n",
    "            * 法1：求全1的最大值,再 m << i,来调整右边为i个0的数量\n",
    "            * 法2：~(左边全为0，右边i个1)\n",
    "\n",
    "    * 求某位数\n",
    "        * 求某i位数\n",
    "            * **a >> i & 1**，不是a >> i\n",
    "        * 求最后一位数 \n",
    "            * a & 1\n",
    "        * 取所有位\n",
    "            * 左移循环 for i in range(32): n >> i & 1\n",
    "    * 求补法（异或01互转）\n",
    "        * ^(n\\*1)异或求补，即01互转   \n",
    "    * 求绝对值\n",
    "        * 取符号位判断正负 i = a >> 31, i为0，正数；i为-1，负数\n",
    "        * 返回 (a^i) - i\n",
    "            * 若正数，a^i = a，i = 0, 故返回a\n",
    "            * 若负数，a^i = a^(-1) = ~a, ~a - i = ~a - (-1) = ~a + 1\n",
    "* 判断\n",
    "    * 判断奇偶：\n",
    "        * 只需根据最后位是0还是1来决定，0偶数，1奇数\n",
    "        * &1，为1则是1，为奇数，为0则是0，为偶数\n",
    "        * |0，为1则是1，为奇数，为0则是0，为偶数\n",
    "        * ^0，为1则是1，为奇数，为0则是0，为偶数\n",
    "        * ^1, 为0则是1，为奇数，为1则是0，为偶数\n",
    "    * 判断正负\n",
    "        * a>>31， 若0，为正，若-1，为负\n",
    "    * 判断右侧n个是否全为1\n",
    "        * 进一位求交 a & (a + 1)\n",
    "            * 进一位后，n个1变为1 + n个0，此时求交即可\n",
    "            * if == 0，true，全是1\n",
    "            * if != 0, Fasle, 不全是1\n",
    "    * 判断两数不等\n",
    "        * 异或^不为0\n",
    "            * 区分两数：异或结果的二进制位中至少1位是1,设此位为i, 两数的第i位上,一个为1,一个为0,由此区分两个数\n",
    "    * 判断数字a, b的哪些前几位是否相同\n",
    "        * 先获得最长的全为1的数 mask = (1 << 31) - 1\n",
    "        * 再 mask << i,来调整右边为i个0的数量的同时，比较a & mask 和b & mask是否相同。--》 从右到左观察，改变a和b右边i个为0，观察左边31-i个是否相同 -> 若相同，则输出i\n",
    "        * 输出的结果是：i，即右边i个不同，左边31-i个相同；mask为左边31-i个1，右边i个0"
   ]
  },
  {
   "cell_type": "code",
   "execution_count": 4,
   "metadata": {},
   "outputs": [
    {
     "ename": "NameError",
     "evalue": "name 'm' is not defined",
     "output_type": "error",
     "traceback": [
      "\u001b[1;31m---------------------------------------------------------------------------\u001b[0m",
      "\u001b[1;31mNameError\u001b[0m                                 Traceback (most recent call last)",
      "\u001b[1;32m<ipython-input-4-9a98ffb6551b>\u001b[0m in \u001b[0;36m<module>\u001b[1;34m\u001b[0m\n\u001b[0;32m      1\u001b[0m \u001b[0mmask\u001b[0m \u001b[1;33m=\u001b[0m \u001b[1;33m(\u001b[0m\u001b[1;36m1\u001b[0m \u001b[1;33m<<\u001b[0m \u001b[1;36m31\u001b[0m\u001b[1;33m)\u001b[0m \u001b[1;33m-\u001b[0m \u001b[1;36m1\u001b[0m\u001b[1;33m\u001b[0m\u001b[1;33m\u001b[0m\u001b[0m\n\u001b[1;32m----> 2\u001b[1;33m \u001b[1;32mwhile\u001b[0m \u001b[1;33m(\u001b[0m\u001b[0mm\u001b[0m \u001b[1;33m&\u001b[0m \u001b[0mmask\u001b[0m\u001b[1;33m)\u001b[0m \u001b[1;33m!=\u001b[0m \u001b[1;33m(\u001b[0m\u001b[0mn\u001b[0m \u001b[1;33m&\u001b[0m \u001b[0mmask\u001b[0m\u001b[1;33m)\u001b[0m\u001b[1;33m:\u001b[0m\u001b[1;33m\u001b[0m\u001b[1;33m\u001b[0m\u001b[0m\n\u001b[0m\u001b[0;32m      3\u001b[0m     \u001b[0mmask\u001b[0m \u001b[1;33m=\u001b[0m \u001b[0mmask\u001b[0m \u001b[1;33m<<\u001b[0m \u001b[1;36m1\u001b[0m\u001b[1;33m\u001b[0m\u001b[1;33m\u001b[0m\u001b[0m\n",
      "\u001b[1;31mNameError\u001b[0m: name 'm' is not defined"
     ]
    }
   ],
   "source": [
    "mask = (1 << 31) - 1\n",
    "while (m & mask) != (n & mask):\n",
    "    mask = mask << 1"
   ]
  },
  {
   "cell_type": "markdown",
   "metadata": {},
   "source": [
    "* 消除\n",
    "    * 消偶数次的数, 即求出现奇数次的数值\n",
    "        * 解释：一组数，只有一个值出现奇数次，其余的数出现偶数次，求该数字\n",
    "        * 做法：挨个异或^,输出剩下的结果\n",
    "     * 消去最右1: n & n - 1\n",
    "* 改变\n",
    "    * 交换两数，不用额外变量\n",
    "        * a = a^b, b = a^b, a = a^b -> a = b\n",
    "    * 变换符号：正数变负数，负数变正数\n",
    "        * 取反加1\n",
    "        * a = 5，b = ~a + 1，b = -5\n",
    "    * bin修改\n",
    "        * 基本流程\n",
    "            1. 去掉前面的0b：bin(n)[2:]\n",
    "            * 对剩下的进行操作\n",
    "            * 转回二进制：int(string, 2)\n",
    "* 其他\n",
    "    * 二进制数分布法\n",
    "        * 从0到n的二进制数的01分布跟是否放回的全部子集情况相同\n",
    "        * 故通过该二进制数位是否为一来确定是否放数"
   ]
  },
  {
   "cell_type": "markdown",
   "metadata": {},
   "source": [
    "### 注意要点\n",
    "* 位运算比/运算快，所以可对以下代码进行优化: x=x/2; -> x=x>>1;"
   ]
  },
  {
   "cell_type": "markdown",
   "metadata": {},
   "source": [
    "## 题目类型"
   ]
  },
  {
   "cell_type": "markdown",
   "metadata": {},
   "source": [
    "* 汉明权重\\距离 Hamming Weight\\Distance\n",
    "    * 汉明权重：本字符串中与所用字母的零符号不同的符号数。因此，它等于到相同长度的全零字符串的汉明距离。\n",
    "    * 汉明距离：两个字符串，对应位置不一样的个数\n",
    "    * 在无符号整数中,求1个数 191. Number of 1 Bits.py\n",
    "        * bin(n).count('1') \n",
    "            * 无符号, 故没有前面的0b\n",
    "        * 左移循环取所有位,判断1,累加1次数\n",
    "            * 可以添加 左移结果是否为0的判断,提前终止循环\n",
    "        * 消去最右1,判断结果是否为0, 累计消去次数\n",
    "    * 两个数的汉明距离 461. Hamming Distance.py\n",
    "         * 左移循环取所有位,并比较\n",
    "         * 异或,求1个数(191题)\n",
    "    * !求一组数中，两两个数中的汉明距离的和 477. Total Hamming Distance.py\n",
    "         * 两两求汉明距离,再求和 tO(N**\\2)\n",
    "         * 左移循环取所有位,循环求0个数a和1个数b,a和b的组合数a*b即结果"
   ]
  },
  {
   "cell_type": "markdown",
   "metadata": {},
   "source": [
    "* 只出现一次的数字\n",
    "    * 一组数,一个数只出现1次,其余的数都出现2次,求这个数 136. Single Number.py\n",
    "        * dic保存法 sO(N)\n",
    "        * 异或消偶数次法 sO(1)\n",
    "    * ! 一组数,一个数只出现1次，其余的数都出现**3**次，求这个数 137. Single Number II.py\n",
    "        * dic保存法 sO(N)\n",
    "        * 状态机处理3次的数 sO(1)\n",
    "            * for elem in nums: b = (b ^ elem) & ~a, a = (a ^ elem) & ~b, return b\n",
    "    * !一组数,两个数只出现1次，其余的数都出现2次，求这两个数 260. Single Number III.py\n",
    "        * dic保存法 sO(N)\n",
    "        * 异或消偶数次法,两数不等性质得到i,分两组,分开求两组中的1次数 s(1)"
   ]
  },
  {
   "cell_type": "markdown",
   "metadata": {},
   "source": [
    "* 反转相关问题\n",
    "    * !转置数字的二进制表示 190. Reverse Bits.py\n",
    "        * bin修改, zfill(32)左补零, int转十进制\n",
    "        * 基底0,扫描n,i位1,修改右31-i位为1\n",
    "    * ！求二进制数的补，没有前导0 476. Number Complement.py\n",
    "        * bin修改，01互转\n",
    "        * 异或求补法，渐进式或置1式求n*1\n",
    "* 判断二进制数结构\n",
    "    * ！判断一个数的二进制形式，是不是01相间 693. Binary Number with Alternating Bits.py\n",
    "        * bin修改，判断01相间\n",
    "        * a = n^(n>>1),判断右侧n个是否全为1\n",
    "* 全组合问题\n",
    "    * 求数组中所有可能性的组合 78. Subsets.py\n",
    "        * 回溯法 t(O(N*2**N)) sO(2**N)\n",
    "        * 二进制数分布法 t(O(N*2**N)) sO(2**N)\n",
    "* 数学相关问题\n",
    "    * ！ 不用乘除mod计算商 29. Divide Two Integers.py\n",
    "        * 判断正负号，求abs，计算除数\n",
    "    * ！不用加减计算和 371. Sum of Two Integers.py\n",
    "        * 拆成无进位和进位结果\n",
    "        * 无进位用 sum = a^b\n",
    "        * 进位用 carry = (a & b) << 1\n",
    "        * a = sum % (1 << 32), b = carry % (1 << 32)\n",
    "    * ！&范围内[m, n]的数 201. Bitwise AND of Numbers Range.py\n",
    "        * 逐个&，tO(N)\n",
    "        * 求全1最长值，从低位到高位判断从哪一位开始m和n相同，即求&结果 tO(1)\n",
    "            * 从低位到高位的判断：求左边全为1 右边i个0的数，再与m和n求交判断"
   ]
  }
 ],
 "metadata": {
  "kernelspec": {
   "display_name": "Python 3",
   "language": "python",
   "name": "python3"
  },
  "language_info": {
   "codemirror_mode": {
    "name": "ipython",
    "version": 3
   },
   "file_extension": ".py",
   "mimetype": "text/x-python",
   "name": "python",
   "nbconvert_exporter": "python",
   "pygments_lexer": "ipython3",
   "version": "3.7.7"
  },
  "toc": {
   "base_numbering": 1,
   "nav_menu": {},
   "number_sections": true,
   "sideBar": true,
   "skip_h1_title": false,
   "title_cell": "Table of Contents",
   "title_sidebar": "Contents",
   "toc_cell": false,
   "toc_position": {
    "height": "calc(100% - 180px)",
    "left": "10px",
    "top": "150px",
    "width": "294.503px"
   },
   "toc_section_display": true,
   "toc_window_display": true
  }
 },
 "nbformat": 4,
 "nbformat_minor": 2
}
