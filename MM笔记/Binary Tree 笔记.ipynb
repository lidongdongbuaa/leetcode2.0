{
 "cells": [
  {
   "cell_type": "markdown",
   "metadata": {},
   "source": [
    "# 知识点\n",
    "\n",
    "## 定义\n",
    "* 一个像树一样的数据结构，其中每个节点最多有两个孩子 a tree like data structure where every node has at most two children\n",
    "    * 有左右子节点 There is one left and right child node\n",
    "    * 每个节点都有parent\n",
    "   \n",
    "\n",
    "## DFS（Depth First Search）\n",
    "recursive\n",
    "\n",
    "### 时间空间复杂度\n",
    "* time complexity: O(N)    \n",
    "    每一个数都遍历一边，所以是N\n",
    "* space complexity: average: O(logN); worst: O(N)；N:the high of tree      \n",
    "    * 储存空间等于层数，比如上面的1234567的二叉树，有3层   \n",
    "        2**（层数-1）+ 1 = N(个数)   \n",
    "        层数 约等于 logN   #这里的log是以2为底的\n",
    "    * 当每一层都只有一个数的时候（极端情况）：    \n",
    "        1**层数 = N(个数)   \n",
    "        层数 = N\n",
    "        \n",
    "### 技巧\n",
    "特点:    \n",
    "* 从叶到根的遍历方式\n",
    "* 离叶近，占用空间少（不记录搜索过程中的状态）\n",
    "* **搜索全部的解**    \n",
    "    当求解目标，必须要走到最深（例如树，走到叶子节点）才能得到一个解，这种情况适合用深搜\n",
    "* 通过**递归**实现\n",
    "    \n",
    "\n",
    "分类：   \n",
    "* 前序遍历 PreOrder (root, left, right)\n",
    "    * 应用：想在节点上直接执行操作（或输出结果）使用先序\n",
    "    * 迭代实现：\n",
    "        1. stack + pop, append(R), append(L) # 与结果顺序反向\n",
    "        2. color notation # 与结果顺序反向\n",
    "* 中序遍历 InOrder (left, root, right)\n",
    "    *  应用：\n",
    "        * 在二分搜索树中，中序遍历的顺序符合从小到大（或从大到小）顺序的，要输出其排序好的结果使用中序\n",
    "        * 以root 1为中心对称分布 -> 检测树是否中心对称\n",
    "    * 迭代实现\n",
    "        * color notation # 与结果顺序反向\n",
    "* 后序遍历 PostOrder (left, right, root) \n",
    "    * 特点：在执行操作时，肯定已经遍历过该节点的左右子节点\n",
    "    * 应用：进行破坏性操作比如删除所有节点，比如判断树中是否存在相同子树\n",
    "    * 迭代实现：\n",
    "        1. stack + pop, append(L) + append(R) + reverse res # reverse 之前的 root + right + left 与 append反向\n",
    "        * color notation # 与结果顺序反向\n",
    "\n",
    "## BFS (Breadth First Search)\n",
    "iteration / interative\n",
    "\n",
    "### 时间空间复杂度\n",
    "* time complexity: O(N)    \n",
    "    每一个数都遍历一边，所以是N\n",
    "* space complexity: average: O(N); 极端情况: O(1); N: the widest breadth(width)      \n",
    "    * space = 最宽层里数的个数   \n",
    "        一般情况下，最低层是最宽的，最底层的个数是 N/2，在空间复杂度里面N/2 = N   \n",
    "        为什么是最宽层里数的个数呢？   \n",
    "        比如上面的二叉树，1出，23进 -- 2出，45进，此时所含的数是345 -- 3出，67进，此时所含的数是4567\n",
    "    * 极端情况，每一层都只有一个数，一进一出，每次都只含一个数\n",
    "\n",
    "**对比：**     \n",
    "* 一般情况下，DFS的空间复杂度要比BFS小，因为logN < N\n",
    "* 极端情况下，可能出现BFS小于DFS\n",
    "    \n",
    "### 技巧\n",
    "特点：\n",
    "* 从上层到下层，每层从左到右   \n",
    "    特殊情况也可从右到左，先append right, 再append left\n",
    "* 离根近，占用空间多\n",
    "* 搜索最短路径\n",
    "* 常见题目，求最少步数，最少交换次数"
   ]
  },
  {
   "cell_type": "code",
   "execution_count": null,
   "metadata": {},
   "outputs": [],
   "source": [
    "#!/usr/bin/python\n",
    "# -*- coding: utf-8 -*-\n",
    "# @Time    : 2020/03/04  \n",
    "# @Author  : XU Liu\n",
    "# @FileName: \n",
    "\n",
    "'''\n",
    "1. 题目要求：\n",
    "\n",
    "\n",
    "2. 理解：\n",
    "\n",
    "\n",
    "3. 题目类型：\n",
    "\n",
    "\n",
    "4. 输出输入以及边界条件：\n",
    "input: \n",
    "output: \n",
    "corner case: \n",
    "\n",
    "5. 解题思路\n",
    "    \n",
    "\n",
    "'''"
   ]
  },
  {
   "cell_type": "markdown",
   "metadata": {},
   "source": [
    "# 题目"
   ]
  },
  {
   "cell_type": "markdown",
   "metadata": {},
   "source": [
    "## 性质相关题\n",
    "\n",
    "* 100.Same Tree (完成 2)\n",
    "* 101.Symmetric Tree (完成 2 不熟)\n",
    "* 104.Maximum Depth of Binary Tree (完成 2)\n",
    "* 110.Balanced Binary Tree （完成 2 不熟\n",
    "）\n",
    "* 111.Minimum Depth of Binary Tree (完成 1)\n",
    "* 572\n",
    "* 662.Maximum Width of Binary Tree (完成 1)\n",
    "* 965\n",
    "\n"
   ]
  },
  {
   "cell_type": "markdown",
   "metadata": {},
   "source": [
    "## 树的构建\n",
    "* 105.Construct Binary Tree from Preorder and Inorder Traversal (完成 1)\n",
    "* 106.Construct Binary Tree from Inorder and Postorder Traversal (完成 1)\n",
    "* 108.Convert Sorted Array to Binary Search Tree (完成 1)\n",
    "* 109.Convert Sorted List to Binary Search Tree (涉及链表，暂时不做)\n",
    "\n"
   ]
  },
  {
   "cell_type": "markdown",
   "metadata": {},
   "source": [
    "## 树的遍历\n",
    "\n",
    "* **DFS**（Depth First Search）    \n",
    "    以root所在位置分类，可以分成三类\n",
    "\n",
    "\n",
    "    A. pre-order 前序 --> root left right\n",
    "    B. in-order 中序 --> left root right\n",
    "    C. post-order 后序 --> left right root\n",
    "\n",
    "\n",
    "* **BFS** (Breadth First Search)   \n",
    "    层层遍历，每一层都是从left到right\n",
    "    \n",
    "\n",
    "### DFS\n",
    "* 94.Binary Tree Inorder Traversal (完成 2)\n",
    "* 144.Binary Tree Preorder Traversal (完成 1)\n",
    "* 145.Binary Tree Postorder Traversal (完成 1)\n",
    "* 429\n",
    "* 589\n",
    "\n",
    "* 590\n",
    "* 987\n",
    "* 1302\n",
    "\n",
    "\n",
    "\n",
    "### BFS\n",
    "* 102.Binary Tree Level Order Traversal (完成 2)\n",
    "* 103.Binary Tree Zigzag Level Order Traversal (完成 1)\n",
    "* 107.Binary Tree Level Order Traversal II (完成 1)\n",
    "* 116.Populating Next Right Pointers in Each Node (完成 1)\n",
    "* 117.Populating Next Right Pointers in Each Node II (完成 1)\n",
    "* 429\n",
    "* 872"
   ]
  },
  {
   "cell_type": "markdown",
   "metadata": {},
   "source": [
    "## 路径和\n",
    "* 112.Path Sum (完成 1)\n",
    "* 113.Path Sum II (完成 1)\n",
    "* 129.Sum Root to Leaf Numbers (完成 1)\n",
    "* 257.Binary Tree Paths (完成 1)\n",
    "* 437"
   ]
  },
  {
   "cell_type": "markdown",
   "metadata": {},
   "source": [
    "## 综合题\n",
    "* 968.\n",
    "* 979.Distribute Coins in Binary Tree (移动硬币 先放弃)\n",
    "* 1361.Validate Binary Tree Nodes (完成 1)"
   ]
  },
  {
   "cell_type": "markdown",
   "metadata": {},
   "source": [
    "## 不知什么分类\n",
    "* 814\n",
    "* 669\n",
    "* 1325\n"
   ]
  },
  {
   "cell_type": "markdown",
   "metadata": {},
   "source": [
    "## 自定义\n",
    "* 最大宽度"
   ]
  },
  {
   "cell_type": "markdown",
   "metadata": {},
   "source": [
    "## 笔记\n",
    "树的创建：   \n",
    "* constructTree.py\n",
    "* constructTree2.py\n"
   ]
  },
  {
   "cell_type": "markdown",
   "metadata": {},
   "source": [
    "# 代码总结"
   ]
  },
  {
   "cell_type": "markdown",
   "metadata": {},
   "source": [
    "## Node的定义"
   ]
  },
  {
   "cell_type": "code",
   "execution_count": 1,
   "metadata": {},
   "outputs": [],
   "source": [
    "class TreeNode:\n",
    "    def __init__(self, x):\n",
    "        self.val = x\n",
    "        self.left = None\n",
    "        self.right = None"
   ]
  },
  {
   "cell_type": "markdown",
   "metadata": {},
   "source": [
    "## 构造tree\n",
    "### 手动构造"
   ]
  },
  {
   "cell_type": "code",
   "execution_count": null,
   "metadata": {},
   "outputs": [],
   "source": [
    "'''\n",
    "手动构造\n",
    "'''\n",
    "Node1 = TreeNode(1)\n",
    "Node2 = TreeNode(2)\n",
    "Node3 = TreeNode(3)\n",
    "\n",
    "Node1.left = Node2\n",
    "Node1.right = Node3\n",
    "\n",
    "# 注意\n",
    "Node5 = TreeNode(5)\n",
    "Node6 = TreeNode(5)\n",
    "# Node5 != Node6, 因为Node5与Node6储存的地址是不一样的\n",
    "\n",
    "Node7 = Node8 = TreeNode(5)\n",
    "#这种情况，Node7==Node8，因为两者储存地址是相同的\n",
    "\n"
   ]
  },
  {
   "cell_type": "markdown",
   "metadata": {},
   "source": [
    "### 利用BFS来构造"
   ]
  },
  {
   "cell_type": "code",
   "execution_count": null,
   "metadata": {},
   "outputs": [],
   "source": [
    "'''\n",
    "using BFS（同constructTree2.py）\n",
    "root:0 （index）\n",
    "下一层：left：index * 2 + 1；\n",
    "       right：index * 2 + 2\n",
    "\n",
    "nodeList --> 一层层，从左到右建立Tree\n",
    "'''\n",
    "\n",
    "from collections import deque\n",
    "class BT:\n",
    "    def constructTree(self, nodeList):\n",
    "        if not nodeList:  # corner case\n",
    "            return None\n",
    "    \n",
    "        root = TreeNode(nodeList[0])\n",
    "        queue = deque([(root, 0)])\n",
    "        while queue:\n",
    "            node, index = queue.popleft()\n",
    "            left_index = index * 2 + 1\n",
    "            right_index = index * 2 + 2\n",
    "            if left_index < len(nodeList):\n",
    "                node.left = TreeNode(nodeList[left_index])\n",
    "                if node.left != None:\n",
    "                    queue.qppend(node.left, left_index)\n",
    "            if right_index < len(nodeList):\n",
    "                node.right = TreeNode(nodeList[right_index])\n",
    "                if node.right != None:\n",
    "                    queue.append(node.right, right_index)\n",
    "            \n",
    "        return root\n",
    "        "
   ]
  },
  {
   "cell_type": "markdown",
   "metadata": {},
   "source": [
    "### DFS遍历来构造\n",
    "* 105.Construct Binary Tree from Preorder and Inorder Traversal\n",
    "* 106.Construct Binary Tree from Inorder and Postorder Traversal \n",
    "* 优化方法详见105，106代码"
   ]
  },
  {
   "cell_type": "code",
   "execution_count": null,
   "metadata": {},
   "outputs": [],
   "source": [
    "# Preorder + Inorder\n",
    "\n",
    "class Solution:\n",
    "    def buildTree(self, preorder: List[int], inorder: List[int]) -> TreeNode:\n",
    "        if len(preorder) == 0:\n",
    "            return None\n",
    "        \n",
    "        root = TreeNode(preorder[0])\n",
    "        mid = inorder.index(preorder[0])\n",
    "\n",
    "        root.left = self.buildTree(preorder[1:mid+1], inorder[0:mid])\n",
    "        root.right = self.buildTree(preorder[mid+1:], inorder[mid+1:])\n",
    "        return root\n",
    "        "
   ]
  },
  {
   "cell_type": "code",
   "execution_count": null,
   "metadata": {},
   "outputs": [],
   "source": [
    "# Inorder + Postorder\n",
    "\n",
    "class Solution:\n",
    "    def buildTree(self, inorder: List[int], postorder: List[int]) -> TreeNode:\n",
    "        if len(inorder) == 0:\n",
    "            return None\n",
    "        \n",
    "        root = TreeNode(postorder[-1])\n",
    "        mid = inorder.index(postorder[-1])\n",
    "\n",
    "        root.left = self.buildTree(inorder[0:mid], postorder[0:mid])\n",
    "        root.right = self.buildTree(inorder[mid+1:], postorder[mid:-1])\n",
    "        \n",
    "        return root"
   ]
  },
  {
   "cell_type": "code",
   "execution_count": null,
   "metadata": {},
   "outputs": [],
   "source": [
    "# 优化 把inorder放入字典 减少遍历次数\n",
    "# 以Inorder + Postorder为例\n",
    "\n",
    "# Index   O(1)\n",
    "# l[a:b]  O(b-a)\n",
    "# d[k]    O(1)\n",
    "\n",
    "class Solution:\n",
    "    def buildTree(self, inorder: List[int], postorder: List[int]) -> TreeNode:\n",
    "        def helper(iL, iR, pL, pR):\n",
    "            if iL==iR:\n",
    "                return None\n",
    "            root = TreeNode(postorder[pR-1])\n",
    "            print(root.val)\n",
    "            mid = info[postorder[pR-1]]\n",
    "\n",
    "            root.left = helper(iL, mid, pL, pR-iR+mid)\n",
    "            root.right = helper(mid+1, iR, pR-iR+mid, pR-1)\n",
    "            return root\n",
    "        \n",
    "        info = {each_val:i for i, each_val in enumerate(inorder)}  # key:值；value：index\n",
    "\n",
    "        root = helper(0, len(inorder), 0, len(postorder))\n",
    "        \n",
    "        return root\n",
    "\n",
    "'''\n",
    "Preorder + Inorder\n",
    "root.left = self.buildTree(pre_left+1,pre_left+1+mid-in_left,in_left,mid) \n",
    "root.right = self.buildTree(pre_left+1+mid-in_left,pre_right,mid+1,in_right)\n",
    "'''"
   ]
  },
  {
   "cell_type": "markdown",
   "metadata": {},
   "source": [
    "## 遍历\n",
    "### BFS\n",
    "* 时间复杂度：O(N)\n",
    "* 空间复杂度：average: O(N); 极端情况:O(1)"
   ]
  },
  {
   "cell_type": "code",
   "execution_count": null,
   "metadata": {},
   "outputs": [],
   "source": [
    "class TreeNode:\n",
    "    def __init__(self, x):\n",
    "        self.val = x\n",
    "        self.right = None\n",
    "        self.left = None\n",
    "        \n",
    "from collections import deque\n",
    "class Traversal:\n",
    "    def bsf(self, root):\n",
    "        if root == None:\n",
    "            return \n",
    "        queue = deque()\n",
    "        queue.append(root)\n",
    "        while queue:\n",
    "            node = queue.popleft()\n",
    "            if node.left == None:\n",
    "                queue.append(node.left)\n",
    "            if node.right == None:\n",
    "                queue.append(node.right)\n"
   ]
  },
  {
   "cell_type": "markdown",
   "metadata": {},
   "source": [
    "### DFS"
   ]
  },
  {
   "cell_type": "code",
   "execution_count": null,
   "metadata": {},
   "outputs": [],
   "source": [
    "class Traversal:\n",
    "    def dfs(self, root):\n",
    "        if root == None:\n",
    "            return \n",
    "        else:\n",
    "            print(root.val)\n",
    "            self.dfs(root.left)\n",
    "            self.dfs(root.right)"
   ]
  },
  {
   "cell_type": "markdown",
   "metadata": {},
   "source": [
    "## Depth\n",
    "\n",
    "* 104.Maximum Depth of Binary Tree \n",
    "\n",
    "### DFS"
   ]
  },
  {
   "cell_type": "code",
   "execution_count": null,
   "metadata": {},
   "outputs": [],
   "source": [
    "class Solution:\n",
    "    def maxDepth(self, root: TreeNode) -> int:\n",
    "        if not root:\n",
    "            return 0\n",
    "\n",
    "        if not root.left and not root.right: \n",
    "            return 1\n",
    "\n",
    "        return 1 + max(self.maxDepth(root.left), self.maxDepth(root.right)) "
   ]
  },
  {
   "cell_type": "code",
   "execution_count": null,
   "metadata": {},
   "outputs": [],
   "source": [
    "# 易混淆\n",
    "\n",
    "class Solution:\n",
    "    def maxDepth(self, root: TreeNode) -> int:\n",
    "        # 从顶向下计算depth，到root==None之后，最底层的值再依次返回给函数\n",
    "        # depth一直在变大，到root==None的时候，depth最大\n",
    "        def DFS(root, depth):\n",
    "            if root == None:\n",
    "                return depth  # return 0是错的; 因为这里的depth是最底层的高度值，不是0\n",
    "            return max(DFS(root.left, depth + 1), DFS(root.right, depth + 1))  # 自上而下\n",
    "        \n",
    "        # 先到底部root == None，然后函数值再一层层的加一到顶部\n",
    "        # 过程中depth一直为0，函数值在改变\n",
    "        '''\n",
    "        def DFS(root, depth):\n",
    "            if root == None:\n",
    "                return 0  # 最底层是0，整个函数里面depth一直是0，函数值发生改变\n",
    "            return max(DFS(root.left, depth) + 1, DFS(root.right, depth) + 1)  # 自下而上\n",
    "        '''\n",
    "        return DFS(root, 0)"
   ]
  },
  {
   "cell_type": "markdown",
   "metadata": {},
   "source": [
    "### BFS\n",
    "* 易错点 一定要记录len_queue，然后用for来popleft，因为popleft node的同时也在不断的往里面加新的node"
   ]
  },
  {
   "cell_type": "code",
   "execution_count": null,
   "metadata": {},
   "outputs": [],
   "source": [
    "from collections import deque\n",
    "class Solution:\n",
    "    def maxDepth(self, root: TreeNode) -> int:\n",
    "        if root == None:\n",
    "            return 0\n",
    "        \n",
    "        queue = deque()\n",
    "        queue.append(root)\n",
    "        depth = 0\n",
    "        \n",
    "        while queue:\n",
    "            depth += 1\n",
    "            len_q = len(queue)\n",
    "            for i in range(len_q):\n",
    "                node = queue.popleft()\n",
    "                if node.left != None:\n",
    "                    queue.append(node.left)\n",
    "                if node.right != None:\n",
    "                    queue.append(node.right)\n",
    "        return depth"
   ]
  },
  {
   "cell_type": "markdown",
   "metadata": {},
   "source": [
    "* 110. Balanced Binary Tree"
   ]
  },
  {
   "cell_type": "code",
   "execution_count": null,
   "metadata": {},
   "outputs": [],
   "source": [
    "class Solution:\n",
    "    def isBalanced(self, root: TreeNode) -> bool:\n",
    "        def DFS(root, depth):\n",
    "            if root == None:\n",
    "                return depth  # retuen 0是错误的\n",
    "            return max(DFS(root.left, depth + 1), DFS(root.right, depth + 1))\n",
    "        \n",
    "        if root == None:\n",
    "            return True\n",
    "        if abs(DFS(root.right, 0) - DFS(root.left, 0)) > 1:\n",
    "            return False\n",
    "        \n",
    "        return self.isBalanced(root.left) and self.isBalanced(root.right)"
   ]
  },
  {
   "attachments": {},
   "cell_type": "markdown",
   "metadata": {},
   "source": [
    "## 宽度\n",
    "* 662. Maximum Width of Binary Tree"
   ]
  },
  {
   "cell_type": "code",
   "execution_count": null,
   "metadata": {},
   "outputs": [],
   "source": [
    "           1\n",
    "         /   \\\n",
    "        3     2\n",
    "       / \\     \\  \n",
    "      5   3     9 \n",
    "\n",
    "The maximum width existing in the third level with the length 4 (5,3,null,9)"
   ]
  },
  {
   "cell_type": "code",
   "execution_count": null,
   "metadata": {},
   "outputs": [],
   "source": [
    "           0  index\n",
    "         /   \\\n",
    "        1      2  index * 2+1\n",
    "       / \\    / \\  \n",
    "      3   4  5   6 \n",
    "\n",
    "    \n",
    "           index\n",
    "         /       \\\n",
    "    index*2+1    index*2+2 "
   ]
  },
  {
   "cell_type": "code",
   "execution_count": null,
   "metadata": {},
   "outputs": [],
   "source": [
    "from collections import deque\n",
    "class Solution:\n",
    "    def widthOfBinaryTree(self, root: TreeNode) -> int:\n",
    "        if root == None:\n",
    "            return 0\n",
    "        \n",
    "        queue = deque()\n",
    "        queue.append([root, 0])\n",
    "        max_wight = 0\n",
    "        \n",
    "        while queue:\n",
    "            l = queue[0][1]\n",
    "            r = queue[-1][1]\n",
    "            max_wight = max(max_wight, (r - l + 1))\n",
    "            len_q = len(queue)\n",
    "            \n",
    "            for i in range(len_q):\n",
    "                node, index = queue.popleft()\n",
    "                if node.left != None:\n",
    "                    queue.append([node.left, index*2+1])\n",
    "                if node.right != None:\n",
    "                    queue.append([node.right, index*2+2])\n",
    "        return max_wight"
   ]
  },
  {
   "cell_type": "markdown",
   "metadata": {},
   "source": [
    "## path\n",
    "* 112.Path Sum \n",
    "* 113.Path Sum II\n",
    "* 129.Sum Root to Leaf Numbers\n",
    "* 257.Binary Tree Paths\n",
    "\n",
    "### DFS"
   ]
  },
  {
   "cell_type": "code",
   "execution_count": null,
   "metadata": {},
   "outputs": [],
   "source": [
    "class Solution:\n",
    "    def binaryTreePaths(self, root):\n",
    "        def dfs(root, path):\n",
    "            if root == None:\n",
    "                return\n",
    "            \n",
    "            if root.left == None and root.right == None:\n",
    "                path.append(root.val)\n",
    "                path_all.append(path)\n",
    "            \n",
    "            dfs(root.left, path+[root.val])\n",
    "            dfs(root.right, path+[root.val])\n",
    "        \n",
    "        path = []\n",
    "        path_all = []\n",
    "        dfs(root, path)\n",
    "        return path_all\n",
    "\n",
    "x = Solution()\n",
    "print(x.binaryTreePaths(root))"
   ]
  },
  {
   "cell_type": "markdown",
   "metadata": {},
   "source": [
    "### BFS"
   ]
  },
  {
   "cell_type": "code",
   "execution_count": null,
   "metadata": {},
   "outputs": [],
   "source": [
    "# BFS\n",
    "\n",
    "from collections import deque\n",
    "class Solution:\n",
    "    def binaryTreePaths(self, root: TreeNode) -> List[str]:\n",
    "        if root == None:\n",
    "            return \n",
    "        \n",
    "        queue = deque()\n",
    "        all_path = []\n",
    "        \n",
    "        queue.append([root, []])\n",
    "        \n",
    "        while queue:\n",
    "            node, path = queue.popleft()\n",
    "            path += [str(node.val)]\n",
    "            # 或者 path = path + [str(node.val)]\n",
    "            # 这样 path的id就发生了改变\n",
    "            \n",
    "            if node.left != None:\n",
    "                queue.append([node.left, path[:]])  # 易错点，一定要是path[:]\n",
    "            if node.right != None:\n",
    "                queue.append([node.right, path[:]])\n",
    "            \n",
    "            if node.left == None and node.right == None:\n",
    "                all_path.append('->'.join(path))\n",
    "        \n",
    "        return all_path"
   ]
  },
  {
   "cell_type": "markdown",
   "metadata": {},
   "source": [
    "### 回溯\n",
    "（略）"
   ]
  },
  {
   "cell_type": "markdown",
   "metadata": {},
   "source": [
    "# Python\n",
    "\n",
    "## list的复制"
   ]
  },
  {
   "cell_type": "code",
   "execution_count": 3,
   "metadata": {},
   "outputs": [
    {
     "data": {
      "text/plain": [
       "[1, 2, 3]"
      ]
     },
     "execution_count": 3,
     "metadata": {},
     "output_type": "execute_result"
    }
   ],
   "source": [
    "l = [1,2,3]\n",
    "a = l[:]  # 不管l怎么变，a都不变\n",
    "a"
   ]
  },
  {
   "cell_type": "code",
   "execution_count": 4,
   "metadata": {},
   "outputs": [
    {
     "data": {
      "text/plain": [
       "[1, 2, 3]"
      ]
     },
     "execution_count": 4,
     "metadata": {},
     "output_type": "execute_result"
    }
   ],
   "source": [
    "l.append(5)\n",
    "a"
   ]
  },
  {
   "cell_type": "code",
   "execution_count": 6,
   "metadata": {},
   "outputs": [
    {
     "data": {
      "text/plain": [
       "[5, 6, 7, 10]"
      ]
     },
     "execution_count": 6,
     "metadata": {},
     "output_type": "execute_result"
    }
   ],
   "source": [
    "l = [5,6,7]\n",
    "b = l + [10] # 不管l怎么变，b都不变\n",
    "b"
   ]
  },
  {
   "cell_type": "code",
   "execution_count": 7,
   "metadata": {},
   "outputs": [
    {
     "data": {
      "text/plain": [
       "[5, 6, 7, 10]"
      ]
     },
     "execution_count": 7,
     "metadata": {},
     "output_type": "execute_result"
    }
   ],
   "source": [
    "l.append(1)\n",
    "b"
   ]
  },
  {
   "cell_type": "code",
   "execution_count": 8,
   "metadata": {},
   "outputs": [
    {
     "ename": "TypeError",
     "evalue": "sequence item 0: expected str instance, int found",
     "output_type": "error",
     "traceback": [
      "\u001b[0;31m---------------------------------------------------------------------------\u001b[0m",
      "\u001b[0;31mTypeError\u001b[0m                                 Traceback (most recent call last)",
      "\u001b[0;32m<ipython-input-8-9e05f63092b3>\u001b[0m in \u001b[0;36m<module>\u001b[0;34m\u001b[0m\n\u001b[0;32m----> 1\u001b[0;31m \u001b[0;34m''\u001b[0m\u001b[0;34m.\u001b[0m\u001b[0mjoin\u001b[0m\u001b[0;34m(\u001b[0m\u001b[0ml\u001b[0m\u001b[0;34m)\u001b[0m\u001b[0;34m\u001b[0m\u001b[0;34m\u001b[0m\u001b[0m\n\u001b[0m",
      "\u001b[0;31mTypeError\u001b[0m: sequence item 0: expected str instance, int found"
     ]
    }
   ],
   "source": [
    "''.join(l)"
   ]
  },
  {
   "cell_type": "code",
   "execution_count": 3,
   "metadata": {},
   "outputs": [
    {
     "data": {
      "text/plain": [
       "{9: 0, 3: 1, 15: 2, 20: 3, 7: 4}"
      ]
     },
     "execution_count": 3,
     "metadata": {},
     "output_type": "execute_result"
    }
   ],
   "source": [
    "inorder = [9,3,15,20,7]\n",
    "dicts = {var:i for i,var in enumerate(inorder)}\n",
    "dicts"
   ]
  },
  {
   "cell_type": "code",
   "execution_count": 6,
   "metadata": {},
   "outputs": [
    {
     "data": {
      "text/plain": [
       "{9: [0], 3: [1], 15: [2], 20: [3], 7: [4]}"
      ]
     },
     "execution_count": 6,
     "metadata": {},
     "output_type": "execute_result"
    }
   ],
   "source": [
    "info = {}\n",
    "for i, each in enumerate(inorder):\n",
    "    info[each] = [i]\n",
    "info"
   ]
  },
  {
   "cell_type": "code",
   "execution_count": 7,
   "metadata": {},
   "outputs": [
    {
     "data": {
      "text/plain": [
       "{9: 0, 3: 1, 15: 2, 20: 3, 7: 4}"
      ]
     },
     "execution_count": 7,
     "metadata": {},
     "output_type": "execute_result"
    }
   ],
   "source": [
    "info2 = {}\n",
    "for i, each in enumerate(inorder):\n",
    "    info2[each] = (i)\n",
    "info2"
   ]
  },
  {
   "cell_type": "code",
   "execution_count": 13,
   "metadata": {},
   "outputs": [],
   "source": [
    "def dfs(a, b):\n",
    "    return a+b"
   ]
  },
  {
   "cell_type": "code",
   "execution_count": 12,
   "metadata": {},
   "outputs": [
    {
     "name": "stdout",
     "output_type": "stream",
     "text": [
      "3\n"
     ]
    },
    {
     "data": {
      "text/plain": [
       "3"
      ]
     },
     "execution_count": 12,
     "metadata": {},
     "output_type": "execute_result"
    }
   ],
   "source": [
    "dfs(1,2)"
   ]
  },
  {
   "cell_type": "code",
   "execution_count": 1,
   "metadata": {},
   "outputs": [
    {
     "name": "stdout",
     "output_type": "stream",
     "text": [
      "ok\n"
     ]
    }
   ],
   "source": [
    "a = None\n",
    "b = None\n",
    "if a == None or b == None:\n",
    "    print('ok')\n",
    "    \n",
    "    "
   ]
  },
  {
   "cell_type": "code",
   "execution_count": 3,
   "metadata": {},
   "outputs": [
    {
     "data": {
      "text/plain": [
       "True"
      ]
     },
     "execution_count": 3,
     "metadata": {},
     "output_type": "execute_result"
    }
   ],
   "source": [
    "a = 'leetcode'\n",
    "a.isalpha()"
   ]
  },
  {
   "cell_type": "code",
   "execution_count": 5,
   "metadata": {},
   "outputs": [
    {
     "data": {
      "text/plain": [
       "False"
      ]
     },
     "execution_count": 5,
     "metadata": {},
     "output_type": "execute_result"
    }
   ],
   "source": [
    "a = 'leetcode'\n",
    "a.isdigit()"
   ]
  },
  {
   "cell_type": "code",
   "execution_count": 6,
   "metadata": {},
   "outputs": [
    {
     "data": {
      "text/plain": [
       "False"
      ]
     },
     "execution_count": 6,
     "metadata": {},
     "output_type": "execute_result"
    }
   ],
   "source": [
    "a = 'ab123'\n",
    "a.isdigit()"
   ]
  },
  {
   "cell_type": "code",
   "execution_count": 7,
   "metadata": {
    "scrolled": true
   },
   "outputs": [
    {
     "name": "stdout",
     "output_type": "stream",
     "text": [
      "a\n",
      "b\n",
      "1\n",
      "2\n",
      "3\n"
     ]
    }
   ],
   "source": [
    "a = 'ab123'\n",
    "for i in a:\n",
    "    print(i)"
   ]
  },
  {
   "cell_type": "code",
   "execution_count": 8,
   "metadata": {
    "scrolled": false
   },
   "outputs": [
    {
     "name": "stdout",
     "output_type": "stream",
     "text": [
      "1\n",
      "2\n",
      "3\n"
     ]
    }
   ],
   "source": [
    "a = 'ab123'\n",
    "for i in a:\n",
    "    if i.isdigit():\n",
    "        print(i)"
   ]
  },
  {
   "cell_type": "markdown",
   "metadata": {},
   "source": [
    "## 函数的传递"
   ]
  },
  {
   "cell_type": "code",
   "execution_count": null,
   "metadata": {},
   "outputs": [],
   "source": [
    "def func_int(a):\n",
    "    a += 4\n",
    "    return a\n",
    "\n",
    "t = 0\n",
    "func_int(t)\n",
    "print(func_int(t))\n",
    "t  # t还是0"
   ]
  }
 ],
 "metadata": {
  "kernelspec": {
   "display_name": "Python 3",
   "language": "python",
   "name": "python3"
  },
  "language_info": {
   "codemirror_mode": {
    "name": "ipython",
    "version": 3
   },
   "file_extension": ".py",
   "mimetype": "text/x-python",
   "name": "python",
   "nbconvert_exporter": "python",
   "pygments_lexer": "ipython3",
   "version": "3.7.3"
  },
  "toc": {
   "base_numbering": 1,
   "nav_menu": {},
   "number_sections": true,
   "sideBar": true,
   "skip_h1_title": false,
   "title_cell": "Table of Contents",
   "title_sidebar": "Contents",
   "toc_cell": false,
   "toc_position": {},
   "toc_section_display": true,
   "toc_window_display": false
  }
 },
 "nbformat": 4,
 "nbformat_minor": 2
}
