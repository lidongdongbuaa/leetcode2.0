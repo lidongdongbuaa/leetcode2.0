{
 "cells": [
  {
   "cell_type": "markdown",
   "metadata": {},
   "source": [
    "# 知识点\n",
    "\n",
    "## 定义\n",
    "* 前提条件：已经排序好的序列\n",
    "* 方法：首先与序列中间的元素进行比较, 如果小于这个元素, 就在当前序列的前半部分继续查找, 如果大于这个元素, 就在当前序列的后半部分继续查找,直到找到相同的元素, 或者所查找的序列范围为空为止.\n",
    "\n",
    "## 时间空间复杂度\n",
    "* O(log n)\n",
    "\n",
    "## 常考类型\n",
    "* 一维数组：\n",
    "    * 从小到大 / 部分sort / 旋转 (比如[5,6,7,2,3,4])\n",
    "    * 找Target\n",
    "    * 找峰值\n",
    "    * 找target第一次出现或者最后一次出现的位置\n",
    "* 二维数组：\n",
    "    * 行内递增且这一行比下一行小 / 行内递增，列内递增\n",
    "    \n",
    "* 易错点：注意数组里面是否存在重复数"
   ]
  },
  {
   "cell_type": "code",
   "execution_count": null,
   "metadata": {},
   "outputs": [],
   "source": [
    "#!/usr/bin/python\n",
    "# -*- coding: utf-8 -*-\n",
    "# @Time    : 2020/03  \n",
    "# @Author  : XU Liu\n",
    "# @FileName: \n",
    "\n",
    "'''\n",
    "1. 题目类型：\n",
    "\n",
    "\n",
    "2. 题目理解以及解题思路：\n",
    "\n",
    "\n",
    "3. 输出输入以及边界条件：\n",
    "input: \n",
    "output: \n",
    "corner case: \n",
    "\n",
    "\n",
    "4. 时间空间复杂度：\n",
    "    \n",
    "\n",
    "'''"
   ]
  },
  {
   "cell_type": "markdown",
   "metadata": {},
   "source": [
    "# 题目\n",
    "\n",
    "## 有明确的target\n",
    "* 167.Two Sum II - Input array is sorted.py （完成1）\n",
    "* 240.Search a 2D Matrix II.py（完成1）\n",
    "* 33.Search in Rotated Sorted Array.py （完成1）\n",
    "* 367.Valid Perfect Square.py （完成1）\n",
    "* 374.Guess Number Higher or Lower.py （完成1）\n",
    "* 74.Search a 2D Matrix.py（完成1）\n",
    "* 81.Search in Rotated Sorted Array II.py（完成1）\n",
    "\n",
    "## 没有明确的target\n",
    "* 278.First Bad Version.py（完成1）\n",
    "* 34.Find First and Last Position of Element in Sorted Array.py（完成1）\n",
    "* 35.Search Insert Position.py（完成1）\n",
    "* 441.Arranging Coins.py（完成1）\n",
    "* 447.Search in a Big Sorted Array （LintCode）.py \n",
    "* 458.Last Position of Target (Lintcode).py \n",
    "* 459.Closest Number in Sorted Array (Lintcode).py \n",
    "* 658.Find K Closest Elements.py（完成1）\n",
    "* 69.Sqrt(x).py（完成1）\n",
    "* 744.Find Smallest Letter Greater Than Target.py（完成1）\n",
    "\n",
    "\n",
    "\n",
    "## 没有明确的target类型，可以越界类型\n",
    "* 153.Find Minimum in Rotated Sorted Array.py（完成1）\n",
    "* 162.Find Peak Element.py（完成1）\n",
    "* 852.Peak Index in a Mountain Array.py（完成1）"
   ]
  },
  {
   "cell_type": "markdown",
   "metadata": {},
   "source": [
    "# 总结"
   ]
  },
  {
   "cell_type": "markdown",
   "metadata": {},
   "source": [
    "## 常规模版\n",
    "\n",
    "* 167.Two Sum II - Input array is sorted\n"
   ]
  },
  {
   "cell_type": "code",
   "execution_count": null,
   "metadata": {},
   "outputs": [],
   "source": [
    "# 从小到大sort好的数列arr\n",
    "# 找到target的数，输出其index（0-based）\n",
    "# 若不存在target，则输出-1\n",
    "\n",
    "class Solution:\n",
    "    def search(self, arr, target):\n",
    "        l, r = 0, len(arr) - 1\n",
    "        while l <= r:  # l,r位置互换时，跳出循环，r,l可相等是为了边界也能被搜索\n",
    "            mid = l + (r - l) // 2  # (l+r)//2 不这么写是为了防止超限\n",
    "            if target == arr[mid]:\n",
    "                return mid\n",
    "            elif target < arr[mid]:\n",
    "                r = mid - 1\n",
    "            elif target > arr[mid]:\n",
    "                l = mid + 1\n",
    "        return -1\n",
    "                "
   ]
  },
  {
   "cell_type": "markdown",
   "metadata": {},
   "source": [
    "## 旋转\n",
    "### 找明确的Target\n",
    "* 33.Search in Rotated Sorted Array\n",
    "* 81.Search in Rotated Sorted Array II"
   ]
  },
  {
   "cell_type": "code",
   "execution_count": null,
   "metadata": {},
   "outputs": [],
   "source": [
    "# 旋转有重复跟没有重复，就一个地方不一样\n",
    "#    if nums[l] == nums[mid]:\n",
    "#        l += 1  # 注意！！！ 比如[1,3,1,1,1],3\n",
    "\n",
    "class Solution:\n",
    "    def search(self, nums, target) -> int:\n",
    "        l, r = 0, len(nums) - 1\n",
    "        while l <= r:\n",
    "            mid = l + (r - l) // 2\n",
    "            if target == nums[mid]:\n",
    "                return mid\n",
    "            if nums[l] < nums[mid]:  # 左边是sorted\n",
    "                if nums[l] <= target < nums[mid]:  # T在左边sorted部分内\n",
    "                    r = mid - 1\n",
    "                else:  # T在右边的unsorted内\n",
    "                    l = mid + 1\n",
    "            elif nums[l] == nums[mid]:  # l到r只有两个数字的时候，下一轮就return -1(没有重复的情况）\n",
    "                l = mid + 1\n",
    "            elif nums[l] > nums[mid]:  # 左边是unsorted,右边是sorted\n",
    "                if nums[mid] < target <= nums[r]:  # T在右边sortedd内\n",
    "                    l = mid + 1\n",
    "                else:\n",
    "                    r = mid - 1\n",
    "        return -1\n",
    "    "
   ]
  },
  {
   "cell_type": "markdown",
   "metadata": {},
   "source": [
    "### 找极值\n",
    "* 153.Find Minimum in Rotated Sorted Array"
   ]
  },
  {
   "cell_type": "code",
   "execution_count": null,
   "metadata": {},
   "outputs": [],
   "source": [
    "# 找最小值\n",
    "# arr里面没有重复\n",
    "# 153题\n",
    "\n",
    "class Solution:\n",
    "    def findMin(self, nums):\n",
    "        if nums == None:\n",
    "            return \n",
    "        \n",
    "        l, r = 0, len(nums)-1\n",
    "        temp = nums[0]\n",
    "        \n",
    "        while l <= r:\n",
    "            mid = l + (r - l)//2\n",
    "            \n",
    "            if nums[l] < nums[mid]:  # 左边是sorted，所以在l-mid之间，l最小\n",
    "                temp = min(temp, nums[l])\n",
    "                l = mid + 1\n",
    "            elif nums[l] == nums[mid]:  # l到r之间就两个数，下一轮输出\n",
    "                temp = min(temp, nums[l])  # 跟temp比较\n",
    "                l = mid + 1\n",
    "            elif nums[l] > nums[mid]:  # 右边是sorted，所以mid到r之间，mid最小\n",
    "                temp = min(temp, nums[mid])\n",
    "                r = mid - 1\n",
    "                \n",
    "        return temp"
   ]
  },
  {
   "cell_type": "markdown",
   "metadata": {},
   "source": [
    "## l,r互换位置是很多解题的关键"
   ]
  },
  {
   "cell_type": "code",
   "execution_count": null,
   "metadata": {},
   "outputs": [],
   "source": [
    "# 给到的arr，不旋转，从小到大排序，当然从大到小排序也可\n",
    "\n",
    "# 比如35题，找如果有某个target，它应存在于什么位置\n",
    "# 找出现的第一个或者最后一个位置\n",
    "\n",
    "# l, r互换的位置也就是while结束循环的位置\n",
    "# 循环到l，r互换的位置，左边也就是比target小，右边也就是比target大"
   ]
  },
  {
   "cell_type": "markdown",
   "metadata": {},
   "source": [
    "## 找target出现的第一个和最后一个位置\n",
    "* 34.Find First and Last Position of Element in Sorted Array"
   ]
  },
  {
   "cell_type": "code",
   "execution_count": null,
   "metadata": {},
   "outputs": [],
   "source": [
    "class Solution:\n",
    "    def searchRange(self, nums, target):\n",
    "        if not nums:  # corner case\n",
    "            return [-1, -1]\n",
    "\n",
    "        if target < nums[0] or target > nums[-1]:\n",
    "            return [-1, -1]\n",
    "        \n",
    "        first = self.findFirst(nums, target)\n",
    "        last = self.findLast(nums, target)\n",
    "        return [first, last]\n",
    "        \n",
    "    def findFirst(self, nums, target):\n",
    "        l, r = 0, len(nums) - 1\n",
    "        while l <= r:\n",
    "            mid  = l + (r - l) // 2\n",
    "            if nums[mid] == target:\n",
    "                r = mid - 1\n",
    "            elif nums[mid] > target:\n",
    "                r = mid - 1\n",
    "            elif nums[mid] < target:\n",
    "                l = mid + 1\n",
    "        if nums[l] == target:  # 易错点 一定要判断，因为可能存在没有T的情况，切记切记\n",
    "            return l\n",
    "        else:\n",
    "            return -1\n",
    "                \n",
    "    def findLast(self, nums, target):\n",
    "        l, r = 0, len(nums) - 1\n",
    "        while l <= r:\n",
    "            mid  = l + (r - l) // 2\n",
    "            if nums[mid] == target:\n",
    "                l = mid + 1\n",
    "            elif nums[mid] > target:\n",
    "                r = mid - 1\n",
    "            elif nums[mid] < target:\n",
    "                l = mid + 1\n",
    "        if nums[r] == target:  # 易错点 一定要判断，因为可能存在没有T的情况，切记切记\n",
    "            return r\n",
    "        else:\n",
    "            return -1"
   ]
  },
  {
   "cell_type": "markdown",
   "metadata": {},
   "source": [
    "## 求峰值\n",
    "* 162.Find Peak Element.\n",
    "* 852.Peak Index in a Mountain Array"
   ]
  },
  {
   "cell_type": "code",
   "execution_count": null,
   "metadata": {},
   "outputs": [],
   "source": [
    "# while l =< r: / l = mid + 1 / r = mid - 1  \n",
    "# while l < r: / l = mid + 1  / r = mid  \n",
    "\n",
    "# 两者区别：\n",
    "    # 一个是l,r互换的时候跳出循环；lr可相等，这样边界的值也能够被考虑进去,比如[1],l,r都是0\n",
    "    # 两个相等时跳出循环\n",
    "\n",
    "# 看 https://github.com/labuladong/fucking-algorithm/blob/master/算法思维系列/二分查找详解.md"
   ]
  },
  {
   "cell_type": "code",
   "execution_count": null,
   "metadata": {},
   "outputs": [],
   "source": [
    "# 关键点在比较 nums[mid] 与 nums[mid + 1]，然后判断是到峰，未到峰，已经过峰\n",
    "\n",
    "class Solution:\n",
    "    def findPeakElement(self, nums: List[int]) -> int:  # return peak value's index\n",
    "        if nums is None:\n",
    "            return None\n",
    "\n",
    "        l, r = 0, len(nums) - 1\n",
    "        while l < r :  # 注意l不能等于r，r=mid，这样的话，会陷入无限循环\n",
    "            mid = l + (r - l) // 2\n",
    "            if nums[mid] <= nums[mid + 1]:  # mid还没到峰\n",
    "                l = mid + 1  # 峰值不可能是mid\n",
    "            if nums[mid] > nums[mid + 1]:  # mid是峰或者已经过峰\n",
    "                r = mid  # 峰值可能是mid\n",
    "        \n",
    "        return r  # return的时候，l跟r都是同一个值"
   ]
  },
  {
   "cell_type": "markdown",
   "metadata": {},
   "source": [
    "## 二维\n",
    "### 行内递增，下一行比上一行大\n",
    "\n",
    "* Integers in each row are sorted from left to right.\n",
    "* The first integer of each row is greater than the last integer of the previous row.\n",
    "* 关键点：   \n",
    "    * l, r as 0, row*column - 1\n",
    "    * midVal = matrix[mid // column][mid % column]   \n",
    "      行是整数，列是余数   \n",
    "    \n",
    "* 74.Search a 2D Matrix"
   ]
  },
  {
   "cell_type": "code",
   "execution_count": null,
   "metadata": {},
   "outputs": [],
   "source": [
    "'''\n",
    "brute force\n",
    "'''\n",
    "\n",
    "for i in range(len(matrix)):\n",
    "    for j in range(len(matrix[0])):\n",
    "        if matrix[i][j] == target:"
   ]
  },
  {
   "cell_type": "code",
   "execution_count": null,
   "metadata": {},
   "outputs": [],
   "source": [
    "'''\n",
    "按行binary search\n",
    "\n",
    "时间复杂度: O(Mlog(N)) M是行数，N是列数\n",
    "空间复杂度: O(1)\n",
    "'''\n",
    "class Solution:\n",
    "    def searchMatrix(self, matrix, target):\n",
    "        if matrix == [] or matrix == [[]]:\n",
    "            return False\n",
    "        \n",
    "        for i in range(len(matrix)):\n",
    "            if matrix[i][0] <= target <= matrix[i][-1]:\n",
    "\n",
    "                l, r = 0, len(matrix[i]) - 1\n",
    "                while l <= r:\n",
    "                    mid = l + (r - l)//2\n",
    "                    if matrix[i][mid] == target:\n",
    "                        return True\n",
    "                    if matrix[i][mid] > target:\n",
    "                        r = mid - 1\n",
    "                    else:\n",
    "                        l = mid + 1\n",
    "        return False\n",
    "            "
   ]
  },
  {
   "cell_type": "code",
   "execution_count": null,
   "metadata": {},
   "outputs": [],
   "source": [
    "'''\n",
    "想像成二维数组都拉成一长条\n",
    "找中间点，开始search\n",
    "这种方式比上面按行要快\n",
    "\n",
    "时间复杂度: O(log(MN)) M是行数，N是列数\n",
    "空间复杂度: O(1)\n",
    "'''\n",
    "\n",
    "class Solution:\n",
    "    def searchMatrix(self, matrix: List[List[int]], target: int) -> bool:\n",
    "        if not matrix or matrix == [[]]:  \n",
    "            return False\n",
    "        \n",
    "        m = len(matrix)\n",
    "        n = len(matrix[0])\n",
    "        \n",
    "        l, r = 0, m*n - 1  # 易错点，不能忘记-1，比如3*3的二维数组，9个数，index是0-8\n",
    "        \n",
    "        while l<=r:\n",
    "            mid = l + (r-l)//2\n",
    "            \n",
    "            midVal = matrix[mid // n][mid % n]  # 关键点\n",
    "            if midVal == target:\n",
    "                return True\n",
    "            elif midVal > target:\n",
    "                r = mid - 1\n",
    "            else:\n",
    "                l = mid + 1\n",
    "                \n",
    "        return False"
   ]
  },
  {
   "cell_type": "markdown",
   "metadata": {},
   "source": [
    "### 行内递增，列内递增\n",
    "* 下一行第一个数不一定比上一行最后一个数大\n",
    "* 参考240题 Search a 2D Matrix II\n",
    "\n",
    "#### brute force   \n",
    "* Time complexity: O(MN), M is row number, N is colunm number   \n",
    "* Space: O(1) "
   ]
  },
  {
   "cell_type": "code",
   "execution_count": null,
   "metadata": {},
   "outputs": [],
   "source": [
    "for i in range(len(matrix)):\n",
    "    for j in range(len(matrix[0])):\n",
    "        if matrix[i][j] == target:"
   ]
  },
  {
   "cell_type": "markdown",
   "metadata": {},
   "source": [
    "#### binary search\n",
    "* 按行binary search，先判断target是否有可能在这一行范围内\n",
    "* Time complexity: O(MlogN) 最坏情况，每一行都有可能\n",
    "* Space: O(1)"
   ]
  },
  {
   "cell_type": "code",
   "execution_count": null,
   "metadata": {},
   "outputs": [],
   "source": [
    "class Solution:\n",
    "    def searchMatrix(self, matrix, target):\n",
    "        \"\"\"\n",
    "        :type matrix: List[List[int]]\n",
    "        :type target: int\n",
    "        :rtype: bool\n",
    "        \"\"\"\n",
    "        if matrix == [] or matrix == [[]]:\n",
    "            return False\n",
    "        \n",
    "        def find(row):\n",
    "            l, r = 0, len(row) - 1\n",
    "            while l <= r:\n",
    "                mid = l + (r - l)//2\n",
    "                if row[mid] == target:\n",
    "                    return True\n",
    "                if row[mid] > target:\n",
    "                    r = mid - 1\n",
    "                else:\n",
    "                    l = mid + 1\n",
    "            return False\n",
    "            \n",
    "        \n",
    "        for row in matrix:\n",
    "            if row[0] <= target <= row[-1]:\n",
    "                if find(row) == True:\n",
    "                    return True\n",
    "        return False"
   ]
  },
  {
   "cell_type": "markdown",
   "metadata": {},
   "source": [
    "#### diagoal bianry search\n",
    "* 对角线上的点-横行search-竖列search\n",
    "* Time Complexity: O(logN!) < O(NlogN), N is min(m, n) m, n is row numbers, column numbers\n",
    "* Space: O(1)"
   ]
  },
  {
   "cell_type": "code",
   "execution_count": 4,
   "metadata": {},
   "outputs": [],
   "source": [
    "# 行数与列数可不想等，通过matrix[i][i]为中心，一竖一横能把所有数都包含\n",
    "\n",
    "class Solution:\n",
    "    def searchMatrix(self, matrix, target):\n",
    "        \"\"\"\n",
    "        :type matrix: List[List[int]]\n",
    "        :type target: int\n",
    "        :rtype: bool\n",
    "        \"\"\"\n",
    "        if matrix == [] or matrix == [[]]:\n",
    "            return False\n",
    "        \n",
    "        m = len(matrix)\n",
    "        n = len(matrix[0])\n",
    "        \n",
    "        \n",
    "        def horizontal(i):\n",
    "            l, r = i, n - 1\n",
    "            while l <= r:\n",
    "                mid = l + (r-l)//2\n",
    "                midVal = matrix[i][mid]\n",
    "                if midVal == target:\n",
    "                    return True\n",
    "                elif midVal > target:\n",
    "                    r = mid - 1\n",
    "                elif midVal < target:\n",
    "                    l = mid + 1\n",
    "            return False\n",
    "            \n",
    "        def vertical(i):\n",
    "            l, r = i, m - 1\n",
    "            while l <=r:\n",
    "                mid = l + (r-l)//2\n",
    "                midVal = matrix[mid][i]\n",
    "                if midVal == target:\n",
    "                    return True\n",
    "                elif midVal > target:\n",
    "                    r = mid - 1\n",
    "                elif midVal < target:\n",
    "                    l = mid + 1\n",
    "            return False\n",
    "        \n",
    "        for i in range(min(m,n)):  # 对角线上点的个数=min(m,n)\n",
    "            print(i)\n",
    "            if matrix[i][i] == target:\n",
    "                return True\n",
    "            # 不能是elif，易错\n",
    "            if matrix[i][i] < target <= matrix[i][n-1]:  # 判断与不判断，好像时间上面没有差很多\n",
    "                if horizontal(i) == True:\n",
    "                    return True\n",
    "            if matrix[i][i] < target <= matrix[m-1][i]:\n",
    "                if vertical(i) == True:\n",
    "                    return True\n",
    "        return False"
   ]
  },
  {
   "cell_type": "code",
   "execution_count": null,
   "metadata": {},
   "outputs": [],
   "source": [
    "# 写法2，from李厨子\n",
    "class Solution:\n",
    "    def searchMatrix(self, matrix, target):\n",
    "        \"\"\"\n",
    "        :type matrix: List[List[int]]\n",
    "        :type target: int\n",
    "        :rtype: bool\n",
    "        \"\"\"\n",
    "        if matrix == []:  # corner case\n",
    "            return False\n",
    "        if matrix == [[]]:\n",
    "            return False\n",
    "        if target is None:\n",
    "            return False\n",
    "\n",
    "        m = len(matrix)\n",
    "        n = len(matrix[0])\n",
    "\n",
    "        for i in range(min(m, n)):\n",
    "            r = self.binarySearch(i, matrix, m, n, target, 1)\n",
    "            c = self.binarySearch(i, matrix, m, n, target, 0)\n",
    "            if r or c:\n",
    "                return True\n",
    "        return False\n",
    "\n",
    "    def binarySearch(self, i, matrix, m, n, target, horizontal):  # return if the row or columns has target\n",
    "        if horizontal == 1:\n",
    "            r = n - 1\n",
    "        else:\n",
    "            r = m - 1\n",
    "        l = i\n",
    "\n",
    "        if horizontal == 1:\n",
    "            while l <= r:\n",
    "                mid = l + (r - l) // 2\n",
    "                midVal = matrix[i][mid]\n",
    "                if midVal == target:\n",
    "                    return True\n",
    "                if midVal < target:\n",
    "                    l = mid + 1\n",
    "                else:\n",
    "                    r = mid - 1\n",
    "        else:\n",
    "            while l <= r:\n",
    "                mid = l + (r - l) // 2\n",
    "                midVal = matrix[mid][i]\n",
    "                if midVal == target:\n",
    "                    return True\n",
    "                if midVal < target:\n",
    "                    l = mid + 1\n",
    "                else:\n",
    "                    r = mid - 1\n",
    "        return False"
   ]
  },
  {
   "cell_type": "markdown",
   "metadata": {},
   "source": [
    "#### search space reduction\n",
    "* 从matrix[m-1][0]开始找，也就是最左下角的数开始对比，如果比target大，往上走也就是i-1，如果比target小，往右走j+1\n",
    "* Time complexity: O(m + n)\n",
    "* Space: O(1)\n",
    "* 并不是每个格子都扫到，其实只扫了一行和一列，故tO(m + n)"
   ]
  },
  {
   "cell_type": "code",
   "execution_count": null,
   "metadata": {},
   "outputs": [],
   "source": [
    "class Solution:\n",
    "    def searchMatrix(self, matrix, target):\n",
    "        \"\"\"\n",
    "        :type matrix: List[List[int]]\n",
    "        :type target: int\n",
    "        :rtype: bool\n",
    "        \"\"\"\n",
    "        if matrix == []:  # corner case\n",
    "            return False\n",
    "        if matrix == [[]]:\n",
    "            return False\n",
    "        if target is None:\n",
    "            return False\n",
    "\n",
    "        i = len(matrix) - 1\n",
    "        j = 0\n",
    "\n",
    "        while i >= 0 and j <= len(matrix[0]) - 1:\n",
    "            if matrix[i][j] == target:\n",
    "                return True\n",
    "            elif matrix[i][j] < target:\n",
    "                j += 1\n",
    "            else:\n",
    "                i -= 1\n",
    "        return False"
   ]
  },
  {
   "cell_type": "markdown",
   "metadata": {},
   "source": [
    "# 数学以及python"
   ]
  },
  {
   "cell_type": "markdown",
   "metadata": {},
   "source": [
    "## 牛顿法开平方\n",
    "\n",
    "根号a --> x**2 - a = 0   \n",
    "f(x) = x**2 - a   \n",
    "f(x)的一次导数是2x   \n",
    "牛顿迭代式：(x + a/x)//2   \n",
    "https://blog.csdn.net/lai_li/article/details/62221951"
   ]
  },
  {
   "cell_type": "markdown",
   "metadata": {},
   "source": [
    "## 求根号值 sqrt(int x)\n",
    "\n",
    "**Pocket Calculator Algorithm**   \n",
    "x = e^logx -> x^1/2 = e^(1/2 * logx)"
   ]
  },
  {
   "cell_type": "markdown",
   "metadata": {},
   "source": [
    "## 字母比大小"
   ]
  },
  {
   "cell_type": "code",
   "execution_count": null,
   "metadata": {},
   "outputs": [],
   "source": [
    "ord('A')  # 65\n",
    "ord('B')  # 66\n",
    "ord('a')  # 97"
   ]
  },
  {
   "cell_type": "markdown",
   "metadata": {},
   "source": [
    "## 行列"
   ]
  },
  {
   "cell_type": "code",
   "execution_count": 2,
   "metadata": {},
   "outputs": [
    {
     "data": {
      "text/plain": [
       "[10, 11, 16, 20]"
      ]
     },
     "execution_count": 2,
     "metadata": {},
     "output_type": "execute_result"
    }
   ],
   "source": [
    "matrix = [\n",
    "  [1,   3,  5,  7],\n",
    "  [10, 11, 16, 20],\n",
    "  [23, 30, 34, 50]\n",
    "]\n",
    "\n",
    "arr = matrix[1]\n",
    "arr"
   ]
  }
 ],
 "metadata": {
  "kernelspec": {
   "display_name": "Python 3",
   "language": "python",
   "name": "python3"
  },
  "language_info": {
   "codemirror_mode": {
    "name": "ipython",
    "version": 3
   },
   "file_extension": ".py",
   "mimetype": "text/x-python",
   "name": "python",
   "nbconvert_exporter": "python",
   "pygments_lexer": "ipython3",
   "version": "3.7.3"
  },
  "toc": {
   "base_numbering": 1,
   "nav_menu": {},
   "number_sections": true,
   "sideBar": true,
   "skip_h1_title": false,
   "title_cell": "Table of Contents",
   "title_sidebar": "Contents",
   "toc_cell": false,
   "toc_position": {
    "height": "calc(100% - 180px)",
    "left": "10px",
    "top": "150px",
    "width": "293.1875px"
   },
   "toc_section_display": true,
   "toc_window_display": false
  }
 },
 "nbformat": 4,
 "nbformat_minor": 4
}
