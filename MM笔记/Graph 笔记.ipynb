{
 "cells": [
  {
   "cell_type": "markdown",
   "metadata": {},
   "source": [
    "# 知识点\n",
    "\n",
    "## 基础知识\n",
    "* 顶点: vertex; 边: edge\n",
    "* **邻接表**：每个节点的邻接点的总集合   \n",
    "    * 用list表示，例如：[[1],[2],[3]]，0指向1，1指向2，2指向3\n",
    "    * 用dict表示，例如：{0:[1], 1:[2], 2:[3], 3:[]}\n",
    "* 邻接顶点   \n",
    "    * 无向图：由一条边连接起来的两个顶点，互为邻接顶点   \n",
    "            for i, j in edges:   \n",
    "                graph[j].append(i)   \n",
    "                graph[i].append(j)   \n",
    "    * 有向图：u->v, u的邻接点是v，即指向的点为邻接点   \n",
    "            for i, j in edges:   \n",
    "                graph[j].append(i)   \n",
    "* 有环无环，单个多个   \n",
    "    n个顶点，edges，无平行边\n",
    "    * **无环孤立**   \n",
    "        * n == 1，len(edges)==0\n",
    "        * n > 1 --> n = len(edges) + 1\n",
    "    * **有环孤立**  \n",
    "        * 可以是多个环\n",
    "        * n < len(edges) + 1\n",
    "    * **无环多个**   \n",
    "        * n > len(edges) + 1\n",
    "    * **有环多个**  \n",
    "        * n >=< len(edges) + 1\n",
    "        \n",
    "        \n",
    "## 常见题型\n",
    "### 无向图\n",
    "* 是否有环\n",
    "    * DFS: visited(0,1)；parent法；核心：无环的时候，其访问过的节点有且只有一个，并且是其上一个节点\n",
    "    * BFS: 同DFS\n",
    "    * Union find: root1 == root2则有环\n",
    "* 孤立个数\n",
    "    * DFS\n",
    "    * BFS\n",
    "    * Union find: n(节点个数) - numb(连接的次数）\n",
    "* 路径层数\n",
    "* 路径和\n",
    "\n",
    "### 有向图\n",
    "* 是否有环\n",
    "    * DFS: visited(-1, 0, 1)；核心：遇到正在被访问的node(visited[i] == 0)，则有环\n",
    "    * Topo sort: indegree / outdegree; 遍历完之后，有入度不为0的node，则有环\n",
    "* 孤立个数\n",
    "    * DFS / BFS\n",
    "    \n",
    "* 路径层数\n",
    "* 路径和\n",
    "\n",
    "## 时间空间复杂度\n",
    "* DFS\n",
    "* BFS\n",
    "* 并查集\n",
    "* 拓扑   \n",
    "\n",
    "时间空间都是 O(E+V)   \n",
    "**空间**：\n",
    "* 建立visited，用V\n",
    "* 建立graph，用E\n",
    "* DFS：会有保存的栈，也就是考虑最大层数，最坏情况是有V层\n",
    "* BFS：会有保存的栈，也就是考虑最宽的层，最坏情况是E\n",
    "\n",
    "**时间**：\n",
    "* 建立visited，V\n",
    "* 建立graph，V\n",
    "* 遍历edges，E\n",
    "* DFS/BFS遍历图，V\n"
   ]
  },
  {
   "cell_type": "code",
   "execution_count": null,
   "metadata": {},
   "outputs": [],
   "source": [
    "# !/usr/bin/python\n",
    "# -*- coding: utf-8 -*-\n",
    "# @Time    : 2020/03  \n",
    "# @Author  : XU Liu\n",
    "# @FileName: \n",
    "\n",
    "'''\n",
    "1. 题目要求：\n",
    "\n",
    "\n",
    "2. 理解：\n",
    "\n",
    "\n",
    "3. 题目类型：\n",
    "\n",
    "\n",
    "4. 输出输入以及边界条件：\n",
    "input: \n",
    "output: \n",
    "corner case: \n",
    "\n",
    "5. 解题思路\n",
    "    \n",
    "\n",
    "'''"
   ]
  },
  {
   "cell_type": "markdown",
   "metadata": {},
   "source": [
    "# 题目\n",
    "\n",
    "## 图的基础\n",
    "* 133.Clone Graph (任务)\n",
    "\n",
    "\n",
    "## 无向图\n",
    "\n",
    "**判断孤立和分群**   \n",
    "* 323.Number of Connected Components in an Undirected Graph(并查集) (3/20)\n",
    "* 547.Friend Circles(并查集)(3/22)\n",
    "* 1202.Smallest String With Swapy\t\n",
    "\n",
    "**判断环**\n",
    "* 261.Graph Valid Tree(完成1)\n",
    "\n",
    "**路径和-求层数** \n",
    "* 无向图的最长距离.py\n",
    "\n",
    "\n",
    "## 有向图\n",
    "\n",
    "**判断孤立个数和分群**   \n",
    "* 841.Keys and Rooms (完成1)\n",
    "\n",
    "**判断环**   \n",
    "* 207.Course Schedule(完成1)\n",
    "* 802.Find Eventual Safe States (3/20)\n",
    "\n",
    "**路径和-求层数**   \n",
    "* 1376.Time Needed to Inform All Employees (完成1)\n",
    "* 210.Course Schedule II (完成1)\n",
    "* 399.Evaluate Division (完成1)\n",
    "* 444.Sequence Reconstruction (3/20)\n",
    "* 程序的依赖关系.py\n",
    "\n",
    "\n",
    "## 网格搜索\n",
    "* 200.Number of Islands (完成1)\n",
    "* 733.Flood Fill (完成1)\n",
    "\n",
    "## 笔记\n",
    "* 无向图遍历-BFS.py\n",
    "* 无向图遍历-DFS.py\n",
    "* 无向图判断是否有环.py\n",
    "* 有向图判断是否有环.py\n",
    "* 拓扑排序.py\n",
    "* 并查集.py\n",
    "\n",
    "**未完成**   \n",
    "* 无向图的最长距离\n",
    "\n"
   ]
  },
  {
   "cell_type": "markdown",
   "metadata": {},
   "source": [
    "# 代码总结"
   ]
  },
  {
   "cell_type": "markdown",
   "metadata": {},
   "source": [
    "## 无向图\n",
    "### 遍历\n",
    "#### DFS"
   ]
  },
  {
   "cell_type": "code",
   "execution_count": 1,
   "metadata": {},
   "outputs": [],
   "source": [
    "# node从0开始\n",
    "# make visited[0,1] and graph\n",
    "# 遍历每一个节点，然后遍历该节点相邻的节点\n",
    "class Graph:\n",
    "    def dfsTraversal(self, nums, pairs):\n",
    "        if nums == None:\n",
    "            return\n",
    "        if pairs == None:\n",
    "            return [i for i in range(nums)]\n",
    "        \n",
    "        visited = [0] * nums\n",
    "        graph = [[] for _ in range(nums)]\n",
    "        \n",
    "        for i, j in pairs:\n",
    "            graph[i].append(j)\n",
    "            graph[j].append(i)\n",
    "            \n",
    "        def dfs(index):\n",
    "            if visited == [1] * nums:\n",
    "                return \n",
    "            visited[index] = 1\n",
    "            for out_index in graph[index]:\n",
    "                if visited[out_index] == 0:\n",
    "                    dfs(out_index)\n",
    "            \n",
    "        for i in range(nums):\n",
    "            if visited[i] == 0:\n",
    "                dfs(i)\n",
    "        return \n",
    "    "
   ]
  },
  {
   "cell_type": "markdown",
   "metadata": {},
   "source": [
    "#### BFS"
   ]
  },
  {
   "cell_type": "code",
   "execution_count": 2,
   "metadata": {},
   "outputs": [],
   "source": [
    "from collections import deque\n",
    "class Graph:\n",
    "    def bfsGraph(self, nums, pairs):\n",
    "        if nums == 0:\n",
    "            return 0\n",
    "        if pairs == None:\n",
    "            return nums\n",
    "        \n",
    "        visited = [0] * nums\n",
    "        graph = [[] for _ in range(nums)]\n",
    "        \n",
    "        for i, j in pairs:\n",
    "            graph[j].append(i)\n",
    "            graph[i].append(j)\n",
    "        \n",
    "        queue = deque()\n",
    "        for i in range(nums):\n",
    "            if visited[i] == 0:\n",
    "                queue.append(i)\n",
    "                \n",
    "            while queue:\n",
    "                index = queue.popleft()\n",
    "                visited[index] = 1\n",
    "\n",
    "                for out_index in graph[index]:\n",
    "                    if visited[out_index] == 0:\n",
    "                        queue.append(out_index)\n",
    "        return \n",
    "\n",
    "        "
   ]
  },
  {
   "cell_type": "markdown",
   "metadata": {},
   "source": [
    "### 判断环\n",
    "* 261题（这题不仅要判断有没有环，还要判断是不是孤立群）\n",
    "\n",
    "#### DFS [0,1] 和 parent"
   ]
  },
  {
   "cell_type": "code",
   "execution_count": 3,
   "metadata": {},
   "outputs": [],
   "source": [
    "# True: 有环\n",
    "# False: 没有环\n",
    "# 无环：其访问过的节点有且只有一个，并且是其节点的上一个节点（parent_index)\n",
    "\n",
    "class Graph:\n",
    "    def findCircle(self, nums, pairs):\n",
    "        if nums == 0 or pairs == [] or pairs == [[]]: \n",
    "            return False\n",
    "        \n",
    "        visited = [0] * nums\n",
    "        graph = [[] for _ in range(nums)]\n",
    "        \n",
    "        for i, j in pairs:\n",
    "            graph[i].append(j)\n",
    "            graph[j].append(i)\n",
    "            \n",
    "        def dfs(index, parent):\n",
    "            visited[index] = 1\n",
    "            \n",
    "            for j in graph[index]:\n",
    "                if visited[j] == 0:\n",
    "                    if dfs(j, index) == True:\n",
    "                        return True\n",
    "                elif j != parent:\n",
    "                    return True\n",
    "            return False\n",
    "            \n",
    "            \n",
    "        for i in range[nums]:\n",
    "            if visited[i] == 0:\n",
    "                if dfs(i, -1) == True:\n",
    "                    return True\n",
    "        return False"
   ]
  },
  {
   "cell_type": "code",
   "execution_count": 5,
   "metadata": {},
   "outputs": [
    {
     "name": "stdout",
     "output_type": "stream",
     "text": [
      "{1: 0, 2: 0, 3: 0, 4: 0}\n"
     ]
    }
   ],
   "source": [
    "nums = [1, 2, 3, 4]\n",
    "n = len(nums)\n",
    "visited = {x:0 for x in range(1, n + 1)}\n",
    "print(visited)"
   ]
  },
  {
   "cell_type": "code",
   "execution_count": 6,
   "metadata": {},
   "outputs": [
    {
     "data": {
      "text/plain": [
       "defaultdict(list, {1: [2], 3: [2]})"
      ]
     },
     "execution_count": 6,
     "metadata": {},
     "output_type": "execute_result"
    }
   ],
   "source": [
    "from collections import defaultdict\n",
    "pairs = [[1,2],[3,2]]\n",
    "graph = defaultdict(list)\n",
    "for i, j in pairs:\n",
    "    graph[i].append(j)\n",
    "graph"
   ]
  },
  {
   "cell_type": "markdown",
   "metadata": {},
   "source": [
    "#### BFS 建立parent_tag"
   ]
  },
  {
   "cell_type": "code",
   "execution_count": 4,
   "metadata": {},
   "outputs": [],
   "source": [
    "# True: 有环\n",
    "# False: 没有环\n",
    "\n",
    "from collections import deque, defaultdict\n",
    "class Graph:\n",
    "    def findCircle(self, nums, pairs):\n",
    "        if nums == None or pairs == None:\n",
    "            return False\n",
    "        \n",
    "        visited = [0] * nums\n",
    "        graph = defaultdict(set)\n",
    "        queue = deque()\n",
    "        \n",
    "        for i, j in pairs:\n",
    "            graph[i].add(j)\n",
    "            graph[j].add(i)\n",
    "            \n",
    "        for i in range(nums):\n",
    "            if visited[i] == 0:\n",
    "                queue.append([i,-1])\n",
    "            \n",
    "            while queue:\n",
    "                index, parent = queue.popleft()\n",
    "                visited[index] = 1\n",
    "                \n",
    "                for out_index in graph[index]:\n",
    "                    if visited[out_index] == 0:\n",
    "                        queue.append([out_index, index])\n",
    "                    elif out_index != parent:\n",
    "                        return False\n",
    "        return True\n",
    "        \n",
    "        "
   ]
  },
  {
   "cell_type": "markdown",
   "metadata": {},
   "source": [
    "#### 并查集\n",
    "是否有重复相连的情况(root1 == root2)，有就是有环，没有就是没环"
   ]
  },
  {
   "cell_type": "code",
   "execution_count": 5,
   "metadata": {},
   "outputs": [],
   "source": [
    "# True: 有环\n",
    "# False: 没有环\n",
    "\n",
    "class Graph:\n",
    "    def unionfindCircle(self, nums, pairs):\n",
    "        if nums == None or pairs == None:\n",
    "            return False\n",
    "        \n",
    "        gT = [i for i in range(nums)]  # groupTag\n",
    "        \n",
    "        def find(index):\n",
    "            if gT[index] == index:\n",
    "                return index\n",
    "            else:\n",
    "                return find(gt[index])\n",
    "        \n",
    "        for i, j in pairs:\n",
    "            root1 = find(i)\n",
    "            root2 = find(j)\n",
    "            \n",
    "            if root1 == root2:\n",
    "                return True\n",
    "            \n",
    "            else:\n",
    "                gT[root2] = root1\n",
    "                \n",
    "        return False\n",
    "            "
   ]
  },
  {
   "cell_type": "markdown",
   "metadata": {},
   "source": [
    "### 孤立群的个数\n",
    "* 323：判断有几个群\n",
    "* 547\n",
    "* 1202\n",
    "\n",
    "#### DFS [0,1]法则"
   ]
  },
  {
   "cell_type": "code",
   "execution_count": 6,
   "metadata": {},
   "outputs": [
    {
     "name": "stdout",
     "output_type": "stream",
     "text": [
      "2\n"
     ]
    }
   ],
   "source": [
    "class Graph:\n",
    "    def dfsGraph(self, nums, pairs):\n",
    "        if nums == 0:\n",
    "            return 0\n",
    "        if pairs == None:\n",
    "            return nums\n",
    "        \n",
    "        visited = [0] * nums\n",
    "        graph = [[] for _ in range(nums)]\n",
    "        \n",
    "        for i, j in pairs:\n",
    "            graph[j].append(i)\n",
    "            graph[i].append(j)\n",
    "        \n",
    "        def dfs(index):\n",
    "            if visited == [1] * nums:\n",
    "                return\n",
    "            visited[index] = 1\n",
    "            \n",
    "            for out_index in graph[i]:\n",
    "                if visited[out_index] == 0:\n",
    "                    dfs(out_index)\n",
    "            \n",
    "        island_nums = 0\n",
    "        for i, v in enumerate(visited):\n",
    "            if v == 0:\n",
    "                dfs(i)\n",
    "                island_nums += 1\n",
    "        return island_nums\n",
    "            \n",
    "x = Graph()\n",
    "print(x.dfsGraph(4,[[2,3],[1,2],[1,3]]))"
   ]
  },
  {
   "cell_type": "markdown",
   "metadata": {},
   "source": [
    "#### BFS"
   ]
  },
  {
   "cell_type": "code",
   "execution_count": 7,
   "metadata": {},
   "outputs": [
    {
     "name": "stdout",
     "output_type": "stream",
     "text": [
      "2\n"
     ]
    }
   ],
   "source": [
    "from collections import deque\n",
    "class Graph:\n",
    "    def bfsGraph(self, nums, pairs):\n",
    "        if nums == 0:\n",
    "            return 0\n",
    "        if pairs == None:\n",
    "            return nums\n",
    "        \n",
    "        visited = [0] * nums\n",
    "        graph = [[] for _ in range(nums)]\n",
    "        \n",
    "        for i, j in pairs:\n",
    "            graph[j].append(i)\n",
    "            graph[i].append(j)\n",
    "        \n",
    "        queue = deque()\n",
    "        island_nums = 0\n",
    "        for i, v in enumerate(visited): \n",
    "            if v == 0:\n",
    "                queue.append(i)\n",
    "                island_nums += 1\n",
    "                \n",
    "                while queue:\n",
    "                    index = queue.popleft()\n",
    "                    visited[index] = 1\n",
    "\n",
    "                    for out_index in graph[index]:\n",
    "                        if visited[out_index] == 0:\n",
    "                            queue.append(out_index)\n",
    "                    \n",
    "        return island_nums\n",
    "\n",
    "x = Graph()\n",
    "print(x.bfsGraph(4,[[2,3],[1,2],[1,3]]))"
   ]
  },
  {
   "cell_type": "markdown",
   "metadata": {},
   "source": [
    "#### 并查集"
   ]
  },
  {
   "cell_type": "code",
   "execution_count": 8,
   "metadata": {},
   "outputs": [
    {
     "name": "stdout",
     "output_type": "stream",
     "text": [
      "[0, 1, 1, 2]\n",
      "2\n",
      "2\n"
     ]
    }
   ],
   "source": [
    "class Graph:\n",
    "    def unionFind(self, nums, pairs):\n",
    "        if nums == 0:\n",
    "            return 0\n",
    "        if pairs == None:\n",
    "            return nums\n",
    "        \n",
    "        gT = [i for i in range(nums)]  # graphTag\n",
    "        \n",
    "        def find(index):\n",
    "            if gT[index] == index:\n",
    "                return index\n",
    "            return find(gT[index])\n",
    "        \n",
    "        connect = 0\n",
    "        for i, j in pairs:\n",
    "            root1 = find(i)\n",
    "            root2 = find(j)\n",
    "            if root1 == root2:\n",
    "                pass\n",
    "            else:\n",
    "                connect += 1\n",
    "                gT[root2] = root1\n",
    "                \n",
    "        print(gT)\n",
    "        print(connect)\n",
    "        return (nums - connect)\n",
    "\n",
    "x = Graph()\n",
    "print(x.unionFind(4,[[2,3],[1,2],[1,3]]))"
   ]
  },
  {
   "cell_type": "markdown",
   "metadata": {},
   "source": [
    "#### 并查集（rank）"
   ]
  },
  {
   "cell_type": "code",
   "execution_count": 9,
   "metadata": {},
   "outputs": [],
   "source": [
    "class Graph:\n",
    "    def unionFind(self, n, pairs):\n",
    "        if not pairs or pairs == [[]]:\n",
    "            return None\n",
    "        \n",
    "        groupTag = [i for i in range(n)]\n",
    "        rank = [1] * n  # 用一个rank来记录该node下面有几个相关node\n",
    "\n",
    "        def find(index):\n",
    "            if groupTag[index] == index:\n",
    "                return index\n",
    "            else:\n",
    "                return find(groupTag[index])\n",
    "\n",
    "        connect = 0\n",
    "        for i, j in pairs:\n",
    "            root1 = find(i)\n",
    "            root2 = find(j)\n",
    "            if root1 != root2:\n",
    "                if rank[root1] >= rank[root2]:\n",
    "                    rank[root1] += rank[root2]\n",
    "                    groupTag[root2] == root1\n",
    "                    connect += 1\n",
    "                else:\n",
    "                    rank[root2] += rank[root1]\n",
    "                    groupTag[root1] = root2\n",
    "                    connect += 1\n",
    "        \n",
    "        return (n - connect)\n",
    "\n",
    "# 疑问点： 为什么用了rank之后，速度会变快？？？"
   ]
  },
  {
   "cell_type": "markdown",
   "metadata": {},
   "source": [
    "### 路径\n",
    "* 狗家OA 无向图的最远路径\n",
    "\n",
    "#### BFS 输出所有path"
   ]
  },
  {
   "cell_type": "code",
   "execution_count": 8,
   "metadata": {},
   "outputs": [
    {
     "name": "stdout",
     "output_type": "stream",
     "text": [
      "2\n"
     ]
    }
   ],
   "source": [
    "from collections import defaultdict, deque\n",
    "nums = 6\n",
    "pairs = [[1,4],[2,3],[3,4],[4,5],[5,6]]\n",
    "\n",
    "# 找到每个node的最长路径\n",
    "all_longest = []\n",
    "for i in range(1, nums + 1):\n",
    "    visited = {x: 0 for x in range(1, nums + 1)}\n",
    "    graph = defaultdict(list)\n",
    "    for k,v in pairs:\n",
    "        graph[int(k)].append(int(v))\n",
    "        graph[int(v)].append(int(k))\n",
    "\n",
    "    queue = deque()\n",
    "    queue.append([i, 0])\n",
    "    max_d = 0\n",
    "\n",
    "    while queue:\n",
    "        node, d = queue.popleft()\n",
    "        max_d = max(max_d, d)\n",
    "        visited[node] = 1\n",
    "\n",
    "        for out_index in graph[node]:\n",
    "            if visited[out_index] == 0:\n",
    "                queue.append([out_index, max_d + 1])\n",
    "    all_longest.append(max_d)\n",
    "\n",
    "# 找到最长路径里面的最小路径\n",
    "subres = min(all_longest)\n",
    "print(subres)"
   ]
  },
  {
   "cell_type": "markdown",
   "metadata": {},
   "source": [
    "## 有向图"
   ]
  },
  {
   "cell_type": "markdown",
   "metadata": {},
   "source": [
    "### 判断环\n",
    "* 并不能用无向图的visited[0,1]法则来处理的理由：    \n",
    "    在无向图里面，pair里面同时存在[0,1][1,0]，是重复，是同一个东西    \n",
    "    在有向图里面，是双指向，表示的是环\n",
    "    \n",
    "    \n",
    "* 207\n",
    "* 802\n",
    "\n",
    "#### DFS [-1,0,1]法则\n",
    "* 遇到很在被visited的点，说明有环 （visited[i] == 0\n"
   ]
  },
  {
   "cell_type": "code",
   "execution_count": 10,
   "metadata": {},
   "outputs": [
    {
     "name": "stdout",
     "output_type": "stream",
     "text": [
      "True\n"
     ]
    }
   ],
   "source": [
    "#node从0开始\n",
    "\n",
    "class Graph:\n",
    "    def findCircle(self, nums, pairs):  # 有环：Treu 没环：False\n",
    "        if nums == 0:\n",
    "            return False\n",
    "        if pairs == None:\n",
    "            return False\n",
    "        \n",
    "        visited = [-1] * nums\n",
    "        graph = [[] for _ in range(nums)]\n",
    "        \n",
    "        for i, j in pairs:\n",
    "            graph[i].append(j)  # i-->j\n",
    "            # graph[j].append(i)  # j --> i\n",
    "        \n",
    "        def dfs(index):\n",
    "            if visited[index] == 0:\n",
    "                return True\n",
    "            if visited[index] == 1:\n",
    "                return False\n",
    "            \n",
    "            visited[index] = 0\n",
    "            for out_index in graph[index]:\n",
    "                if dfs(out_index) == True:\n",
    "                    return True\n",
    "                \n",
    "            visited[index] = 1\n",
    "            return False\n",
    "        \n",
    "        for i in range(nums):\n",
    "            # if visited[i] != 1:\n",
    "            if dfs(i) == True:\n",
    "                return True\n",
    "        return False\n",
    "\n",
    "x = Graph()\n",
    "print(x.findCircle(4,[[0,1],[1,2],[2,3],[3,0]]))\n",
    "            "
   ]
  },
  {
   "cell_type": "markdown",
   "metadata": {},
   "source": [
    "#### 拓扑排序\n",
    "* 最后indgree里面还有不是0的节点，则有环"
   ]
  },
  {
   "cell_type": "code",
   "execution_count": 11,
   "metadata": {},
   "outputs": [
    {
     "name": "stdout",
     "output_type": "stream",
     "text": [
      "True\n"
     ]
    }
   ],
   "source": [
    "# node从0开始\n",
    "# 如果node不是从0开始，那么indegree跟outdegree不是list而是dict，key是值，value是原本list里面的内容\n",
    "# 建立dict的时候，可以用defaultdict来建立，比如indegree = defaultdict(int)\n",
    "# 注意：indegree里面的key要包含所有nodes，没有入度的一定要标记成0；而outdegree里面的key可以不包含所有nodes，没有出度的node可以不创建key，保留默认值就可\n",
    "\n",
    "from collections import deque\n",
    "class Graph:\n",
    "    def topoSort(self, nums, pairs):\n",
    "        if nums == 0:\n",
    "            return False\n",
    "        if pairs == None:\n",
    "            return False\n",
    "        \n",
    "        indegree = [0] * nums\n",
    "        outdegree = [[] for _ in range(nums)]\n",
    "        \n",
    "        for i, j in pairs:\n",
    "            outdegree[i].append(j)  # i --> j\n",
    "            indegree[j] += 1\n",
    "            \n",
    "        queue = deque()\n",
    "        for i, v in enumerate(indegree):\n",
    "            if v == 0:\n",
    "                queue.append(i)\n",
    "        \n",
    "        while queue:\n",
    "            index = queue.popleft()\n",
    "            \n",
    "            for out_index in outdegree[index]:\n",
    "                indegree[out_index] -= 1\n",
    "                if indegree[out_index] == 0:\n",
    "                    queue.append(out_index)\n",
    "        if indegree == [0] * nums:\n",
    "            return False\n",
    "        else:\n",
    "            return True\n",
    "    \n",
    "\n",
    "x = Graph()\n",
    "print(x.topoSort(4,[[0,1],[1,2],[2,3],[3,0]]))"
   ]
  },
  {
   "cell_type": "code",
   "execution_count": 12,
   "metadata": {},
   "outputs": [],
   "source": [
    "# outdegree记录次数\n",
    "# indegree记录进点的node\n",
    "# 参考802题"
   ]
  },
  {
   "cell_type": "markdown",
   "metadata": {},
   "source": [
    "### 孤立群的个数\n",
    "\n",
    "DFS，BFS与无向图的数孤立群个数的模版是一致的   \n",
    "某种意义上，数孤立群个数时，不必管有没有方向\n",
    "\n",
    "* 841.Keys and Rooms: 判断是否是孤立群"
   ]
  },
  {
   "cell_type": "markdown",
   "metadata": {},
   "source": [
    "#### DFS"
   ]
  },
  {
   "cell_type": "code",
   "execution_count": null,
   "metadata": {},
   "outputs": [],
   "source": [
    "# 数群的个数\n",
    "class Solution:\n",
    "    def canVisitAllRooms(self, rooms: List[List[int]]) -> bool:\n",
    "        if rooms == [[]] or rooms == [] or len(rooms) == 1:\n",
    "            return True\n",
    "        \n",
    "        visited = [0] * len(rooms)\n",
    "        def dfs(index):\n",
    "            if visited[index] == 1:\n",
    "                return \n",
    "            visited[index] = 1\n",
    "            for each_key in rooms[index]:\n",
    "                if visited[each_key] != 1:\n",
    "                    dfs(each_key)\n",
    "            \n",
    "        island_numb = 0\n",
    "        for i, v in enumerate(visited):\n",
    "            if v == 0:\n",
    "                dfs(i)\n",
    "                island_numb += 1\n",
    "        return island_numb == 1"
   ]
  },
  {
   "cell_type": "code",
   "execution_count": null,
   "metadata": {},
   "outputs": [],
   "source": [
    "# 判断是否是孤立群\n",
    "'''\n",
    "从0节点开始，只转一次，看能否遍历到所有点\n",
    "'''\n",
    "class Graph:\n",
    "    def canVisitAllRooms(self, rooms):\n",
    "        if rooms == None:\n",
    "            return True\n",
    "        if len(rooms) == 1:\n",
    "            return True\n",
    "         \n",
    "        visited = [0] * len(rooms)   \n",
    "        \n",
    "        def dfs(index):\n",
    "            if visited[index] == 1:\n",
    "                return\n",
    "\n",
    "            visited[index] = 1\n",
    "            \n",
    "            for each_key in rooms[index]:\n",
    "                dfs(each_key)\n",
    "            return\n",
    "            \n",
    "        visited[0] = 1  \n",
    "        for index in rooms[0]:        \n",
    "            if visited[index] == 0:\n",
    "                dfs(index)\n",
    "        \n",
    "        return visited == [1] * len(rooms)\n"
   ]
  },
  {
   "cell_type": "markdown",
   "metadata": {},
   "source": [
    "#### BFS"
   ]
  },
  {
   "cell_type": "code",
   "execution_count": null,
   "metadata": {},
   "outputs": [],
   "source": [
    "# 数群的个数\n",
    "from collections import deque\n",
    "class Solution:\n",
    "    def canVisitAllRooms(self, rooms: List[List[int]]) -> bool:\n",
    "        if rooms == [] or rooms == [[]] or len(rooms) == 1:\n",
    "            return True\n",
    "        \n",
    "        visited = [0] * len(rooms)\n",
    "        \n",
    "        queue = deque()\n",
    "        island_num = 0\n",
    "        for i, v in enumerate(visited):\n",
    "            if v == 0:\n",
    "                queue.append(i)\n",
    "                island_num += 1\n",
    "                \n",
    "                while queue:\n",
    "                    index = queue.popleft()\n",
    "                    visited[index] = 1\n",
    "                    for out in rooms[index]:\n",
    "                        if visited[out] != 1:\n",
    "                            queue.append(out)\n",
    "        return island_num == 1\n",
    "        "
   ]
  },
  {
   "cell_type": "code",
   "execution_count": null,
   "metadata": {},
   "outputs": [],
   "source": [
    "# 判断是否是孤立群\n",
    "from collections import deque\n",
    "class Solution:\n",
    "    def canVisitAllRooms(self, rooms: List[List[int]]) -> bool:\n",
    "        if rooms == None:\n",
    "            return True\n",
    "        if len(rooms) == 1:\n",
    "            return True\n",
    "        \n",
    "        visited = [0] * len(rooms)\n",
    "        \n",
    "        queue = deque()\n",
    "        queue.append(0)\n",
    "        \n",
    "        while queue:\n",
    "            index = queue.popleft()\n",
    "            \n",
    "            if visited[index] == 0:\n",
    "                visited[index] = 1\n",
    "                for i in rooms[index]:\n",
    "                    if visited[i] == 0:\n",
    "                        queue.append(i)\n",
    "        return visited == [1] * len(rooms)"
   ]
  },
  {
   "cell_type": "markdown",
   "metadata": {},
   "source": [
    "### 路径和-求层数\n",
    "\n",
    "* 210.Course Schedule II\n",
    "* 399.Evaluate Division \n",
    "* 444.Sequence Reconstruction \n",
    "* 1376.Time Needed to Inform All Employees \n",
    "* 程序的依赖关系.py"
   ]
  },
  {
   "cell_type": "code",
   "execution_count": null,
   "metadata": {},
   "outputs": [],
   "source": [
    "from collections import deque, defaultdict\n",
    "class Solution:\n",
    "    def numOfMinutes(self, n: int, headID: int, manager: List[int], informTime: List[int]) -> int:\n",
    "        if n == 0:\n",
    "            return 0\n",
    "        if n == 1:\n",
    "            return informTime[0]\n",
    "        \n",
    "        graph = defaultdict(list)\n",
    "        for i, v in enumerate(manager):  # index --> value; v --> key\n",
    "            graph[v].append(i)\n",
    "            \n",
    "        print(graph)\n",
    "        queue = deque()\n",
    "        queue.append([headID, 0])\n",
    "        max_time = 0\n",
    "        \n",
    "        while queue:\n",
    "            ID, time = queue.popleft()\n",
    "            time += informTime[ID]\n",
    "            if ID not in graph:\n",
    "                max_time = max(time, max_time)\n",
    "            else:\n",
    "                for elem in graph[ID]:\n",
    "                    queue.append([elem, time])\n",
    "        return max_time"
   ]
  },
  {
   "cell_type": "markdown",
   "metadata": {},
   "source": [
    "### 网格搜索\n",
    "* 易错点：注意grid里面是int还是str\n",
    "* コツ：\n",
    "    * 边界条件，可行的条件，i >= 0, i <= len(n) - 1, visited[i] == 0, grid[i] == 1/'1'\n",
    "    * append之后马上visited[i] = 1，这样不容易错\n",
    "\n",
    "\n",
    "* 200.Number of Islands\n",
    "* 733\n",
    "* 狗家OA，相同岛屿，迷宫死路个数"
   ]
  },
  {
   "cell_type": "markdown",
   "metadata": {},
   "source": [
    "#### DFS"
   ]
  },
  {
   "cell_type": "code",
   "execution_count": null,
   "metadata": {},
   "outputs": [],
   "source": [
    "class MySolution:\n",
    "    def main(self, grid):\n",
    "        if not grid:  # corner case\n",
    "            return None\n",
    "        if len(grid) == 1:\n",
    "            return\n",
    "        \n",
    "        # build empty visited with the same size as grid\n",
    "        visited = [[0 for _ in range(len(grid[0]))] for _ in range(len(grid))]\n",
    "        # visited =[[0] * len(grid[0]) for _ in range(len(grid))] --> [[0], [0], [0], [0]]\n",
    "        \n",
    "        # scan grid and dfs the island node\n",
    "        for i in range(len(grid)):  # len(grid) = 行数\n",
    "            for j in range(len(gird[i])):  # len(gird[i]) = 每行里面的个数\n",
    "                if grid[i][j] == 1 and visited[i][j] == 0:\n",
    "                    self.dfs(i, j, visited, grid)\n",
    "        return\n",
    "        \n",
    "    def dfs(self, i, j, visited, grid):  # i: 行; j: 列\n",
    "        if i < 0 or j <0 or i > len(grid) - 1 or j > len(grid[0]) - 1 or visited[i][j] == 1:  # 结束条件\n",
    "            return\n",
    "\n",
    "        # set visited\n",
    "        visited[i][j] = 1\n",
    "        self.dfs(i - 1, j, visited, grid)  # 上走一格\n",
    "        self.dfs(i + 1, j, visited, grid)  # 下走一格\n",
    "        self.dfs(i, j - 1, visited, grid)  # 左走一格\n",
    "        self.dfs(i, j + 1, visited, grid)  # 右走一格"
   ]
  },
  {
   "cell_type": "markdown",
   "metadata": {},
   "source": [
    "#### BFS"
   ]
  },
  {
   "cell_type": "code",
   "execution_count": null,
   "metadata": {},
   "outputs": [],
   "source": [
    "class MySolution:\n",
    "    def main(self, grid):\n",
    "        if not grid:  # corner case\n",
    "            return None\n",
    "        if len(grid) == 1:\n",
    "            return\n",
    "        \n",
    "        # build empty visited with the same size as grid\n",
    "        visited = [[0 for _ in range(len(grid[0]))] for _ in range(len(grid))]\n",
    "        \n",
    "        from collections import deque\n",
    "        \n",
    "        for i in range(len(grid)):\n",
    "            for j in range(len(gird[i])):\n",
    "                if grid[i][j] == 1 and visited[i][j] == 0:\n",
    "                    queue.append([i, j])  # 0行0列\n",
    "                    visited[i][j] = 1\n",
    "                    while queue:\n",
    "                        r, c = queue.popleft()  # row 行, cloumn 列\n",
    "                        if r - 1 >= 0 and visited[r - 1][c] == 0:\n",
    "                            queue.append([r - 1, c])  # 向上走一格\n",
    "                            visited[r - 1][c] = 1\n",
    "                        if r + 1 <= len(grid) - 1 and visited[r + 1][c] == 0:\n",
    "                            queue.append([r + 1, c])  # 向下走一格\n",
    "                            visited[r + 1][c] = 1\n",
    "                        if c - 1 >= 0 and visited[r][c - 1] == 0:\n",
    "                            queue.append([r, c - 1])  # 向右走一格\n",
    "                            visited[r][c - 1] = 1\n",
    "                        if c + 1 <= len(grid[0]) - 1 and visited[r][c + 1] == 0:\n",
    "                            queue.append([r, c + 1])  # 向左走一格\n",
    "                            visited[r][c + 1] = 1\n",
    "        return"
   ]
  },
  {
   "cell_type": "markdown",
   "metadata": {},
   "source": [
    "# Python\n"
   ]
  },
  {
   "cell_type": "code",
   "execution_count": null,
   "metadata": {},
   "outputs": [],
   "source": [
    "from collections import defaultdict\n",
    "\n",
    "l1 = [[0,1], [1,3], [3,4], [2,3], [3,5], [1,4],[1,4]]\n",
    "graph = defaultdict(set)\n",
    "for k,v in l1:\n",
    "    graph[k].add(v)\n",
    "\n",
    "graph"
   ]
  }
 ],
 "metadata": {
  "kernelspec": {
   "display_name": "Python 3",
   "language": "python",
   "name": "python3"
  },
  "language_info": {
   "codemirror_mode": {
    "name": "ipython",
    "version": 3
   },
   "file_extension": ".py",
   "mimetype": "text/x-python",
   "name": "python",
   "nbconvert_exporter": "python",
   "pygments_lexer": "ipython3",
   "version": "3.7.3"
  },
  "toc": {
   "base_numbering": 1,
   "nav_menu": {},
   "number_sections": true,
   "sideBar": true,
   "skip_h1_title": false,
   "title_cell": "Table of Contents",
   "title_sidebar": "Contents",
   "toc_cell": false,
   "toc_position": {
    "height": "calc(100% - 180px)",
    "left": "10px",
    "top": "150px",
    "width": "255.59375px"
   },
   "toc_section_display": true,
   "toc_window_display": false
  }
 },
 "nbformat": 4,
 "nbformat_minor": 4
}
