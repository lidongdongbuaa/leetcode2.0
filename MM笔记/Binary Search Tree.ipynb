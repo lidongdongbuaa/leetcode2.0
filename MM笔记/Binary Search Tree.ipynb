{
 "cells": [
  {
   "cell_type": "markdown",
   "metadata": {},
   "source": [
    "# 知识点\n",
    "\n",
    "## 定义\n",
    "* 使用可比较键来指定孩子的方向。Uses comparable keys to assign which direction a child is.\n",
    "* 左子节点的键小于其父节点 Left child has a key smaller than its parent node.\n",
    "* 右子项的键大于其父节点 Right child has a key greater than its parent node.\n",
    "* 不能有重复的节点 There can be no duplicate node.\n",
    "* 任意节点的左右子树也分别为二叉搜索树\n",
    "\n",
    "## 复杂度\n",
    "* 二叉搜索树的插入、删除、查找成本均为 O(log n)\n",
    "\n",
    "## 常用操作\n",
    "\n",
    "### 插入\n",
    "* 除了root=None的情况,一定是成为left child 或者right child\n",
    "* 当向树中插入一个新的节点时，该节点将总是作为叶子节点,最困难的地方就是如何找到该节点的父节点。\n",
    "* 核心：基于二分法，找到插入的点\n",
    "\n",
    "### 查找\n",
    "* 通过二叉搜索树查找节点，理想情况下我们需要检查的节点数可以减半。\n",
    "* 但是二叉搜索树十分依赖于树中节点的拓扑结构，也就是节点间的布局关系。\n",
    "    * 若布局良好，则是O(log(n)) 也就是树的高度\n",
    "    * 若是skewed tree，node分布在一条直线上，查找时间为 O(n) worst case\n",
    "    \n",
    "### 删除\n",
    "* 第一步：定位要删除的节点，可以使用前面的查找算法\n",
    "* 第二步：选择合适的节点代替删除节点的位置，有三种情况需要考虑\n",
    "    * case1: 被删除节点 没有左孩子\n",
    "        * 用 右孩子 代替\n",
    "    * case2：被删除节点 没右孩子\n",
    "        * 用 左孩子 代替\n",
    "        * 原因：被删除节点的左孩子要么都大于，要么都小于被删除节点的父节点的值，故符合二叉搜索树的性质（子节点小于或大于父节点值）\n",
    "    * case3: 被删除节点 左右孩子都有\n",
    "        * 方法1：用被删除节点的前驱节点（即比被删除节点小一位的节点） 代替　--> 左边数的最右边（左边数里最大的）\n",
    "        * 方法2：用被删除节点的后继节点 代替 --> 右边树的最左边（右边里面最小的）\n",
    "* 注意：\n",
    "    * a = TreeNode(1), b = a, 此时b获得了a的地址\n",
    "        * 若a的值val/next发生了改变，b改变\n",
    "        * 若a的地址发生了改变(a = TreeNode(5)), b依旧是原来a的地址\n"
   ]
  },
  {
   "cell_type": "code",
   "execution_count": null,
   "metadata": {},
   "outputs": [],
   "source": [
    "# !/usr/bin/python\n",
    "# -*- coding: utf-8 -*-\n",
    "# @Time    : 2020/03  \n",
    "# @Author  : XU Liu\n",
    "# @FileName: \n",
    "\n",
    "'''\n",
    "1. 题目类型：\n",
    "\n",
    "\n",
    "2. 题目要求与理解：\n",
    "\n",
    "\n",
    "3. 解题思路：\n",
    "\n",
    "\n",
    "4. 输出输入以及边界条件：\n",
    "input: \n",
    "output: \n",
    "corner case: \n",
    "\n",
    "5. 空间时间复杂度\n",
    "    \n",
    "\n",
    "'''"
   ]
  },
  {
   "cell_type": "markdown",
   "metadata": {},
   "source": [
    "# 题目\n",
    "\n",
    "## 基本操作\n",
    "* 235.Lowest Common Ancestor of a Binary Search Tree.py (完成1）\n",
    "* 450.Delete Node in a BST.py(完成1）\n",
    "* 669.Trim a Binary Search Tree.py(完成2 4/16）\n",
    "* 700.Search in a Binary Search Tree.py(完成1）\n",
    "* 701.Insert into a Binary Search Tree.py(完成1 4/16）\n",
    "* 108.Convert Sorted Array to Binary Search Tree (代码在BT文件夹里)\n",
    "\n",
    "## 基于中序遍历\n",
    "* 98.Validate Binary Search Tree.py(完成1）\n",
    "* 99.Recover Binary Search Tree.py(完成1）\n",
    "* 230.Kth Smallest Element in a BST.py(完成1）\n",
    "* 501.Find Mode in Binary Search Tree.py(完成1）\n",
    "\n",
    "\n"
   ]
  },
  {
   "cell_type": "markdown",
   "metadata": {},
   "source": [
    "# 代码总结\n",
    "## 构造\n",
    "* 从sorted array: [-10,-3,0,5,9]构造BST，树的样子会有很多种，只要输出其中一种就可   \n",
    "* 108题 Convert Sorted Array to Binary Search Tree"
   ]
  },
  {
   "cell_type": "code",
   "execution_count": 1,
   "metadata": {},
   "outputs": [],
   "source": [
    "class Solution:\n",
    "    def sortedArrayToBST(self, nums):\n",
    "        if nums == None:\n",
    "            return None\n",
    "        \n",
    "        mid = len(nums) // 2\n",
    "        root = TreeNode(nums[mid])\n",
    "        \n",
    "        root.left = self.sortedArrayToBST(nums[0:mid])\n",
    "        root.right = self.sortedArrayToBST(nums[mid+1:])\n",
    "        return root\n",
    "\n",
    "'''\n",
    "可行\n",
    "        l, r = 0, len(nums) - 1\n",
    "        if l <= r:\n",
    "            mid = l + (r - l) // 2\n",
    "\n",
    "            root = TreeNode(nums[mid])\n",
    "            root.left = self.sortedArrayToBST(nums[0:mid])\n",
    "            root.right = self.sortedArrayToBST(nums[mid + 1:])\n",
    "            return root\n",
    "'''"
   ]
  },
  {
   "cell_type": "markdown",
   "metadata": {},
   "source": [
    "## 查找\n",
    "* 700.Search in a Binary Search Tree\n",
    "\n",
    "### 迭代"
   ]
  },
  {
   "cell_type": "code",
   "execution_count": null,
   "metadata": {},
   "outputs": [],
   "source": [
    "# time complex: O(N)\n",
    "# space complex: best O(1)\n",
    "\n",
    "class Solution:\n",
    "    def searchBST(self, root: TreeNode, val: int) -> TreeNode:\n",
    "        if root == None:\n",
    "            return None\n",
    "        \n",
    "        while root:\n",
    "            if root.val == val:\n",
    "                return root\n",
    "            elif root.val > val:\n",
    "                root = root.left\n",
    "            elif root.val < val:\n",
    "                root = root.right\n",
    "        return None"
   ]
  },
  {
   "cell_type": "code",
   "execution_count": null,
   "metadata": {},
   "outputs": [],
   "source": [
    "'''\n",
    "不太简洁的写法\n",
    "但是与binary tree一致的模版\n",
    "'''\n",
    "from collections import deque\n",
    "class Solution:\n",
    "    def searchBST(self, root: TreeNode, val: int) -> TreeNode:\n",
    "        if root == None:\n",
    "            return \n",
    "        \n",
    "        queue = deque()\n",
    "        queue.append(root)\n",
    "        \n",
    "        while queue:\n",
    "            node = queue.popleft()\n",
    "            if node == None:  # 不能忘记了！易错\n",
    "                return\n",
    "            if node.val == val:\n",
    "                return node\n",
    "            if node.val > val:\n",
    "                queue.append(node.left)\n",
    "            else:\n",
    "                queue.append(node.right)"
   ]
  },
  {
   "cell_type": "markdown",
   "metadata": {},
   "source": [
    "### 递归"
   ]
  },
  {
   "cell_type": "code",
   "execution_count": null,
   "metadata": {},
   "outputs": [],
   "source": [
    "# time complex: O(N)\n",
    "# space complex: worst O(N), average O(logN)\n",
    "    \n",
    "class Solution:\n",
    "    def searchBST(self, root: TreeNode, val: int) -> TreeNode:\n",
    "        if not root:\n",
    "            return None\n",
    "        if root.val == val:\n",
    "            return root\n",
    "        \n",
    "        if root.val < val:\n",
    "            return self.searchBST(root.right, val)  # 要写return,找到val的那一层要往上返回\n",
    "        if root.val > val:\n",
    "            return self.searchBST(root.left, val)"
   ]
  },
  {
   "cell_type": "markdown",
   "metadata": {},
   "source": [
    "## 删除\n",
    "* 450.Delete Node in a BST"
   ]
  },
  {
   "cell_type": "code",
   "execution_count": null,
   "metadata": {},
   "outputs": [],
   "source": [
    "# Time complexity should be O(height of tree) 平均情况 O(logN) 最坏情况 O(N)\n",
    "# Space O(logN)\n",
    "\n",
    "class BST:\n",
    "    def deleteNode(self, root, target):\n",
    "        if not root:\n",
    "            return None\n",
    "        \n",
    "        # 递归调用左子树，右边树保持动，对左边数进行修改\n",
    "        if target < root.val:\n",
    "            root.left = self.deleteNode(root.left, target)\n",
    "        \n",
    "        # 递归调用右子树\n",
    "        if target > root.val:\n",
    "            root.right = self.deleteNode(root.right, target)\n",
    "\n",
    "        # 当前节点的val == target\n",
    "        if target == root.val:\n",
    "            # 当前节点的左右都不存在，删掉后该节点变None\n",
    "            if root.left == None and root.right == None:  # 可不写，因为下面两个情况里面也能执行\n",
    "                root = None\n",
    "                # 等于return None\n",
    "            # 当前节点的左节点不存在，直接提升右节点\n",
    "            elif root.left == None:\n",
    "                root = root.right\n",
    "                # 等于return root.right\n",
    "            # 当前节点的右节点不存在，直接提升左节点\n",
    "            elif root.right == None:\n",
    "                root = root.left\n",
    "                # 等于return root.left\n",
    "            # 当前节点的左右都存在，用被删除节点的前驱节点（即比被删除节点小一位的节点） 代替\n",
    "            else:\n",
    "                root.val = self.findPre(root)\n",
    "                root.left = self.deleteNode(root.left, root.val)  # 原本的left数发生了改变，要重新排，同时也意味着要删掉被上挪的节点\n",
    "                '''\n",
    "                root.val = self.findSuc(root)\n",
    "                root.right = self.deleteNode(root.right, root.val)\n",
    "                '''\n",
    "        return root\n",
    "\n",
    "    # 移动前驱点\n",
    "    def findPre(self, root):\n",
    "        # 被删除节点的左边数里面的最右边\n",
    "        root = root.left\n",
    "        while root.right:\n",
    "            root = root.right\n",
    "        return root.val\n",
    "\n",
    "    # 移动后驱点\n",
    "    def findSuc(self, root):  # find the smallest node of root right subtree\n",
    "        root = root.right\n",
    "        while root.left:\n",
    "            root = root.left\n",
    "        return root.val\n"
   ]
  },
  {
   "cell_type": "code",
   "execution_count": null,
   "metadata": {},
   "outputs": [],
   "source": [
    "# BFS 错误\n",
    "res = root\n",
    "if root.left == None and root.right == None:\n",
    "    root = None  # 错误，res里面，这个node没有变成None\n",
    "    return res\n",
    "# 详细见450题的代码"
   ]
  },
  {
   "cell_type": "markdown",
   "metadata": {},
   "source": [
    "## 插入\n",
    "\n",
    "* 701.Insert into a Binary Search Tree\n",
    "* 插入最下层某一个node的left或者right\n",
    "* 成为left child 或者right child，除了root=None的情况\n",
    "* 所以插入一个新的节点时，关键点找到父节点\n",
    "\n",
    "### 迭代"
   ]
  },
  {
   "cell_type": "code",
   "execution_count": null,
   "metadata": {},
   "outputs": [],
   "source": [
    "class BST:\n",
    "    # 方法一 迭代 iterative\n",
    "    def insertIteration(self, root, target):  # return root with inserted target\n",
    "        if not root:  # corner case\n",
    "            return TreeNode(target)  # 成为新的BST，len只有一\n",
    "\n",
    "        res = root  # 复制树root的地址，root内部会跟着发生改变，题目要求输出整个tree，也就是tree的root\n",
    "        while root:\n",
    "            if root.val > target:  \n",
    "                if root.left is None:  # 成为这个node的left child\n",
    "                    root.left = TreeNode(target)\n",
    "                    return res  # 易忘写\n",
    "                else:\n",
    "                    root = root.left  # 继续往左走\n",
    "            \n",
    "            else:  # root.val < target:  root.left < root.val < target <= root.right\n",
    "                if root.right if None:\n",
    "                    root.right = TreeNode(target)\n",
    "                    return res\n",
    "                else:\n",
    "                    root = root.right\n",
    "        # return res 写在这里会无限循环，因为target插入之后，target的这个node一直会无限循环"
   ]
  },
  {
   "cell_type": "markdown",
   "metadata": {},
   "source": [
    "### 递归"
   ]
  },
  {
   "cell_type": "code",
   "execution_count": null,
   "metadata": {},
   "outputs": [],
   "source": [
    "# 插入点不存在于现有tree中\n",
    "# 本方法：插入的地方一定在tree最后一层某个node的左或者右\n",
    "\n",
    "def insert(self, root, target):\n",
    "    if not root:  # corner case + ending条件\n",
    "        return TreeNode(target)\n",
    "\n",
    "    if target < root.val:\n",
    "        root.left = self.insert(root.left, target)\n",
    "    else:\n",
    "        root.right = self.insert(root.right, target)\n",
    "    return root\n",
    "\n",
    "    \n",
    "    '''\n",
    "    一样\n",
    "        if target < root.val:\n",
    "            root.left = self.insert(root.left, target)\n",
    "            return root\n",
    "        else:\n",
    "            root.right = self.insert(root.right, target)\n",
    "            return root\n",
    "    '''"
   ]
  },
  {
   "cell_type": "markdown",
   "metadata": {},
   "source": [
    "### 中序遍历\n",
    "\n",
    "* 98.Validate Binary Search Tree\n",
    "    * 该node要比所有左边的node大，右边的node小\n",
    "    * 光光这条件成立，是不对的 root.left.val < root.val < root.right.val\n",
    "\n",
    "#### 迭代"
   ]
  },
  {
   "cell_type": "code",
   "execution_count": null,
   "metadata": {},
   "outputs": [],
   "source": [
    "class Solution:\n",
    "    # 方法一\n",
    "    def isValidBST(self, root):\n",
    "        def helper(root,max_val,min_val):\n",
    "            if root == None:\n",
    "                return True\n",
    "\n",
    "            if root.val < max_val and root.val > min_val:\n",
    "                return helper(root.left,root.val,min_val) and helper(root.right,max_val,root.val)\n",
    "            return False\n",
    "\n",
    "        max_val = float('inf')\n",
    "        min_val = -float('inf')\n",
    "        return helper(root,max_val,min_val)\n",
    "\n",
    "    "
   ]
  },
  {
   "cell_type": "markdown",
   "metadata": {},
   "source": [
    "#### 递归"
   ]
  },
  {
   "cell_type": "code",
   "execution_count": null,
   "metadata": {},
   "outputs": [],
   "source": [
    "class Solution:\n",
    "    def isValidBST2(self, root):\n",
    "        if root == None:\n",
    "            return True\n",
    "\n",
    "        pre = -float('inf')\n",
    "        stack = []\n",
    "        p_node = root\n",
    "\n",
    "        # p_node是None，意味着这这一侧已经是最左边了，且这个最左边的node没有right，要往上层的right走\n",
    "        # stack == [], 刚开始的时候或者root.left都比完了(包括root)，要开始比root.right\n",
    "        while stack or p_node:\n",
    "            # 把所有当前访问节点的左孩子都入栈\n",
    "            while p_node:\n",
    "                stack.append(p_node)\n",
    "                p_node = p_node.left\n",
    "\n",
    "            # 操作栈顶节点，如果是第一次运行到这步，那么这是整棵树的最左节点\n",
    "            cur_node = stack.pop() \n",
    "            # 检查是否从小到大\n",
    "            if cur_node.val > pre:\n",
    "                pre = cur_node.val\n",
    "            else:\n",
    "                return False\n",
    "\n",
    "            # 将指针指向当前节点的右节点\n",
    "            if cur_node.right != None:\n",
    "                p_node = cur_node.right\n",
    "\n",
    "        return True"
   ]
  },
  {
   "cell_type": "markdown",
   "metadata": {},
   "source": [
    "* 99.Recover Binary Search Tree\n",
    "    * 订正错误的BST"
   ]
  },
  {
   "cell_type": "code",
   "execution_count": null,
   "metadata": {},
   "outputs": [],
   "source": [
    "class TreeNode:\n",
    "    def __init__(self, x):\n",
    "        self.val = x\n",
    "        self.left = None\n",
    "        self.right = None\n",
    "\n",
    "class Solution:\n",
    "    def recoverTree(self, root):\n",
    "        \"\"\"\n",
    "        Do not return anything, modify root in-place instead.\n",
    "        \"\"\"\n",
    "        if root == None:\n",
    "            return None\n",
    "\n",
    "        pre = TreeNode(float('-inf'))  # 之后first要等于pre，所以每次保存pre都是treenode\n",
    "        first = None\n",
    "        second = None\n",
    "        stack = []\n",
    "        node = root\n",
    "\n",
    "        while node or stack:\n",
    "            while node:\n",
    "                stack.append(node)\n",
    "                node = node.left\n",
    "\n",
    "            cur = stack.pop()\n",
    "\n",
    "            # 当遇到错误点时\n",
    "            if cur.val <= pre.val:\n",
    "                # 第一次遇到\n",
    "                if first == None:\n",
    "                    first = pre\n",
    "                    second = cur\n",
    "                # 第二次遇到\n",
    "                else:\n",
    "                    second = cur\n",
    "            # 保存        \n",
    "            pre = cur\n",
    "\n",
    "            # 遍历right\n",
    "            if cur.right != None:\n",
    "                node = cur.right\n",
    "        \n",
    "        first.val, second.val = second.val, first.val"
   ]
  },
  {
   "cell_type": "markdown",
   "metadata": {},
   "source": [
    "# Python"
   ]
  },
  {
   "cell_type": "code",
   "execution_count": 1,
   "metadata": {},
   "outputs": [
    {
     "data": {
      "text/plain": [
       "[]"
      ]
     },
     "execution_count": 1,
     "metadata": {},
     "output_type": "execute_result"
    }
   ],
   "source": [
    "l = [1,2,3,4]\n",
    "l[0:0]"
   ]
  },
  {
   "cell_type": "code",
   "execution_count": 2,
   "metadata": {},
   "outputs": [
    {
     "data": {
      "text/plain": [
       "[]"
      ]
     },
     "execution_count": 2,
     "metadata": {},
     "output_type": "execute_result"
    }
   ],
   "source": [
    "l[4:0]"
   ]
  },
  {
   "cell_type": "markdown",
   "metadata": {},
   "source": [
    "## 无限大\n"
   ]
  },
  {
   "cell_type": "code",
   "execution_count": null,
   "metadata": {},
   "outputs": [],
   "source": [
    "float('-inf')\n",
    "\n",
    "float('inf')"
   ]
  }
 ],
 "metadata": {
  "kernelspec": {
   "display_name": "Python 3",
   "language": "python",
   "name": "python3"
  },
  "language_info": {
   "codemirror_mode": {
    "name": "ipython",
    "version": 3
   },
   "file_extension": ".py",
   "mimetype": "text/x-python",
   "name": "python",
   "nbconvert_exporter": "python",
   "pygments_lexer": "ipython3",
   "version": "3.7.3"
  },
  "toc": {
   "base_numbering": 1,
   "nav_menu": {},
   "number_sections": true,
   "sideBar": true,
   "skip_h1_title": false,
   "title_cell": "Table of Contents",
   "title_sidebar": "Contents",
   "toc_cell": false,
   "toc_position": {},
   "toc_section_display": true,
   "toc_window_display": false
  }
 },
 "nbformat": 4,
 "nbformat_minor": 4
}
