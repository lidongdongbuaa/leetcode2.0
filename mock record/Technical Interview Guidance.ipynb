{
 "cells": [
  {
   "cell_type": "markdown",
   "metadata": {
    "collapsed": true,
    "pycharm": {
     "name": "#%% md\n"
    }
   },
   "source": [
    "# 总体\n",
    "* 态度：不卑不亢，有自信，不要说自己的发音不好，这题很困难等。\n",
    "    * 面试官在接受面试时通常会有一种心态，即如果他/她可以与应聘者一起每天工作，那么请不要在面试时表现出傲慢或自我的迹象。。\n",
    "* 发音：慢而清晰。只要放慢速度，不要急于求成。这也可以让你听起来更有信心。\n",
    "* 书写：行距适中，头要对其，字要始终，工整，缩进4个空格，行距适中"
   ]
  },
  {
   "cell_type": "markdown",
   "metadata": {},
   "source": [
    "# BQ问题\n",
    "* 背熟练，眼睛要对上，自然\n",
    "* 简明回答，诱导对方进一步提问"
   ]
  },
  {
   "cell_type": "markdown",
   "metadata": {},
   "source": [
    "# 确认题目要求\n",
    "* 理解问题.\n",
    "    * **多要几个例子case，帮助我理解问题,不要怕花时间，多找几个例子**\n",
    "    * **做题时，多关注关键词，consecutive**\n",
    "    * 请求画图等帮助理解\n",
    "    * 按照我的理解说一遍，再次确认 \n",
    "* 询问输入情况\n",
    "    * **Input**：\n",
    "        * **API是什么样的，需要自己写结构?**\n",
    "        * 确定数据的结构类型，是否“重，序”，取值范围\n",
    "        * 链表有几个环等，可否改变node数值，二叉树值是什么类型的\n",
    "    * Output: int? head?\n",
    "    * corner case： input -> output  **关键是询问特殊情况下的输出值，一定要问，而不是自己猜**\n",
    "        * 除非明确说没有，一定要加corner case\n",
    "\n",
    "* 明确： \n",
    "    * 注重time complexity or space complexity?\n",
    "    * 如果问题过于复杂，耗时，给出大概的时间，及是否能完成。问可否简化"
   ]
  },
  {
   "cell_type": "markdown",
   "metadata": {},
   "source": [
    "# 写出数据结构和算法，解释\n",
    "* 整体步骤：\n",
    "    * 暴力+优化的层次分析\n",
    "* 具体步骤：\n",
    "    * 提出可以尝试某一种idea (brute force or others)，说要思考，并解释简要原因\n",
    "    * 写出idea及method(如有必要，请画图)\n",
    "        * A. brute force - list save / B. 主要 DFS/BFS等 recursion method/iteration method\n",
    "        *   method：\n",
    "            1. 描述大概作用，流程简化书写，用scan等\n",
    "            * 用case1 case2 case3表示各个条件情况\n",
    "            * 解释的时候用例子更易懂\n",
    "            * e.g. **针对递归**\n",
    "                * 函数名 dfs(root, 参数)， return 目的\n",
    "                    * end：\n",
    "                    * 递归的过程 dfs(root.left), dfs(root.right) append(root.val)                \n",
    "     * 给出space/time complexity\n",
    "        * 主动给出\n",
    "        * 对于dic等space comp，要具体分析。由于题目条件，可能存在只有有限个(2个等)，故此时sO(2) = sO(1),而不是通常的O(N)\n",
    "* tips：\n",
    "    * 如果完全没有思路，尝试大脑中的套路，先写下去。写不下去后，沉着稳定不慌张，想想其他的套路。\n",
    "    * 实在不会了，可以说出自己的想法，问面试官的意见。\n",
    "        * **得到提示后，就算完全明白了，也要静下来，思路捋清楚，跟面试官说一遍，再写**\n",
    "    * 注意编号的清晰,**减少层数**\n",
    "    * 如果发现corner case不完全，要写到2部分，不要在本部分插入\n",
    "    * 与面试环交流有歧义，要及时纠正，不要就坡下驴"
   ]
  },
  {
   "cell_type": "markdown",
   "metadata": {},
   "source": [
    "# code之前：\n",
    "* 'should I implement it in code? or you want me to continue to optimize it?'\n",
    "* 'we have ... minutes. It seems that I can finish it in time.'"
   ]
  },
  {
   "cell_type": "markdown",
   "metadata": {},
   "source": [
    "# right coding\n",
    "* 具体步骤：\n",
    "    * class 命名\n",
    "    * function命名\n",
    "        * 加功能注释及特殊输入格式的提醒，不用说理由，基础语法不用说\n",
    "        * 注意要包含全部输入变量，不要漏了\n",
    "    * 书写代码，并同时书写注释：\n",
    "        * 注释内容：本段代码的目的\n",
    "        * 写在行尾，对齐， 若太长，写在下一行 \n",
    "* tips：\n",
    "    * **参数名用考官定义的，不要自己造**\n",
    "    * **用True/False，不要用T/F**\n",
    "    * **写代码时，重启一页**\n",
    "    * 简要交流目前在写什么，不要不说话"
   ]
  },
  {
   "cell_type": "markdown",
   "metadata": {},
   "source": [
    "# 跑test case\n",
    "* 具体步骤：\n",
    "    1. 跑corner case \n",
    "    * 跑面试官的case\n",
    "        * 先验主函数，再验证helper function\n",
    "        * test要清晰的隔绝开，不乱\n",
    "    * 再跑自己的case\n",
    "* Tips：\n",
    "    * **case是每个状态的表现，写清楚具体的值，而不是i += 1这样的代码**\n",
    "    * **若时间不够，直接跳完循环，说到什么地方了**\n",
    "    * 链表：画图指示箭头 + table，case 1-2-3-4-None，前面空四格，不要顶格写，比如 linklist加dummy 和 变量名时就不好了\n",
    "    * array: 用下方的标识进行移动\n",
    "        * [2,3,6,2,1,2]\n",
    "        *  i  \n",
    "    * 针对树和图，建议老老实实的分步写\n",
    "        * case: [1,2,3, None, None, 4, 5]\n",
    "        * queue ([1, 0]) max = 0\n",
    "        * node = 1 h = 0, h+1= 1\n",
    "    * 针对循环\n",
    "        * **loop1:**\n",
    "    * DP\n",
    "        * DP table上标注1234..."
   ]
  },
  {
   "cell_type": "markdown",
   "metadata": {},
   "source": [
    "# 考官交流\n",
    "* 问了必答，比如在idea区域问space comp时，也必须要回答，虽然不清楚具体的结果，也要说我预计xxx，下面可能会有改变\n",
    "* 当你发现自己没有取得进展时，说清楚你的问题, 考官会给与提示，此时要做到：\n",
    "    * 及时跟进自己的想法，明白他说的细节\n",
    "    * 他说完后，要整理明白这段所有的思路，并叙述出来，与他交流。\n",
    "    * 永远不要说你做不到。即使存在您之前从未解决过的问题，或者似乎无法解决的问题，请从不同的角度来不断解决问题，面试官会给您提示。但是，如果您说无法解决问题，那将是一个很大的危险信号，并且您最终可能会被拒绝。\n",
    "* following up没时间写时，可以只讲思路，怎么做就行。等面试结束后，可以查面试官邮箱，把具体方法发到他邮箱里。\n",
    "* 整个过程中，都要无拘束的问面试官问题，来保证完全理解了他们的问题！！！\n",
    "* 我们问问题时，也可以自由发问。内容可以包括：团队，文化等。这样利于判断这个工作是\n",
    "否适合我。"
   ]
  },
  {
   "cell_type": "markdown",
   "metadata": {},
   "source": [
    "# 电面特殊之处\n",
    "* 一开始，可以修改文档宽度和字体为courier new\n",
    "* 写方法时，A后面不用加点.,避免自动缩进\n",
    "* **Method的格式套用：光标先放到A里的任意一处 -> 点击 paint format -> 用带刷子的图标点击目标文字(B)**\n",
    "* **代码的缩进：先写def等，后在之前Tab，就会自动缩进后面的内容**,一般对def 和 corner case的if两次就可以了\n",
    "* 大声说出自己的想法，吐字清晰（困难点），告诉 idea 和 method\n",
    "* **coding中，能说清楚就行，对面理解的话，没必要写那么注释，怕写不完**"
   ]
  },
  {
   "cell_type": "code",
   "execution_count": null,
   "metadata": {},
   "outputs": [],
   "source": []
  }
 ],
 "metadata": {
  "kernelspec": {
   "display_name": "Python 3",
   "language": "python",
   "name": "python3"
  },
  "language_info": {
   "codemirror_mode": {
    "name": "ipython",
    "version": 3
   },
   "file_extension": ".py",
   "mimetype": "text/x-python",
   "name": "python",
   "nbconvert_exporter": "python",
   "pygments_lexer": "ipython3",
   "version": "3.7.5"
  },
  "pycharm": {
   "stem_cell": {
    "cell_type": "raw",
    "metadata": {
     "collapsed": false
    },
    "source": []
   }
  },
  "toc": {
   "base_numbering": 1,
   "nav_menu": {},
   "number_sections": true,
   "sideBar": true,
   "skip_h1_title": false,
   "title_cell": "Table of Contents",
   "title_sidebar": "Contents",
   "toc_cell": false,
   "toc_position": {
    "height": "calc(100% - 180px)",
    "left": "10px",
    "top": "150px",
    "width": "165px"
   },
   "toc_section_display": true,
   "toc_window_display": false
  }
 },
 "nbformat": 4,
 "nbformat_minor": 1
}
